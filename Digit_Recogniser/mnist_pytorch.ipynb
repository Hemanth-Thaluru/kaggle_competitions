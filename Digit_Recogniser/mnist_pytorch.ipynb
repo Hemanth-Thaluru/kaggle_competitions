{
 "cells": [
  {
   "cell_type": "code",
   "execution_count": 267,
   "id": "0f54f6cb",
   "metadata": {},
   "outputs": [],
   "source": [
    "import torch\n",
    "import numpy as np\n",
    "import matplotlib.pyplot as plt\n",
    "from sklearn.model_selection import train_test_split\n",
    "from torchvision import datasets, transforms\n",
    "from torch.utils.data import DataLoader\n",
    "from torchvision.datasets import DatasetFolder\n",
    "from PIL import Image"
   ]
  },
  {
   "cell_type": "code",
   "execution_count": 3,
   "id": "88d6e21d",
   "metadata": {},
   "outputs": [
    {
     "name": "stdout",
     "output_type": "stream",
     "text": [
      "2.0.1\n"
     ]
    }
   ],
   "source": [
    "print(torch.__version__)"
   ]
  },
  {
   "cell_type": "code",
   "execution_count": 4,
   "id": "e5fe8f68",
   "metadata": {},
   "outputs": [],
   "source": [
    "import os\n",
    "from pathlib import Path\n",
    "path=Path('data/train')"
   ]
  },
  {
   "cell_type": "code",
   "execution_count": 5,
   "id": "ede945eb",
   "metadata": {},
   "outputs": [
    {
     "data": {
      "text/plain": [
       "1313"
      ]
     },
     "execution_count": 5,
     "metadata": {},
     "output_type": "execute_result"
    }
   ],
   "source": [
    "image_folder_path = \"data/train\"\n",
    "transform = transforms.Compose([\n",
    "    transforms.Resize((28, 28)),  # Resize images to a desired size\n",
    "    transforms.ToTensor(),         # Convert images to tensors\n",
    "    transforms.Normalize((0.5,), (0.5,))  # Normalize the image data\n",
    "])\n",
    "train_dataset = datasets.ImageFolder(root=image_folder_path, transform=transform)\n",
    "train_data_loader = DataLoader(train_dataset, batch_size=32, shuffle=True)\n",
    "len(train_data_loader)"
   ]
  },
  {
   "cell_type": "code",
   "execution_count": 157,
   "id": "69ada08a",
   "metadata": {},
   "outputs": [],
   "source": [
    "image_folder_path = \"data/Testing\"\n",
    "transform = transforms.Compose([\n",
    "    transforms.Resize((28, 28)),  # Resize images to a desired size\n",
    "    transforms.ToTensor(),         # Convert images to tensors\n",
    "    transforms.Normalize((0.5,), (0.5,))  # Normalize the image data\n",
    "])"
   ]
  },
  {
   "cell_type": "code",
   "execution_count": 41,
   "id": "dd37be2d",
   "metadata": {},
   "outputs": [],
   "source": [
    "test_dataset = datasets.ImageFolder(root=image_folder_path, transform=transform)"
   ]
  },
  {
   "cell_type": "code",
   "execution_count": 240,
   "id": "1c3dfe64",
   "metadata": {},
   "outputs": [
    {
     "data": {
      "text/plain": [
       "875"
      ]
     },
     "execution_count": 240,
     "metadata": {},
     "output_type": "execute_result"
    }
   ],
   "source": [
    "test_data_loader = DataLoader(test_data_set_custom, batch_size=32, shuffle=False)\n",
    "len(test_data_loader)"
   ]
  },
  {
   "cell_type": "code",
   "execution_count": 247,
   "id": "710134ab",
   "metadata": {},
   "outputs": [
    {
     "data": {
      "image/png": "[encoded data removed]",
      "text/plain": [
       "<Figure size 640x480 with 1 Axes>"
      ]
     },
     "metadata": {},
     "output_type": "display_data"
    }
   ],
   "source": [
    "fig = plt.figure()\n",
    "\n",
    "for images, labels in train_data_loader:\n",
    "    image = images[2]  # Extract the image from the batch (assuming batch size is 1)\n",
    "    label = labels[2]  # Extract the label from the batch (assuming batch size is 1)\n",
    "\n",
    "    # Convert the tensor image to a numpy array and transpose the dimensions\n",
    "    image = image.numpy().transpose((1, 2, 0))\n",
    "\n",
    "    # Reverse the normalization applied earlier\n",
    "    image = 0.5 * image + 0.5\n",
    "\n",
    "    # Plot the image\n",
    "    plt.imshow(image)\n",
    "    plt.title(\"Label: {}\".format(label))\n",
    "    plt.axis(\"off\")\n",
    "    plt.show()\n",
    "    break"
   ]
  },
  {
   "cell_type": "code",
   "execution_count": 248,
   "id": "fb5d5181",
   "metadata": {},
   "outputs": [
    {
     "data": {
      "text/plain": [
       "(28, 28, 3)"
      ]
     },
     "execution_count": 248,
     "metadata": {},
     "output_type": "execute_result"
    }
   ],
   "source": [
    "image.shape"
   ]
  },
  {
   "cell_type": "code",
   "execution_count": 7,
   "id": "a519d745",
   "metadata": {},
   "outputs": [
    {
     "data": {
      "text/plain": [
       "{'0': 0,\n",
       " '1': 1,\n",
       " '2': 2,\n",
       " '3': 3,\n",
       " '4': 4,\n",
       " '5': 5,\n",
       " '6': 6,\n",
       " '7': 7,\n",
       " '8': 8,\n",
       " '9': 9}"
      ]
     },
     "execution_count": 7,
     "metadata": {},
     "output_type": "execute_result"
    }
   ],
   "source": [
    "class_names=train_dataset.classes\n",
    "train_dataset.class_to_idx"
   ]
  },
  {
   "cell_type": "code",
   "execution_count": 8,
   "id": "10e108fb",
   "metadata": {},
   "outputs": [
    {
     "name": "stderr",
     "output_type": "stream",
     "text": [
      "Clipping input data to the valid range for imshow with RGB data ([0..1] for floats or [0..255] for integers).\n",
      "Clipping input data to the valid range for imshow with RGB data ([0..1] for floats or [0..255] for integers).\n",
      "Clipping input data to the valid range for imshow with RGB data ([0..1] for floats or [0..255] for integers).\n",
      "Clipping input data to the valid range for imshow with RGB data ([0..1] for floats or [0..255] for integers).\n",
      "Clipping input data to the valid range for imshow with RGB data ([0..1] for floats or [0..255] for integers).\n",
      "Clipping input data to the valid range for imshow with RGB data ([0..1] for floats or [0..255] for integers).\n",
      "Clipping input data to the valid range for imshow with RGB data ([0..1] for floats or [0..255] for integers).\n",
      "Clipping input data to the valid range for imshow with RGB data ([0..1] for floats or [0..255] for integers).\n",
      "Clipping input data to the valid range for imshow with RGB data ([0..1] for floats or [0..255] for integers).\n"
     ]
    },
    {
     "data": {
      "image/png": "[encoded data removed]",
      "text/plain": [
       "<Figure size 640x480 with 9 Axes>"
      ]
     },
     "metadata": {},
     "output_type": "display_data"
    }
   ],
   "source": [
    "# torch.manual_seed(42)\n",
    "def plt_gray(train_data=train_dataset,rows=3,cols=3):\n",
    "    for i in range(1,(rows*cols)+1):\n",
    "        ridx=torch.randint(0,high=len(train_data),size=[1]).item()\n",
    "        plt.subplot(rows,cols,i)\n",
    "        image,label=train_data[ridx]\n",
    "        plt.imshow(image.permute(1,2,0),cmap='gray')\n",
    "        plt.title(class_names[label])\n",
    "        plt.axis(False)\n",
    "plt_gray()"
   ]
  },
  {
   "cell_type": "code",
   "execution_count": 9,
   "id": "f0a6737d",
   "metadata": {},
   "outputs": [
    {
     "data": {
      "text/plain": [
       "torch.Size([3, 28, 28])"
      ]
     },
     "execution_count": 9,
     "metadata": {},
     "output_type": "execute_result"
    }
   ],
   "source": [
    "image,label=train_dataset[0]\n",
    "image.shape"
   ]
  },
  {
   "cell_type": "code",
   "execution_count": 13,
   "id": "0cec7bbf",
   "metadata": {},
   "outputs": [],
   "source": [
    "# Building simple non linear Conv cArchitecture\n",
    "from torch import nn"
   ]
  },
  {
   "cell_type": "code",
   "execution_count": 78,
   "id": "3365bce9",
   "metadata": {},
   "outputs": [],
   "source": [
    "class ClASSICMINISTCNN_V0(nn.Module):\n",
    "    def __init__(self,input_shape,hidden_units,output_shape):\n",
    "        super().__init__()\n",
    "        self.cnn_1 = nn.Sequential(\n",
    "                                    nn.Conv2d(\n",
    "                                                in_channels=input_shape,\n",
    "                                                out_channels=hidden_units,\n",
    "                                                kernel_size=3,\n",
    "                                                stride=1,\n",
    "                                                padding=1\n",
    "                                            ),\n",
    "                                    nn.ReLU(),\n",
    "                                    nn.Conv2d(\n",
    "                                                in_channels=hidden_units,\n",
    "                                                out_channels=hidden_units,\n",
    "                                                kernel_size=3,\n",
    "                                                stride=1,\n",
    "                                                padding=1\n",
    "                                            ),\n",
    "                                    nn.ReLU(),\n",
    "                                    nn.MaxPool2d(kernel_size=2,stride=2)\n",
    "                                ) \n",
    "        self.cnn_2=nn.Sequential(\n",
    "                                    nn.Conv2d(\n",
    "                                                in_channels=hidden_units,\n",
    "                                                out_channels=hidden_units,\n",
    "                                                kernel_size=3,\n",
    "                                                stride=1,\n",
    "                                                padding=1\n",
    "                                            ),\n",
    "                                    nn.ReLU(),\n",
    "                                    nn.Conv2d(\n",
    "                                                in_channels=hidden_units,\n",
    "                                                out_channels=hidden_units,\n",
    "                                                kernel_size=3,\n",
    "                                                stride=1,\n",
    "                                                padding=1\n",
    "                                            ),\n",
    "                                    nn.ReLU(),\n",
    "                                    nn.MaxPool2d(kernel_size=2,stride=2)\n",
    "                                )\n",
    "        self.classifier=nn.Sequential(\n",
    "                                    nn.Flatten(),\n",
    "                                    nn.Linear(\n",
    "                                                in_features=hidden_units*7*7,\n",
    "                                                out_features=output_shape\n",
    "                                            )\n",
    "                                    )\n",
    "    def forward(self,x):\n",
    "#         print(f'x:{x.shape}')\n",
    "        x= self.cnn_1(x)\n",
    "#         print(f'out of conv_1:{x.shape}')\n",
    "        x= self.cnn_2(x)\n",
    "#         print(f'out of conv_2:{x.shape}')\n",
    "        return self.classifier(x)"
   ]
  },
  {
   "cell_type": "code",
   "execution_count": 79,
   "id": "4b9ab4cb",
   "metadata": {},
   "outputs": [
    {
     "data": {
      "text/plain": [
       "ClASSICMINISTCNN_V0(\n",
       "  (cnn_1): Sequential(\n",
       "    (0): Conv2d(3, 10, kernel_size=(3, 3), stride=(1, 1), padding=(1, 1))\n",
       "    (1): ReLU()\n",
       "    (2): Conv2d(10, 10, kernel_size=(3, 3), stride=(1, 1), padding=(1, 1))\n",
       "    (3): ReLU()\n",
       "    (4): MaxPool2d(kernel_size=2, stride=2, padding=0, dilation=1, ceil_mode=False)\n",
       "  )\n",
       "  (cnn_2): Sequential(\n",
       "    (0): Conv2d(10, 10, kernel_size=(3, 3), stride=(1, 1), padding=(1, 1))\n",
       "    (1): ReLU()\n",
       "    (2): Conv2d(10, 10, kernel_size=(3, 3), stride=(1, 1), padding=(1, 1))\n",
       "    (3): ReLU()\n",
       "    (4): MaxPool2d(kernel_size=2, stride=2, padding=0, dilation=1, ceil_mode=False)\n",
       "  )\n",
       "  (classifier): Sequential(\n",
       "    (0): Flatten(start_dim=1, end_dim=-1)\n",
       "    (1): Linear(in_features=490, out_features=10, bias=True)\n",
       "  )\n",
       ")"
      ]
     },
     "execution_count": 79,
     "metadata": {},
     "output_type": "execute_result"
    }
   ],
   "source": [
    "model_cnn_1=ClASSICMINISTCNN_V0(input_shape=3,hidden_units=10,output_shape=10)\n",
    "model_cnn_1"
   ]
  },
  {
   "cell_type": "code",
   "execution_count": 80,
   "id": "7e76bda1",
   "metadata": {},
   "outputs": [
    {
     "data": {
      "text/plain": [
       "torch.Size([1, 3, 28, 28])"
      ]
     },
     "execution_count": 80,
     "metadata": {},
     "output_type": "execute_result"
    }
   ],
   "source": [
    "dummy_img=torch.rand([1,3,28,28])\n",
    "dummy_img.shape"
   ]
  },
  {
   "cell_type": "code",
   "execution_count": 81,
   "id": "2da7aae6",
   "metadata": {},
   "outputs": [
    {
     "data": {
      "text/plain": [
       "torch.Size([1, 10])"
      ]
     },
     "execution_count": 81,
     "metadata": {},
     "output_type": "execute_result"
    }
   ],
   "source": [
    "dummy_model=ClASSICMINISTCNN_V0(input_shape=3,hidden_units=10,output_shape=10)\n",
    "dummy_output=dummy_model(dummy_img)\n",
    "dummy_output.shape"
   ]
  },
  {
   "cell_type": "code",
   "execution_count": 82,
   "id": "51fcedff",
   "metadata": {},
   "outputs": [
    {
     "name": "stdout",
     "output_type": "stream",
     "text": [
      "Already exists skipping download\n",
      "Setup completed\n"
     ]
    }
   ],
   "source": [
    "import requests \n",
    "from pathlib import Path\n",
    "\n",
    "if Path('helper_functions.py').is_file():\n",
    "    print('Already exists skipping download')\n",
    "else:\n",
    "    print('Downloading the helper functions')\n",
    "    request=requests.get('https://raw.githubusercontent.com/mrdbourke/pytorch-deep-learning/main/going_modular/going_modular/engine.py')\n",
    "    with open('helper_functions.py','wb') as f:\n",
    "        f.write(request.content)\n",
    "print('Setup completed')"
   ]
  },
  {
   "cell_type": "code",
   "execution_count": 83,
   "id": "97b26ef3",
   "metadata": {},
   "outputs": [],
   "source": [
    "# Loss fn and optimer\n",
    "loss_fn=nn.CrossEntropyLoss()\n",
    "optimizer=torch.optim.SGD(params=model_cnn_1.parameters(),lr=0.1)"
   ]
  },
  {
   "cell_type": "code",
   "execution_count": 84,
   "id": "8523174d",
   "metadata": {},
   "outputs": [],
   "source": [
    "from helper_functions import train_step\n",
    "from tqdm.auto import tqdm"
   ]
  },
  {
   "cell_type": "code",
   "execution_count": 85,
   "id": "76fa4e71",
   "metadata": {},
   "outputs": [
    {
     "data": {
      "application/json": {
       "ascii": false,
       "bar_format": null,
       "colour": null,
       "elapsed": 0.02526402473449707,
       "initial": 0,
       "n": 0,
       "ncols": null,
       "nrows": 24,
       "postfix": null,
       "prefix": "",
       "rate": null,
       "total": 3,
       "unit": "it",
       "unit_divisor": 1000,
       "unit_scale": false
      },
      "application/vnd.jupyter.widget-view+json": {
       "model_id": "251202301ce74cfeb1dd72d93984204e",
       "version_major": 2,
       "version_minor": 0
      },
      "text/plain": [
       "  0%|          | 0/3 [00:00<?, ?it/s]"
      ]
     },
     "metadata": {},
     "output_type": "display_data"
    },
    {
     "name": "stdout",
     "output_type": "stream",
     "text": [
      "epoch: 0\n",
      "Train Loss :0.35561013458011514, Train Accuracy: 0.880259900990099\n",
      "epoch: 1\n",
      "Train Loss :0.08048389649767587, Train Accuracy: 0.974842916984006\n",
      "epoch: 2\n",
      "Train Loss :0.0619212261048945, Train Accuracy: 0.9811024371667936\n"
     ]
    }
   ],
   "source": [
    "EPOCHS=3\n",
    "for epoch in tqdm(range(EPOCHS)):\n",
    "    print(f'epoch: {epoch}')\n",
    "    tl,tc=train_step(model=model_cnn_1,dataloader=train_data_loader,loss_fn=loss_fn,optimizer=optimizer,device='cpu')\n",
    "    print(f'Train Loss :{tl}, Train Accuracy: {tc}')"
   ]
  },
  {
   "cell_type": "code",
   "execution_count": 246,
   "id": "99508689",
   "metadata": {},
   "outputs": [
    {
     "ename": "RuntimeError",
     "evalue": "Given groups=1, weight of size [10, 3, 3, 3], expected input[32, 1, 28, 28] to have 3 channels, but got 1 channels instead",
     "output_type": "error",
     "traceback": [
      "\u001b[0;31m---------------------------------------------------------------------------\u001b[0m",
      "\u001b[0;31mRuntimeError\u001b[0m                              Traceback (most recent call last)",
      "Input \u001b[0;32mIn [246]\u001b[0m, in \u001b[0;36m<cell line: 4>\u001b[0;34m()\u001b[0m\n\u001b[1;32m      6\u001b[0m \u001b[38;5;28;01mfor\u001b[39;00m batch, (X, y) \u001b[38;5;129;01min\u001b[39;00m \u001b[38;5;28menumerate\u001b[39m(test_data_loader):\n\u001b[1;32m      7\u001b[0m     \u001b[38;5;28;01mwith\u001b[39;00m torch\u001b[38;5;241m.\u001b[39minference_mode():\n\u001b[0;32m----> 8\u001b[0m         preds_logits\u001b[38;5;241m=\u001b[39m\u001b[43mmodel_cnn_1\u001b[49m\u001b[43m(\u001b[49m\u001b[43mX\u001b[49m\u001b[43m)\u001b[49m\n\u001b[1;32m      9\u001b[0m         pred_labels \u001b[38;5;241m=\u001b[39m preds_logits\u001b[38;5;241m.\u001b[39margmax(dim\u001b[38;5;241m=\u001b[39m\u001b[38;5;241m1\u001b[39m)\n\u001b[1;32m     10\u001b[0m         lab\u001b[38;5;241m=\u001b[39mpred_labels\u001b[38;5;241m.\u001b[39mnumpy()\n",
      "File \u001b[0;32m/Volumes/TAPPS/DS_APPS/anaconda3/envs/tensorflow/lib/python3.9/site-packages/torch/nn/modules/module.py:1501\u001b[0m, in \u001b[0;36mModule._call_impl\u001b[0;34m(self, *args, **kwargs)\u001b[0m\n\u001b[1;32m   1496\u001b[0m \u001b[38;5;66;03m# If we don't have any hooks, we want to skip the rest of the logic in\u001b[39;00m\n\u001b[1;32m   1497\u001b[0m \u001b[38;5;66;03m# this function, and just call forward.\u001b[39;00m\n\u001b[1;32m   1498\u001b[0m \u001b[38;5;28;01mif\u001b[39;00m \u001b[38;5;129;01mnot\u001b[39;00m (\u001b[38;5;28mself\u001b[39m\u001b[38;5;241m.\u001b[39m_backward_hooks \u001b[38;5;129;01mor\u001b[39;00m \u001b[38;5;28mself\u001b[39m\u001b[38;5;241m.\u001b[39m_backward_pre_hooks \u001b[38;5;129;01mor\u001b[39;00m \u001b[38;5;28mself\u001b[39m\u001b[38;5;241m.\u001b[39m_forward_hooks \u001b[38;5;129;01mor\u001b[39;00m \u001b[38;5;28mself\u001b[39m\u001b[38;5;241m.\u001b[39m_forward_pre_hooks\n\u001b[1;32m   1499\u001b[0m         \u001b[38;5;129;01mor\u001b[39;00m _global_backward_pre_hooks \u001b[38;5;129;01mor\u001b[39;00m _global_backward_hooks\n\u001b[1;32m   1500\u001b[0m         \u001b[38;5;129;01mor\u001b[39;00m _global_forward_hooks \u001b[38;5;129;01mor\u001b[39;00m _global_forward_pre_hooks):\n\u001b[0;32m-> 1501\u001b[0m     \u001b[38;5;28;01mreturn\u001b[39;00m \u001b[43mforward_call\u001b[49m\u001b[43m(\u001b[49m\u001b[38;5;241;43m*\u001b[39;49m\u001b[43margs\u001b[49m\u001b[43m,\u001b[49m\u001b[43m \u001b[49m\u001b[38;5;241;43m*\u001b[39;49m\u001b[38;5;241;43m*\u001b[39;49m\u001b[43mkwargs\u001b[49m\u001b[43m)\u001b[49m\n\u001b[1;32m   1502\u001b[0m \u001b[38;5;66;03m# Do not call functions when jit is used\u001b[39;00m\n\u001b[1;32m   1503\u001b[0m full_backward_hooks, non_full_backward_hooks \u001b[38;5;241m=\u001b[39m [], []\n",
      "Input \u001b[0;32mIn [78]\u001b[0m, in \u001b[0;36mClASSICMINISTCNN_V0.forward\u001b[0;34m(self, x)\u001b[0m\n\u001b[1;32m     49\u001b[0m     \u001b[38;5;28;01mdef\u001b[39;00m \u001b[38;5;21mforward\u001b[39m(\u001b[38;5;28mself\u001b[39m,x):\n\u001b[1;32m     50\u001b[0m \u001b[38;5;66;03m#         print(f'x:{x.shape}')\u001b[39;00m\n\u001b[0;32m---> 51\u001b[0m         x\u001b[38;5;241m=\u001b[39m \u001b[38;5;28;43mself\u001b[39;49m\u001b[38;5;241;43m.\u001b[39;49m\u001b[43mcnn_1\u001b[49m\u001b[43m(\u001b[49m\u001b[43mx\u001b[49m\u001b[43m)\u001b[49m\n\u001b[1;32m     52\u001b[0m \u001b[38;5;66;03m#         print(f'out of conv_1:{x.shape}')\u001b[39;00m\n\u001b[1;32m     53\u001b[0m         x\u001b[38;5;241m=\u001b[39m \u001b[38;5;28mself\u001b[39m\u001b[38;5;241m.\u001b[39mcnn_2(x)\n",
      "File \u001b[0;32m/Volumes/TAPPS/DS_APPS/anaconda3/envs/tensorflow/lib/python3.9/site-packages/torch/nn/modules/module.py:1501\u001b[0m, in \u001b[0;36mModule._call_impl\u001b[0;34m(self, *args, **kwargs)\u001b[0m\n\u001b[1;32m   1496\u001b[0m \u001b[38;5;66;03m# If we don't have any hooks, we want to skip the rest of the logic in\u001b[39;00m\n\u001b[1;32m   1497\u001b[0m \u001b[38;5;66;03m# this function, and just call forward.\u001b[39;00m\n\u001b[1;32m   1498\u001b[0m \u001b[38;5;28;01mif\u001b[39;00m \u001b[38;5;129;01mnot\u001b[39;00m (\u001b[38;5;28mself\u001b[39m\u001b[38;5;241m.\u001b[39m_backward_hooks \u001b[38;5;129;01mor\u001b[39;00m \u001b[38;5;28mself\u001b[39m\u001b[38;5;241m.\u001b[39m_backward_pre_hooks \u001b[38;5;129;01mor\u001b[39;00m \u001b[38;5;28mself\u001b[39m\u001b[38;5;241m.\u001b[39m_forward_hooks \u001b[38;5;129;01mor\u001b[39;00m \u001b[38;5;28mself\u001b[39m\u001b[38;5;241m.\u001b[39m_forward_pre_hooks\n\u001b[1;32m   1499\u001b[0m         \u001b[38;5;129;01mor\u001b[39;00m _global_backward_pre_hooks \u001b[38;5;129;01mor\u001b[39;00m _global_backward_hooks\n\u001b[1;32m   1500\u001b[0m         \u001b[38;5;129;01mor\u001b[39;00m _global_forward_hooks \u001b[38;5;129;01mor\u001b[39;00m _global_forward_pre_hooks):\n\u001b[0;32m-> 1501\u001b[0m     \u001b[38;5;28;01mreturn\u001b[39;00m \u001b[43mforward_call\u001b[49m\u001b[43m(\u001b[49m\u001b[38;5;241;43m*\u001b[39;49m\u001b[43margs\u001b[49m\u001b[43m,\u001b[49m\u001b[43m \u001b[49m\u001b[38;5;241;43m*\u001b[39;49m\u001b[38;5;241;43m*\u001b[39;49m\u001b[43mkwargs\u001b[49m\u001b[43m)\u001b[49m\n\u001b[1;32m   1502\u001b[0m \u001b[38;5;66;03m# Do not call functions when jit is used\u001b[39;00m\n\u001b[1;32m   1503\u001b[0m full_backward_hooks, non_full_backward_hooks \u001b[38;5;241m=\u001b[39m [], []\n",
      "File \u001b[0;32m/Volumes/TAPPS/DS_APPS/anaconda3/envs/tensorflow/lib/python3.9/site-packages/torch/nn/modules/container.py:217\u001b[0m, in \u001b[0;36mSequential.forward\u001b[0;34m(self, input)\u001b[0m\n\u001b[1;32m    215\u001b[0m \u001b[38;5;28;01mdef\u001b[39;00m \u001b[38;5;21mforward\u001b[39m(\u001b[38;5;28mself\u001b[39m, \u001b[38;5;28minput\u001b[39m):\n\u001b[1;32m    216\u001b[0m     \u001b[38;5;28;01mfor\u001b[39;00m module \u001b[38;5;129;01min\u001b[39;00m \u001b[38;5;28mself\u001b[39m:\n\u001b[0;32m--> 217\u001b[0m         \u001b[38;5;28minput\u001b[39m \u001b[38;5;241m=\u001b[39m \u001b[43mmodule\u001b[49m\u001b[43m(\u001b[49m\u001b[38;5;28;43minput\u001b[39;49m\u001b[43m)\u001b[49m\n\u001b[1;32m    218\u001b[0m     \u001b[38;5;28;01mreturn\u001b[39;00m \u001b[38;5;28minput\u001b[39m\n",
      "File \u001b[0;32m/Volumes/TAPPS/DS_APPS/anaconda3/envs/tensorflow/lib/python3.9/site-packages/torch/nn/modules/module.py:1501\u001b[0m, in \u001b[0;36mModule._call_impl\u001b[0;34m(self, *args, **kwargs)\u001b[0m\n\u001b[1;32m   1496\u001b[0m \u001b[38;5;66;03m# If we don't have any hooks, we want to skip the rest of the logic in\u001b[39;00m\n\u001b[1;32m   1497\u001b[0m \u001b[38;5;66;03m# this function, and just call forward.\u001b[39;00m\n\u001b[1;32m   1498\u001b[0m \u001b[38;5;28;01mif\u001b[39;00m \u001b[38;5;129;01mnot\u001b[39;00m (\u001b[38;5;28mself\u001b[39m\u001b[38;5;241m.\u001b[39m_backward_hooks \u001b[38;5;129;01mor\u001b[39;00m \u001b[38;5;28mself\u001b[39m\u001b[38;5;241m.\u001b[39m_backward_pre_hooks \u001b[38;5;129;01mor\u001b[39;00m \u001b[38;5;28mself\u001b[39m\u001b[38;5;241m.\u001b[39m_forward_hooks \u001b[38;5;129;01mor\u001b[39;00m \u001b[38;5;28mself\u001b[39m\u001b[38;5;241m.\u001b[39m_forward_pre_hooks\n\u001b[1;32m   1499\u001b[0m         \u001b[38;5;129;01mor\u001b[39;00m _global_backward_pre_hooks \u001b[38;5;129;01mor\u001b[39;00m _global_backward_hooks\n\u001b[1;32m   1500\u001b[0m         \u001b[38;5;129;01mor\u001b[39;00m _global_forward_hooks \u001b[38;5;129;01mor\u001b[39;00m _global_forward_pre_hooks):\n\u001b[0;32m-> 1501\u001b[0m     \u001b[38;5;28;01mreturn\u001b[39;00m \u001b[43mforward_call\u001b[49m\u001b[43m(\u001b[49m\u001b[38;5;241;43m*\u001b[39;49m\u001b[43margs\u001b[49m\u001b[43m,\u001b[49m\u001b[43m \u001b[49m\u001b[38;5;241;43m*\u001b[39;49m\u001b[38;5;241;43m*\u001b[39;49m\u001b[43mkwargs\u001b[49m\u001b[43m)\u001b[49m\n\u001b[1;32m   1502\u001b[0m \u001b[38;5;66;03m# Do not call functions when jit is used\u001b[39;00m\n\u001b[1;32m   1503\u001b[0m full_backward_hooks, non_full_backward_hooks \u001b[38;5;241m=\u001b[39m [], []\n",
      "File \u001b[0;32m/Volumes/TAPPS/DS_APPS/anaconda3/envs/tensorflow/lib/python3.9/site-packages/torch/nn/modules/conv.py:463\u001b[0m, in \u001b[0;36mConv2d.forward\u001b[0;34m(self, input)\u001b[0m\n\u001b[1;32m    462\u001b[0m \u001b[38;5;28;01mdef\u001b[39;00m \u001b[38;5;21mforward\u001b[39m(\u001b[38;5;28mself\u001b[39m, \u001b[38;5;28minput\u001b[39m: Tensor) \u001b[38;5;241m-\u001b[39m\u001b[38;5;241m>\u001b[39m Tensor:\n\u001b[0;32m--> 463\u001b[0m     \u001b[38;5;28;01mreturn\u001b[39;00m \u001b[38;5;28;43mself\u001b[39;49m\u001b[38;5;241;43m.\u001b[39;49m\u001b[43m_conv_forward\u001b[49m\u001b[43m(\u001b[49m\u001b[38;5;28;43minput\u001b[39;49m\u001b[43m,\u001b[49m\u001b[43m \u001b[49m\u001b[38;5;28;43mself\u001b[39;49m\u001b[38;5;241;43m.\u001b[39;49m\u001b[43mweight\u001b[49m\u001b[43m,\u001b[49m\u001b[43m \u001b[49m\u001b[38;5;28;43mself\u001b[39;49m\u001b[38;5;241;43m.\u001b[39;49m\u001b[43mbias\u001b[49m\u001b[43m)\u001b[49m\n",
      "File \u001b[0;32m/Volumes/TAPPS/DS_APPS/anaconda3/envs/tensorflow/lib/python3.9/site-packages/torch/nn/modules/conv.py:459\u001b[0m, in \u001b[0;36mConv2d._conv_forward\u001b[0;34m(self, input, weight, bias)\u001b[0m\n\u001b[1;32m    455\u001b[0m \u001b[38;5;28;01mif\u001b[39;00m \u001b[38;5;28mself\u001b[39m\u001b[38;5;241m.\u001b[39mpadding_mode \u001b[38;5;241m!=\u001b[39m \u001b[38;5;124m'\u001b[39m\u001b[38;5;124mzeros\u001b[39m\u001b[38;5;124m'\u001b[39m:\n\u001b[1;32m    456\u001b[0m     \u001b[38;5;28;01mreturn\u001b[39;00m F\u001b[38;5;241m.\u001b[39mconv2d(F\u001b[38;5;241m.\u001b[39mpad(\u001b[38;5;28minput\u001b[39m, \u001b[38;5;28mself\u001b[39m\u001b[38;5;241m.\u001b[39m_reversed_padding_repeated_twice, mode\u001b[38;5;241m=\u001b[39m\u001b[38;5;28mself\u001b[39m\u001b[38;5;241m.\u001b[39mpadding_mode),\n\u001b[1;32m    457\u001b[0m                     weight, bias, \u001b[38;5;28mself\u001b[39m\u001b[38;5;241m.\u001b[39mstride,\n\u001b[1;32m    458\u001b[0m                     _pair(\u001b[38;5;241m0\u001b[39m), \u001b[38;5;28mself\u001b[39m\u001b[38;5;241m.\u001b[39mdilation, \u001b[38;5;28mself\u001b[39m\u001b[38;5;241m.\u001b[39mgroups)\n\u001b[0;32m--> 459\u001b[0m \u001b[38;5;28;01mreturn\u001b[39;00m \u001b[43mF\u001b[49m\u001b[38;5;241;43m.\u001b[39;49m\u001b[43mconv2d\u001b[49m\u001b[43m(\u001b[49m\u001b[38;5;28;43minput\u001b[39;49m\u001b[43m,\u001b[49m\u001b[43m \u001b[49m\u001b[43mweight\u001b[49m\u001b[43m,\u001b[49m\u001b[43m \u001b[49m\u001b[43mbias\u001b[49m\u001b[43m,\u001b[49m\u001b[43m \u001b[49m\u001b[38;5;28;43mself\u001b[39;49m\u001b[38;5;241;43m.\u001b[39;49m\u001b[43mstride\u001b[49m\u001b[43m,\u001b[49m\n\u001b[1;32m    460\u001b[0m \u001b[43m                \u001b[49m\u001b[38;5;28;43mself\u001b[39;49m\u001b[38;5;241;43m.\u001b[39;49m\u001b[43mpadding\u001b[49m\u001b[43m,\u001b[49m\u001b[43m \u001b[49m\u001b[38;5;28;43mself\u001b[39;49m\u001b[38;5;241;43m.\u001b[39;49m\u001b[43mdilation\u001b[49m\u001b[43m,\u001b[49m\u001b[43m \u001b[49m\u001b[38;5;28;43mself\u001b[39;49m\u001b[38;5;241;43m.\u001b[39;49m\u001b[43mgroups\u001b[49m\u001b[43m)\u001b[49m\n",
      "\u001b[0;31mRuntimeError\u001b[0m: Given groups=1, weight of size [10, 3, 3, 3], expected input[32, 1, 28, 28] to have 3 channels, but got 1 channels instead"
     ]
    }
   ],
   "source": [
    "#Building preds loop\n",
    "EPOCHS=1\n",
    "all_labes=[]\n",
    "for epoch in range(EPOCHS):\n",
    "    model_cnn_1.eval()\n",
    "    for batch, (X, y) in enumerate(test_data_loader):\n",
    "        with torch.inference_mode():\n",
    "            preds_logits=model_cnn_1(X)\n",
    "            pred_labels = preds_logits.argmax(dim=1)\n",
    "            lab=pred_labels.numpy()\n",
    "            all_labes=np.concatenate((all_labes, lab))\n",
    "#         print(batch)\n",
    "#         break"
   ]
  },
  {
   "cell_type": "code",
   "execution_count": 87,
   "id": "e3aa43aa",
   "metadata": {},
   "outputs": [
    {
     "data": {
      "text/plain": [
       "torch.Size([32, 10])"
      ]
     },
     "execution_count": 87,
     "metadata": {},
     "output_type": "execute_result"
    }
   ],
   "source": [
    "preds_logits.shape"
   ]
  },
  {
   "cell_type": "code",
   "execution_count": 88,
   "id": "e51cfbe9",
   "metadata": {},
   "outputs": [
    {
     "data": {
      "text/plain": [
       "28000"
      ]
     },
     "execution_count": 88,
     "metadata": {},
     "output_type": "execute_result"
    }
   ],
   "source": [
    "len(all_labes)"
   ]
  },
  {
   "cell_type": "code",
   "execution_count": 89,
   "id": "5a4ed13d",
   "metadata": {},
   "outputs": [
    {
     "data": {
      "text/plain": [
       "28000"
      ]
     },
     "execution_count": 89,
     "metadata": {},
     "output_type": "execute_result"
    }
   ],
   "source": [
    "len(test_dataset)"
   ]
  },
  {
   "cell_type": "code",
   "execution_count": 90,
   "id": "a233a2cd",
   "metadata": {},
   "outputs": [
    {
     "data": {
      "text/plain": [
       "array([2., 0., 5., ..., 2., 7., 7.])"
      ]
     },
     "execution_count": 90,
     "metadata": {},
     "output_type": "execute_result"
    }
   ],
   "source": [
    "all_labes"
   ]
  },
  {
   "cell_type": "code",
   "execution_count": 91,
   "id": "4ca6c2a3",
   "metadata": {},
   "outputs": [],
   "source": [
    "all_labes=all_labes.astype(int)"
   ]
  },
  {
   "cell_type": "code",
   "execution_count": 92,
   "id": "0b8b6ecf",
   "metadata": {},
   "outputs": [],
   "source": [
    "from pathlib import Path\n",
    "import pandas as pd\n",
    "import os\n",
    "compe='digit-recognizer'"
   ]
  },
  {
   "cell_type": "code",
   "execution_count": 93,
   "id": "9313b397",
   "metadata": {},
   "outputs": [],
   "source": [
    "import subprocess\n",
    "def make_sub(pred_y,sub_data_len=28000,name='default'):\n",
    "    df_submission = pd.DataFrame()\n",
    "    df_submission['ImageId']=range(1, sub_data_len+ 1)\n",
    "    df_submission['Label']=pred_y\n",
    "    df_submission.to_csv(f'submission-{name}.csv', index=False)\n",
    "    cmd =f'kaggle competitions submit -c {compe} -f submission-{name}.csv -m \"Message\"'\n",
    "    subprocess.run(cmd, shell=True)\n",
    "    print(f'succesully saved - {name}')"
   ]
  },
  {
   "cell_type": "code",
   "execution_count": 94,
   "id": "88390ac7",
   "metadata": {},
   "outputs": [
    {
     "name": "stderr",
     "output_type": "stream",
     "text": [
      "100%|██████████| 208k/208k [00:00<00:00, 217kB/s]  \n"
     ]
    },
    {
     "name": "stdout",
     "output_type": "stream",
     "text": [
      "Successfully submitted to Digit Recognizersuccesully saved - pytorch\n"
     ]
    }
   ],
   "source": [
    "make_sub(all_labes,name='pytorch')"
   ]
  },
  {
   "cell_type": "code",
   "execution_count": 95,
   "id": "53f3dcc7",
   "metadata": {},
   "outputs": [
    {
     "data": {
      "text/plain": [
       "array([2, 0, 5, 0, 0, 0, 1, 5, 1, 6, 9, 8, 3, 4, 0, 7, 3, 1, 0, 5])"
      ]
     },
     "execution_count": 95,
     "metadata": {},
     "output_type": "execute_result"
    }
   ],
   "source": [
    "all_labes[:20]"
   ]
  },
  {
   "cell_type": "code",
   "execution_count": 106,
   "id": "cc59c734",
   "metadata": {},
   "outputs": [
    {
     "data": {
      "image/png": "[encoded data removed]",
      "text/plain": [
       "<Figure size 640x480 with 1 Axes>"
      ]
     },
     "metadata": {},
     "output_type": "display_data"
    }
   ],
   "source": [
    "for images, labels in test_data_loader:\n",
    "    image = images[4]  # Extract the image from the batch (assuming batch size is 1)\n",
    "    label = labels[4]  # Extract the label from the batch (assuming batch size is 1)\n",
    "\n",
    "    # Convert the tensor image to a numpy array and transpose the dimensions\n",
    "    image = image.numpy().transpose((1, 2, 0))\n",
    "\n",
    "    # Reverse the normalization applied earlier\n",
    "    image = 0.5 * image + 0.5\n",
    "\n",
    "    # Plot the image\n",
    "    plt.imshow(image)\n",
    "    plt.title(\"Label: {}\".format(label))\n",
    "    plt.axis(\"off\")\n",
    "    plt.show()\n",
    "    break"
   ]
  },
  {
   "cell_type": "code",
   "execution_count": 127,
   "id": "e6845b53",
   "metadata": {},
   "outputs": [
    {
     "data": {
      "text/plain": [
       "torch.Size([3, 28, 28])"
      ]
     },
     "execution_count": 127,
     "metadata": {},
     "output_type": "execute_result"
    }
   ],
   "source": [
    "image,label=test_dataset[0]\n",
    "image.shape"
   ]
  },
  {
   "cell_type": "code",
   "execution_count": 265,
   "id": "6a4428be",
   "metadata": {},
   "outputs": [
    {
     "name": "stdout",
     "output_type": "stream",
     "text": [
      "torch.Size([1, 28, 28])\n"
     ]
    },
    {
     "data": {
      "image/png": "[encoded data removed]",
      "text/plain": [
       "<Figure size 640x480 with 1 Axes>"
      ]
     },
     "metadata": {},
     "output_type": "display_data"
    },
    {
     "name": "stdout",
     "output_type": "stream",
     "text": [
      "torch.Size([1, 28, 28])\n"
     ]
    },
    {
     "data": {
      "image/png": "[encoded data removed]",
      "text/plain": [
       "<Figure size 640x480 with 1 Axes>"
      ]
     },
     "metadata": {},
     "output_type": "display_data"
    },
    {
     "name": "stdout",
     "output_type": "stream",
     "text": [
      "torch.Size([1, 28, 28])\n"
     ]
    },
    {
     "data": {
      "image/png": "[encoded data removed]",
      "text/plain": [
       "<Figure size 640x480 with 1 Axes>"
      ]
     },
     "metadata": {},
     "output_type": "display_data"
    },
    {
     "name": "stdout",
     "output_type": "stream",
     "text": [
      "torch.Size([1, 28, 28])\n"
     ]
    },
    {
     "data": {
      "image/png": "[encoded data removed]",
      "text/plain": [
       "<Figure size 640x480 with 1 Axes>"
      ]
     },
     "metadata": {},
     "output_type": "display_data"
    },
    {
     "name": "stdout",
     "output_type": "stream",
     "text": [
      "torch.Size([1, 28, 28])\n"
     ]
    },
    {
     "data": {
      "image/png": "[encoded data removed]",
      "text/plain": [
       "<Figure size 640x480 with 1 Axes>"
      ]
     },
     "metadata": {},
     "output_type": "display_data"
    }
   ],
   "source": [
    "count=0\n",
    "for images,labels in (test_data_set_custom):\n",
    "    print(images.shape)\n",
    "#     image = images  # Extract the image from the batch (assuming batch size is 1)\n",
    "#     label = labels  # Extract the label from the batch (assuming batch size is 1)\n",
    "\n",
    "    # Convert the tensor image to a numpy array and transpose the dimensions\n",
    "    image = images.numpy().transpose((1, 2, 0))\n",
    "\n",
    "    # Reverse the normalization applied earlier\n",
    "    image = 0.5 * image + 0.5\n",
    "    count+=1\n",
    "    # Plot the image\n",
    "    plt.imshow(image)\n",
    "#     plt.title(\"Label: {}\".format(label))\n",
    "    plt.axis(\"off\")\n",
    "    plt.show()\n",
    "    if (count==5):\n",
    "        break"
   ]
  },
  {
   "cell_type": "code",
   "execution_count": 251,
   "id": "2ee862bf",
   "metadata": {},
   "outputs": [
    {
     "data": {
      "text/plain": [
       "torch.Size([1, 28, 28])"
      ]
     },
     "execution_count": 251,
     "metadata": {},
     "output_type": "execute_result"
    }
   ],
   "source": [
    "images.shape"
   ]
  },
  {
   "cell_type": "code",
   "execution_count": 152,
   "id": "ab730b9d",
   "metadata": {},
   "outputs": [
    {
     "data": {
      "text/plain": [
       "28000"
      ]
     },
     "execution_count": 152,
     "metadata": {},
     "output_type": "execute_result"
    }
   ],
   "source": [
    "len(test_dataset)"
   ]
  },
  {
   "cell_type": "code",
   "execution_count": 237,
   "id": "ad360aff",
   "metadata": {},
   "outputs": [],
   "source": [
    "transform = transforms.Compose([\n",
    "    transforms.Resize((28, 28)),  # Resize images to a desired size\n",
    "    transforms.ToTensor(),         # Convert images to tensors\n",
    "    transforms.Normalize((0.5,), (0.5,))  # Normalize the image data\n",
    "])"
   ]
  },
  {
   "cell_type": "code",
   "execution_count": 188,
   "id": "fbc72bb5",
   "metadata": {},
   "outputs": [],
   "source": [
    "import os\n",
    "import pathlib\n",
    "import torch\n",
    "\n",
    "from PIL import Image\n",
    "from torch.utils.data import Dataset\n",
    "from torchvision import transforms\n",
    "from typing import Tuple, Dict, List"
   ]
  },
  {
   "cell_type": "code",
   "execution_count": null,
   "id": "e6989d9d",
   "metadata": {},
   "outputs": [],
   "source": [
    "# Setup path for target directory\n",
    "target_directory = train_dir\n",
    "print(f\"Target dir: {target_directory}\")\n",
    "\n",
    "# Get the class names from the target directory \n",
    "class_names_found = sorted([entry.name for entry in list(os.scandir(target_directory))])\n",
    "class_names_found"
   ]
  },
  {
   "cell_type": "code",
   "execution_count": null,
   "id": "28c561c2",
   "metadata": {},
   "outputs": [],
   "source": []
  },
  {
   "cell_type": "code",
   "execution_count": 233,
   "id": "01bb5509",
   "metadata": {},
   "outputs": [],
   "source": [
    "from torch.utils.data import Dataset\n",
    "\n",
    "class ImageFolderCustom(Dataset):\n",
    "  # 2. Initialize our custom dataset\n",
    "  def __init__(self, \n",
    "               targ_dir: list, \n",
    "               transform=None):\n",
    "    # 3. Create class attributes\n",
    "    # Get all of the image paths\n",
    "    self.paths = targ_dir\n",
    "    # Setup transform\n",
    "    self.transform = transform\n",
    "    # Create classes and class_to_idx attributes\n",
    "    self.classes, self.class_to_idx = find_classes()\n",
    "\n",
    "  # 4. Create a function to load images\n",
    "  def load_image(self, index: int) -> Image.Image:\n",
    "    \"Opens an image via a path and returns it.\"\n",
    "    image_path = self.paths[index]\n",
    "    return Image.open(image_path)\n",
    "\n",
    "  # 5. Overwrite __len__()\n",
    "  def __len__(self) -> int:\n",
    "    \"Returns the total number of samples.\"\n",
    "    return len(self.paths)\n",
    "  \n",
    "  # 6. Overwrite __getitem__() method to return a particular sample\n",
    "  def __getitem__(self, index: int) -> Tuple[torch.Tensor, int]:\n",
    "    \"Returns one sample of data, data and label (X, y).\"\n",
    "    img = self.load_image(index)\n",
    "    class_name = self.paths[index].parent.name # expects path in format: data_folder/class_name/image.jpg\n",
    "    class_idx = self.class_to_idx[class_name]\n",
    "\n",
    "    # Transform if necessary\n",
    "    if self.transform:\n",
    "      return self.transform(img), class_idx # return data, label (X, y)\n",
    "    else:\n",
    "      return img, class_idx # return untransformed image and label"
   ]
  },
  {
   "cell_type": "code",
   "execution_count": 266,
   "id": "08513713",
   "metadata": {},
   "outputs": [
    {
     "data": {
      "text/plain": [
       "<__main__.ImageFolderCustom at 0x29b869f10>"
      ]
     },
     "execution_count": 266,
     "metadata": {},
     "output_type": "execute_result"
    }
   ],
   "source": [
    "test_data_set_custom = ImageFolderCustom(targ_dir=l,transform=transform)\n",
    "test_data_set_custom"
   ]
  },
  {
   "cell_type": "code",
   "execution_count": 228,
   "id": "4f1e7d91",
   "metadata": {},
   "outputs": [
    {
     "data": {
      "text/plain": [
       "[PosixPath('data/Testing/0/0.jpg'),\n",
       " PosixPath('data/Testing/0/1.jpg'),\n",
       " PosixPath('data/Testing/0/2.jpg'),\n",
       " PosixPath('data/Testing/0/3.jpg'),\n",
       " PosixPath('data/Testing/0/4.jpg'),\n",
       " PosixPath('data/Testing/0/5.jpg'),\n",
       " PosixPath('data/Testing/0/6.jpg'),\n",
       " PosixPath('data/Testing/0/7.jpg'),\n",
       " PosixPath('data/Testing/0/8.jpg'),\n",
       " PosixPath('data/Testing/0/9.jpg'),\n",
       " PosixPath('data/Testing/0/10.jpg'),\n",
       " PosixPath('data/Testing/0/11.jpg'),\n",
       " PosixPath('data/Testing/0/12.jpg'),\n",
       " PosixPath('data/Testing/0/13.jpg'),\n",
       " PosixPath('data/Testing/0/14.jpg'),\n",
       " PosixPath('data/Testing/0/15.jpg'),\n",
       " PosixPath('data/Testing/0/16.jpg'),\n",
       " PosixPath('data/Testing/0/17.jpg'),\n",
       " PosixPath('data/Testing/0/18.jpg'),\n",
       " PosixPath('data/Testing/0/19.jpg'),\n",
       " PosixPath('data/Testing/0/20.jpg'),\n",
       " PosixPath('data/Testing/0/21.jpg'),\n",
       " PosixPath('data/Testing/0/22.jpg'),\n",
       " PosixPath('data/Testing/0/23.jpg'),\n",
       " PosixPath('data/Testing/0/24.jpg'),\n",
       " PosixPath('data/Testing/0/25.jpg'),\n",
       " PosixPath('data/Testing/0/26.jpg'),\n",
       " PosixPath('data/Testing/0/27.jpg'),\n",
       " PosixPath('data/Testing/0/28.jpg'),\n",
       " PosixPath('data/Testing/0/29.jpg'),\n",
       " PosixPath('data/Testing/0/30.jpg'),\n",
       " PosixPath('data/Testing/0/31.jpg'),\n",
       " PosixPath('data/Testing/0/32.jpg'),\n",
       " PosixPath('data/Testing/0/33.jpg'),\n",
       " PosixPath('data/Testing/0/34.jpg'),\n",
       " PosixPath('data/Testing/0/35.jpg'),\n",
       " PosixPath('data/Testing/0/36.jpg'),\n",
       " PosixPath('data/Testing/0/37.jpg'),\n",
       " PosixPath('data/Testing/0/38.jpg'),\n",
       " PosixPath('data/Testing/0/39.jpg'),\n",
       " PosixPath('data/Testing/0/40.jpg'),\n",
       " PosixPath('data/Testing/0/41.jpg'),\n",
       " PosixPath('data/Testing/0/42.jpg'),\n",
       " PosixPath('data/Testing/0/43.jpg'),\n",
       " PosixPath('data/Testing/0/44.jpg'),\n",
       " PosixPath('data/Testing/0/45.jpg'),\n",
       " PosixPath('data/Testing/0/46.jpg'),\n",
       " PosixPath('data/Testing/0/47.jpg'),\n",
       " PosixPath('data/Testing/0/48.jpg'),\n",
       " PosixPath('data/Testing/0/49.jpg'),\n",
       " PosixPath('data/Testing/0/50.jpg'),\n",
       " PosixPath('data/Testing/0/51.jpg'),\n",
       " PosixPath('data/Testing/0/52.jpg'),\n",
       " PosixPath('data/Testing/0/53.jpg'),\n",
       " PosixPath('data/Testing/0/54.jpg'),\n",
       " PosixPath('data/Testing/0/55.jpg'),\n",
       " PosixPath('data/Testing/0/56.jpg'),\n",
       " PosixPath('data/Testing/0/57.jpg'),\n",
       " PosixPath('data/Testing/0/58.jpg'),\n",
       " PosixPath('data/Testing/0/59.jpg'),\n",
       " PosixPath('data/Testing/0/60.jpg'),\n",
       " PosixPath('data/Testing/0/61.jpg'),\n",
       " PosixPath('data/Testing/0/62.jpg'),\n",
       " PosixPath('data/Testing/0/63.jpg'),\n",
       " PosixPath('data/Testing/0/64.jpg'),\n",
       " PosixPath('data/Testing/0/65.jpg'),\n",
       " PosixPath('data/Testing/0/66.jpg'),\n",
       " PosixPath('data/Testing/0/67.jpg'),\n",
       " PosixPath('data/Testing/0/68.jpg'),\n",
       " PosixPath('data/Testing/0/69.jpg'),\n",
       " PosixPath('data/Testing/0/70.jpg'),\n",
       " PosixPath('data/Testing/0/71.jpg'),\n",
       " PosixPath('data/Testing/0/72.jpg'),\n",
       " PosixPath('data/Testing/0/73.jpg'),\n",
       " PosixPath('data/Testing/0/74.jpg'),\n",
       " PosixPath('data/Testing/0/75.jpg'),\n",
       " PosixPath('data/Testing/0/76.jpg'),\n",
       " PosixPath('data/Testing/0/77.jpg'),\n",
       " PosixPath('data/Testing/0/78.jpg'),\n",
       " PosixPath('data/Testing/0/79.jpg'),\n",
       " PosixPath('data/Testing/0/80.jpg'),\n",
       " PosixPath('data/Testing/0/81.jpg'),\n",
       " PosixPath('data/Testing/0/82.jpg'),\n",
       " PosixPath('data/Testing/0/83.jpg'),\n",
       " PosixPath('data/Testing/0/84.jpg'),\n",
       " PosixPath('data/Testing/0/85.jpg'),\n",
       " PosixPath('data/Testing/0/86.jpg'),\n",
       " PosixPath('data/Testing/0/87.jpg'),\n",
       " PosixPath('data/Testing/0/88.jpg'),\n",
       " PosixPath('data/Testing/0/89.jpg'),\n",
       " PosixPath('data/Testing/0/90.jpg'),\n",
       " PosixPath('data/Testing/0/91.jpg'),\n",
       " PosixPath('data/Testing/0/92.jpg'),\n",
       " PosixPath('data/Testing/0/93.jpg'),\n",
       " PosixPath('data/Testing/0/94.jpg'),\n",
       " PosixPath('data/Testing/0/95.jpg'),\n",
       " PosixPath('data/Testing/0/96.jpg'),\n",
       " PosixPath('data/Testing/0/97.jpg'),\n",
       " PosixPath('data/Testing/0/98.jpg'),\n",
       " PosixPath('data/Testing/0/99.jpg'),\n",
       " PosixPath('data/Testing/0/100.jpg'),\n",
       " PosixPath('data/Testing/0/101.jpg'),\n",
       " PosixPath('data/Testing/0/102.jpg'),\n",
       " PosixPath('data/Testing/0/103.jpg'),\n",
       " PosixPath('data/Testing/0/104.jpg'),\n",
       " PosixPath('data/Testing/0/105.jpg'),\n",
       " PosixPath('data/Testing/0/106.jpg'),\n",
       " PosixPath('data/Testing/0/107.jpg'),\n",
       " PosixPath('data/Testing/0/108.jpg'),\n",
       " PosixPath('data/Testing/0/109.jpg'),\n",
       " PosixPath('data/Testing/0/110.jpg'),\n",
       " PosixPath('data/Testing/0/111.jpg'),\n",
       " PosixPath('data/Testing/0/112.jpg'),\n",
       " PosixPath('data/Testing/0/113.jpg'),\n",
       " PosixPath('data/Testing/0/114.jpg'),\n",
       " PosixPath('data/Testing/0/115.jpg'),\n",
       " PosixPath('data/Testing/0/116.jpg'),\n",
       " PosixPath('data/Testing/0/117.jpg'),\n",
       " PosixPath('data/Testing/0/118.jpg'),\n",
       " PosixPath('data/Testing/0/119.jpg'),\n",
       " PosixPath('data/Testing/0/120.jpg'),\n",
       " PosixPath('data/Testing/0/121.jpg'),\n",
       " PosixPath('data/Testing/0/122.jpg'),\n",
       " PosixPath('data/Testing/0/123.jpg'),\n",
       " PosixPath('data/Testing/0/124.jpg'),\n",
       " PosixPath('data/Testing/0/125.jpg'),\n",
       " PosixPath('data/Testing/0/126.jpg'),\n",
       " PosixPath('data/Testing/0/127.jpg'),\n",
       " PosixPath('data/Testing/0/128.jpg'),\n",
       " PosixPath('data/Testing/0/129.jpg'),\n",
       " PosixPath('data/Testing/0/130.jpg'),\n",
       " PosixPath('data/Testing/0/131.jpg'),\n",
       " PosixPath('data/Testing/0/132.jpg'),\n",
       " PosixPath('data/Testing/0/133.jpg'),\n",
       " PosixPath('data/Testing/0/134.jpg'),\n",
       " PosixPath('data/Testing/0/135.jpg'),\n",
       " PosixPath('data/Testing/0/136.jpg'),\n",
       " PosixPath('data/Testing/0/137.jpg'),\n",
       " PosixPath('data/Testing/0/138.jpg'),\n",
       " PosixPath('data/Testing/0/139.jpg'),\n",
       " PosixPath('data/Testing/0/140.jpg'),\n",
       " PosixPath('data/Testing/0/141.jpg'),\n",
       " PosixPath('data/Testing/0/142.jpg'),\n",
       " PosixPath('data/Testing/0/143.jpg'),\n",
       " PosixPath('data/Testing/0/144.jpg'),\n",
       " PosixPath('data/Testing/0/145.jpg'),\n",
       " PosixPath('data/Testing/0/146.jpg'),\n",
       " PosixPath('data/Testing/0/147.jpg'),\n",
       " PosixPath('data/Testing/0/148.jpg'),\n",
       " PosixPath('data/Testing/0/149.jpg'),\n",
       " PosixPath('data/Testing/0/150.jpg'),\n",
       " PosixPath('data/Testing/0/151.jpg'),\n",
       " PosixPath('data/Testing/0/152.jpg'),\n",
       " PosixPath('data/Testing/0/153.jpg'),\n",
       " PosixPath('data/Testing/0/154.jpg'),\n",
       " PosixPath('data/Testing/0/155.jpg'),\n",
       " PosixPath('data/Testing/0/156.jpg'),\n",
       " PosixPath('data/Testing/0/157.jpg'),\n",
       " PosixPath('data/Testing/0/158.jpg'),\n",
       " PosixPath('data/Testing/0/159.jpg'),\n",
       " PosixPath('data/Testing/0/160.jpg'),\n",
       " PosixPath('data/Testing/0/161.jpg'),\n",
       " PosixPath('data/Testing/0/162.jpg'),\n",
       " PosixPath('data/Testing/0/163.jpg'),\n",
       " PosixPath('data/Testing/0/164.jpg'),\n",
       " PosixPath('data/Testing/0/165.jpg'),\n",
       " PosixPath('data/Testing/0/166.jpg'),\n",
       " PosixPath('data/Testing/0/167.jpg'),\n",
       " PosixPath('data/Testing/0/168.jpg'),\n",
       " PosixPath('data/Testing/0/169.jpg'),\n",
       " PosixPath('data/Testing/0/170.jpg'),\n",
       " PosixPath('data/Testing/0/171.jpg'),\n",
       " PosixPath('data/Testing/0/172.jpg'),\n",
       " PosixPath('data/Testing/0/173.jpg'),\n",
       " PosixPath('data/Testing/0/174.jpg'),\n",
       " PosixPath('data/Testing/0/175.jpg'),\n",
       " PosixPath('data/Testing/0/176.jpg'),\n",
       " PosixPath('data/Testing/0/177.jpg'),\n",
       " PosixPath('data/Testing/0/178.jpg'),\n",
       " PosixPath('data/Testing/0/179.jpg'),\n",
       " PosixPath('data/Testing/0/180.jpg'),\n",
       " PosixPath('data/Testing/0/181.jpg'),\n",
       " PosixPath('data/Testing/0/182.jpg'),\n",
       " PosixPath('data/Testing/0/183.jpg'),\n",
       " PosixPath('data/Testing/0/184.jpg'),\n",
       " PosixPath('data/Testing/0/185.jpg'),\n",
       " PosixPath('data/Testing/0/186.jpg'),\n",
       " PosixPath('data/Testing/0/187.jpg'),\n",
       " PosixPath('data/Testing/0/188.jpg'),\n",
       " PosixPath('data/Testing/0/189.jpg'),\n",
       " PosixPath('data/Testing/0/190.jpg'),\n",
       " PosixPath('data/Testing/0/191.jpg'),\n",
       " PosixPath('data/Testing/0/192.jpg'),\n",
       " PosixPath('data/Testing/0/193.jpg'),\n",
       " PosixPath('data/Testing/0/194.jpg'),\n",
       " PosixPath('data/Testing/0/195.jpg'),\n",
       " PosixPath('data/Testing/0/196.jpg'),\n",
       " PosixPath('data/Testing/0/197.jpg'),\n",
       " PosixPath('data/Testing/0/198.jpg'),\n",
       " PosixPath('data/Testing/0/199.jpg'),\n",
       " PosixPath('data/Testing/0/200.jpg'),\n",
       " PosixPath('data/Testing/0/201.jpg'),\n",
       " PosixPath('data/Testing/0/202.jpg'),\n",
       " PosixPath('data/Testing/0/203.jpg'),\n",
       " PosixPath('data/Testing/0/204.jpg'),\n",
       " PosixPath('data/Testing/0/205.jpg'),\n",
       " PosixPath('data/Testing/0/206.jpg'),\n",
       " PosixPath('data/Testing/0/207.jpg'),\n",
       " PosixPath('data/Testing/0/208.jpg'),\n",
       " PosixPath('data/Testing/0/209.jpg'),\n",
       " PosixPath('data/Testing/0/210.jpg'),\n",
       " PosixPath('data/Testing/0/211.jpg'),\n",
       " PosixPath('data/Testing/0/212.jpg'),\n",
       " PosixPath('data/Testing/0/213.jpg'),\n",
       " PosixPath('data/Testing/0/214.jpg'),\n",
       " PosixPath('data/Testing/0/215.jpg'),\n",
       " PosixPath('data/Testing/0/216.jpg'),\n",
       " PosixPath('data/Testing/0/217.jpg'),\n",
       " PosixPath('data/Testing/0/218.jpg'),\n",
       " PosixPath('data/Testing/0/219.jpg'),\n",
       " PosixPath('data/Testing/0/220.jpg'),\n",
       " PosixPath('data/Testing/0/221.jpg'),\n",
       " PosixPath('data/Testing/0/222.jpg'),\n",
       " PosixPath('data/Testing/0/223.jpg'),\n",
       " PosixPath('data/Testing/0/224.jpg'),\n",
       " PosixPath('data/Testing/0/225.jpg'),\n",
       " PosixPath('data/Testing/0/226.jpg'),\n",
       " PosixPath('data/Testing/0/227.jpg'),\n",
       " PosixPath('data/Testing/0/228.jpg'),\n",
       " PosixPath('data/Testing/0/229.jpg'),\n",
       " PosixPath('data/Testing/0/230.jpg'),\n",
       " PosixPath('data/Testing/0/231.jpg'),\n",
       " PosixPath('data/Testing/0/232.jpg'),\n",
       " PosixPath('data/Testing/0/233.jpg'),\n",
       " PosixPath('data/Testing/0/234.jpg'),\n",
       " PosixPath('data/Testing/0/235.jpg'),\n",
       " PosixPath('data/Testing/0/236.jpg'),\n",
       " PosixPath('data/Testing/0/237.jpg'),\n",
       " PosixPath('data/Testing/0/238.jpg'),\n",
       " PosixPath('data/Testing/0/239.jpg'),\n",
       " PosixPath('data/Testing/0/240.jpg'),\n",
       " PosixPath('data/Testing/0/241.jpg'),\n",
       " PosixPath('data/Testing/0/242.jpg'),\n",
       " PosixPath('data/Testing/0/243.jpg'),\n",
       " PosixPath('data/Testing/0/244.jpg'),\n",
       " PosixPath('data/Testing/0/245.jpg'),\n",
       " PosixPath('data/Testing/0/246.jpg'),\n",
       " PosixPath('data/Testing/0/247.jpg'),\n",
       " PosixPath('data/Testing/0/248.jpg'),\n",
       " PosixPath('data/Testing/0/249.jpg'),\n",
       " PosixPath('data/Testing/0/250.jpg'),\n",
       " PosixPath('data/Testing/0/251.jpg'),\n",
       " PosixPath('data/Testing/0/252.jpg'),\n",
       " PosixPath('data/Testing/0/253.jpg'),\n",
       " PosixPath('data/Testing/0/254.jpg'),\n",
       " PosixPath('data/Testing/0/255.jpg'),\n",
       " PosixPath('data/Testing/0/256.jpg'),\n",
       " PosixPath('data/Testing/0/257.jpg'),\n",
       " PosixPath('data/Testing/0/258.jpg'),\n",
       " PosixPath('data/Testing/0/259.jpg'),\n",
       " PosixPath('data/Testing/0/260.jpg'),\n",
       " PosixPath('data/Testing/0/261.jpg'),\n",
       " PosixPath('data/Testing/0/262.jpg'),\n",
       " PosixPath('data/Testing/0/263.jpg'),\n",
       " PosixPath('data/Testing/0/264.jpg'),\n",
       " PosixPath('data/Testing/0/265.jpg'),\n",
       " PosixPath('data/Testing/0/266.jpg'),\n",
       " PosixPath('data/Testing/0/267.jpg'),\n",
       " PosixPath('data/Testing/0/268.jpg'),\n",
       " PosixPath('data/Testing/0/269.jpg'),\n",
       " PosixPath('data/Testing/0/270.jpg'),\n",
       " PosixPath('data/Testing/0/271.jpg'),\n",
       " PosixPath('data/Testing/0/272.jpg'),\n",
       " PosixPath('data/Testing/0/273.jpg'),\n",
       " PosixPath('data/Testing/0/274.jpg'),\n",
       " PosixPath('data/Testing/0/275.jpg'),\n",
       " PosixPath('data/Testing/0/276.jpg'),\n",
       " PosixPath('data/Testing/0/277.jpg'),\n",
       " PosixPath('data/Testing/0/278.jpg'),\n",
       " PosixPath('data/Testing/0/279.jpg'),\n",
       " PosixPath('data/Testing/0/280.jpg'),\n",
       " PosixPath('data/Testing/0/281.jpg'),\n",
       " PosixPath('data/Testing/0/282.jpg'),\n",
       " PosixPath('data/Testing/0/283.jpg'),\n",
       " PosixPath('data/Testing/0/284.jpg'),\n",
       " PosixPath('data/Testing/0/285.jpg'),\n",
       " PosixPath('data/Testing/0/286.jpg'),\n",
       " PosixPath('data/Testing/0/287.jpg'),\n",
       " PosixPath('data/Testing/0/288.jpg'),\n",
       " PosixPath('data/Testing/0/289.jpg'),\n",
       " PosixPath('data/Testing/0/290.jpg'),\n",
       " PosixPath('data/Testing/0/291.jpg'),\n",
       " PosixPath('data/Testing/0/292.jpg'),\n",
       " PosixPath('data/Testing/0/293.jpg'),\n",
       " PosixPath('data/Testing/0/294.jpg'),\n",
       " PosixPath('data/Testing/0/295.jpg'),\n",
       " PosixPath('data/Testing/0/296.jpg'),\n",
       " PosixPath('data/Testing/0/297.jpg'),\n",
       " PosixPath('data/Testing/0/298.jpg'),\n",
       " PosixPath('data/Testing/0/299.jpg'),\n",
       " PosixPath('data/Testing/0/300.jpg'),\n",
       " PosixPath('data/Testing/0/301.jpg'),\n",
       " PosixPath('data/Testing/0/302.jpg'),\n",
       " PosixPath('data/Testing/0/303.jpg'),\n",
       " PosixPath('data/Testing/0/304.jpg'),\n",
       " PosixPath('data/Testing/0/305.jpg'),\n",
       " PosixPath('data/Testing/0/306.jpg'),\n",
       " PosixPath('data/Testing/0/307.jpg'),\n",
       " PosixPath('data/Testing/0/308.jpg'),\n",
       " PosixPath('data/Testing/0/309.jpg'),\n",
       " PosixPath('data/Testing/0/310.jpg'),\n",
       " PosixPath('data/Testing/0/311.jpg'),\n",
       " PosixPath('data/Testing/0/312.jpg'),\n",
       " PosixPath('data/Testing/0/313.jpg'),\n",
       " PosixPath('data/Testing/0/314.jpg'),\n",
       " PosixPath('data/Testing/0/315.jpg'),\n",
       " PosixPath('data/Testing/0/316.jpg'),\n",
       " PosixPath('data/Testing/0/317.jpg'),\n",
       " PosixPath('data/Testing/0/318.jpg'),\n",
       " PosixPath('data/Testing/0/319.jpg'),\n",
       " PosixPath('data/Testing/0/320.jpg'),\n",
       " PosixPath('data/Testing/0/321.jpg'),\n",
       " PosixPath('data/Testing/0/322.jpg'),\n",
       " PosixPath('data/Testing/0/323.jpg'),\n",
       " PosixPath('data/Testing/0/324.jpg'),\n",
       " PosixPath('data/Testing/0/325.jpg'),\n",
       " PosixPath('data/Testing/0/326.jpg'),\n",
       " PosixPath('data/Testing/0/327.jpg'),\n",
       " PosixPath('data/Testing/0/328.jpg'),\n",
       " PosixPath('data/Testing/0/329.jpg'),\n",
       " PosixPath('data/Testing/0/330.jpg'),\n",
       " PosixPath('data/Testing/0/331.jpg'),\n",
       " PosixPath('data/Testing/0/332.jpg'),\n",
       " PosixPath('data/Testing/0/333.jpg'),\n",
       " PosixPath('data/Testing/0/334.jpg'),\n",
       " PosixPath('data/Testing/0/335.jpg'),\n",
       " PosixPath('data/Testing/0/336.jpg'),\n",
       " PosixPath('data/Testing/0/337.jpg'),\n",
       " PosixPath('data/Testing/0/338.jpg'),\n",
       " PosixPath('data/Testing/0/339.jpg'),\n",
       " PosixPath('data/Testing/0/340.jpg'),\n",
       " PosixPath('data/Testing/0/341.jpg'),\n",
       " PosixPath('data/Testing/0/342.jpg'),\n",
       " PosixPath('data/Testing/0/343.jpg'),\n",
       " PosixPath('data/Testing/0/344.jpg'),\n",
       " PosixPath('data/Testing/0/345.jpg'),\n",
       " PosixPath('data/Testing/0/346.jpg'),\n",
       " PosixPath('data/Testing/0/347.jpg'),\n",
       " PosixPath('data/Testing/0/348.jpg'),\n",
       " PosixPath('data/Testing/0/349.jpg'),\n",
       " PosixPath('data/Testing/0/350.jpg'),\n",
       " PosixPath('data/Testing/0/351.jpg'),\n",
       " PosixPath('data/Testing/0/352.jpg'),\n",
       " PosixPath('data/Testing/0/353.jpg'),\n",
       " PosixPath('data/Testing/0/354.jpg'),\n",
       " PosixPath('data/Testing/0/355.jpg'),\n",
       " PosixPath('data/Testing/0/356.jpg'),\n",
       " PosixPath('data/Testing/0/357.jpg'),\n",
       " PosixPath('data/Testing/0/358.jpg'),\n",
       " PosixPath('data/Testing/0/359.jpg'),\n",
       " PosixPath('data/Testing/0/360.jpg'),\n",
       " PosixPath('data/Testing/0/361.jpg'),\n",
       " PosixPath('data/Testing/0/362.jpg'),\n",
       " PosixPath('data/Testing/0/363.jpg'),\n",
       " PosixPath('data/Testing/0/364.jpg'),\n",
       " PosixPath('data/Testing/0/365.jpg'),\n",
       " PosixPath('data/Testing/0/366.jpg'),\n",
       " PosixPath('data/Testing/0/367.jpg'),\n",
       " PosixPath('data/Testing/0/368.jpg'),\n",
       " PosixPath('data/Testing/0/369.jpg'),\n",
       " PosixPath('data/Testing/0/370.jpg'),\n",
       " PosixPath('data/Testing/0/371.jpg'),\n",
       " PosixPath('data/Testing/0/372.jpg'),\n",
       " PosixPath('data/Testing/0/373.jpg'),\n",
       " PosixPath('data/Testing/0/374.jpg'),\n",
       " PosixPath('data/Testing/0/375.jpg'),\n",
       " PosixPath('data/Testing/0/376.jpg'),\n",
       " PosixPath('data/Testing/0/377.jpg'),\n",
       " PosixPath('data/Testing/0/378.jpg'),\n",
       " PosixPath('data/Testing/0/379.jpg'),\n",
       " PosixPath('data/Testing/0/380.jpg'),\n",
       " PosixPath('data/Testing/0/381.jpg'),\n",
       " PosixPath('data/Testing/0/382.jpg'),\n",
       " PosixPath('data/Testing/0/383.jpg'),\n",
       " PosixPath('data/Testing/0/384.jpg'),\n",
       " PosixPath('data/Testing/0/385.jpg'),\n",
       " PosixPath('data/Testing/0/386.jpg'),\n",
       " PosixPath('data/Testing/0/387.jpg'),\n",
       " PosixPath('data/Testing/0/388.jpg'),\n",
       " PosixPath('data/Testing/0/389.jpg'),\n",
       " PosixPath('data/Testing/0/390.jpg'),\n",
       " PosixPath('data/Testing/0/391.jpg'),\n",
       " PosixPath('data/Testing/0/392.jpg'),\n",
       " PosixPath('data/Testing/0/393.jpg'),\n",
       " PosixPath('data/Testing/0/394.jpg'),\n",
       " PosixPath('data/Testing/0/395.jpg'),\n",
       " PosixPath('data/Testing/0/396.jpg'),\n",
       " PosixPath('data/Testing/0/397.jpg'),\n",
       " PosixPath('data/Testing/0/398.jpg'),\n",
       " PosixPath('data/Testing/0/399.jpg'),\n",
       " PosixPath('data/Testing/0/400.jpg'),\n",
       " PosixPath('data/Testing/0/401.jpg'),\n",
       " PosixPath('data/Testing/0/402.jpg'),\n",
       " PosixPath('data/Testing/0/403.jpg'),\n",
       " PosixPath('data/Testing/0/404.jpg'),\n",
       " PosixPath('data/Testing/0/405.jpg'),\n",
       " PosixPath('data/Testing/0/406.jpg'),\n",
       " PosixPath('data/Testing/0/407.jpg'),\n",
       " PosixPath('data/Testing/0/408.jpg'),\n",
       " PosixPath('data/Testing/0/409.jpg'),\n",
       " PosixPath('data/Testing/0/410.jpg'),\n",
       " PosixPath('data/Testing/0/411.jpg'),\n",
       " PosixPath('data/Testing/0/412.jpg'),\n",
       " PosixPath('data/Testing/0/413.jpg'),\n",
       " PosixPath('data/Testing/0/414.jpg'),\n",
       " PosixPath('data/Testing/0/415.jpg'),\n",
       " PosixPath('data/Testing/0/416.jpg'),\n",
       " PosixPath('data/Testing/0/417.jpg'),\n",
       " PosixPath('data/Testing/0/418.jpg'),\n",
       " PosixPath('data/Testing/0/419.jpg'),\n",
       " PosixPath('data/Testing/0/420.jpg'),\n",
       " PosixPath('data/Testing/0/421.jpg'),\n",
       " PosixPath('data/Testing/0/422.jpg'),\n",
       " PosixPath('data/Testing/0/423.jpg'),\n",
       " PosixPath('data/Testing/0/424.jpg'),\n",
       " PosixPath('data/Testing/0/425.jpg'),\n",
       " PosixPath('data/Testing/0/426.jpg'),\n",
       " PosixPath('data/Testing/0/427.jpg'),\n",
       " PosixPath('data/Testing/0/428.jpg'),\n",
       " PosixPath('data/Testing/0/429.jpg'),\n",
       " PosixPath('data/Testing/0/430.jpg'),\n",
       " PosixPath('data/Testing/0/431.jpg'),\n",
       " PosixPath('data/Testing/0/432.jpg'),\n",
       " PosixPath('data/Testing/0/433.jpg'),\n",
       " PosixPath('data/Testing/0/434.jpg'),\n",
       " PosixPath('data/Testing/0/435.jpg'),\n",
       " PosixPath('data/Testing/0/436.jpg'),\n",
       " PosixPath('data/Testing/0/437.jpg'),\n",
       " PosixPath('data/Testing/0/438.jpg'),\n",
       " PosixPath('data/Testing/0/439.jpg'),\n",
       " PosixPath('data/Testing/0/440.jpg'),\n",
       " PosixPath('data/Testing/0/441.jpg'),\n",
       " PosixPath('data/Testing/0/442.jpg'),\n",
       " PosixPath('data/Testing/0/443.jpg'),\n",
       " PosixPath('data/Testing/0/444.jpg'),\n",
       " PosixPath('data/Testing/0/445.jpg'),\n",
       " PosixPath('data/Testing/0/446.jpg'),\n",
       " PosixPath('data/Testing/0/447.jpg'),\n",
       " PosixPath('data/Testing/0/448.jpg'),\n",
       " PosixPath('data/Testing/0/449.jpg'),\n",
       " PosixPath('data/Testing/0/450.jpg'),\n",
       " PosixPath('data/Testing/0/451.jpg'),\n",
       " PosixPath('data/Testing/0/452.jpg'),\n",
       " PosixPath('data/Testing/0/453.jpg'),\n",
       " PosixPath('data/Testing/0/454.jpg'),\n",
       " PosixPath('data/Testing/0/455.jpg'),\n",
       " PosixPath('data/Testing/0/456.jpg'),\n",
       " PosixPath('data/Testing/0/457.jpg'),\n",
       " PosixPath('data/Testing/0/458.jpg'),\n",
       " PosixPath('data/Testing/0/459.jpg'),\n",
       " PosixPath('data/Testing/0/460.jpg'),\n",
       " PosixPath('data/Testing/0/461.jpg'),\n",
       " PosixPath('data/Testing/0/462.jpg'),\n",
       " PosixPath('data/Testing/0/463.jpg'),\n",
       " PosixPath('data/Testing/0/464.jpg'),\n",
       " PosixPath('data/Testing/0/465.jpg'),\n",
       " PosixPath('data/Testing/0/466.jpg'),\n",
       " PosixPath('data/Testing/0/467.jpg'),\n",
       " PosixPath('data/Testing/0/468.jpg'),\n",
       " PosixPath('data/Testing/0/469.jpg'),\n",
       " PosixPath('data/Testing/0/470.jpg'),\n",
       " PosixPath('data/Testing/0/471.jpg'),\n",
       " PosixPath('data/Testing/0/472.jpg'),\n",
       " PosixPath('data/Testing/0/473.jpg'),\n",
       " PosixPath('data/Testing/0/474.jpg'),\n",
       " PosixPath('data/Testing/0/475.jpg'),\n",
       " PosixPath('data/Testing/0/476.jpg'),\n",
       " PosixPath('data/Testing/0/477.jpg'),\n",
       " PosixPath('data/Testing/0/478.jpg'),\n",
       " PosixPath('data/Testing/0/479.jpg'),\n",
       " PosixPath('data/Testing/0/480.jpg'),\n",
       " PosixPath('data/Testing/0/481.jpg'),\n",
       " PosixPath('data/Testing/0/482.jpg'),\n",
       " PosixPath('data/Testing/0/483.jpg'),\n",
       " PosixPath('data/Testing/0/484.jpg'),\n",
       " PosixPath('data/Testing/0/485.jpg'),\n",
       " PosixPath('data/Testing/0/486.jpg'),\n",
       " PosixPath('data/Testing/0/487.jpg'),\n",
       " PosixPath('data/Testing/0/488.jpg'),\n",
       " PosixPath('data/Testing/0/489.jpg'),\n",
       " PosixPath('data/Testing/0/490.jpg'),\n",
       " PosixPath('data/Testing/0/491.jpg'),\n",
       " PosixPath('data/Testing/0/492.jpg'),\n",
       " PosixPath('data/Testing/0/493.jpg'),\n",
       " PosixPath('data/Testing/0/494.jpg'),\n",
       " PosixPath('data/Testing/0/495.jpg'),\n",
       " PosixPath('data/Testing/0/496.jpg'),\n",
       " PosixPath('data/Testing/0/497.jpg'),\n",
       " PosixPath('data/Testing/0/498.jpg'),\n",
       " PosixPath('data/Testing/0/499.jpg'),\n",
       " PosixPath('data/Testing/0/500.jpg'),\n",
       " PosixPath('data/Testing/0/501.jpg'),\n",
       " PosixPath('data/Testing/0/502.jpg'),\n",
       " PosixPath('data/Testing/0/503.jpg'),\n",
       " PosixPath('data/Testing/0/504.jpg'),\n",
       " PosixPath('data/Testing/0/505.jpg'),\n",
       " PosixPath('data/Testing/0/506.jpg'),\n",
       " PosixPath('data/Testing/0/507.jpg'),\n",
       " PosixPath('data/Testing/0/508.jpg'),\n",
       " PosixPath('data/Testing/0/509.jpg'),\n",
       " PosixPath('data/Testing/0/510.jpg'),\n",
       " PosixPath('data/Testing/0/511.jpg'),\n",
       " PosixPath('data/Testing/0/512.jpg'),\n",
       " PosixPath('data/Testing/0/513.jpg'),\n",
       " PosixPath('data/Testing/0/514.jpg'),\n",
       " PosixPath('data/Testing/0/515.jpg'),\n",
       " PosixPath('data/Testing/0/516.jpg'),\n",
       " PosixPath('data/Testing/0/517.jpg'),\n",
       " PosixPath('data/Testing/0/518.jpg'),\n",
       " PosixPath('data/Testing/0/519.jpg'),\n",
       " PosixPath('data/Testing/0/520.jpg'),\n",
       " PosixPath('data/Testing/0/521.jpg'),\n",
       " PosixPath('data/Testing/0/522.jpg'),\n",
       " PosixPath('data/Testing/0/523.jpg'),\n",
       " PosixPath('data/Testing/0/524.jpg'),\n",
       " PosixPath('data/Testing/0/525.jpg'),\n",
       " PosixPath('data/Testing/0/526.jpg'),\n",
       " PosixPath('data/Testing/0/527.jpg'),\n",
       " PosixPath('data/Testing/0/528.jpg'),\n",
       " PosixPath('data/Testing/0/529.jpg'),\n",
       " PosixPath('data/Testing/0/530.jpg'),\n",
       " PosixPath('data/Testing/0/531.jpg'),\n",
       " PosixPath('data/Testing/0/532.jpg'),\n",
       " PosixPath('data/Testing/0/533.jpg'),\n",
       " PosixPath('data/Testing/0/534.jpg'),\n",
       " PosixPath('data/Testing/0/535.jpg'),\n",
       " PosixPath('data/Testing/0/536.jpg'),\n",
       " PosixPath('data/Testing/0/537.jpg'),\n",
       " PosixPath('data/Testing/0/538.jpg'),\n",
       " PosixPath('data/Testing/0/539.jpg'),\n",
       " PosixPath('data/Testing/0/540.jpg'),\n",
       " PosixPath('data/Testing/0/541.jpg'),\n",
       " PosixPath('data/Testing/0/542.jpg'),\n",
       " PosixPath('data/Testing/0/543.jpg'),\n",
       " PosixPath('data/Testing/0/544.jpg'),\n",
       " PosixPath('data/Testing/0/545.jpg'),\n",
       " PosixPath('data/Testing/0/546.jpg'),\n",
       " PosixPath('data/Testing/0/547.jpg'),\n",
       " PosixPath('data/Testing/0/548.jpg'),\n",
       " PosixPath('data/Testing/0/549.jpg'),\n",
       " PosixPath('data/Testing/0/550.jpg'),\n",
       " PosixPath('data/Testing/0/551.jpg'),\n",
       " PosixPath('data/Testing/0/552.jpg'),\n",
       " PosixPath('data/Testing/0/553.jpg'),\n",
       " PosixPath('data/Testing/0/554.jpg'),\n",
       " PosixPath('data/Testing/0/555.jpg'),\n",
       " PosixPath('data/Testing/0/556.jpg'),\n",
       " PosixPath('data/Testing/0/557.jpg'),\n",
       " PosixPath('data/Testing/0/558.jpg'),\n",
       " PosixPath('data/Testing/0/559.jpg'),\n",
       " PosixPath('data/Testing/0/560.jpg'),\n",
       " PosixPath('data/Testing/0/561.jpg'),\n",
       " PosixPath('data/Testing/0/562.jpg'),\n",
       " PosixPath('data/Testing/0/563.jpg'),\n",
       " PosixPath('data/Testing/0/564.jpg'),\n",
       " PosixPath('data/Testing/0/565.jpg'),\n",
       " PosixPath('data/Testing/0/566.jpg'),\n",
       " PosixPath('data/Testing/0/567.jpg'),\n",
       " PosixPath('data/Testing/0/568.jpg'),\n",
       " PosixPath('data/Testing/0/569.jpg'),\n",
       " PosixPath('data/Testing/0/570.jpg'),\n",
       " PosixPath('data/Testing/0/571.jpg'),\n",
       " PosixPath('data/Testing/0/572.jpg'),\n",
       " PosixPath('data/Testing/0/573.jpg'),\n",
       " PosixPath('data/Testing/0/574.jpg'),\n",
       " PosixPath('data/Testing/0/575.jpg'),\n",
       " PosixPath('data/Testing/0/576.jpg'),\n",
       " PosixPath('data/Testing/0/577.jpg'),\n",
       " PosixPath('data/Testing/0/578.jpg'),\n",
       " PosixPath('data/Testing/0/579.jpg'),\n",
       " PosixPath('data/Testing/0/580.jpg'),\n",
       " PosixPath('data/Testing/0/581.jpg'),\n",
       " PosixPath('data/Testing/0/582.jpg'),\n",
       " PosixPath('data/Testing/0/583.jpg'),\n",
       " PosixPath('data/Testing/0/584.jpg'),\n",
       " PosixPath('data/Testing/0/585.jpg'),\n",
       " PosixPath('data/Testing/0/586.jpg'),\n",
       " PosixPath('data/Testing/0/587.jpg'),\n",
       " PosixPath('data/Testing/0/588.jpg'),\n",
       " PosixPath('data/Testing/0/589.jpg'),\n",
       " PosixPath('data/Testing/0/590.jpg'),\n",
       " PosixPath('data/Testing/0/591.jpg'),\n",
       " PosixPath('data/Testing/0/592.jpg'),\n",
       " PosixPath('data/Testing/0/593.jpg'),\n",
       " PosixPath('data/Testing/0/594.jpg'),\n",
       " PosixPath('data/Testing/0/595.jpg'),\n",
       " PosixPath('data/Testing/0/596.jpg'),\n",
       " PosixPath('data/Testing/0/597.jpg'),\n",
       " PosixPath('data/Testing/0/598.jpg'),\n",
       " PosixPath('data/Testing/0/599.jpg'),\n",
       " PosixPath('data/Testing/0/600.jpg'),\n",
       " PosixPath('data/Testing/0/601.jpg'),\n",
       " PosixPath('data/Testing/0/602.jpg'),\n",
       " PosixPath('data/Testing/0/603.jpg'),\n",
       " PosixPath('data/Testing/0/604.jpg'),\n",
       " PosixPath('data/Testing/0/605.jpg'),\n",
       " PosixPath('data/Testing/0/606.jpg'),\n",
       " PosixPath('data/Testing/0/607.jpg'),\n",
       " PosixPath('data/Testing/0/608.jpg'),\n",
       " PosixPath('data/Testing/0/609.jpg'),\n",
       " PosixPath('data/Testing/0/610.jpg'),\n",
       " PosixPath('data/Testing/0/611.jpg'),\n",
       " PosixPath('data/Testing/0/612.jpg'),\n",
       " PosixPath('data/Testing/0/613.jpg'),\n",
       " PosixPath('data/Testing/0/614.jpg'),\n",
       " PosixPath('data/Testing/0/615.jpg'),\n",
       " PosixPath('data/Testing/0/616.jpg'),\n",
       " PosixPath('data/Testing/0/617.jpg'),\n",
       " PosixPath('data/Testing/0/618.jpg'),\n",
       " PosixPath('data/Testing/0/619.jpg'),\n",
       " PosixPath('data/Testing/0/620.jpg'),\n",
       " PosixPath('data/Testing/0/621.jpg'),\n",
       " PosixPath('data/Testing/0/622.jpg'),\n",
       " PosixPath('data/Testing/0/623.jpg'),\n",
       " PosixPath('data/Testing/0/624.jpg'),\n",
       " PosixPath('data/Testing/0/625.jpg'),\n",
       " PosixPath('data/Testing/0/626.jpg'),\n",
       " PosixPath('data/Testing/0/627.jpg'),\n",
       " PosixPath('data/Testing/0/628.jpg'),\n",
       " PosixPath('data/Testing/0/629.jpg'),\n",
       " PosixPath('data/Testing/0/630.jpg'),\n",
       " PosixPath('data/Testing/0/631.jpg'),\n",
       " PosixPath('data/Testing/0/632.jpg'),\n",
       " PosixPath('data/Testing/0/633.jpg'),\n",
       " PosixPath('data/Testing/0/634.jpg'),\n",
       " PosixPath('data/Testing/0/635.jpg'),\n",
       " PosixPath('data/Testing/0/636.jpg'),\n",
       " PosixPath('data/Testing/0/637.jpg'),\n",
       " PosixPath('data/Testing/0/638.jpg'),\n",
       " PosixPath('data/Testing/0/639.jpg'),\n",
       " PosixPath('data/Testing/0/640.jpg'),\n",
       " PosixPath('data/Testing/0/641.jpg'),\n",
       " PosixPath('data/Testing/0/642.jpg'),\n",
       " PosixPath('data/Testing/0/643.jpg'),\n",
       " PosixPath('data/Testing/0/644.jpg'),\n",
       " PosixPath('data/Testing/0/645.jpg'),\n",
       " PosixPath('data/Testing/0/646.jpg'),\n",
       " PosixPath('data/Testing/0/647.jpg'),\n",
       " PosixPath('data/Testing/0/648.jpg'),\n",
       " PosixPath('data/Testing/0/649.jpg'),\n",
       " PosixPath('data/Testing/0/650.jpg'),\n",
       " PosixPath('data/Testing/0/651.jpg'),\n",
       " PosixPath('data/Testing/0/652.jpg'),\n",
       " PosixPath('data/Testing/0/653.jpg'),\n",
       " PosixPath('data/Testing/0/654.jpg'),\n",
       " PosixPath('data/Testing/0/655.jpg'),\n",
       " PosixPath('data/Testing/0/656.jpg'),\n",
       " PosixPath('data/Testing/0/657.jpg'),\n",
       " PosixPath('data/Testing/0/658.jpg'),\n",
       " PosixPath('data/Testing/0/659.jpg'),\n",
       " PosixPath('data/Testing/0/660.jpg'),\n",
       " PosixPath('data/Testing/0/661.jpg'),\n",
       " PosixPath('data/Testing/0/662.jpg'),\n",
       " PosixPath('data/Testing/0/663.jpg'),\n",
       " PosixPath('data/Testing/0/664.jpg'),\n",
       " PosixPath('data/Testing/0/665.jpg'),\n",
       " PosixPath('data/Testing/0/666.jpg'),\n",
       " PosixPath('data/Testing/0/667.jpg'),\n",
       " PosixPath('data/Testing/0/668.jpg'),\n",
       " PosixPath('data/Testing/0/669.jpg'),\n",
       " PosixPath('data/Testing/0/670.jpg'),\n",
       " PosixPath('data/Testing/0/671.jpg'),\n",
       " PosixPath('data/Testing/0/672.jpg'),\n",
       " PosixPath('data/Testing/0/673.jpg'),\n",
       " PosixPath('data/Testing/0/674.jpg'),\n",
       " PosixPath('data/Testing/0/675.jpg'),\n",
       " PosixPath('data/Testing/0/676.jpg'),\n",
       " PosixPath('data/Testing/0/677.jpg'),\n",
       " PosixPath('data/Testing/0/678.jpg'),\n",
       " PosixPath('data/Testing/0/679.jpg'),\n",
       " PosixPath('data/Testing/0/680.jpg'),\n",
       " PosixPath('data/Testing/0/681.jpg'),\n",
       " PosixPath('data/Testing/0/682.jpg'),\n",
       " PosixPath('data/Testing/0/683.jpg'),\n",
       " PosixPath('data/Testing/0/684.jpg'),\n",
       " PosixPath('data/Testing/0/685.jpg'),\n",
       " PosixPath('data/Testing/0/686.jpg'),\n",
       " PosixPath('data/Testing/0/687.jpg'),\n",
       " PosixPath('data/Testing/0/688.jpg'),\n",
       " PosixPath('data/Testing/0/689.jpg'),\n",
       " PosixPath('data/Testing/0/690.jpg'),\n",
       " PosixPath('data/Testing/0/691.jpg'),\n",
       " PosixPath('data/Testing/0/692.jpg'),\n",
       " PosixPath('data/Testing/0/693.jpg'),\n",
       " PosixPath('data/Testing/0/694.jpg'),\n",
       " PosixPath('data/Testing/0/695.jpg'),\n",
       " PosixPath('data/Testing/0/696.jpg'),\n",
       " PosixPath('data/Testing/0/697.jpg'),\n",
       " PosixPath('data/Testing/0/698.jpg'),\n",
       " PosixPath('data/Testing/0/699.jpg'),\n",
       " PosixPath('data/Testing/0/700.jpg'),\n",
       " PosixPath('data/Testing/0/701.jpg'),\n",
       " PosixPath('data/Testing/0/702.jpg'),\n",
       " PosixPath('data/Testing/0/703.jpg'),\n",
       " PosixPath('data/Testing/0/704.jpg'),\n",
       " PosixPath('data/Testing/0/705.jpg'),\n",
       " PosixPath('data/Testing/0/706.jpg'),\n",
       " PosixPath('data/Testing/0/707.jpg'),\n",
       " PosixPath('data/Testing/0/708.jpg'),\n",
       " PosixPath('data/Testing/0/709.jpg'),\n",
       " PosixPath('data/Testing/0/710.jpg'),\n",
       " PosixPath('data/Testing/0/711.jpg'),\n",
       " PosixPath('data/Testing/0/712.jpg'),\n",
       " PosixPath('data/Testing/0/713.jpg'),\n",
       " PosixPath('data/Testing/0/714.jpg'),\n",
       " PosixPath('data/Testing/0/715.jpg'),\n",
       " PosixPath('data/Testing/0/716.jpg'),\n",
       " PosixPath('data/Testing/0/717.jpg'),\n",
       " PosixPath('data/Testing/0/718.jpg'),\n",
       " PosixPath('data/Testing/0/719.jpg'),\n",
       " PosixPath('data/Testing/0/720.jpg'),\n",
       " PosixPath('data/Testing/0/721.jpg'),\n",
       " PosixPath('data/Testing/0/722.jpg'),\n",
       " PosixPath('data/Testing/0/723.jpg'),\n",
       " PosixPath('data/Testing/0/724.jpg'),\n",
       " PosixPath('data/Testing/0/725.jpg'),\n",
       " PosixPath('data/Testing/0/726.jpg'),\n",
       " PosixPath('data/Testing/0/727.jpg'),\n",
       " PosixPath('data/Testing/0/728.jpg'),\n",
       " PosixPath('data/Testing/0/729.jpg'),\n",
       " PosixPath('data/Testing/0/730.jpg'),\n",
       " PosixPath('data/Testing/0/731.jpg'),\n",
       " PosixPath('data/Testing/0/732.jpg'),\n",
       " PosixPath('data/Testing/0/733.jpg'),\n",
       " PosixPath('data/Testing/0/734.jpg'),\n",
       " PosixPath('data/Testing/0/735.jpg'),\n",
       " PosixPath('data/Testing/0/736.jpg'),\n",
       " PosixPath('data/Testing/0/737.jpg'),\n",
       " PosixPath('data/Testing/0/738.jpg'),\n",
       " PosixPath('data/Testing/0/739.jpg'),\n",
       " PosixPath('data/Testing/0/740.jpg'),\n",
       " PosixPath('data/Testing/0/741.jpg'),\n",
       " PosixPath('data/Testing/0/742.jpg'),\n",
       " PosixPath('data/Testing/0/743.jpg'),\n",
       " PosixPath('data/Testing/0/744.jpg'),\n",
       " PosixPath('data/Testing/0/745.jpg'),\n",
       " PosixPath('data/Testing/0/746.jpg'),\n",
       " PosixPath('data/Testing/0/747.jpg'),\n",
       " PosixPath('data/Testing/0/748.jpg'),\n",
       " PosixPath('data/Testing/0/749.jpg'),\n",
       " PosixPath('data/Testing/0/750.jpg'),\n",
       " PosixPath('data/Testing/0/751.jpg'),\n",
       " PosixPath('data/Testing/0/752.jpg'),\n",
       " PosixPath('data/Testing/0/753.jpg'),\n",
       " PosixPath('data/Testing/0/754.jpg'),\n",
       " PosixPath('data/Testing/0/755.jpg'),\n",
       " PosixPath('data/Testing/0/756.jpg'),\n",
       " PosixPath('data/Testing/0/757.jpg'),\n",
       " PosixPath('data/Testing/0/758.jpg'),\n",
       " PosixPath('data/Testing/0/759.jpg'),\n",
       " PosixPath('data/Testing/0/760.jpg'),\n",
       " PosixPath('data/Testing/0/761.jpg'),\n",
       " PosixPath('data/Testing/0/762.jpg'),\n",
       " PosixPath('data/Testing/0/763.jpg'),\n",
       " PosixPath('data/Testing/0/764.jpg'),\n",
       " PosixPath('data/Testing/0/765.jpg'),\n",
       " PosixPath('data/Testing/0/766.jpg'),\n",
       " PosixPath('data/Testing/0/767.jpg'),\n",
       " PosixPath('data/Testing/0/768.jpg'),\n",
       " PosixPath('data/Testing/0/769.jpg'),\n",
       " PosixPath('data/Testing/0/770.jpg'),\n",
       " PosixPath('data/Testing/0/771.jpg'),\n",
       " PosixPath('data/Testing/0/772.jpg'),\n",
       " PosixPath('data/Testing/0/773.jpg'),\n",
       " PosixPath('data/Testing/0/774.jpg'),\n",
       " PosixPath('data/Testing/0/775.jpg'),\n",
       " PosixPath('data/Testing/0/776.jpg'),\n",
       " PosixPath('data/Testing/0/777.jpg'),\n",
       " PosixPath('data/Testing/0/778.jpg'),\n",
       " PosixPath('data/Testing/0/779.jpg'),\n",
       " PosixPath('data/Testing/0/780.jpg'),\n",
       " PosixPath('data/Testing/0/781.jpg'),\n",
       " PosixPath('data/Testing/0/782.jpg'),\n",
       " PosixPath('data/Testing/0/783.jpg'),\n",
       " PosixPath('data/Testing/0/784.jpg'),\n",
       " PosixPath('data/Testing/0/785.jpg'),\n",
       " PosixPath('data/Testing/0/786.jpg'),\n",
       " PosixPath('data/Testing/0/787.jpg'),\n",
       " PosixPath('data/Testing/0/788.jpg'),\n",
       " PosixPath('data/Testing/0/789.jpg'),\n",
       " PosixPath('data/Testing/0/790.jpg'),\n",
       " PosixPath('data/Testing/0/791.jpg'),\n",
       " PosixPath('data/Testing/0/792.jpg'),\n",
       " PosixPath('data/Testing/0/793.jpg'),\n",
       " PosixPath('data/Testing/0/794.jpg'),\n",
       " PosixPath('data/Testing/0/795.jpg'),\n",
       " PosixPath('data/Testing/0/796.jpg'),\n",
       " PosixPath('data/Testing/0/797.jpg'),\n",
       " PosixPath('data/Testing/0/798.jpg'),\n",
       " PosixPath('data/Testing/0/799.jpg'),\n",
       " PosixPath('data/Testing/0/800.jpg'),\n",
       " PosixPath('data/Testing/0/801.jpg'),\n",
       " PosixPath('data/Testing/0/802.jpg'),\n",
       " PosixPath('data/Testing/0/803.jpg'),\n",
       " PosixPath('data/Testing/0/804.jpg'),\n",
       " PosixPath('data/Testing/0/805.jpg'),\n",
       " PosixPath('data/Testing/0/806.jpg'),\n",
       " PosixPath('data/Testing/0/807.jpg'),\n",
       " PosixPath('data/Testing/0/808.jpg'),\n",
       " PosixPath('data/Testing/0/809.jpg'),\n",
       " PosixPath('data/Testing/0/810.jpg'),\n",
       " PosixPath('data/Testing/0/811.jpg'),\n",
       " PosixPath('data/Testing/0/812.jpg'),\n",
       " PosixPath('data/Testing/0/813.jpg'),\n",
       " PosixPath('data/Testing/0/814.jpg'),\n",
       " PosixPath('data/Testing/0/815.jpg'),\n",
       " PosixPath('data/Testing/0/816.jpg'),\n",
       " PosixPath('data/Testing/0/817.jpg'),\n",
       " PosixPath('data/Testing/0/818.jpg'),\n",
       " PosixPath('data/Testing/0/819.jpg'),\n",
       " PosixPath('data/Testing/0/820.jpg'),\n",
       " PosixPath('data/Testing/0/821.jpg'),\n",
       " PosixPath('data/Testing/0/822.jpg'),\n",
       " PosixPath('data/Testing/0/823.jpg'),\n",
       " PosixPath('data/Testing/0/824.jpg'),\n",
       " PosixPath('data/Testing/0/825.jpg'),\n",
       " PosixPath('data/Testing/0/826.jpg'),\n",
       " PosixPath('data/Testing/0/827.jpg'),\n",
       " PosixPath('data/Testing/0/828.jpg'),\n",
       " PosixPath('data/Testing/0/829.jpg'),\n",
       " PosixPath('data/Testing/0/830.jpg'),\n",
       " PosixPath('data/Testing/0/831.jpg'),\n",
       " PosixPath('data/Testing/0/832.jpg'),\n",
       " PosixPath('data/Testing/0/833.jpg'),\n",
       " PosixPath('data/Testing/0/834.jpg'),\n",
       " PosixPath('data/Testing/0/835.jpg'),\n",
       " PosixPath('data/Testing/0/836.jpg'),\n",
       " PosixPath('data/Testing/0/837.jpg'),\n",
       " PosixPath('data/Testing/0/838.jpg'),\n",
       " PosixPath('data/Testing/0/839.jpg'),\n",
       " PosixPath('data/Testing/0/840.jpg'),\n",
       " PosixPath('data/Testing/0/841.jpg'),\n",
       " PosixPath('data/Testing/0/842.jpg'),\n",
       " PosixPath('data/Testing/0/843.jpg'),\n",
       " PosixPath('data/Testing/0/844.jpg'),\n",
       " PosixPath('data/Testing/0/845.jpg'),\n",
       " PosixPath('data/Testing/0/846.jpg'),\n",
       " PosixPath('data/Testing/0/847.jpg'),\n",
       " PosixPath('data/Testing/0/848.jpg'),\n",
       " PosixPath('data/Testing/0/849.jpg'),\n",
       " PosixPath('data/Testing/0/850.jpg'),\n",
       " PosixPath('data/Testing/0/851.jpg'),\n",
       " PosixPath('data/Testing/0/852.jpg'),\n",
       " PosixPath('data/Testing/0/853.jpg'),\n",
       " PosixPath('data/Testing/0/854.jpg'),\n",
       " PosixPath('data/Testing/0/855.jpg'),\n",
       " PosixPath('data/Testing/0/856.jpg'),\n",
       " PosixPath('data/Testing/0/857.jpg'),\n",
       " PosixPath('data/Testing/0/858.jpg'),\n",
       " PosixPath('data/Testing/0/859.jpg'),\n",
       " PosixPath('data/Testing/0/860.jpg'),\n",
       " PosixPath('data/Testing/0/861.jpg'),\n",
       " PosixPath('data/Testing/0/862.jpg'),\n",
       " PosixPath('data/Testing/0/863.jpg'),\n",
       " PosixPath('data/Testing/0/864.jpg'),\n",
       " PosixPath('data/Testing/0/865.jpg'),\n",
       " PosixPath('data/Testing/0/866.jpg'),\n",
       " PosixPath('data/Testing/0/867.jpg'),\n",
       " PosixPath('data/Testing/0/868.jpg'),\n",
       " PosixPath('data/Testing/0/869.jpg'),\n",
       " PosixPath('data/Testing/0/870.jpg'),\n",
       " PosixPath('data/Testing/0/871.jpg'),\n",
       " PosixPath('data/Testing/0/872.jpg'),\n",
       " PosixPath('data/Testing/0/873.jpg'),\n",
       " PosixPath('data/Testing/0/874.jpg'),\n",
       " PosixPath('data/Testing/0/875.jpg'),\n",
       " PosixPath('data/Testing/0/876.jpg'),\n",
       " PosixPath('data/Testing/0/877.jpg'),\n",
       " PosixPath('data/Testing/0/878.jpg'),\n",
       " PosixPath('data/Testing/0/879.jpg'),\n",
       " PosixPath('data/Testing/0/880.jpg'),\n",
       " PosixPath('data/Testing/0/881.jpg'),\n",
       " PosixPath('data/Testing/0/882.jpg'),\n",
       " PosixPath('data/Testing/0/883.jpg'),\n",
       " PosixPath('data/Testing/0/884.jpg'),\n",
       " PosixPath('data/Testing/0/885.jpg'),\n",
       " PosixPath('data/Testing/0/886.jpg'),\n",
       " PosixPath('data/Testing/0/887.jpg'),\n",
       " PosixPath('data/Testing/0/888.jpg'),\n",
       " PosixPath('data/Testing/0/889.jpg'),\n",
       " PosixPath('data/Testing/0/890.jpg'),\n",
       " PosixPath('data/Testing/0/891.jpg'),\n",
       " PosixPath('data/Testing/0/892.jpg'),\n",
       " PosixPath('data/Testing/0/893.jpg'),\n",
       " PosixPath('data/Testing/0/894.jpg'),\n",
       " PosixPath('data/Testing/0/895.jpg'),\n",
       " PosixPath('data/Testing/0/896.jpg'),\n",
       " PosixPath('data/Testing/0/897.jpg'),\n",
       " PosixPath('data/Testing/0/898.jpg'),\n",
       " PosixPath('data/Testing/0/899.jpg'),\n",
       " PosixPath('data/Testing/0/900.jpg'),\n",
       " PosixPath('data/Testing/0/901.jpg'),\n",
       " PosixPath('data/Testing/0/902.jpg'),\n",
       " PosixPath('data/Testing/0/903.jpg'),\n",
       " PosixPath('data/Testing/0/904.jpg'),\n",
       " PosixPath('data/Testing/0/905.jpg'),\n",
       " PosixPath('data/Testing/0/906.jpg'),\n",
       " PosixPath('data/Testing/0/907.jpg'),\n",
       " PosixPath('data/Testing/0/908.jpg'),\n",
       " PosixPath('data/Testing/0/909.jpg'),\n",
       " PosixPath('data/Testing/0/910.jpg'),\n",
       " PosixPath('data/Testing/0/911.jpg'),\n",
       " PosixPath('data/Testing/0/912.jpg'),\n",
       " PosixPath('data/Testing/0/913.jpg'),\n",
       " PosixPath('data/Testing/0/914.jpg'),\n",
       " PosixPath('data/Testing/0/915.jpg'),\n",
       " PosixPath('data/Testing/0/916.jpg'),\n",
       " PosixPath('data/Testing/0/917.jpg'),\n",
       " PosixPath('data/Testing/0/918.jpg'),\n",
       " PosixPath('data/Testing/0/919.jpg'),\n",
       " PosixPath('data/Testing/0/920.jpg'),\n",
       " PosixPath('data/Testing/0/921.jpg'),\n",
       " PosixPath('data/Testing/0/922.jpg'),\n",
       " PosixPath('data/Testing/0/923.jpg'),\n",
       " PosixPath('data/Testing/0/924.jpg'),\n",
       " PosixPath('data/Testing/0/925.jpg'),\n",
       " PosixPath('data/Testing/0/926.jpg'),\n",
       " PosixPath('data/Testing/0/927.jpg'),\n",
       " PosixPath('data/Testing/0/928.jpg'),\n",
       " PosixPath('data/Testing/0/929.jpg'),\n",
       " PosixPath('data/Testing/0/930.jpg'),\n",
       " PosixPath('data/Testing/0/931.jpg'),\n",
       " PosixPath('data/Testing/0/932.jpg'),\n",
       " PosixPath('data/Testing/0/933.jpg'),\n",
       " PosixPath('data/Testing/0/934.jpg'),\n",
       " PosixPath('data/Testing/0/935.jpg'),\n",
       " PosixPath('data/Testing/0/936.jpg'),\n",
       " PosixPath('data/Testing/0/937.jpg'),\n",
       " PosixPath('data/Testing/0/938.jpg'),\n",
       " PosixPath('data/Testing/0/939.jpg'),\n",
       " PosixPath('data/Testing/0/940.jpg'),\n",
       " PosixPath('data/Testing/0/941.jpg'),\n",
       " PosixPath('data/Testing/0/942.jpg'),\n",
       " PosixPath('data/Testing/0/943.jpg'),\n",
       " PosixPath('data/Testing/0/944.jpg'),\n",
       " PosixPath('data/Testing/0/945.jpg'),\n",
       " PosixPath('data/Testing/0/946.jpg'),\n",
       " PosixPath('data/Testing/0/947.jpg'),\n",
       " PosixPath('data/Testing/0/948.jpg'),\n",
       " PosixPath('data/Testing/0/949.jpg'),\n",
       " PosixPath('data/Testing/0/950.jpg'),\n",
       " PosixPath('data/Testing/0/951.jpg'),\n",
       " PosixPath('data/Testing/0/952.jpg'),\n",
       " PosixPath('data/Testing/0/953.jpg'),\n",
       " PosixPath('data/Testing/0/954.jpg'),\n",
       " PosixPath('data/Testing/0/955.jpg'),\n",
       " PosixPath('data/Testing/0/956.jpg'),\n",
       " PosixPath('data/Testing/0/957.jpg'),\n",
       " PosixPath('data/Testing/0/958.jpg'),\n",
       " PosixPath('data/Testing/0/959.jpg'),\n",
       " PosixPath('data/Testing/0/960.jpg'),\n",
       " PosixPath('data/Testing/0/961.jpg'),\n",
       " PosixPath('data/Testing/0/962.jpg'),\n",
       " PosixPath('data/Testing/0/963.jpg'),\n",
       " PosixPath('data/Testing/0/964.jpg'),\n",
       " PosixPath('data/Testing/0/965.jpg'),\n",
       " PosixPath('data/Testing/0/966.jpg'),\n",
       " PosixPath('data/Testing/0/967.jpg'),\n",
       " PosixPath('data/Testing/0/968.jpg'),\n",
       " PosixPath('data/Testing/0/969.jpg'),\n",
       " PosixPath('data/Testing/0/970.jpg'),\n",
       " PosixPath('data/Testing/0/971.jpg'),\n",
       " PosixPath('data/Testing/0/972.jpg'),\n",
       " PosixPath('data/Testing/0/973.jpg'),\n",
       " PosixPath('data/Testing/0/974.jpg'),\n",
       " PosixPath('data/Testing/0/975.jpg'),\n",
       " PosixPath('data/Testing/0/976.jpg'),\n",
       " PosixPath('data/Testing/0/977.jpg'),\n",
       " PosixPath('data/Testing/0/978.jpg'),\n",
       " PosixPath('data/Testing/0/979.jpg'),\n",
       " PosixPath('data/Testing/0/980.jpg'),\n",
       " PosixPath('data/Testing/0/981.jpg'),\n",
       " PosixPath('data/Testing/0/982.jpg'),\n",
       " PosixPath('data/Testing/0/983.jpg'),\n",
       " PosixPath('data/Testing/0/984.jpg'),\n",
       " PosixPath('data/Testing/0/985.jpg'),\n",
       " PosixPath('data/Testing/0/986.jpg'),\n",
       " PosixPath('data/Testing/0/987.jpg'),\n",
       " PosixPath('data/Testing/0/988.jpg'),\n",
       " PosixPath('data/Testing/0/989.jpg'),\n",
       " PosixPath('data/Testing/0/990.jpg'),\n",
       " PosixPath('data/Testing/0/991.jpg'),\n",
       " PosixPath('data/Testing/0/992.jpg'),\n",
       " PosixPath('data/Testing/0/993.jpg'),\n",
       " PosixPath('data/Testing/0/994.jpg'),\n",
       " PosixPath('data/Testing/0/995.jpg'),\n",
       " PosixPath('data/Testing/0/996.jpg'),\n",
       " PosixPath('data/Testing/0/997.jpg'),\n",
       " PosixPath('data/Testing/0/998.jpg'),\n",
       " PosixPath('data/Testing/0/999.jpg'),\n",
       " ...]"
      ]
     },
     "execution_count": 228,
     "metadata": {},
     "output_type": "execute_result"
    }
   ],
   "source": [
    "l=[]\n",
    "for i in range(28000):\n",
    "    l.append(Path(f'data/Testing/0/{i}.jpg'))\n",
    "l"
   ]
  },
  {
   "cell_type": "code",
   "execution_count": 231,
   "id": "56b778be",
   "metadata": {},
   "outputs": [
    {
     "data": {
      "text/plain": [
       "28000"
      ]
     },
     "execution_count": 231,
     "metadata": {},
     "output_type": "execute_result"
    }
   ],
   "source": [
    "len(test_data_set_custom)"
   ]
  },
  {
   "cell_type": "code",
   "execution_count": 219,
   "id": "55f808b1",
   "metadata": {},
   "outputs": [],
   "source": [
    "def find_classes(directory='data/Testing') -> Tuple[List[str], Dict[str, int]]:\n",
    "    \"\"\"Finds the class folder names in a target directory.\"\"\"\n",
    "    # 1. Get the class names by scanning the target directory\n",
    "    classes = sorted(entry.name for entry in os.scandir(directory) if entry.is_dir())\n",
    "\n",
    "    # 2. Raise an error if class names could not be found\n",
    "    if not classes:\n",
    "        raise FileNotFoundError(f\"Couldn't find any classes in {directory}... please check file structure.\")\n",
    "\n",
    "    # 3. Create a dictionary of index labels (computers prefer numbers rather than strings as labels)\n",
    "    class_to_idx = {class_name: i for i, class_name in enumerate(classes)}\n",
    "    return classes, class_to_idx"
   ]
  },
  {
   "cell_type": "code",
   "execution_count": 222,
   "id": "d40da466",
   "metadata": {},
   "outputs": [
    {
     "data": {
      "text/plain": [
       "{'0': 0}"
      ]
     },
     "execution_count": 222,
     "metadata": {},
     "output_type": "execute_result"
    }
   ],
   "source": [
    "m,n=find_classes()\n",
    "n"
   ]
  },
  {
   "cell_type": "code",
   "execution_count": 218,
   "id": "d3e8ef30",
   "metadata": {},
   "outputs": [
    {
     "data": {
      "text/plain": [
       "['0']"
      ]
     },
     "execution_count": 218,
     "metadata": {},
     "output_type": "execute_result"
    }
   ],
   "source": [
    "classes = sorted(entry.name for entry in os.scandir('data/Testing') if entry.is_dir())\n",
    "classes"
   ]
  },
  {
   "cell_type": "code",
   "execution_count": 259,
   "id": "db72c6cf",
   "metadata": {},
   "outputs": [
    {
     "data": {
      "text/plain": [
       "(28, 28)"
      ]
     },
     "execution_count": 259,
     "metadata": {},
     "output_type": "execute_result"
    }
   ],
   "source": [
    "test_path=Path('data/Testing/0/0.jpg')\n",
    "image = Image.open(test_path)\n",
    "image_array = np.array(image)\n",
    "image_array.shape\n",
    "# plt.imshow(image)"
   ]
  },
  {
   "cell_type": "code",
   "execution_count": 255,
   "id": "d7ca5d1e",
   "metadata": {},
   "outputs": [
    {
     "data": {
      "image/png": "[encoded data removed]",
      "text/plain": [
       "<Figure size 640x480 with 1 Axes>"
      ]
     },
     "metadata": {},
     "output_type": "display_data"
    }
   ],
   "source": [
    "from PIL import Image\n",
    "import matplotlib.pyplot as plt\n",
    "\n",
    "test_path = 'data/Testing/0/0.jpg'\n",
    "\n",
    "# Load the image using PIL\n",
    "image = Image.open(test_path)\n",
    "\n",
    "# Display the image using Matplotlib\n",
    "plt.imshow(image)\n",
    "plt.axis('off')  # Turn off axis ticks and labels\n",
    "plt.show()\n"
   ]
  },
  {
   "cell_type": "code",
   "execution_count": 260,
   "id": "d7fd1a4f",
   "metadata": {},
   "outputs": [
    {
     "name": "stdout",
     "output_type": "stream",
     "text": [
      "(28, 28)\n"
     ]
    }
   ],
   "source": [
    "import numpy as np\n",
    "from PIL import Image\n",
    "\n",
    "# Load the image using PIL\n",
    "image = Image.open('data/Testing/0/0.jpg')\n",
    "\n",
    "# Convert the image to a NumPy array\n",
    "image_array = np.array(image)\n",
    "\n",
    "# Get the shape of the image array\n",
    "image_shape = image_array.shape\n",
    "\n",
    "print(image_shape)\n"
   ]
  },
  {
   "cell_type": "code",
   "execution_count": 262,
   "id": "639c16d3",
   "metadata": {},
   "outputs": [
    {
     "name": "stdout",
     "output_type": "stream",
     "text": [
      "(28, 28, 3)\n"
     ]
    },
    {
     "data": {
      "text/plain": [
       "<matplotlib.image.AxesImage at 0x29b7ac6a0>"
      ]
     },
     "execution_count": 262,
     "metadata": {},
     "output_type": "execute_result"
    },
    {
     "data": {
      "image/png": "[encoded data removed]",
      "text/plain": [
       "<Figure size 640x480 with 1 Axes>"
      ]
     },
     "metadata": {},
     "output_type": "display_data"
    }
   ],
   "source": [
    "import numpy as np\n",
    "from PIL import Image\n",
    "\n",
    "# Load the grayscale image using PIL\n",
    "image = Image.open('data/Testing/0/0.jpg').convert('L')\n",
    "\n",
    "# Convert the image to a NumPy array\n",
    "image_array = np.array(image)\n",
    "\n",
    "# Add a color channel to the grayscale image array\n",
    "image_array_rgb = np.expand_dims(image_array, axis=2)\n",
    "\n",
    "# Repeat the color channel three times to make it RGB\n",
    "image_array_rgb = np.repeat(image_array_rgb, 3, axis=2)\n",
    "\n",
    "# Get the shape of the RGB image array\n",
    "image_shape = image_array_rgb.shape\n",
    "\n",
    "print(image_shape)\n",
    "plt.imshow(image_array_rgb)\n"
   ]
  },
  {
   "cell_type": "code",
   "execution_count": 263,
   "id": "f5dea435",
   "metadata": {},
   "outputs": [],
   "source": [
    "transform = transforms.Compose([\n",
    "    transforms.Grayscale(),                           # Convert image to grayscale\n",
    "    transforms.Resize((28, 28)),                      # Resize images to a desired size\n",
    "    transforms.ToTensor(),                             # Convert images to tensors\n",
    "    transforms.Normalize((0.5,), (0.5,))               # Normalize the image data\n",
    "])"
   ]
  },
  {
   "cell_type": "code",
   "execution_count": null,
   "id": "d7065ab9",
   "metadata": {},
   "outputs": [],
   "source": []
  }
 ],
 "metadata": {
  "kernelspec": {
   "display_name": "Python 3.9 (tensorflow)",
   "language": "python",
   "name": "tensorflow"
  },
  "language_info": {
   "codemirror_mode": {
    "name": "ipython",
    "version": 3
   },
   "file_extension": ".py",
   "mimetype": "text/x-python",
   "name": "python",
   "nbconvert_exporter": "python",
   "pygments_lexer": "ipython3",
   "version": "3.9.13"
  },
  "toc": {
   "base_numbering": 1,
   "nav_menu": {},
   "number_sections": true,
   "sideBar": true,
   "skip_h1_title": false,
   "title_cell": "Table of Contents",
   "title_sidebar": "Contents",
   "toc_cell": false,
   "toc_position": {},
   "toc_section_display": true,
   "toc_window_display": false
  },
  "varInspector": {
   "cols": {
    "lenName": 16,
    "lenType": 16,
    "lenVar": 40
   },
   "kernels_config": {
    "python": {
     "delete_cmd_postfix": "",
     "delete_cmd_prefix": "del ",
     "library": "var_list.py",
     "varRefreshCmd": "print(var_dic_list())"
    },
    "r": {
     "delete_cmd_postfix": ") ",
     "delete_cmd_prefix": "rm(",
     "library": "var_list.r",
     "varRefreshCmd": "cat(var_dic_list()) "
    }
   },
   "types_to_exclude": [
    "module",
    "function",
    "builtin_function_or_method",
    "instance",
    "_Feature"
   ],
   "window_display": false
  }
 },
 "nbformat": 4,
 "nbformat_minor": 5
}
