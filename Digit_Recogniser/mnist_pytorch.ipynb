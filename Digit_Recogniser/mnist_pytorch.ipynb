{
 "cells": [
  {
   "cell_type": "code",
   "execution_count": 2,
   "id": "0f54f6cb",
   "metadata": {},
   "outputs": [],
   "source": [
    "import torch\n",
    "import numpy as np\n",
    "import matplotlib.pyplot as plt\n",
    "from sklearn.model_selection import train_test_split\n",
    "from torchvision import datasets, transforms\n",
    "from torch.utils.data import DataLoader\n",
    "from torchvision.datasets import DatasetFolder\n",
    "from PIL import Image"
   ]
  },
  {
   "cell_type": "code",
   "execution_count": 3,
   "id": "88d6e21d",
   "metadata": {},
   "outputs": [
    {
     "name": "stdout",
     "output_type": "stream",
     "text": [
      "2.0.1\n"
     ]
    }
   ],
   "source": [
    "print(torch.__version__)"
   ]
  },
  {
   "cell_type": "code",
   "execution_count": 4,
   "id": "e5fe8f68",
   "metadata": {},
   "outputs": [],
   "source": [
    "import os\n",
    "from pathlib import Path\n",
    "path=Path('data/train')"
   ]
  },
  {
   "cell_type": "code",
   "execution_count": 5,
   "id": "ede945eb",
   "metadata": {},
   "outputs": [
    {
     "data": {
      "text/plain": [
       "1313"
      ]
     },
     "execution_count": 5,
     "metadata": {},
     "output_type": "execute_result"
    }
   ],
   "source": [
    "image_folder_path = \"data/train\"\n",
    "transform = transforms.Compose([\n",
    "    transforms.Resize((28, 28)),  # Resize images to a desired size\n",
    "    transforms.ToTensor(),         # Convert images to tensors\n",
    "    transforms.Normalize((0.5,), (0.5,))  # Normalize the image data\n",
    "])\n",
    "train_dataset = datasets.ImageFolder(root=image_folder_path, transform=transform)\n",
    "train_data_loader = DataLoader(train_dataset, batch_size=32, shuffle=True)\n",
    "len(train_data_loader)"
   ]
  },
  {
   "cell_type": "code",
   "execution_count": 7,
   "id": "2cc010cc",
   "metadata": {},
   "outputs": [
    {
     "data": {
      "text/plain": [
       "[PosixPath('data/Testing/0/0.jpg'), PosixPath('data/Testing/0/1.jpg')]"
      ]
     },
     "execution_count": 7,
     "metadata": {},
     "output_type": "execute_result"
    }
   ],
   "source": [
    "l=[]\n",
    "for i in range(28000):\n",
    "    l.append(Path(f'data/Testing/0/{i}.jpg'))\n",
    "l[:2]"
   ]
  },
  {
   "cell_type": "code",
   "execution_count": 8,
   "id": "02d76ae1",
   "metadata": {},
   "outputs": [],
   "source": [
    "import os\n",
    "import pathlib\n",
    "import torch\n",
    "\n",
    "from PIL import Image\n",
    "from torch.utils.data import Dataset\n",
    "from torchvision import transforms\n",
    "from typing import Tuple, Dict, List"
   ]
  },
  {
   "cell_type": "code",
   "execution_count": 9,
   "id": "4fb517b4",
   "metadata": {},
   "outputs": [],
   "source": [
    "def find_classes(directory='data/Testing') -> Tuple[List[str], Dict[str, int]]:\n",
    "    \"\"\"Finds the class folder names in a target directory.\"\"\"\n",
    "    # 1. Get the class names by scanning the target directory\n",
    "    classes = sorted(entry.name for entry in os.scandir(directory) if entry.is_dir())\n",
    "\n",
    "    # 2. Raise an error if class names could not be found\n",
    "    if not classes:\n",
    "        raise FileNotFoundError(f\"Couldn't find any classes in {directory}... please check file structure.\")\n",
    "\n",
    "    # 3. Create a dictionary of index labels (computers prefer numbers rather than strings as labels)\n",
    "    class_to_idx = {class_name: i for i, class_name in enumerate(classes)}\n",
    "    return classes, class_to_idx"
   ]
  },
  {
   "cell_type": "code",
   "execution_count": 10,
   "id": "0117a994",
   "metadata": {},
   "outputs": [],
   "source": [
    "from torch.utils.data import Dataset\n",
    "\n",
    "class ImageFolderCustom(Dataset):\n",
    "  # 2. Initialize our custom dataset\n",
    "  def __init__(self, \n",
    "               targ_dir: list, \n",
    "               transform=None):\n",
    "    # 3. Create class attributes\n",
    "    # Get all of the image paths\n",
    "    self.paths = targ_dir\n",
    "    # Setup transform\n",
    "    self.transform = transform\n",
    "    # Create classes and class_to_idx attributes\n",
    "    self.classes, self.class_to_idx = find_classes()\n",
    "\n",
    "  # 4. Create a function to load images\n",
    "  def load_image(self, index: int) -> Image.Image:\n",
    "    \"Opens an image via a path and returns it with three color channels.\"\n",
    "    image_path = self.paths[index]\n",
    "    image = Image.open(image_path)\n",
    "\n",
    "    # Convert the image to RGB if it has a different mode\n",
    "    if image.mode != 'RGB':\n",
    "        image = image.convert('RGB')\n",
    "\n",
    "    return image\n",
    "\n",
    "  # 5. Overwrite __len__()\n",
    "  def __len__(self) -> int:\n",
    "    \"Returns the total number of samples.\"\n",
    "    return len(self.paths)\n",
    "  \n",
    "  # 6. Overwrite __getitem__() method to return a particular sample\n",
    "  def __getitem__(self, index: int) -> Tuple[torch.Tensor, int]:\n",
    "    \"Returns one sample of data, data and label (X, y).\"\n",
    "    img = self.load_image(index)\n",
    "    class_name = self.paths[index].parent.name # expects path in format: data_folder/class_name/image.jpg\n",
    "    class_idx = self.class_to_idx[class_name]\n",
    "\n",
    "    # Transform if necessary\n",
    "    if self.transform:\n",
    "      return self.transform(img), class_idx # return data, label (X, y)\n",
    "    else:\n",
    "      return img, class_idx # return untransformed image and label"
   ]
  },
  {
   "cell_type": "code",
   "execution_count": 11,
   "id": "f30a2fef",
   "metadata": {},
   "outputs": [
    {
     "data": {
      "text/plain": [
       "<__main__.ImageFolderCustom at 0x15ae4f8b0>"
      ]
     },
     "execution_count": 11,
     "metadata": {},
     "output_type": "execute_result"
    }
   ],
   "source": [
    "test_data_set_custom = ImageFolderCustom(targ_dir=l,transform=transform)\n",
    "test_data_set_custom"
   ]
  },
  {
   "cell_type": "code",
   "execution_count": 12,
   "id": "1c3dfe64",
   "metadata": {},
   "outputs": [
    {
     "data": {
      "text/plain": [
       "875"
      ]
     },
     "execution_count": 12,
     "metadata": {},
     "output_type": "execute_result"
    }
   ],
   "source": [
    "test_data_loader = DataLoader(test_data_set_custom, batch_size=32, shuffle=False)\n",
    "len(test_data_loader)"
   ]
  },
  {
   "cell_type": "code",
   "execution_count": 13,
   "id": "710134ab",
   "metadata": {},
   "outputs": [
    {
     "data": {
      "image/png": "[encoded data removed]",
      "text/plain": [
       "<Figure size 640x480 with 1 Axes>"
      ]
     },
     "metadata": {},
     "output_type": "display_data"
    }
   ],
   "source": [
    "fig = plt.figure()\n",
    "\n",
    "for images, labels in test_data_loader:\n",
    "    image = images[2]  # Extract the image from the batch (assuming batch size is 1)\n",
    "    label = labels[2]  # Extract the label from the batch (assuming batch size is 1)\n",
    "\n",
    "    # Convert the tensor image to a numpy array and transpose the dimensions\n",
    "    image = image.numpy().transpose((1, 2, 0))\n",
    "\n",
    "    # Reverse the normalization applied earlier\n",
    "    image = 0.5 * image + 0.5\n",
    "\n",
    "    # Plot the image\n",
    "    plt.imshow(image)\n",
    "    plt.title(\"Label: {}\".format(label))\n",
    "    plt.axis(\"off\")\n",
    "    plt.show()\n",
    "    break"
   ]
  },
  {
   "cell_type": "code",
   "execution_count": 55,
   "id": "fb5d5181",
   "metadata": {},
   "outputs": [
    {
     "data": {
      "text/plain": [
       "(28, 28, 3)"
      ]
     },
     "execution_count": 55,
     "metadata": {},
     "output_type": "execute_result"
    }
   ],
   "source": [
    "image.shape"
   ]
  },
  {
   "cell_type": "code",
   "execution_count": 14,
   "id": "a519d745",
   "metadata": {},
   "outputs": [
    {
     "data": {
      "text/plain": [
       "{'0': 0,\n",
       " '1': 1,\n",
       " '2': 2,\n",
       " '3': 3,\n",
       " '4': 4,\n",
       " '5': 5,\n",
       " '6': 6,\n",
       " '7': 7,\n",
       " '8': 8,\n",
       " '9': 9}"
      ]
     },
     "execution_count": 14,
     "metadata": {},
     "output_type": "execute_result"
    }
   ],
   "source": [
    "class_names=train_dataset.classes\n",
    "train_dataset.class_to_idx"
   ]
  },
  {
   "cell_type": "code",
   "execution_count": 15,
   "id": "10e108fb",
   "metadata": {},
   "outputs": [
    {
     "name": "stderr",
     "output_type": "stream",
     "text": [
      "Clipping input data to the valid range for imshow with RGB data ([0..1] for floats or [0..255] for integers).\n",
      "Clipping input data to the valid range for imshow with RGB data ([0..1] for floats or [0..255] for integers).\n",
      "Clipping input data to the valid range for imshow with RGB data ([0..1] for floats or [0..255] for integers).\n",
      "Clipping input data to the valid range for imshow with RGB data ([0..1] for floats or [0..255] for integers).\n",
      "Clipping input data to the valid range for imshow with RGB data ([0..1] for floats or [0..255] for integers).\n",
      "Clipping input data to the valid range for imshow with RGB data ([0..1] for floats or [0..255] for integers).\n",
      "Clipping input data to the valid range for imshow with RGB data ([0..1] for floats or [0..255] for integers).\n",
      "Clipping input data to the valid range for imshow with RGB data ([0..1] for floats or [0..255] for integers).\n",
      "Clipping input data to the valid range for imshow with RGB data ([0..1] for floats or [0..255] for integers).\n"
     ]
    },
    {
     "data": {
      "image/png": "[encoded data removed]",
      "text/plain": [
       "<Figure size 640x480 with 9 Axes>"
      ]
     },
     "metadata": {},
     "output_type": "display_data"
    }
   ],
   "source": [
    "# torch.manual_seed(42)\n",
    "def plt_gray(train_data=train_dataset,rows=3,cols=3):\n",
    "    for i in range(1,(rows*cols)+1):\n",
    "        ridx=torch.randint(0,high=len(train_data),size=[1]).item()\n",
    "        plt.subplot(rows,cols,i)\n",
    "        image,label=train_data[ridx]\n",
    "        plt.imshow(image.permute(1,2,0),cmap='gray')\n",
    "        plt.title(class_names[label])\n",
    "        plt.axis(False)\n",
    "plt_gray()"
   ]
  },
  {
   "cell_type": "code",
   "execution_count": 16,
   "id": "f0a6737d",
   "metadata": {},
   "outputs": [
    {
     "data": {
      "text/plain": [
       "torch.Size([3, 28, 28])"
      ]
     },
     "execution_count": 16,
     "metadata": {},
     "output_type": "execute_result"
    }
   ],
   "source": [
    "image,label=train_dataset[0]\n",
    "image.shape"
   ]
  },
  {
   "cell_type": "code",
   "execution_count": 17,
   "id": "0cec7bbf",
   "metadata": {},
   "outputs": [],
   "source": [
    "# Building simple non linear Conv cArchitecture\n",
    "from torch import nn"
   ]
  },
  {
   "cell_type": "code",
   "execution_count": 18,
   "id": "3365bce9",
   "metadata": {},
   "outputs": [],
   "source": [
    "class ClASSICMINISTCNN_V0(nn.Module):\n",
    "    def __init__(self,input_shape,hidden_units,output_shape):\n",
    "        super().__init__()\n",
    "        self.cnn_1 = nn.Sequential(\n",
    "                                    nn.Conv2d(\n",
    "                                                in_channels=input_shape,\n",
    "                                                out_channels=hidden_units,\n",
    "                                                kernel_size=3,\n",
    "                                                stride=1,\n",
    "                                                padding=1\n",
    "                                            ),\n",
    "                                    nn.ReLU(),\n",
    "                                    nn.Conv2d(\n",
    "                                                in_channels=hidden_units,\n",
    "                                                out_channels=hidden_units,\n",
    "                                                kernel_size=3,\n",
    "                                                stride=1,\n",
    "                                                padding=1\n",
    "                                            ),\n",
    "                                    nn.ReLU(),\n",
    "                                    nn.MaxPool2d(kernel_size=2,stride=2)\n",
    "                                ) \n",
    "        self.cnn_2=nn.Sequential(\n",
    "                                    nn.Conv2d(\n",
    "                                                in_channels=hidden_units,\n",
    "                                                out_channels=hidden_units,\n",
    "                                                kernel_size=3,\n",
    "                                                stride=1,\n",
    "                                                padding=1\n",
    "                                            ),\n",
    "                                    nn.ReLU(),\n",
    "                                    nn.Conv2d(\n",
    "                                                in_channels=hidden_units,\n",
    "                                                out_channels=hidden_units,\n",
    "                                                kernel_size=3,\n",
    "                                                stride=1,\n",
    "                                                padding=1\n",
    "                                            ),\n",
    "                                    nn.ReLU(),\n",
    "                                    nn.MaxPool2d(kernel_size=2,stride=2)\n",
    "                                )\n",
    "        self.classifier=nn.Sequential(\n",
    "                                    nn.Flatten(),\n",
    "                                    nn.Linear(\n",
    "                                                in_features=hidden_units*7*7,\n",
    "                                                out_features=output_shape\n",
    "                                            )\n",
    "                                    )\n",
    "    def forward(self,x):\n",
    "#         print(f'x:{x.shape}')\n",
    "        x= self.cnn_1(x)\n",
    "#         print(f'out of conv_1:{x.shape}')\n",
    "        x= self.cnn_2(x)\n",
    "#         print(f'out of conv_2:{x.shape}')\n",
    "        return self.classifier(x)"
   ]
  },
  {
   "cell_type": "code",
   "execution_count": 19,
   "id": "4b9ab4cb",
   "metadata": {},
   "outputs": [
    {
     "data": {
      "text/plain": [
       "ClASSICMINISTCNN_V0(\n",
       "  (cnn_1): Sequential(\n",
       "    (0): Conv2d(3, 10, kernel_size=(3, 3), stride=(1, 1), padding=(1, 1))\n",
       "    (1): ReLU()\n",
       "    (2): Conv2d(10, 10, kernel_size=(3, 3), stride=(1, 1), padding=(1, 1))\n",
       "    (3): ReLU()\n",
       "    (4): MaxPool2d(kernel_size=2, stride=2, padding=0, dilation=1, ceil_mode=False)\n",
       "  )\n",
       "  (cnn_2): Sequential(\n",
       "    (0): Conv2d(10, 10, kernel_size=(3, 3), stride=(1, 1), padding=(1, 1))\n",
       "    (1): ReLU()\n",
       "    (2): Conv2d(10, 10, kernel_size=(3, 3), stride=(1, 1), padding=(1, 1))\n",
       "    (3): ReLU()\n",
       "    (4): MaxPool2d(kernel_size=2, stride=2, padding=0, dilation=1, ceil_mode=False)\n",
       "  )\n",
       "  (classifier): Sequential(\n",
       "    (0): Flatten(start_dim=1, end_dim=-1)\n",
       "    (1): Linear(in_features=490, out_features=10, bias=True)\n",
       "  )\n",
       ")"
      ]
     },
     "execution_count": 19,
     "metadata": {},
     "output_type": "execute_result"
    }
   ],
   "source": [
    "model_cnn_1=ClASSICMINISTCNN_V0(input_shape=3,hidden_units=10,output_shape=10)\n",
    "model_cnn_1"
   ]
  },
  {
   "cell_type": "code",
   "execution_count": 20,
   "id": "7e76bda1",
   "metadata": {},
   "outputs": [
    {
     "data": {
      "text/plain": [
       "torch.Size([1, 3, 28, 28])"
      ]
     },
     "execution_count": 20,
     "metadata": {},
     "output_type": "execute_result"
    }
   ],
   "source": [
    "dummy_img=torch.rand([1,3,28,28])\n",
    "dummy_img.shape"
   ]
  },
  {
   "cell_type": "code",
   "execution_count": 21,
   "id": "2da7aae6",
   "metadata": {},
   "outputs": [
    {
     "data": {
      "text/plain": [
       "torch.Size([1, 10])"
      ]
     },
     "execution_count": 21,
     "metadata": {},
     "output_type": "execute_result"
    }
   ],
   "source": [
    "dummy_model=ClASSICMINISTCNN_V0(input_shape=3,hidden_units=10,output_shape=10)\n",
    "dummy_output=dummy_model(dummy_img)\n",
    "dummy_output.shape"
   ]
  },
  {
   "cell_type": "code",
   "execution_count": 22,
   "id": "51fcedff",
   "metadata": {},
   "outputs": [
    {
     "name": "stdout",
     "output_type": "stream",
     "text": [
      "Already exists skipping download\n",
      "Setup completed\n"
     ]
    }
   ],
   "source": [
    "import requests \n",
    "from pathlib import Path\n",
    "\n",
    "if Path('helper_functions.py').is_file():\n",
    "    print('Already exists skipping download')\n",
    "else:\n",
    "    print('Downloading the helper functions')\n",
    "    request=requests.get('https://raw.githubusercontent.com/mrdbourke/pytorch-deep-learning/main/going_modular/going_modular/engine.py')\n",
    "    with open('helper_functions.py','wb') as f:\n",
    "        f.write(request.content)\n",
    "print('Setup completed')"
   ]
  },
  {
   "cell_type": "code",
   "execution_count": 23,
   "id": "97b26ef3",
   "metadata": {},
   "outputs": [],
   "source": [
    "# Loss fn and optimer\n",
    "loss_fn=nn.CrossEntropyLoss()\n",
    "optimizer=torch.optim.SGD(params=model_cnn_1.parameters(),lr=0.1)"
   ]
  },
  {
   "cell_type": "code",
   "execution_count": 26,
   "id": "8523174d",
   "metadata": {},
   "outputs": [],
   "source": [
    "from helper_functions import *\n",
    "from tqdm.auto import tqdm"
   ]
  },
  {
   "cell_type": "code",
   "execution_count": 28,
   "id": "76fa4e71",
   "metadata": {},
   "outputs": [
    {
     "data": {
      "application/json": {
       "ascii": false,
       "bar_format": null,
       "colour": null,
       "elapsed": 0.02130889892578125,
       "initial": 0,
       "n": 0,
       "ncols": null,
       "nrows": 24,
       "postfix": null,
       "prefix": "",
       "rate": null,
       "total": 5,
       "unit": "it",
       "unit_divisor": 1000,
       "unit_scale": false
      },
      "application/vnd.jupyter.widget-view+json": {
       "model_id": "5fd67aaa550c4d62806f423e668120d4",
       "version_major": 2,
       "version_minor": 0
      },
      "text/plain": [
       "  0%|          | 0/5 [00:00<?, ?it/s]"
      ]
     },
     "metadata": {},
     "output_type": "display_data"
    },
    {
     "name": "stdout",
     "output_type": "stream",
     "text": [
      "Epoch: 1 | train_loss: 0.3018 | train_acc: 0.9003 | test_loss: 11.0075 | test_acc: 0.0979\n",
      "Epoch: 2 | train_loss: 0.0700 | train_acc: 0.9784 | test_loss: 16.6177 | test_acc: 0.0989\n",
      "Epoch: 3 | train_loss: 0.0544 | train_acc: 0.9830 | test_loss: 12.6106 | test_acc: 0.0990\n",
      "Epoch: 4 | train_loss: 0.0445 | train_acc: 0.9859 | test_loss: 17.1390 | test_acc: 0.0975\n",
      "Epoch: 5 | train_loss: 0.0407 | train_acc: 0.9869 | test_loss: 18.3140 | test_acc: 0.0981\n",
      "Total training time: 231.005 seconds\n"
     ]
    }
   ],
   "source": [
    "EPOCHS=5\n",
    "from timeit import default_timer as timer\n",
    "start_time = timer() \n",
    "\n",
    "# Train model_0\n",
    "model_cnn_1_results = train(model=model_cnn_1,\n",
    "                        train_dataloader=train_data_loader,\n",
    "                        test_dataloader=test_data_loader,\n",
    "                        optimizer=optimizer,\n",
    "                        loss_fn=loss_fn,\n",
    "                        epochs=EPOCHS,\n",
    "                           device='cpu')\n",
    "\n",
    "# End the timer and print out how long it took\n",
    "end_time = timer()\n",
    "print(f\"Total training time: {end_time-start_time:.3f} seconds\")"
   ]
  },
  {
   "cell_type": "code",
   "execution_count": 30,
   "id": "e9d2b0dd",
   "metadata": {},
   "outputs": [
    {
     "data": {
      "text/plain": [
       "{'train_loss': [0.3018259678814618,\n",
       "  0.06995558529032354,\n",
       "  0.05443237841298917,\n",
       "  0.04452628518689478,\n",
       "  0.04074075306492186],\n",
       " 'train_acc': [0.900252284843869,\n",
       "  0.9784129855293222,\n",
       "  0.9830302741812643,\n",
       "  0.9859339299314547,\n",
       "  0.9868621477532369],\n",
       " 'test_loss': [11.007537443978446,\n",
       "  16.61766008431571,\n",
       "  12.610556296212332,\n",
       "  17.1390349949428,\n",
       "  18.31397763497489],\n",
       " 'test_acc': [0.09789285714285714,\n",
       "  0.09892857142857144,\n",
       "  0.09903571428571428,\n",
       "  0.09753571428571428,\n",
       "  0.09814285714285714]}"
      ]
     },
     "execution_count": 30,
     "metadata": {},
     "output_type": "execute_result"
    }
   ],
   "source": [
    "model_cnn_1_results"
   ]
  },
  {
   "cell_type": "code",
   "execution_count": 31,
   "id": "e2199c14",
   "metadata": {},
   "outputs": [],
   "source": [
    "def plot_loss_curves(results: Dict[str, List[float]]):\n",
    "  \"\"\"Plots training curves of a results dictionary.\"\"\"\n",
    "  # Get the loss values of the results dictionary(training and test)\n",
    "  loss = results[\"train_loss\"]\n",
    "  test_loss = results[\"test_loss\"]\n",
    "\n",
    "  # Get the accuracy values of the results dictionary (training and test)\n",
    "  accuracy = results[\"train_acc\"]\n",
    "  test_accuracy = results[\"test_acc\"]\n",
    "\n",
    "  # Figure out how mnay epochs there were\n",
    "  epochs = range(len(results[\"train_loss\"]))\n",
    "\n",
    "  # Setup a plot\n",
    "  plt.figure(figsize=(15, 7))\n",
    "\n",
    "  # Plot the loss\n",
    "  plt.subplot(1, 2, 1)\n",
    "  plt.plot(epochs, loss, label=\"train_loss\")\n",
    "  plt.plot(epochs, test_loss, label=\"test_loss\")\n",
    "  plt.title(\"Loss\")\n",
    "  plt.xlabel(\"Epochs\")\n",
    "  plt.legend() \n",
    "\n",
    "  # Plot the accuracy\n",
    "  plt.subplot(1, 2, 2)\n",
    "  plt.plot(epochs, accuracy, label=\"train_accuracy\")\n",
    "  plt.plot(epochs, test_accuracy, label=\"test_accuracy\")\n",
    "  plt.title(\"Accuracy\")\n",
    "  plt.xlabel(\"Epochs\")\n",
    "  plt.legend();\n",
    "     "
   ]
  },
  {
   "cell_type": "code",
   "execution_count": 32,
   "id": "12dc52d4",
   "metadata": {},
   "outputs": [
    {
     "data": {
      "image/png": "[encoded data removed]",
      "text/plain": [
       "<Figure size 1500x700 with 2 Axes>"
      ]
     },
     "metadata": {},
     "output_type": "display_data"
    }
   ],
   "source": [
    "plot_loss_curves(model_cnn_1_results)"
   ]
  },
  {
   "cell_type": "code",
   "execution_count": 29,
   "id": "99508689",
   "metadata": {},
   "outputs": [],
   "source": [
    "#Building preds loop\n",
    "EPOCHS=1\n",
    "all_labes=[]\n",
    "for epoch in range(EPOCHS):\n",
    "    model_cnn_1.eval()\n",
    "    for batch, (X, y) in enumerate(test_data_loader):\n",
    "        with torch.inference_mode():\n",
    "            preds_logits=model_cnn_1(X)\n",
    "            pred_labels = preds_logits.argmax(dim=1)\n",
    "            lab=pred_labels.numpy()\n",
    "            all_labes=np.concatenate((all_labes, lab))\n",
    "#         print(batch)\n",
    "#         break"
   ]
  },
  {
   "cell_type": "code",
   "execution_count": 34,
   "id": "4ca6c2a3",
   "metadata": {},
   "outputs": [
    {
     "data": {
      "text/plain": [
       "array([2, 0, 9, ..., 3, 9, 2])"
      ]
     },
     "execution_count": 34,
     "metadata": {},
     "output_type": "execute_result"
    }
   ],
   "source": [
    "all_labes=all_labes.astype(int)\n",
    "all_labes"
   ]
  },
  {
   "cell_type": "code",
   "execution_count": 35,
   "id": "0b8b6ecf",
   "metadata": {},
   "outputs": [],
   "source": [
    "from pathlib import Path\n",
    "import pandas as pd\n",
    "import os\n",
    "compe='digit-recognizer'"
   ]
  },
  {
   "cell_type": "code",
   "execution_count": 36,
   "id": "9313b397",
   "metadata": {},
   "outputs": [],
   "source": [
    "import subprocess\n",
    "def make_sub(pred_y,sub_data_len=28000,name='default'):\n",
    "    df_submission = pd.DataFrame()\n",
    "    df_submission['ImageId']=range(1, sub_data_len+ 1)\n",
    "    df_submission['Label']=pred_y\n",
    "    df_submission.to_csv(f'submission-{name}.csv', index=False)\n",
    "    cmd =f'kaggle competitions submit -c {compe} -f submission-{name}.csv -m \"Message\"'\n",
    "    subprocess.run(cmd, shell=True)\n",
    "    print(f'succesully saved - {name}')"
   ]
  },
  {
   "cell_type": "code",
   "execution_count": 37,
   "id": "88390ac7",
   "metadata": {},
   "outputs": [
    {
     "name": "stdout",
     "output_type": "stream",
     "text": [
      "Warning: Looks like you're using an outdated API Version, please consider updating (server 1.5.15 / client 1.5.13)\n"
     ]
    },
    {
     "name": "stderr",
     "output_type": "stream",
     "text": [
      "100%|██████████| 208k/208k [00:00<00:00, 218kB/s]  \n"
     ]
    },
    {
     "name": "stdout",
     "output_type": "stream",
     "text": [
      "Successfully submitted to Digit Recognizersuccesully saved - pytorch_custom_dataset2\n"
     ]
    }
   ],
   "source": [
    "make_sub(all_labes,name='pytorch_custom_dataset2')"
   ]
  },
  {
   "cell_type": "code",
   "execution_count": 38,
   "id": "53f3dcc7",
   "metadata": {},
   "outputs": [
    {
     "data": {
      "text/plain": [
       "array([2, 0, 9, 9, 3, 7, 0, 3, 0, 3, 5, 7, 4, 0, 4, 3, 3, 1, 9, 0])"
      ]
     },
     "execution_count": 38,
     "metadata": {},
     "output_type": "execute_result"
    }
   ],
   "source": [
    "all_labes[:20]"
   ]
  },
  {
   "cell_type": "code",
   "execution_count": null,
   "id": "9392b958",
   "metadata": {},
   "outputs": [],
   "source": [
    "x"
   ]
  }
 ],
 "metadata": {
  "kernelspec": {
   "display_name": "Python 3.9 (tensorflow)",
   "language": "python",
   "name": "tensorflow"
  },
  "language_info": {
   "codemirror_mode": {
    "name": "ipython",
    "version": 3
   },
   "file_extension": ".py",
   "mimetype": "text/x-python",
   "name": "python",
   "nbconvert_exporter": "python",
   "pygments_lexer": "ipython3",
   "version": "3.9.13"
  },
  "toc": {
   "base_numbering": 1,
   "nav_menu": {},
   "number_sections": true,
   "sideBar": true,
   "skip_h1_title": false,
   "title_cell": "Table of Contents",
   "title_sidebar": "Contents",
   "toc_cell": false,
   "toc_position": {},
   "toc_section_display": true,
   "toc_window_display": false
  },
  "varInspector": {
   "cols": {
    "lenName": 16,
    "lenType": 16,
    "lenVar": 40
   },
   "kernels_config": {
    "python": {
     "delete_cmd_postfix": "",
     "delete_cmd_prefix": "del ",
     "library": "var_list.py",
     "varRefreshCmd": "print(var_dic_list())"
    },
    "r": {
     "delete_cmd_postfix": ") ",
     "delete_cmd_prefix": "rm(",
     "library": "var_list.r",
     "varRefreshCmd": "cat(var_dic_list()) "
    }
   },
   "types_to_exclude": [
    "module",
    "function",
    "builtin_function_or_method",
    "instance",
    "_Feature"
   ],
   "window_display": false
  }
 },
 "nbformat": 4,
 "nbformat_minor": 5
}
