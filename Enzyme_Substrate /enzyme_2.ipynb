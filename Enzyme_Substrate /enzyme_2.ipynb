{
 "cells": [
  {
   "cell_type": "code",
   "execution_count": 1,
   "id": "0cec703b",
   "metadata": {},
   "outputs": [],
   "source": [
    "import os\n",
    "from pathlib import Path\n",
    "compe='playground-series-s3e18'\n",
    "is_kaggle=os.environ.get('KAGGLE_KERNEL_RUNTYPE','')\n",
    "if is_kaggle:\n",
    "    path=Path(f'../input/{compe}')\n",
    "    ! pip install -Uqq fastai\n",
    "else:\n",
    "    import kaggle,zipfile\n",
    "    path=Path(f'{compe}')\n",
    "    if not path.exists():\n",
    "        kaggle.api.competition_download_cli(str(path))\n",
    "        zipfile.ZipFile(f'{compe}.zip').extractall(path)"
   ]
  },
  {
   "cell_type": "code",
   "execution_count": 2,
   "id": "9206478f",
   "metadata": {},
   "outputs": [],
   "source": [
    "from fastai.tabular.all import *\n",
    "from sklearn.metrics import roc_auc_score\n",
    "\n",
    "pd.options.display.float_format = '{:.2f}'.format\n",
    "set_seed(42)"
   ]
  },
  {
   "cell_type": "code",
   "execution_count": 3,
   "id": "e46ab96e",
   "metadata": {},
   "outputs": [
    {
     "data": {
      "text/plain": [
       "(14838, 9893)"
      ]
     },
     "execution_count": 3,
     "metadata": {},
     "output_type": "execute_result"
    }
   ],
   "source": [
    "df=pd.read_csv(f'{compe}/train.csv')\n",
    "df_test=pd.read_csv(f'{compe}/test.csv')\n",
    "df_sub=pd.read_csv(f'{compe}/sample_submission.csv')\n",
    "len(df),len(df_test)"
   ]
  },
  {
   "cell_type": "code",
   "execution_count": 61,
   "id": "6e81b68b",
   "metadata": {},
   "outputs": [
    {
     "name": "stdout",
     "output_type": "stream",
     "text": [
      "(1039, 198) (1039, 514) (1039, 514)\n",
      "(258, 37)\n"
     ]
    },
    {
     "data": {
      "text/html": [
       "<div>\n",
       "<style scoped>\n",
       "    .dataframe tbody tr th:only-of-type {\n",
       "        vertical-align: middle;\n",
       "    }\n",
       "\n",
       "    .dataframe tbody tr th {\n",
       "        vertical-align: top;\n",
       "    }\n",
       "\n",
       "    .dataframe thead th {\n",
       "        text-align: right;\n",
       "    }\n",
       "</style>\n",
       "<table border=\"1\" class=\"dataframe\">\n",
       "  <thead>\n",
       "    <tr style=\"text-align: right;\">\n",
       "      <th></th>\n",
       "      <th>BertzCT</th>\n",
       "      <th>Chi1</th>\n",
       "      <th>Chi1n</th>\n",
       "      <th>Chi1v</th>\n",
       "      <th>Chi2n</th>\n",
       "      <th>Chi2v</th>\n",
       "      <th>Chi3v</th>\n",
       "      <th>Chi4n</th>\n",
       "      <th>EState_VSA1</th>\n",
       "      <th>EState_VSA2</th>\n",
       "      <th>...</th>\n",
       "      <th>SlogP_VSA3</th>\n",
       "      <th>VSA_EState9</th>\n",
       "      <th>fr_COO</th>\n",
       "      <th>fr_COO2</th>\n",
       "      <th>EC1</th>\n",
       "      <th>EC2</th>\n",
       "      <th>EC3</th>\n",
       "      <th>EC4</th>\n",
       "      <th>EC5</th>\n",
       "      <th>EC6</th>\n",
       "    </tr>\n",
       "  </thead>\n",
       "  <tbody>\n",
       "    <tr>\n",
       "      <th>8</th>\n",
       "      <td>0.00</td>\n",
       "      <td>1.00</td>\n",
       "      <td>0.20</td>\n",
       "      <td>0.20</td>\n",
       "      <td>0.00</td>\n",
       "      <td>0.00</td>\n",
       "      <td>0.00</td>\n",
       "      <td>0.00</td>\n",
       "      <td>0.00</td>\n",
       "      <td>0.00</td>\n",
       "      <td>...</td>\n",
       "      <td>0.00</td>\n",
       "      <td>12.00</td>\n",
       "      <td>0</td>\n",
       "      <td>0</td>\n",
       "      <td>1</td>\n",
       "      <td>0</td>\n",
       "      <td>0</td>\n",
       "      <td>1</td>\n",
       "      <td>0</td>\n",
       "      <td>0</td>\n",
       "    </tr>\n",
       "  </tbody>\n",
       "</table>\n",
       "<p>1 rows × 37 columns</p>\n",
       "</div>"
      ],
      "text/plain": [
       "   BertzCT  Chi1  Chi1n  Chi1v  Chi2n  Chi2v  Chi3v  Chi4n  EState_VSA1  \\\n",
       "8     0.00  1.00   0.20   0.20   0.00   0.00   0.00   0.00         0.00   \n",
       "\n",
       "   EState_VSA2  ...  SlogP_VSA3  VSA_EState9  fr_COO  fr_COO2  EC1  EC2  EC3  \\\n",
       "8         0.00  ...        0.00        12.00       0        0    1    0    0   \n",
       "\n",
       "   EC4  EC5  EC6  \n",
       "8    1    0    0  \n",
       "\n",
       "[1 rows x 37 columns]"
      ]
     },
     "execution_count": 61,
     "metadata": {},
     "output_type": "execute_result"
    }
   ],
   "source": [
    "df2=pd.read_csv('ec-mixed-class/mixed_desc.csv')\n",
    "df3=pd.read_csv('ec-mixed-class/mixed_ecfp.csv')\n",
    "df4=pd.read_csv('ec-mixed-class/mixed_fcfp.csv')\n",
    "print(df2.shape,df3.shape,df4.shape)\n",
    "\n",
    "df2['EC1'] = [int(f[0])  for f in df2['EC1_EC2_EC3_EC4_EC5_EC6']]\n",
    "df2['EC2'] = [int(f[2])  for f in df2['EC1_EC2_EC3_EC4_EC5_EC6']]\n",
    "df2['EC3'] = [int(f[4])  for f in df2['EC1_EC2_EC3_EC4_EC5_EC6']]\n",
    "df2['EC4'] = [int(f[6])  for f in df2['EC1_EC2_EC3_EC4_EC5_EC6']]\n",
    "df2['EC5'] = [int(f[8])  for f in df2['EC1_EC2_EC3_EC4_EC5_EC6']]\n",
    "df2['EC6'] = [int(f[10])  for f in df2['EC1_EC2_EC3_EC4_EC5_EC6']]\n",
    "df2=df2[(df2['EC2']==0)]\n",
    "features=df.columns.to_list()\n",
    "features.remove('id')\n",
    "# print(features)\n",
    "df_2=df2[features]\n",
    "print(df_2.shape)\n",
    "df_2.head(1)"
   ]
  },
  {
   "cell_type": "code",
   "execution_count": 59,
   "id": "0719e74f",
   "metadata": {},
   "outputs": [
    {
     "data": {
      "text/plain": [
       "258"
      ]
     },
     "execution_count": 59,
     "metadata": {},
     "output_type": "execute_result"
    }
   ],
   "source": [
    "len(df2[(df2['EC2']==0)])"
   ]
  },
  {
   "cell_type": "code",
   "execution_count": 63,
   "id": "149b2094",
   "metadata": {},
   "outputs": [
    {
     "data": {
      "text/plain": [
       "1    11855\n",
       "0     3241\n",
       "Name: EC2, dtype: int64"
      ]
     },
     "execution_count": 63,
     "metadata": {},
     "output_type": "execute_result"
    }
   ],
   "source": [
    "df_2.EC2.value_counts()\n",
    "df_all=pd.concat([df,df_2],axis=0).reset_index(drop=True)\n",
    "df_all.EC2.value_counts()"
   ]
  },
  {
   "cell_type": "code",
   "execution_count": 110,
   "id": "e0baecb0",
   "metadata": {},
   "outputs": [],
   "source": [
    "# str_values = df_2['EC1_EC2_EC3_EC4_EC5_EC6'].str.split('_', expand=True)\n",
    "# # # len(str_values.values)\n",
    "# df_2['EC']=df_2['EC1_EC2_EC3_EC4_EC5_EC6']\n"
   ]
  },
  {
   "cell_type": "code",
   "execution_count": 114,
   "id": "cc0a4fd8",
   "metadata": {},
   "outputs": [],
   "source": [
    "# str_values=df_2['EC1_EC2_EC3_EC4_EC5_EC6'].str.split('_', expand=True)[1]\n",
    "\n",
    "# # df_2.head(10)\n",
    "# # len(df_2)\n",
    "# df_2['EC1']=str_values.values\n",
    "# df_2.head(10)"
   ]
  },
  {
   "cell_type": "code",
   "execution_count": 21,
   "id": "36b2b524",
   "metadata": {},
   "outputs": [
    {
     "data": {
      "text/plain": [
       "['BertzCT',\n",
       " 'Chi1',\n",
       " 'Chi1n',\n",
       " 'Chi1v',\n",
       " 'Chi2n',\n",
       " 'Chi2v',\n",
       " 'Chi3v',\n",
       " 'Chi4n',\n",
       " 'EState_VSA1',\n",
       " 'EState_VSA2',\n",
       " 'ExactMolWt',\n",
       " 'FpDensityMorgan1',\n",
       " 'FpDensityMorgan2',\n",
       " 'FpDensityMorgan3',\n",
       " 'HallKierAlpha',\n",
       " 'HeavyAtomMolWt',\n",
       " 'Kappa3',\n",
       " 'MaxAbsEStateIndex',\n",
       " 'MinEStateIndex',\n",
       " 'NumHeteroatoms',\n",
       " 'PEOE_VSA10',\n",
       " 'PEOE_VSA14',\n",
       " 'PEOE_VSA6',\n",
       " 'PEOE_VSA7',\n",
       " 'PEOE_VSA8',\n",
       " 'SMR_VSA10',\n",
       " 'SMR_VSA5',\n",
       " 'SlogP_VSA3',\n",
       " 'VSA_EState9',\n",
       " 'fr_COO',\n",
       " 'fr_COO2',\n",
       " 'EC1_EC2_EC3_EC4_EC5_EC6']"
      ]
     },
     "execution_count": 21,
     "metadata": {},
     "output_type": "execute_result"
    }
   ],
   "source": [
    "features=X.columns.to_list()\n",
    "features.append('EC1_EC2_EC3_EC4_EC5_EC6')\n",
    "features"
   ]
  },
  {
   "cell_type": "code",
   "execution_count": 9,
   "id": "69f4bd17",
   "metadata": {},
   "outputs": [
    {
     "name": "stdout",
     "output_type": "stream",
     "text": [
      "(14838, 38)\n"
     ]
    },
    {
     "data": {
      "text/html": [
       "<div>\n",
       "<style scoped>\n",
       "    .dataframe tbody tr th:only-of-type {\n",
       "        vertical-align: middle;\n",
       "    }\n",
       "\n",
       "    .dataframe tbody tr th {\n",
       "        vertical-align: top;\n",
       "    }\n",
       "\n",
       "    .dataframe thead th {\n",
       "        text-align: right;\n",
       "    }\n",
       "</style>\n",
       "<table border=\"1\" class=\"dataframe\">\n",
       "  <thead>\n",
       "    <tr style=\"text-align: right;\">\n",
       "      <th></th>\n",
       "      <th>id</th>\n",
       "      <th>BertzCT</th>\n",
       "      <th>Chi1</th>\n",
       "      <th>Chi1n</th>\n",
       "      <th>Chi1v</th>\n",
       "      <th>Chi2n</th>\n",
       "      <th>Chi2v</th>\n",
       "      <th>Chi3v</th>\n",
       "      <th>Chi4n</th>\n",
       "      <th>EState_VSA1</th>\n",
       "      <th>...</th>\n",
       "      <th>SlogP_VSA3</th>\n",
       "      <th>VSA_EState9</th>\n",
       "      <th>fr_COO</th>\n",
       "      <th>fr_COO2</th>\n",
       "      <th>EC1</th>\n",
       "      <th>EC2</th>\n",
       "      <th>EC3</th>\n",
       "      <th>EC4</th>\n",
       "      <th>EC5</th>\n",
       "      <th>EC6</th>\n",
       "    </tr>\n",
       "  </thead>\n",
       "  <tbody>\n",
       "    <tr>\n",
       "      <th>0</th>\n",
       "      <td>0</td>\n",
       "      <td>323.39</td>\n",
       "      <td>9.88</td>\n",
       "      <td>5.88</td>\n",
       "      <td>5.88</td>\n",
       "      <td>4.30</td>\n",
       "      <td>4.30</td>\n",
       "      <td>2.75</td>\n",
       "      <td>1.75</td>\n",
       "      <td>0.00</td>\n",
       "      <td>...</td>\n",
       "      <td>4.79</td>\n",
       "      <td>35.53</td>\n",
       "      <td>0</td>\n",
       "      <td>0</td>\n",
       "      <td>1</td>\n",
       "      <td>1</td>\n",
       "      <td>0</td>\n",
       "      <td>0</td>\n",
       "      <td>0</td>\n",
       "      <td>0</td>\n",
       "    </tr>\n",
       "    <tr>\n",
       "      <th>1</th>\n",
       "      <td>1</td>\n",
       "      <td>273.72</td>\n",
       "      <td>7.26</td>\n",
       "      <td>4.44</td>\n",
       "      <td>5.83</td>\n",
       "      <td>3.29</td>\n",
       "      <td>4.49</td>\n",
       "      <td>2.20</td>\n",
       "      <td>1.29</td>\n",
       "      <td>45.14</td>\n",
       "      <td>...</td>\n",
       "      <td>13.83</td>\n",
       "      <td>44.71</td>\n",
       "      <td>0</td>\n",
       "      <td>0</td>\n",
       "      <td>0</td>\n",
       "      <td>1</td>\n",
       "      <td>1</td>\n",
       "      <td>0</td>\n",
       "      <td>0</td>\n",
       "      <td>0</td>\n",
       "    </tr>\n",
       "    <tr>\n",
       "      <th>2</th>\n",
       "      <td>2</td>\n",
       "      <td>521.64</td>\n",
       "      <td>10.91</td>\n",
       "      <td>8.53</td>\n",
       "      <td>11.05</td>\n",
       "      <td>6.67</td>\n",
       "      <td>9.52</td>\n",
       "      <td>5.82</td>\n",
       "      <td>1.77</td>\n",
       "      <td>15.65</td>\n",
       "      <td>...</td>\n",
       "      <td>17.96</td>\n",
       "      <td>45.66</td>\n",
       "      <td>0</td>\n",
       "      <td>0</td>\n",
       "      <td>1</td>\n",
       "      <td>1</td>\n",
       "      <td>0</td>\n",
       "      <td>0</td>\n",
       "      <td>1</td>\n",
       "      <td>0</td>\n",
       "    </tr>\n",
       "  </tbody>\n",
       "</table>\n",
       "<p>3 rows × 38 columns</p>\n",
       "</div>"
      ],
      "text/plain": [
       "   id  BertzCT  Chi1  Chi1n  Chi1v  Chi2n  Chi2v  Chi3v  Chi4n  EState_VSA1  \\\n",
       "0   0   323.39  9.88   5.88   5.88   4.30   4.30   2.75   1.75         0.00   \n",
       "1   1   273.72  7.26   4.44   5.83   3.29   4.49   2.20   1.29        45.14   \n",
       "2   2   521.64 10.91   8.53  11.05   6.67   9.52   5.82   1.77        15.65   \n",
       "\n",
       "   ...  SlogP_VSA3  VSA_EState9  fr_COO  fr_COO2  EC1  EC2  EC3  EC4  EC5  EC6  \n",
       "0  ...        4.79        35.53       0        0    1    1    0    0    0    0  \n",
       "1  ...       13.83        44.71       0        0    0    1    1    0    0    0  \n",
       "2  ...       17.96        45.66       0        0    1    1    0    0    1    0  \n",
       "\n",
       "[3 rows x 38 columns]"
      ]
     },
     "execution_count": 9,
     "metadata": {},
     "output_type": "execute_result"
    }
   ],
   "source": [
    "print(df.shape)\n",
    "df.head(3)"
   ]
  },
  {
   "cell_type": "code",
   "execution_count": 10,
   "id": "557c1ad7",
   "metadata": {},
   "outputs": [
    {
     "name": "stdout",
     "output_type": "stream",
     "text": [
      "(9893, 32)\n"
     ]
    },
    {
     "data": {
      "text/html": [
       "<div>\n",
       "<style scoped>\n",
       "    .dataframe tbody tr th:only-of-type {\n",
       "        vertical-align: middle;\n",
       "    }\n",
       "\n",
       "    .dataframe tbody tr th {\n",
       "        vertical-align: top;\n",
       "    }\n",
       "\n",
       "    .dataframe thead th {\n",
       "        text-align: right;\n",
       "    }\n",
       "</style>\n",
       "<table border=\"1\" class=\"dataframe\">\n",
       "  <thead>\n",
       "    <tr style=\"text-align: right;\">\n",
       "      <th></th>\n",
       "      <th>id</th>\n",
       "      <th>BertzCT</th>\n",
       "      <th>Chi1</th>\n",
       "      <th>Chi1n</th>\n",
       "      <th>Chi1v</th>\n",
       "      <th>Chi2n</th>\n",
       "      <th>Chi2v</th>\n",
       "      <th>Chi3v</th>\n",
       "      <th>Chi4n</th>\n",
       "      <th>EState_VSA1</th>\n",
       "      <th>...</th>\n",
       "      <th>PEOE_VSA14</th>\n",
       "      <th>PEOE_VSA6</th>\n",
       "      <th>PEOE_VSA7</th>\n",
       "      <th>PEOE_VSA8</th>\n",
       "      <th>SMR_VSA10</th>\n",
       "      <th>SMR_VSA5</th>\n",
       "      <th>SlogP_VSA3</th>\n",
       "      <th>VSA_EState9</th>\n",
       "      <th>fr_COO</th>\n",
       "      <th>fr_COO2</th>\n",
       "    </tr>\n",
       "  </thead>\n",
       "  <tbody>\n",
       "    <tr>\n",
       "      <th>0</th>\n",
       "      <td>14838</td>\n",
       "      <td>344.63</td>\n",
       "      <td>7.28</td>\n",
       "      <td>4.47</td>\n",
       "      <td>5.83</td>\n",
       "      <td>3.41</td>\n",
       "      <td>4.65</td>\n",
       "      <td>2.10</td>\n",
       "      <td>1.12</td>\n",
       "      <td>49.46</td>\n",
       "      <td>...</td>\n",
       "      <td>13.51</td>\n",
       "      <td>0.00</td>\n",
       "      <td>0.00</td>\n",
       "      <td>0.00</td>\n",
       "      <td>26.81</td>\n",
       "      <td>24.54</td>\n",
       "      <td>4.79</td>\n",
       "      <td>47.30</td>\n",
       "      <td>1</td>\n",
       "      <td>1</td>\n",
       "    </tr>\n",
       "    <tr>\n",
       "      <th>1</th>\n",
       "      <td>14839</td>\n",
       "      <td>1432.41</td>\n",
       "      <td>10.66</td>\n",
       "      <td>7.08</td>\n",
       "      <td>8.07</td>\n",
       "      <td>5.30</td>\n",
       "      <td>5.30</td>\n",
       "      <td>3.92</td>\n",
       "      <td>2.57</td>\n",
       "      <td>0.00</td>\n",
       "      <td>...</td>\n",
       "      <td>0.00</td>\n",
       "      <td>34.95</td>\n",
       "      <td>98.32</td>\n",
       "      <td>9.61</td>\n",
       "      <td>0.00</td>\n",
       "      <td>53.38</td>\n",
       "      <td>0.00</td>\n",
       "      <td>43.17</td>\n",
       "      <td>0</td>\n",
       "      <td>0</td>\n",
       "    </tr>\n",
       "  </tbody>\n",
       "</table>\n",
       "<p>2 rows × 32 columns</p>\n",
       "</div>"
      ],
      "text/plain": [
       "      id  BertzCT  Chi1  Chi1n  Chi1v  Chi2n  Chi2v  Chi3v  Chi4n  \\\n",
       "0  14838   344.63  7.28   4.47   5.83   3.41   4.65   2.10   1.12   \n",
       "1  14839  1432.41 10.66   7.08   8.07   5.30   5.30   3.92   2.57   \n",
       "\n",
       "   EState_VSA1  ...  PEOE_VSA14  PEOE_VSA6  PEOE_VSA7  PEOE_VSA8  SMR_VSA10  \\\n",
       "0        49.46  ...       13.51       0.00       0.00       0.00      26.81   \n",
       "1         0.00  ...        0.00      34.95      98.32       9.61       0.00   \n",
       "\n",
       "   SMR_VSA5  SlogP_VSA3  VSA_EState9  fr_COO  fr_COO2  \n",
       "0     24.54        4.79        47.30       1        1  \n",
       "1     53.38        0.00        43.17       0        0  \n",
       "\n",
       "[2 rows x 32 columns]"
      ]
     },
     "execution_count": 10,
     "metadata": {},
     "output_type": "execute_result"
    }
   ],
   "source": [
    "print(df_test.shape)\n",
    "df_test.head(2)"
   ]
  },
  {
   "cell_type": "code",
   "execution_count": 11,
   "id": "01dc1930",
   "metadata": {},
   "outputs": [
    {
     "data": {
      "text/html": [
       "<div>\n",
       "<style scoped>\n",
       "    .dataframe tbody tr th:only-of-type {\n",
       "        vertical-align: middle;\n",
       "    }\n",
       "\n",
       "    .dataframe tbody tr th {\n",
       "        vertical-align: top;\n",
       "    }\n",
       "\n",
       "    .dataframe thead th {\n",
       "        text-align: right;\n",
       "    }\n",
       "</style>\n",
       "<table border=\"1\" class=\"dataframe\">\n",
       "  <thead>\n",
       "    <tr style=\"text-align: right;\">\n",
       "      <th></th>\n",
       "      <th>id</th>\n",
       "      <th>EC1</th>\n",
       "      <th>EC2</th>\n",
       "    </tr>\n",
       "  </thead>\n",
       "  <tbody>\n",
       "    <tr>\n",
       "      <th>0</th>\n",
       "      <td>14838</td>\n",
       "      <td>0.50</td>\n",
       "      <td>0.50</td>\n",
       "    </tr>\n",
       "    <tr>\n",
       "      <th>1</th>\n",
       "      <td>14839</td>\n",
       "      <td>0.50</td>\n",
       "      <td>0.50</td>\n",
       "    </tr>\n",
       "    <tr>\n",
       "      <th>2</th>\n",
       "      <td>14840</td>\n",
       "      <td>0.50</td>\n",
       "      <td>0.50</td>\n",
       "    </tr>\n",
       "  </tbody>\n",
       "</table>\n",
       "</div>"
      ],
      "text/plain": [
       "      id  EC1  EC2\n",
       "0  14838 0.50 0.50\n",
       "1  14839 0.50 0.50\n",
       "2  14840 0.50 0.50"
      ]
     },
     "execution_count": 11,
     "metadata": {},
     "output_type": "execute_result"
    }
   ],
   "source": [
    "df_sub.head(3)"
   ]
  },
  {
   "cell_type": "markdown",
   "id": "b34f1de5",
   "metadata": {},
   "source": [
    "### EDA\n",
    "> Target = EC1,EC2"
   ]
  },
  {
   "cell_type": "code",
   "execution_count": 12,
   "id": "9807c11b",
   "metadata": {
    "scrolled": true
   },
   "outputs": [
    {
     "data": {
      "text/plain": [
       "(0, 0)"
      ]
     },
     "execution_count": 12,
     "metadata": {},
     "output_type": "execute_result"
    }
   ],
   "source": [
    "#checking empty values\n",
    "df.isna().sum().sum(),df_test.isna().sum().sum() # no empty values !!"
   ]
  },
  {
   "cell_type": "code",
   "execution_count": 13,
   "id": "0ce587f9",
   "metadata": {},
   "outputs": [
    {
     "data": {
      "text/html": [
       "<div>\n",
       "<style scoped>\n",
       "    .dataframe tbody tr th:only-of-type {\n",
       "        vertical-align: middle;\n",
       "    }\n",
       "\n",
       "    .dataframe tbody tr th {\n",
       "        vertical-align: top;\n",
       "    }\n",
       "\n",
       "    .dataframe thead th {\n",
       "        text-align: right;\n",
       "    }\n",
       "</style>\n",
       "<table border=\"1\" class=\"dataframe\">\n",
       "  <thead>\n",
       "    <tr style=\"text-align: right;\">\n",
       "      <th></th>\n",
       "      <th>id</th>\n",
       "      <th>BertzCT</th>\n",
       "      <th>Chi1</th>\n",
       "      <th>Chi1n</th>\n",
       "      <th>Chi1v</th>\n",
       "      <th>Chi2n</th>\n",
       "      <th>Chi2v</th>\n",
       "      <th>Chi3v</th>\n",
       "      <th>Chi4n</th>\n",
       "      <th>EState_VSA1</th>\n",
       "      <th>...</th>\n",
       "      <th>SlogP_VSA3</th>\n",
       "      <th>VSA_EState9</th>\n",
       "      <th>fr_COO</th>\n",
       "      <th>fr_COO2</th>\n",
       "      <th>EC1</th>\n",
       "      <th>EC2</th>\n",
       "      <th>EC3</th>\n",
       "      <th>EC4</th>\n",
       "      <th>EC5</th>\n",
       "      <th>EC6</th>\n",
       "    </tr>\n",
       "  </thead>\n",
       "  <tbody>\n",
       "    <tr>\n",
       "      <th>count</th>\n",
       "      <td>14838.00</td>\n",
       "      <td>14838.00</td>\n",
       "      <td>14838.00</td>\n",
       "      <td>14838.00</td>\n",
       "      <td>14838.00</td>\n",
       "      <td>14838.00</td>\n",
       "      <td>14838.00</td>\n",
       "      <td>14838.00</td>\n",
       "      <td>14838.00</td>\n",
       "      <td>14838.00</td>\n",
       "      <td>...</td>\n",
       "      <td>14838.00</td>\n",
       "      <td>14838.00</td>\n",
       "      <td>14838.00</td>\n",
       "      <td>14838.00</td>\n",
       "      <td>14838.00</td>\n",
       "      <td>14838.00</td>\n",
       "      <td>14838.00</td>\n",
       "      <td>14838.00</td>\n",
       "      <td>14838.00</td>\n",
       "      <td>14838.00</td>\n",
       "    </tr>\n",
       "    <tr>\n",
       "      <th>mean</th>\n",
       "      <td>7418.50</td>\n",
       "      <td>515.15</td>\n",
       "      <td>9.14</td>\n",
       "      <td>5.85</td>\n",
       "      <td>6.74</td>\n",
       "      <td>4.43</td>\n",
       "      <td>5.25</td>\n",
       "      <td>3.42</td>\n",
       "      <td>1.77</td>\n",
       "      <td>29.20</td>\n",
       "      <td>...</td>\n",
       "      <td>13.64</td>\n",
       "      <td>49.31</td>\n",
       "      <td>0.46</td>\n",
       "      <td>0.46</td>\n",
       "      <td>0.67</td>\n",
       "      <td>0.80</td>\n",
       "      <td>0.31</td>\n",
       "      <td>0.28</td>\n",
       "      <td>0.14</td>\n",
       "      <td>0.15</td>\n",
       "    </tr>\n",
       "    <tr>\n",
       "      <th>std</th>\n",
       "      <td>4283.51</td>\n",
       "      <td>542.46</td>\n",
       "      <td>6.82</td>\n",
       "      <td>4.65</td>\n",
       "      <td>5.87</td>\n",
       "      <td>3.76</td>\n",
       "      <td>4.93</td>\n",
       "      <td>3.44</td>\n",
       "      <td>1.87</td>\n",
       "      <td>31.73</td>\n",
       "      <td>...</td>\n",
       "      <td>14.60</td>\n",
       "      <td>29.17</td>\n",
       "      <td>0.67</td>\n",
       "      <td>0.67</td>\n",
       "      <td>0.47</td>\n",
       "      <td>0.40</td>\n",
       "      <td>0.46</td>\n",
       "      <td>0.45</td>\n",
       "      <td>0.35</td>\n",
       "      <td>0.36</td>\n",
       "    </tr>\n",
       "    <tr>\n",
       "      <th>min</th>\n",
       "      <td>0.00</td>\n",
       "      <td>0.00</td>\n",
       "      <td>0.00</td>\n",
       "      <td>0.00</td>\n",
       "      <td>0.00</td>\n",
       "      <td>0.00</td>\n",
       "      <td>0.00</td>\n",
       "      <td>0.00</td>\n",
       "      <td>0.00</td>\n",
       "      <td>0.00</td>\n",
       "      <td>...</td>\n",
       "      <td>0.00</td>\n",
       "      <td>-5.43</td>\n",
       "      <td>0.00</td>\n",
       "      <td>0.00</td>\n",
       "      <td>0.00</td>\n",
       "      <td>0.00</td>\n",
       "      <td>0.00</td>\n",
       "      <td>0.00</td>\n",
       "      <td>0.00</td>\n",
       "      <td>0.00</td>\n",
       "    </tr>\n",
       "    <tr>\n",
       "      <th>25%</th>\n",
       "      <td>3709.25</td>\n",
       "      <td>149.10</td>\n",
       "      <td>4.68</td>\n",
       "      <td>2.84</td>\n",
       "      <td>2.93</td>\n",
       "      <td>1.95</td>\n",
       "      <td>2.03</td>\n",
       "      <td>1.16</td>\n",
       "      <td>0.50</td>\n",
       "      <td>5.97</td>\n",
       "      <td>...</td>\n",
       "      <td>4.79</td>\n",
       "      <td>30.00</td>\n",
       "      <td>0.00</td>\n",
       "      <td>0.00</td>\n",
       "      <td>0.00</td>\n",
       "      <td>1.00</td>\n",
       "      <td>0.00</td>\n",
       "      <td>0.00</td>\n",
       "      <td>0.00</td>\n",
       "      <td>0.00</td>\n",
       "    </tr>\n",
       "    <tr>\n",
       "      <th>50%</th>\n",
       "      <td>7418.50</td>\n",
       "      <td>290.99</td>\n",
       "      <td>6.49</td>\n",
       "      <td>4.05</td>\n",
       "      <td>4.39</td>\n",
       "      <td>2.97</td>\n",
       "      <td>3.24</td>\n",
       "      <td>1.95</td>\n",
       "      <td>1.07</td>\n",
       "      <td>17.35</td>\n",
       "      <td>...</td>\n",
       "      <td>9.59</td>\n",
       "      <td>41.67</td>\n",
       "      <td>0.00</td>\n",
       "      <td>0.00</td>\n",
       "      <td>1.00</td>\n",
       "      <td>1.00</td>\n",
       "      <td>0.00</td>\n",
       "      <td>0.00</td>\n",
       "      <td>0.00</td>\n",
       "      <td>0.00</td>\n",
       "    </tr>\n",
       "    <tr>\n",
       "      <th>75%</th>\n",
       "      <td>11127.75</td>\n",
       "      <td>652.65</td>\n",
       "      <td>11.17</td>\n",
       "      <td>7.49</td>\n",
       "      <td>8.53</td>\n",
       "      <td>5.79</td>\n",
       "      <td>6.61</td>\n",
       "      <td>4.50</td>\n",
       "      <td>2.53</td>\n",
       "      <td>44.88</td>\n",
       "      <td>...</td>\n",
       "      <td>14.91</td>\n",
       "      <td>56.09</td>\n",
       "      <td>1.00</td>\n",
       "      <td>1.00</td>\n",
       "      <td>1.00</td>\n",
       "      <td>1.00</td>\n",
       "      <td>1.00</td>\n",
       "      <td>1.00</td>\n",
       "      <td>0.00</td>\n",
       "      <td>0.00</td>\n",
       "    </tr>\n",
       "    <tr>\n",
       "      <th>max</th>\n",
       "      <td>14837.00</td>\n",
       "      <td>4069.96</td>\n",
       "      <td>69.55</td>\n",
       "      <td>50.17</td>\n",
       "      <td>53.43</td>\n",
       "      <td>32.20</td>\n",
       "      <td>34.58</td>\n",
       "      <td>22.88</td>\n",
       "      <td>16.07</td>\n",
       "      <td>363.71</td>\n",
       "      <td>...</td>\n",
       "      <td>115.41</td>\n",
       "      <td>384.45</td>\n",
       "      <td>8.00</td>\n",
       "      <td>8.00</td>\n",
       "      <td>1.00</td>\n",
       "      <td>1.00</td>\n",
       "      <td>1.00</td>\n",
       "      <td>1.00</td>\n",
       "      <td>1.00</td>\n",
       "      <td>1.00</td>\n",
       "    </tr>\n",
       "  </tbody>\n",
       "</table>\n",
       "<p>8 rows × 38 columns</p>\n",
       "</div>"
      ],
      "text/plain": [
       "            id  BertzCT     Chi1    Chi1n    Chi1v    Chi2n    Chi2v    Chi3v  \\\n",
       "count 14838.00 14838.00 14838.00 14838.00 14838.00 14838.00 14838.00 14838.00   \n",
       "mean   7418.50   515.15     9.14     5.85     6.74     4.43     5.25     3.42   \n",
       "std    4283.51   542.46     6.82     4.65     5.87     3.76     4.93     3.44   \n",
       "min       0.00     0.00     0.00     0.00     0.00     0.00     0.00     0.00   \n",
       "25%    3709.25   149.10     4.68     2.84     2.93     1.95     2.03     1.16   \n",
       "50%    7418.50   290.99     6.49     4.05     4.39     2.97     3.24     1.95   \n",
       "75%   11127.75   652.65    11.17     7.49     8.53     5.79     6.61     4.50   \n",
       "max   14837.00  4069.96    69.55    50.17    53.43    32.20    34.58    22.88   \n",
       "\n",
       "         Chi4n  EState_VSA1  ...  SlogP_VSA3  VSA_EState9   fr_COO  fr_COO2  \\\n",
       "count 14838.00     14838.00  ...    14838.00     14838.00 14838.00 14838.00   \n",
       "mean      1.77        29.20  ...       13.64        49.31     0.46     0.46   \n",
       "std       1.87        31.73  ...       14.60        29.17     0.67     0.67   \n",
       "min       0.00         0.00  ...        0.00        -5.43     0.00     0.00   \n",
       "25%       0.50         5.97  ...        4.79        30.00     0.00     0.00   \n",
       "50%       1.07        17.35  ...        9.59        41.67     0.00     0.00   \n",
       "75%       2.53        44.88  ...       14.91        56.09     1.00     1.00   \n",
       "max      16.07       363.71  ...      115.41       384.45     8.00     8.00   \n",
       "\n",
       "           EC1      EC2      EC3      EC4      EC5      EC6  \n",
       "count 14838.00 14838.00 14838.00 14838.00 14838.00 14838.00  \n",
       "mean      0.67     0.80     0.31     0.28     0.14     0.15  \n",
       "std       0.47     0.40     0.46     0.45     0.35     0.36  \n",
       "min       0.00     0.00     0.00     0.00     0.00     0.00  \n",
       "25%       0.00     1.00     0.00     0.00     0.00     0.00  \n",
       "50%       1.00     1.00     0.00     0.00     0.00     0.00  \n",
       "75%       1.00     1.00     1.00     1.00     0.00     0.00  \n",
       "max       1.00     1.00     1.00     1.00     1.00     1.00  \n",
       "\n",
       "[8 rows x 38 columns]"
      ]
     },
     "execution_count": 13,
     "metadata": {},
     "output_type": "execute_result"
    }
   ],
   "source": [
    "df.describe()"
   ]
  },
  {
   "cell_type": "code",
   "execution_count": 64,
   "id": "46c66f77",
   "metadata": {},
   "outputs": [
    {
     "data": {
      "image/png": "[encoded data removed]",
      "text/plain": [
       "<Figure size 1000x600 with 2 Axes>"
      ]
     },
     "metadata": {},
     "output_type": "display_data"
    },
    {
     "name": "stdout",
     "output_type": "stream",
     "text": [
      "Shape is  (15096, 38)\n"
     ]
    }
   ],
   "source": [
    "import matplotlib.pyplot as plt\n",
    "fig,axs=plt.subplots(1,2,figsize=(10,6))\n",
    "value_counts = df_all['EC1'].value_counts()\n",
    "value_counts2 = df_all['EC2'].value_counts()\n",
    "\n",
    "axs[0].pie(value_counts, labels=value_counts.index, autopct='%1.2f%%')\n",
    "axs[1].pie(value_counts, labels=value_counts2.index, autopct='%1.2f%%')\n",
    "\n",
    "axs[0].set_title('Distribution EC1: In mixed DFs')\n",
    "axs[1].set_title('Distribution EC2: In mixed DFs')\n",
    "\n",
    "plt.show()\n",
    "print('Shape is ',df_all.shape)"
   ]
  },
  {
   "cell_type": "code",
   "execution_count": 65,
   "id": "c2d52c34",
   "metadata": {},
   "outputs": [
    {
     "data": {
      "image/png": "[encoded data removed]",
      "text/plain": [
       "<Figure size 1000x600 with 2 Axes>"
      ]
     },
     "metadata": {},
     "output_type": "display_data"
    },
    {
     "name": "stdout",
     "output_type": "stream",
     "text": [
      "Shape is  (14838, 38)\n"
     ]
    }
   ],
   "source": [
    "import matplotlib.pyplot as plt\n",
    "fig,axs=plt.subplots(1,2,figsize=(10,6))\n",
    "value_counts = df['EC1'].value_counts()\n",
    "value_counts2 = df['EC2'].value_counts()\n",
    "\n",
    "axs[0].pie(value_counts, labels=value_counts.index, autopct='%1.2f%%')\n",
    "axs[1].pie(value_counts, labels=value_counts2.index, autopct='%1.2f%%')\n",
    "\n",
    "axs[0].set_title('Distribution of Binary Values of EC1')\n",
    "axs[1].set_title('Distribution of Binary Values of EC2')\n",
    "\n",
    "plt.show()\n",
    "print('Shape is ',df.shape)"
   ]
  },
  {
   "cell_type": "code",
   "execution_count": 15,
   "id": "0dd8c7c5",
   "metadata": {
    "scrolled": false
   },
   "outputs": [
    {
     "data": {
      "image/png": "[encoded data removed]",
      "text/plain": [
       "<Figure size 1000x800 with 4 Axes>"
      ]
     },
     "metadata": {},
     "output_type": "display_data"
    }
   ],
   "source": [
    "import seaborn as sns\n",
    "fig,axs=plt.subplots(2,2,figsize=(10,8))\n",
    "sns.countplot(data=df,x=df['EC2'],hue=df['EC1'],ax=axs[1][1])\n",
    "sns.countplot(data=df,x=df['EC3'],hue=df['EC1'],ax=axs[0][1])\n",
    "sns.countplot(data=df,x=df['EC3'],hue=df['EC2'],ax=axs[0][0])\n",
    "\n",
    "sns.boxplot(data=df,x=df['EC1'],y=df['NumHeteroatoms'],ax=axs[1][0])\n",
    "plt.show()"
   ]
  },
  {
   "cell_type": "code",
   "execution_count": 48,
   "id": "40b9c4c0",
   "metadata": {},
   "outputs": [
    {
     "name": "stdout",
     "output_type": "stream",
     "text": [
      "1   0.67\n",
      "0   0.33\n",
      "Name: EC1, dtype: float64\n"
     ]
    }
   ],
   "source": [
    "# Calculate class proportions\n",
    "target_proportions = df['EC1'].value_counts() / len(df)\n",
    "print(target_proportions)"
   ]
  },
  {
   "cell_type": "code",
   "execution_count": 46,
   "id": "ccc8a0e9",
   "metadata": {},
   "outputs": [
    {
     "name": "stdout",
     "output_type": "stream",
     "text": [
      "1   0.85\n",
      "0   0.22\n",
      "Name: EC2, dtype: float64\n"
     ]
    }
   ],
   "source": [
    "# Calculate class proportions\n",
    "target_proportions = df_all['EC2'].value_counts() / len(df)\n",
    "print(target_proportions)"
   ]
  },
  {
   "cell_type": "code",
   "execution_count": null,
   "id": "f9b2ce7a",
   "metadata": {},
   "outputs": [],
   "source": []
  },
  {
   "cell_type": "markdown",
   "id": "8e3c62f0",
   "metadata": {},
   "source": [
    "#### Feature Engineering"
   ]
  },
  {
   "cell_type": "code",
   "execution_count": 66,
   "id": "bc15a25f",
   "metadata": {},
   "outputs": [],
   "source": [
    "def X_Y(df1):\n",
    "    X=df1.drop(['id','EC1','EC2','EC3','EC4','EC5','EC6'],axis=1)\n",
    "    Y=df1['EC1'].astype(str)+df1['EC2'].astype(str)\n",
    "    return X,Y\n",
    "X,Y=X_Y(df_all.copy())"
   ]
  },
  {
   "cell_type": "code",
   "execution_count": 13,
   "id": "0a06af25",
   "metadata": {},
   "outputs": [],
   "source": [
    "# def X_Y1_Y2(df1):\n",
    "#     X=df1.drop(['id','EC1','EC2','EC3','EC4','EC5','EC6'],axis=1)\n",
    "#     Y1=df1['EC1']\n",
    "#     Y2=df1['EC2']\n",
    "#     return X,Y1,Y2\n",
    "# X,Y1,Y2=X_Y1_Y2(df.copy())"
   ]
  },
  {
   "cell_type": "code",
   "execution_count": null,
   "id": "d5cafcdb",
   "metadata": {},
   "outputs": [],
   "source": []
  },
  {
   "cell_type": "code",
   "execution_count": null,
   "id": "15399fdb",
   "metadata": {},
   "outputs": [],
   "source": []
  },
  {
   "cell_type": "code",
   "execution_count": null,
   "id": "85c0297a",
   "metadata": {},
   "outputs": [],
   "source": []
  },
  {
   "cell_type": "markdown",
   "id": "928e9729",
   "metadata": {},
   "source": [
    "#### Making Building ready"
   ]
  },
  {
   "cell_type": "code",
   "execution_count": 68,
   "id": "412b5520",
   "metadata": {},
   "outputs": [
    {
     "name": "stdout",
     "output_type": "stream",
     "text": [
      "['BertzCT', 'Chi1', 'Chi1n', 'Chi1v', 'Chi2n', 'Chi2v', 'Chi3v', 'Chi4n', 'EState_VSA1', 'EState_VSA2', 'ExactMolWt', 'FpDensityMorgan1', 'FpDensityMorgan2', 'FpDensityMorgan3', 'HallKierAlpha', 'HeavyAtomMolWt', 'Kappa3', 'MaxAbsEStateIndex', 'MinEStateIndex', 'NumHeteroatoms', 'PEOE_VSA10', 'PEOE_VSA14', 'PEOE_VSA6', 'PEOE_VSA7', 'PEOE_VSA8', 'SMR_VSA10', 'SMR_VSA5', 'SlogP_VSA3', 'VSA_EState9', 'fr_COO', 'fr_COO2'] []\n"
     ]
    }
   ],
   "source": [
    "cat_cols=[]\n",
    "num_cols=X.columns.to_list()\n",
    "num_cols=[x for x in num_cols if x not in cat_cols]\n",
    "print(num_cols,cat_cols)"
   ]
  },
  {
   "cell_type": "code",
   "execution_count": 69,
   "id": "d07ab7d5",
   "metadata": {},
   "outputs": [],
   "source": [
    "from sklearn.model_selection import train_test_split\n",
    "\n",
    "X_train, X_test, y_train, y_test = train_test_split(X, Y, test_size=0.2, random_state=42)"
   ]
  },
  {
   "cell_type": "code",
   "execution_count": 70,
   "id": "192c1e90",
   "metadata": {},
   "outputs": [
    {
     "data": {
      "text/plain": [
       "(12076, 3020)"
      ]
     },
     "execution_count": 70,
     "metadata": {},
     "output_type": "execute_result"
    }
   ],
   "source": [
    "len(X_train),len(X_test)"
   ]
  },
  {
   "cell_type": "code",
   "execution_count": 71,
   "id": "07bfb0d8",
   "metadata": {},
   "outputs": [],
   "source": [
    "from sklearn.preprocessing import LabelEncoder\n",
    "\n",
    "label_encoder = LabelEncoder()\n",
    "\n",
    "y_train_encoded = label_encoder.fit_transform(y_train)\n"
   ]
  },
  {
   "cell_type": "code",
   "execution_count": 72,
   "id": "2427186b",
   "metadata": {},
   "outputs": [
    {
     "data": {
      "text/plain": [
       "array([3, 1, 3, 1, 3, 0, 1, 1, 2, 3])"
      ]
     },
     "execution_count": 72,
     "metadata": {},
     "output_type": "execute_result"
    }
   ],
   "source": [
    "y_train_encoded[:10]"
   ]
  },
  {
   "cell_type": "code",
   "execution_count": 73,
   "id": "a1bbdb61",
   "metadata": {},
   "outputs": [
    {
     "name": "stdout",
     "output_type": "stream",
     "text": [
      "['00' '01' '10' '11']\n"
     ]
    }
   ],
   "source": [
    "print(label_encoder.classes_)"
   ]
  },
  {
   "cell_type": "code",
   "execution_count": 74,
   "id": "0d8e7191",
   "metadata": {},
   "outputs": [],
   "source": [
    "# from sklearn.preprocessing import OneHotEncoder\n",
    "# onehot_encoder = OneHotEncoder(sparse=False)\n",
    "# y_train_reshaped = y_train.values.reshape(-1, 1)\n",
    "# y_train_encoded = onehot_encoder.fit_transform(y_train_reshaped)\n",
    "# y_train_encoded"
   ]
  },
  {
   "cell_type": "code",
   "execution_count": null,
   "id": "69381dda",
   "metadata": {},
   "outputs": [],
   "source": []
  },
  {
   "cell_type": "markdown",
   "id": "2ae72920",
   "metadata": {},
   "source": [
    "### Model Building"
   ]
  },
  {
   "cell_type": "code",
   "execution_count": 75,
   "id": "3aae9ed2",
   "metadata": {},
   "outputs": [
    {
     "data": {
      "text/html": [
       "<style>#sk-container-id-1 {color: black;background-color: white;}#sk-container-id-1 pre{padding: 0;}#sk-container-id-1 div.sk-toggleable {background-color: white;}#sk-container-id-1 label.sk-toggleable__label {cursor: pointer;display: block;width: 100%;margin-bottom: 0;padding: 0.3em;box-sizing: border-box;text-align: center;}#sk-container-id-1 label.sk-toggleable__label-arrow:before {content: \"▸\";float: left;margin-right: 0.25em;color: #696969;}#sk-container-id-1 label.sk-toggleable__label-arrow:hover:before {color: black;}#sk-container-id-1 div.sk-estimator:hover label.sk-toggleable__label-arrow:before {color: black;}#sk-container-id-1 div.sk-toggleable__content {max-height: 0;max-width: 0;overflow: hidden;text-align: left;background-color: #f0f8ff;}#sk-container-id-1 div.sk-toggleable__content pre {margin: 0.2em;color: black;border-radius: 0.25em;background-color: #f0f8ff;}#sk-container-id-1 input.sk-toggleable__control:checked~div.sk-toggleable__content {max-height: 200px;max-width: 100%;overflow: auto;}#sk-container-id-1 input.sk-toggleable__control:checked~label.sk-toggleable__label-arrow:before {content: \"▾\";}#sk-container-id-1 div.sk-estimator input.sk-toggleable__control:checked~label.sk-toggleable__label {background-color: #d4ebff;}#sk-container-id-1 div.sk-label input.sk-toggleable__control:checked~label.sk-toggleable__label {background-color: #d4ebff;}#sk-container-id-1 input.sk-hidden--visually {border: 0;clip: rect(1px 1px 1px 1px);clip: rect(1px, 1px, 1px, 1px);height: 1px;margin: -1px;overflow: hidden;padding: 0;position: absolute;width: 1px;}#sk-container-id-1 div.sk-estimator {font-family: monospace;background-color: #f0f8ff;border: 1px dotted black;border-radius: 0.25em;box-sizing: border-box;margin-bottom: 0.5em;}#sk-container-id-1 div.sk-estimator:hover {background-color: #d4ebff;}#sk-container-id-1 div.sk-parallel-item::after {content: \"\";width: 100%;border-bottom: 1px solid gray;flex-grow: 1;}#sk-container-id-1 div.sk-label:hover label.sk-toggleable__label {background-color: #d4ebff;}#sk-container-id-1 div.sk-serial::before {content: \"\";position: absolute;border-left: 1px solid gray;box-sizing: border-box;top: 0;bottom: 0;left: 50%;z-index: 0;}#sk-container-id-1 div.sk-serial {display: flex;flex-direction: column;align-items: center;background-color: white;padding-right: 0.2em;padding-left: 0.2em;position: relative;}#sk-container-id-1 div.sk-item {position: relative;z-index: 1;}#sk-container-id-1 div.sk-parallel {display: flex;align-items: stretch;justify-content: center;background-color: white;position: relative;}#sk-container-id-1 div.sk-item::before, #sk-container-id-1 div.sk-parallel-item::before {content: \"\";position: absolute;border-left: 1px solid gray;box-sizing: border-box;top: 0;bottom: 0;left: 50%;z-index: -1;}#sk-container-id-1 div.sk-parallel-item {display: flex;flex-direction: column;z-index: 1;position: relative;background-color: white;}#sk-container-id-1 div.sk-parallel-item:first-child::after {align-self: flex-end;width: 50%;}#sk-container-id-1 div.sk-parallel-item:last-child::after {align-self: flex-start;width: 50%;}#sk-container-id-1 div.sk-parallel-item:only-child::after {width: 0;}#sk-container-id-1 div.sk-dashed-wrapped {border: 1px dashed gray;margin: 0 0.4em 0.5em 0.4em;box-sizing: border-box;padding-bottom: 0.4em;background-color: white;}#sk-container-id-1 div.sk-label label {font-family: monospace;font-weight: bold;display: inline-block;line-height: 1.2em;}#sk-container-id-1 div.sk-label-container {text-align: center;}#sk-container-id-1 div.sk-container {/* jupyter's `normalize.less` sets `[hidden] { display: none; }` but bootstrap.min.css set `[hidden] { display: none !important; }` so we also need the `!important` here to be able to override the default hidden behavior on the sphinx rendered scikit-learn.org. See: https://github.com/scikit-learn/scikit-learn/issues/21755 */display: inline-block !important;position: relative;}#sk-container-id-1 div.sk-text-repr-fallback {display: none;}</style><div id=\"sk-container-id-1\" class=\"sk-top-container\"><div class=\"sk-text-repr-fallback\"><pre>Pipeline(steps=[(&#x27;columntransformer&#x27;,\n",
       "                 ColumnTransformer(transformers=[(&#x27;categorical&#x27;,\n",
       "                                                  Pipeline(steps=[(&#x27;imputation_constant&#x27;,\n",
       "                                                                   SimpleImputer(fill_value=&#x27;missing&#x27;,\n",
       "                                                                                 strategy=&#x27;most_frequent&#x27;)),\n",
       "                                                                  (&#x27;onehot&#x27;,\n",
       "                                                                   OneHotEncoder(handle_unknown=&#x27;ignore&#x27;))]),\n",
       "                                                  []),\n",
       "                                                 (&#x27;numerical&#x27;,\n",
       "                                                  Pipeline(steps=[(&#x27;imputation_mean&#x27;,\n",
       "                                                                   SimpleImputer()),\n",
       "                                                                  (&#x27;scaler&#x27;,\n",
       "                                                                   StandardScaler())]),\n",
       "                                                  [&#x27;BertzCT&#x27;, &#x27;Ch...\n",
       "                               feature_types=None, gamma=None, gpu_id=None,\n",
       "                               grow_policy=None, importance_type=None,\n",
       "                               interaction_constraints=None, learning_rate=None,\n",
       "                               max_bin=None, max_cat_threshold=None,\n",
       "                               max_cat_to_onehot=None, max_delta_step=None,\n",
       "                               max_depth=None, max_leaves=None,\n",
       "                               min_child_weight=None, missing=nan,\n",
       "                               monotone_constraints=None, n_estimators=100,\n",
       "                               n_jobs=None, num_parallel_tree=None,\n",
       "                               predictor=None, random_state=None, ...))])</pre><b>In a Jupyter environment, please rerun this cell to show the HTML representation or trust the notebook. <br />On GitHub, the HTML representation is unable to render, please try loading this page with nbviewer.org.</b></div><div class=\"sk-container\" hidden><div class=\"sk-item sk-dashed-wrapped\"><div class=\"sk-label-container\"><div class=\"sk-label sk-toggleable\"><input class=\"sk-toggleable__control sk-hidden--visually\" id=\"sk-estimator-id-1\" type=\"checkbox\" ><label for=\"sk-estimator-id-1\" class=\"sk-toggleable__label sk-toggleable__label-arrow\">Pipeline</label><div class=\"sk-toggleable__content\"><pre>Pipeline(steps=[(&#x27;columntransformer&#x27;,\n",
       "                 ColumnTransformer(transformers=[(&#x27;categorical&#x27;,\n",
       "                                                  Pipeline(steps=[(&#x27;imputation_constant&#x27;,\n",
       "                                                                   SimpleImputer(fill_value=&#x27;missing&#x27;,\n",
       "                                                                                 strategy=&#x27;most_frequent&#x27;)),\n",
       "                                                                  (&#x27;onehot&#x27;,\n",
       "                                                                   OneHotEncoder(handle_unknown=&#x27;ignore&#x27;))]),\n",
       "                                                  []),\n",
       "                                                 (&#x27;numerical&#x27;,\n",
       "                                                  Pipeline(steps=[(&#x27;imputation_mean&#x27;,\n",
       "                                                                   SimpleImputer()),\n",
       "                                                                  (&#x27;scaler&#x27;,\n",
       "                                                                   StandardScaler())]),\n",
       "                                                  [&#x27;BertzCT&#x27;, &#x27;Ch...\n",
       "                               feature_types=None, gamma=None, gpu_id=None,\n",
       "                               grow_policy=None, importance_type=None,\n",
       "                               interaction_constraints=None, learning_rate=None,\n",
       "                               max_bin=None, max_cat_threshold=None,\n",
       "                               max_cat_to_onehot=None, max_delta_step=None,\n",
       "                               max_depth=None, max_leaves=None,\n",
       "                               min_child_weight=None, missing=nan,\n",
       "                               monotone_constraints=None, n_estimators=100,\n",
       "                               n_jobs=None, num_parallel_tree=None,\n",
       "                               predictor=None, random_state=None, ...))])</pre></div></div></div><div class=\"sk-serial\"><div class=\"sk-item sk-dashed-wrapped\"><div class=\"sk-label-container\"><div class=\"sk-label sk-toggleable\"><input class=\"sk-toggleable__control sk-hidden--visually\" id=\"sk-estimator-id-2\" type=\"checkbox\" ><label for=\"sk-estimator-id-2\" class=\"sk-toggleable__label sk-toggleable__label-arrow\">columntransformer: ColumnTransformer</label><div class=\"sk-toggleable__content\"><pre>ColumnTransformer(transformers=[(&#x27;categorical&#x27;,\n",
       "                                 Pipeline(steps=[(&#x27;imputation_constant&#x27;,\n",
       "                                                  SimpleImputer(fill_value=&#x27;missing&#x27;,\n",
       "                                                                strategy=&#x27;most_frequent&#x27;)),\n",
       "                                                 (&#x27;onehot&#x27;,\n",
       "                                                  OneHotEncoder(handle_unknown=&#x27;ignore&#x27;))]),\n",
       "                                 []),\n",
       "                                (&#x27;numerical&#x27;,\n",
       "                                 Pipeline(steps=[(&#x27;imputation_mean&#x27;,\n",
       "                                                  SimpleImputer()),\n",
       "                                                 (&#x27;scaler&#x27;, StandardScaler())]),\n",
       "                                 [&#x27;BertzCT&#x27;, &#x27;Chi1&#x27;, &#x27;Chi1n&#x27;, &#x27;Chi1v&#x27;, &#x27;Chi2n&#x27;,\n",
       "                                  &#x27;Chi2v&#x27;, &#x27;Chi3v&#x27;, &#x27;Chi4n&#x27;, &#x27;EState_VSA1&#x27;,\n",
       "                                  &#x27;EState_VSA2&#x27;, &#x27;ExactMolWt&#x27;,\n",
       "                                  &#x27;FpDensityMorgan1&#x27;, &#x27;FpDensityMorgan2&#x27;,\n",
       "                                  &#x27;FpDensityMorgan3&#x27;, &#x27;HallKierAlpha&#x27;,\n",
       "                                  &#x27;HeavyAtomMolWt&#x27;, &#x27;Kappa3&#x27;,\n",
       "                                  &#x27;MaxAbsEStateIndex&#x27;, &#x27;MinEStateIndex&#x27;,\n",
       "                                  &#x27;NumHeteroatoms&#x27;, &#x27;PEOE_VSA10&#x27;, &#x27;PEOE_VSA14&#x27;,\n",
       "                                  &#x27;PEOE_VSA6&#x27;, &#x27;PEOE_VSA7&#x27;, &#x27;PEOE_VSA8&#x27;,\n",
       "                                  &#x27;SMR_VSA10&#x27;, &#x27;SMR_VSA5&#x27;, &#x27;SlogP_VSA3&#x27;,\n",
       "                                  &#x27;VSA_EState9&#x27;, &#x27;fr_COO&#x27;, ...])])</pre></div></div></div><div class=\"sk-parallel\"><div class=\"sk-parallel-item\"><div class=\"sk-item\"><div class=\"sk-label-container\"><div class=\"sk-label sk-toggleable\"><input class=\"sk-toggleable__control sk-hidden--visually\" id=\"sk-estimator-id-3\" type=\"checkbox\" ><label for=\"sk-estimator-id-3\" class=\"sk-toggleable__label sk-toggleable__label-arrow\">categorical</label><div class=\"sk-toggleable__content\"><pre>[]</pre></div></div></div><div class=\"sk-serial\"><div class=\"sk-item\"><div class=\"sk-serial\"><div class=\"sk-item\"><div class=\"sk-estimator sk-toggleable\"><input class=\"sk-toggleable__control sk-hidden--visually\" id=\"sk-estimator-id-4\" type=\"checkbox\" ><label for=\"sk-estimator-id-4\" class=\"sk-toggleable__label sk-toggleable__label-arrow\">SimpleImputer</label><div class=\"sk-toggleable__content\"><pre>SimpleImputer(fill_value=&#x27;missing&#x27;, strategy=&#x27;most_frequent&#x27;)</pre></div></div></div><div class=\"sk-item\"><div class=\"sk-estimator sk-toggleable\"><input class=\"sk-toggleable__control sk-hidden--visually\" id=\"sk-estimator-id-5\" type=\"checkbox\" ><label for=\"sk-estimator-id-5\" class=\"sk-toggleable__label sk-toggleable__label-arrow\">OneHotEncoder</label><div class=\"sk-toggleable__content\"><pre>OneHotEncoder(handle_unknown=&#x27;ignore&#x27;)</pre></div></div></div></div></div></div></div></div><div class=\"sk-parallel-item\"><div class=\"sk-item\"><div class=\"sk-label-container\"><div class=\"sk-label sk-toggleable\"><input class=\"sk-toggleable__control sk-hidden--visually\" id=\"sk-estimator-id-6\" type=\"checkbox\" ><label for=\"sk-estimator-id-6\" class=\"sk-toggleable__label sk-toggleable__label-arrow\">numerical</label><div class=\"sk-toggleable__content\"><pre>[&#x27;BertzCT&#x27;, &#x27;Chi1&#x27;, &#x27;Chi1n&#x27;, &#x27;Chi1v&#x27;, &#x27;Chi2n&#x27;, &#x27;Chi2v&#x27;, &#x27;Chi3v&#x27;, &#x27;Chi4n&#x27;, &#x27;EState_VSA1&#x27;, &#x27;EState_VSA2&#x27;, &#x27;ExactMolWt&#x27;, &#x27;FpDensityMorgan1&#x27;, &#x27;FpDensityMorgan2&#x27;, &#x27;FpDensityMorgan3&#x27;, &#x27;HallKierAlpha&#x27;, &#x27;HeavyAtomMolWt&#x27;, &#x27;Kappa3&#x27;, &#x27;MaxAbsEStateIndex&#x27;, &#x27;MinEStateIndex&#x27;, &#x27;NumHeteroatoms&#x27;, &#x27;PEOE_VSA10&#x27;, &#x27;PEOE_VSA14&#x27;, &#x27;PEOE_VSA6&#x27;, &#x27;PEOE_VSA7&#x27;, &#x27;PEOE_VSA8&#x27;, &#x27;SMR_VSA10&#x27;, &#x27;SMR_VSA5&#x27;, &#x27;SlogP_VSA3&#x27;, &#x27;VSA_EState9&#x27;, &#x27;fr_COO&#x27;, &#x27;fr_COO2&#x27;]</pre></div></div></div><div class=\"sk-serial\"><div class=\"sk-item\"><div class=\"sk-serial\"><div class=\"sk-item\"><div class=\"sk-estimator sk-toggleable\"><input class=\"sk-toggleable__control sk-hidden--visually\" id=\"sk-estimator-id-7\" type=\"checkbox\" ><label for=\"sk-estimator-id-7\" class=\"sk-toggleable__label sk-toggleable__label-arrow\">SimpleImputer</label><div class=\"sk-toggleable__content\"><pre>SimpleImputer()</pre></div></div></div><div class=\"sk-item\"><div class=\"sk-estimator sk-toggleable\"><input class=\"sk-toggleable__control sk-hidden--visually\" id=\"sk-estimator-id-8\" type=\"checkbox\" ><label for=\"sk-estimator-id-8\" class=\"sk-toggleable__label sk-toggleable__label-arrow\">StandardScaler</label><div class=\"sk-toggleable__content\"><pre>StandardScaler()</pre></div></div></div></div></div></div></div></div></div></div><div class=\"sk-item\"><div class=\"sk-estimator sk-toggleable\"><input class=\"sk-toggleable__control sk-hidden--visually\" id=\"sk-estimator-id-9\" type=\"checkbox\" ><label for=\"sk-estimator-id-9\" class=\"sk-toggleable__label sk-toggleable__label-arrow\">XGBClassifier</label><div class=\"sk-toggleable__content\"><pre>XGBClassifier(base_score=None, booster=None, callbacks=None,\n",
       "              colsample_bylevel=None, colsample_bynode=None,\n",
       "              colsample_bytree=None, early_stopping_rounds=None,\n",
       "              enable_categorical=False, eval_metric=None, feature_types=None,\n",
       "              gamma=None, gpu_id=None, grow_policy=None, importance_type=None,\n",
       "              interaction_constraints=None, learning_rate=None, max_bin=None,\n",
       "              max_cat_threshold=None, max_cat_to_onehot=None,\n",
       "              max_delta_step=None, max_depth=None, max_leaves=None,\n",
       "              min_child_weight=None, missing=nan, monotone_constraints=None,\n",
       "              n_estimators=100, n_jobs=None, num_parallel_tree=None,\n",
       "              predictor=None, random_state=None, ...)</pre></div></div></div></div></div></div></div>"
      ],
      "text/plain": [
       "Pipeline(steps=[('columntransformer',\n",
       "                 ColumnTransformer(transformers=[('categorical',\n",
       "                                                  Pipeline(steps=[('imputation_constant',\n",
       "                                                                   SimpleImputer(fill_value='missing',\n",
       "                                                                                 strategy='most_frequent')),\n",
       "                                                                  ('onehot',\n",
       "                                                                   OneHotEncoder(handle_unknown='ignore'))]),\n",
       "                                                  []),\n",
       "                                                 ('numerical',\n",
       "                                                  Pipeline(steps=[('imputation_mean',\n",
       "                                                                   SimpleImputer()),\n",
       "                                                                  ('scaler',\n",
       "                                                                   StandardScaler())]),\n",
       "                                                  ['BertzCT', 'Ch...\n",
       "                               feature_types=None, gamma=None, gpu_id=None,\n",
       "                               grow_policy=None, importance_type=None,\n",
       "                               interaction_constraints=None, learning_rate=None,\n",
       "                               max_bin=None, max_cat_threshold=None,\n",
       "                               max_cat_to_onehot=None, max_delta_step=None,\n",
       "                               max_depth=None, max_leaves=None,\n",
       "                               min_child_weight=None, missing=nan,\n",
       "                               monotone_constraints=None, n_estimators=100,\n",
       "                               n_jobs=None, num_parallel_tree=None,\n",
       "                               predictor=None, random_state=None, ...))])"
      ]
     },
     "execution_count": 75,
     "metadata": {},
     "output_type": "execute_result"
    }
   ],
   "source": [
    "import numpy as np\n",
    "from sklearn.pipeline import make_pipeline\n",
    "from sklearn.pipeline import Pipeline\n",
    "from sklearn.impute import SimpleImputer\n",
    "from sklearn.compose import ColumnTransformer\n",
    "from sklearn.preprocessing import OneHotEncoder, StandardScaler\n",
    "from sklearn.ensemble import RandomForestClassifier\n",
    "from xgboost import XGBClassifier\n",
    "from imblearn.over_sampling import SMOTE        \n",
    "\n",
    "\n",
    "\n",
    "numeric_preprocessor = Pipeline(\n",
    "    steps=[\n",
    "        (\"imputation_mean\", SimpleImputer(missing_values=np.nan, strategy=\"mean\")),\n",
    "        (\"scaler\", StandardScaler()),\n",
    "    ]\n",
    ")\n",
    "\n",
    "categorical_preprocessor = Pipeline(\n",
    "    steps=[\n",
    "        (\n",
    "            \"imputation_constant\",\n",
    "            SimpleImputer(fill_value=\"missing\", strategy=\"most_frequent\"),\n",
    "        ),\n",
    "        (\"onehot\", OneHotEncoder(handle_unknown=\"ignore\")),\n",
    "    ]\n",
    ")\n",
    "\n",
    "preprocessor = ColumnTransformer(\n",
    "    [\n",
    "        (\"categorical\", categorical_preprocessor, cat_cols),\n",
    "        (\"numerical\", numeric_preprocessor,num_cols),\n",
    "    ]\n",
    ")\n",
    "\n",
    "pipe = make_pipeline(preprocessor, XGBClassifier())\n",
    "pipe  # click on the diagram below to see the details of each step"
   ]
  },
  {
   "cell_type": "code",
   "execution_count": 76,
   "id": "56d2c7fb",
   "metadata": {},
   "outputs": [
    {
     "data": {
      "text/html": [
       "<div>\n",
       "<style scoped>\n",
       "    .dataframe tbody tr th:only-of-type {\n",
       "        vertical-align: middle;\n",
       "    }\n",
       "\n",
       "    .dataframe tbody tr th {\n",
       "        vertical-align: top;\n",
       "    }\n",
       "\n",
       "    .dataframe thead th {\n",
       "        text-align: right;\n",
       "    }\n",
       "</style>\n",
       "<table border=\"1\" class=\"dataframe\">\n",
       "  <thead>\n",
       "    <tr style=\"text-align: right;\">\n",
       "      <th></th>\n",
       "      <th>BertzCT</th>\n",
       "      <th>Chi1</th>\n",
       "      <th>Chi1n</th>\n",
       "      <th>Chi1v</th>\n",
       "      <th>Chi2n</th>\n",
       "      <th>Chi2v</th>\n",
       "      <th>Chi3v</th>\n",
       "      <th>Chi4n</th>\n",
       "      <th>EState_VSA1</th>\n",
       "      <th>EState_VSA2</th>\n",
       "      <th>...</th>\n",
       "      <th>PEOE_VSA14</th>\n",
       "      <th>PEOE_VSA6</th>\n",
       "      <th>PEOE_VSA7</th>\n",
       "      <th>PEOE_VSA8</th>\n",
       "      <th>SMR_VSA10</th>\n",
       "      <th>SMR_VSA5</th>\n",
       "      <th>SlogP_VSA3</th>\n",
       "      <th>VSA_EState9</th>\n",
       "      <th>fr_COO</th>\n",
       "      <th>fr_COO2</th>\n",
       "    </tr>\n",
       "  </thead>\n",
       "  <tbody>\n",
       "    <tr>\n",
       "      <th>2485</th>\n",
       "      <td>235.17</td>\n",
       "      <td>6.97</td>\n",
       "      <td>5.38</td>\n",
       "      <td>5.38</td>\n",
       "      <td>4.32</td>\n",
       "      <td>4.32</td>\n",
       "      <td>2.65</td>\n",
       "      <td>1.22</td>\n",
       "      <td>0.00</td>\n",
       "      <td>26.16</td>\n",
       "      <td>...</td>\n",
       "      <td>56.23</td>\n",
       "      <td>0.00</td>\n",
       "      <td>0.00</td>\n",
       "      <td>0.00</td>\n",
       "      <td>10.97</td>\n",
       "      <td>37.35</td>\n",
       "      <td>0.00</td>\n",
       "      <td>32.65</td>\n",
       "      <td>0</td>\n",
       "      <td>0</td>\n",
       "    </tr>\n",
       "    <tr>\n",
       "      <th>6436</th>\n",
       "      <td>633.37</td>\n",
       "      <td>16.18</td>\n",
       "      <td>11.96</td>\n",
       "      <td>11.96</td>\n",
       "      <td>9.09</td>\n",
       "      <td>12.10</td>\n",
       "      <td>8.42</td>\n",
       "      <td>7.92</td>\n",
       "      <td>82.64</td>\n",
       "      <td>11.84</td>\n",
       "      <td>...</td>\n",
       "      <td>21.34</td>\n",
       "      <td>12.13</td>\n",
       "      <td>12.84</td>\n",
       "      <td>30.68</td>\n",
       "      <td>21.46</td>\n",
       "      <td>63.75</td>\n",
       "      <td>27.88</td>\n",
       "      <td>75.73</td>\n",
       "      <td>0</td>\n",
       "      <td>0</td>\n",
       "    </tr>\n",
       "  </tbody>\n",
       "</table>\n",
       "<p>2 rows × 31 columns</p>\n",
       "</div>"
      ],
      "text/plain": [
       "      BertzCT  Chi1  Chi1n  Chi1v  Chi2n  Chi2v  Chi3v  Chi4n  EState_VSA1  \\\n",
       "2485   235.17  6.97   5.38   5.38   4.32   4.32   2.65   1.22         0.00   \n",
       "6436   633.37 16.18  11.96  11.96   9.09  12.10   8.42   7.92        82.64   \n",
       "\n",
       "      EState_VSA2  ...  PEOE_VSA14  PEOE_VSA6  PEOE_VSA7  PEOE_VSA8  \\\n",
       "2485        26.16  ...       56.23       0.00       0.00       0.00   \n",
       "6436        11.84  ...       21.34      12.13      12.84      30.68   \n",
       "\n",
       "      SMR_VSA10  SMR_VSA5  SlogP_VSA3  VSA_EState9  fr_COO  fr_COO2  \n",
       "2485      10.97     37.35        0.00        32.65       0        0  \n",
       "6436      21.46     63.75       27.88        75.73       0        0  \n",
       "\n",
       "[2 rows x 31 columns]"
      ]
     },
     "execution_count": 76,
     "metadata": {},
     "output_type": "execute_result"
    }
   ],
   "source": [
    "(X_train.head(2))"
   ]
  },
  {
   "cell_type": "markdown",
   "id": "0473ee15",
   "metadata": {},
   "source": [
    "#### XGB Classifier"
   ]
  },
  {
   "cell_type": "code",
   "execution_count": 77,
   "id": "b962679b",
   "metadata": {},
   "outputs": [
    {
     "data": {
      "text/html": [
       "<style>#sk-container-id-2 {color: black;background-color: white;}#sk-container-id-2 pre{padding: 0;}#sk-container-id-2 div.sk-toggleable {background-color: white;}#sk-container-id-2 label.sk-toggleable__label {cursor: pointer;display: block;width: 100%;margin-bottom: 0;padding: 0.3em;box-sizing: border-box;text-align: center;}#sk-container-id-2 label.sk-toggleable__label-arrow:before {content: \"▸\";float: left;margin-right: 0.25em;color: #696969;}#sk-container-id-2 label.sk-toggleable__label-arrow:hover:before {color: black;}#sk-container-id-2 div.sk-estimator:hover label.sk-toggleable__label-arrow:before {color: black;}#sk-container-id-2 div.sk-toggleable__content {max-height: 0;max-width: 0;overflow: hidden;text-align: left;background-color: #f0f8ff;}#sk-container-id-2 div.sk-toggleable__content pre {margin: 0.2em;color: black;border-radius: 0.25em;background-color: #f0f8ff;}#sk-container-id-2 input.sk-toggleable__control:checked~div.sk-toggleable__content {max-height: 200px;max-width: 100%;overflow: auto;}#sk-container-id-2 input.sk-toggleable__control:checked~label.sk-toggleable__label-arrow:before {content: \"▾\";}#sk-container-id-2 div.sk-estimator input.sk-toggleable__control:checked~label.sk-toggleable__label {background-color: #d4ebff;}#sk-container-id-2 div.sk-label input.sk-toggleable__control:checked~label.sk-toggleable__label {background-color: #d4ebff;}#sk-container-id-2 input.sk-hidden--visually {border: 0;clip: rect(1px 1px 1px 1px);clip: rect(1px, 1px, 1px, 1px);height: 1px;margin: -1px;overflow: hidden;padding: 0;position: absolute;width: 1px;}#sk-container-id-2 div.sk-estimator {font-family: monospace;background-color: #f0f8ff;border: 1px dotted black;border-radius: 0.25em;box-sizing: border-box;margin-bottom: 0.5em;}#sk-container-id-2 div.sk-estimator:hover {background-color: #d4ebff;}#sk-container-id-2 div.sk-parallel-item::after {content: \"\";width: 100%;border-bottom: 1px solid gray;flex-grow: 1;}#sk-container-id-2 div.sk-label:hover label.sk-toggleable__label {background-color: #d4ebff;}#sk-container-id-2 div.sk-serial::before {content: \"\";position: absolute;border-left: 1px solid gray;box-sizing: border-box;top: 0;bottom: 0;left: 50%;z-index: 0;}#sk-container-id-2 div.sk-serial {display: flex;flex-direction: column;align-items: center;background-color: white;padding-right: 0.2em;padding-left: 0.2em;position: relative;}#sk-container-id-2 div.sk-item {position: relative;z-index: 1;}#sk-container-id-2 div.sk-parallel {display: flex;align-items: stretch;justify-content: center;background-color: white;position: relative;}#sk-container-id-2 div.sk-item::before, #sk-container-id-2 div.sk-parallel-item::before {content: \"\";position: absolute;border-left: 1px solid gray;box-sizing: border-box;top: 0;bottom: 0;left: 50%;z-index: -1;}#sk-container-id-2 div.sk-parallel-item {display: flex;flex-direction: column;z-index: 1;position: relative;background-color: white;}#sk-container-id-2 div.sk-parallel-item:first-child::after {align-self: flex-end;width: 50%;}#sk-container-id-2 div.sk-parallel-item:last-child::after {align-self: flex-start;width: 50%;}#sk-container-id-2 div.sk-parallel-item:only-child::after {width: 0;}#sk-container-id-2 div.sk-dashed-wrapped {border: 1px dashed gray;margin: 0 0.4em 0.5em 0.4em;box-sizing: border-box;padding-bottom: 0.4em;background-color: white;}#sk-container-id-2 div.sk-label label {font-family: monospace;font-weight: bold;display: inline-block;line-height: 1.2em;}#sk-container-id-2 div.sk-label-container {text-align: center;}#sk-container-id-2 div.sk-container {/* jupyter's `normalize.less` sets `[hidden] { display: none; }` but bootstrap.min.css set `[hidden] { display: none !important; }` so we also need the `!important` here to be able to override the default hidden behavior on the sphinx rendered scikit-learn.org. See: https://github.com/scikit-learn/scikit-learn/issues/21755 */display: inline-block !important;position: relative;}#sk-container-id-2 div.sk-text-repr-fallback {display: none;}</style><div id=\"sk-container-id-2\" class=\"sk-top-container\"><div class=\"sk-text-repr-fallback\"><pre>Pipeline(steps=[(&#x27;columntransformer&#x27;,\n",
       "                 ColumnTransformer(transformers=[(&#x27;categorical&#x27;,\n",
       "                                                  Pipeline(steps=[(&#x27;imputation_constant&#x27;,\n",
       "                                                                   SimpleImputer(fill_value=&#x27;missing&#x27;,\n",
       "                                                                                 strategy=&#x27;most_frequent&#x27;)),\n",
       "                                                                  (&#x27;onehot&#x27;,\n",
       "                                                                   OneHotEncoder(handle_unknown=&#x27;ignore&#x27;))]),\n",
       "                                                  []),\n",
       "                                                 (&#x27;numerical&#x27;,\n",
       "                                                  Pipeline(steps=[(&#x27;imputation_mean&#x27;,\n",
       "                                                                   SimpleImputer()),\n",
       "                                                                  (&#x27;scaler&#x27;,\n",
       "                                                                   StandardScaler())]),\n",
       "                                                  [&#x27;BertzCT&#x27;, &#x27;Ch...\n",
       "                               grow_policy=None, importance_type=None,\n",
       "                               interaction_constraints=None, learning_rate=None,\n",
       "                               max_bin=None, max_cat_threshold=None,\n",
       "                               max_cat_to_onehot=None, max_delta_step=None,\n",
       "                               max_depth=None, max_leaves=None,\n",
       "                               min_child_weight=None, missing=nan,\n",
       "                               monotone_constraints=None, n_estimators=100,\n",
       "                               n_jobs=None, num_parallel_tree=None,\n",
       "                               objective=&#x27;multi:softprob&#x27;, predictor=None, ...))])</pre><b>In a Jupyter environment, please rerun this cell to show the HTML representation or trust the notebook. <br />On GitHub, the HTML representation is unable to render, please try loading this page with nbviewer.org.</b></div><div class=\"sk-container\" hidden><div class=\"sk-item sk-dashed-wrapped\"><div class=\"sk-label-container\"><div class=\"sk-label sk-toggleable\"><input class=\"sk-toggleable__control sk-hidden--visually\" id=\"sk-estimator-id-10\" type=\"checkbox\" ><label for=\"sk-estimator-id-10\" class=\"sk-toggleable__label sk-toggleable__label-arrow\">Pipeline</label><div class=\"sk-toggleable__content\"><pre>Pipeline(steps=[(&#x27;columntransformer&#x27;,\n",
       "                 ColumnTransformer(transformers=[(&#x27;categorical&#x27;,\n",
       "                                                  Pipeline(steps=[(&#x27;imputation_constant&#x27;,\n",
       "                                                                   SimpleImputer(fill_value=&#x27;missing&#x27;,\n",
       "                                                                                 strategy=&#x27;most_frequent&#x27;)),\n",
       "                                                                  (&#x27;onehot&#x27;,\n",
       "                                                                   OneHotEncoder(handle_unknown=&#x27;ignore&#x27;))]),\n",
       "                                                  []),\n",
       "                                                 (&#x27;numerical&#x27;,\n",
       "                                                  Pipeline(steps=[(&#x27;imputation_mean&#x27;,\n",
       "                                                                   SimpleImputer()),\n",
       "                                                                  (&#x27;scaler&#x27;,\n",
       "                                                                   StandardScaler())]),\n",
       "                                                  [&#x27;BertzCT&#x27;, &#x27;Ch...\n",
       "                               grow_policy=None, importance_type=None,\n",
       "                               interaction_constraints=None, learning_rate=None,\n",
       "                               max_bin=None, max_cat_threshold=None,\n",
       "                               max_cat_to_onehot=None, max_delta_step=None,\n",
       "                               max_depth=None, max_leaves=None,\n",
       "                               min_child_weight=None, missing=nan,\n",
       "                               monotone_constraints=None, n_estimators=100,\n",
       "                               n_jobs=None, num_parallel_tree=None,\n",
       "                               objective=&#x27;multi:softprob&#x27;, predictor=None, ...))])</pre></div></div></div><div class=\"sk-serial\"><div class=\"sk-item sk-dashed-wrapped\"><div class=\"sk-label-container\"><div class=\"sk-label sk-toggleable\"><input class=\"sk-toggleable__control sk-hidden--visually\" id=\"sk-estimator-id-11\" type=\"checkbox\" ><label for=\"sk-estimator-id-11\" class=\"sk-toggleable__label sk-toggleable__label-arrow\">columntransformer: ColumnTransformer</label><div class=\"sk-toggleable__content\"><pre>ColumnTransformer(transformers=[(&#x27;categorical&#x27;,\n",
       "                                 Pipeline(steps=[(&#x27;imputation_constant&#x27;,\n",
       "                                                  SimpleImputer(fill_value=&#x27;missing&#x27;,\n",
       "                                                                strategy=&#x27;most_frequent&#x27;)),\n",
       "                                                 (&#x27;onehot&#x27;,\n",
       "                                                  OneHotEncoder(handle_unknown=&#x27;ignore&#x27;))]),\n",
       "                                 []),\n",
       "                                (&#x27;numerical&#x27;,\n",
       "                                 Pipeline(steps=[(&#x27;imputation_mean&#x27;,\n",
       "                                                  SimpleImputer()),\n",
       "                                                 (&#x27;scaler&#x27;, StandardScaler())]),\n",
       "                                 [&#x27;BertzCT&#x27;, &#x27;Chi1&#x27;, &#x27;Chi1n&#x27;, &#x27;Chi1v&#x27;, &#x27;Chi2n&#x27;,\n",
       "                                  &#x27;Chi2v&#x27;, &#x27;Chi3v&#x27;, &#x27;Chi4n&#x27;, &#x27;EState_VSA1&#x27;,\n",
       "                                  &#x27;EState_VSA2&#x27;, &#x27;ExactMolWt&#x27;,\n",
       "                                  &#x27;FpDensityMorgan1&#x27;, &#x27;FpDensityMorgan2&#x27;,\n",
       "                                  &#x27;FpDensityMorgan3&#x27;, &#x27;HallKierAlpha&#x27;,\n",
       "                                  &#x27;HeavyAtomMolWt&#x27;, &#x27;Kappa3&#x27;,\n",
       "                                  &#x27;MaxAbsEStateIndex&#x27;, &#x27;MinEStateIndex&#x27;,\n",
       "                                  &#x27;NumHeteroatoms&#x27;, &#x27;PEOE_VSA10&#x27;, &#x27;PEOE_VSA14&#x27;,\n",
       "                                  &#x27;PEOE_VSA6&#x27;, &#x27;PEOE_VSA7&#x27;, &#x27;PEOE_VSA8&#x27;,\n",
       "                                  &#x27;SMR_VSA10&#x27;, &#x27;SMR_VSA5&#x27;, &#x27;SlogP_VSA3&#x27;,\n",
       "                                  &#x27;VSA_EState9&#x27;, &#x27;fr_COO&#x27;, ...])])</pre></div></div></div><div class=\"sk-parallel\"><div class=\"sk-parallel-item\"><div class=\"sk-item\"><div class=\"sk-label-container\"><div class=\"sk-label sk-toggleable\"><input class=\"sk-toggleable__control sk-hidden--visually\" id=\"sk-estimator-id-12\" type=\"checkbox\" ><label for=\"sk-estimator-id-12\" class=\"sk-toggleable__label sk-toggleable__label-arrow\">categorical</label><div class=\"sk-toggleable__content\"><pre>[]</pre></div></div></div><div class=\"sk-serial\"><div class=\"sk-item\"><div class=\"sk-serial\"><div class=\"sk-item\"><div class=\"sk-estimator sk-toggleable\"><input class=\"sk-toggleable__control sk-hidden--visually\" id=\"sk-estimator-id-13\" type=\"checkbox\" ><label for=\"sk-estimator-id-13\" class=\"sk-toggleable__label sk-toggleable__label-arrow\">SimpleImputer</label><div class=\"sk-toggleable__content\"><pre>SimpleImputer(fill_value=&#x27;missing&#x27;, strategy=&#x27;most_frequent&#x27;)</pre></div></div></div><div class=\"sk-item\"><div class=\"sk-estimator sk-toggleable\"><input class=\"sk-toggleable__control sk-hidden--visually\" id=\"sk-estimator-id-14\" type=\"checkbox\" ><label for=\"sk-estimator-id-14\" class=\"sk-toggleable__label sk-toggleable__label-arrow\">OneHotEncoder</label><div class=\"sk-toggleable__content\"><pre>OneHotEncoder(handle_unknown=&#x27;ignore&#x27;)</pre></div></div></div></div></div></div></div></div><div class=\"sk-parallel-item\"><div class=\"sk-item\"><div class=\"sk-label-container\"><div class=\"sk-label sk-toggleable\"><input class=\"sk-toggleable__control sk-hidden--visually\" id=\"sk-estimator-id-15\" type=\"checkbox\" ><label for=\"sk-estimator-id-15\" class=\"sk-toggleable__label sk-toggleable__label-arrow\">numerical</label><div class=\"sk-toggleable__content\"><pre>[&#x27;BertzCT&#x27;, &#x27;Chi1&#x27;, &#x27;Chi1n&#x27;, &#x27;Chi1v&#x27;, &#x27;Chi2n&#x27;, &#x27;Chi2v&#x27;, &#x27;Chi3v&#x27;, &#x27;Chi4n&#x27;, &#x27;EState_VSA1&#x27;, &#x27;EState_VSA2&#x27;, &#x27;ExactMolWt&#x27;, &#x27;FpDensityMorgan1&#x27;, &#x27;FpDensityMorgan2&#x27;, &#x27;FpDensityMorgan3&#x27;, &#x27;HallKierAlpha&#x27;, &#x27;HeavyAtomMolWt&#x27;, &#x27;Kappa3&#x27;, &#x27;MaxAbsEStateIndex&#x27;, &#x27;MinEStateIndex&#x27;, &#x27;NumHeteroatoms&#x27;, &#x27;PEOE_VSA10&#x27;, &#x27;PEOE_VSA14&#x27;, &#x27;PEOE_VSA6&#x27;, &#x27;PEOE_VSA7&#x27;, &#x27;PEOE_VSA8&#x27;, &#x27;SMR_VSA10&#x27;, &#x27;SMR_VSA5&#x27;, &#x27;SlogP_VSA3&#x27;, &#x27;VSA_EState9&#x27;, &#x27;fr_COO&#x27;, &#x27;fr_COO2&#x27;]</pre></div></div></div><div class=\"sk-serial\"><div class=\"sk-item\"><div class=\"sk-serial\"><div class=\"sk-item\"><div class=\"sk-estimator sk-toggleable\"><input class=\"sk-toggleable__control sk-hidden--visually\" id=\"sk-estimator-id-16\" type=\"checkbox\" ><label for=\"sk-estimator-id-16\" class=\"sk-toggleable__label sk-toggleable__label-arrow\">SimpleImputer</label><div class=\"sk-toggleable__content\"><pre>SimpleImputer()</pre></div></div></div><div class=\"sk-item\"><div class=\"sk-estimator sk-toggleable\"><input class=\"sk-toggleable__control sk-hidden--visually\" id=\"sk-estimator-id-17\" type=\"checkbox\" ><label for=\"sk-estimator-id-17\" class=\"sk-toggleable__label sk-toggleable__label-arrow\">StandardScaler</label><div class=\"sk-toggleable__content\"><pre>StandardScaler()</pre></div></div></div></div></div></div></div></div></div></div><div class=\"sk-item\"><div class=\"sk-estimator sk-toggleable\"><input class=\"sk-toggleable__control sk-hidden--visually\" id=\"sk-estimator-id-18\" type=\"checkbox\" ><label for=\"sk-estimator-id-18\" class=\"sk-toggleable__label sk-toggleable__label-arrow\">XGBClassifier</label><div class=\"sk-toggleable__content\"><pre>XGBClassifier(base_score=None, booster=None, callbacks=None,\n",
       "              colsample_bylevel=None, colsample_bynode=None,\n",
       "              colsample_bytree=None, early_stopping_rounds=None,\n",
       "              enable_categorical=False, eval_metric=None, feature_types=None,\n",
       "              gamma=None, gpu_id=None, grow_policy=None, importance_type=None,\n",
       "              interaction_constraints=None, learning_rate=None, max_bin=None,\n",
       "              max_cat_threshold=None, max_cat_to_onehot=None,\n",
       "              max_delta_step=None, max_depth=None, max_leaves=None,\n",
       "              min_child_weight=None, missing=nan, monotone_constraints=None,\n",
       "              n_estimators=100, n_jobs=None, num_parallel_tree=None,\n",
       "              objective=&#x27;multi:softprob&#x27;, predictor=None, ...)</pre></div></div></div></div></div></div></div>"
      ],
      "text/plain": [
       "Pipeline(steps=[('columntransformer',\n",
       "                 ColumnTransformer(transformers=[('categorical',\n",
       "                                                  Pipeline(steps=[('imputation_constant',\n",
       "                                                                   SimpleImputer(fill_value='missing',\n",
       "                                                                                 strategy='most_frequent')),\n",
       "                                                                  ('onehot',\n",
       "                                                                   OneHotEncoder(handle_unknown='ignore'))]),\n",
       "                                                  []),\n",
       "                                                 ('numerical',\n",
       "                                                  Pipeline(steps=[('imputation_mean',\n",
       "                                                                   SimpleImputer()),\n",
       "                                                                  ('scaler',\n",
       "                                                                   StandardScaler())]),\n",
       "                                                  ['BertzCT', 'Ch...\n",
       "                               grow_policy=None, importance_type=None,\n",
       "                               interaction_constraints=None, learning_rate=None,\n",
       "                               max_bin=None, max_cat_threshold=None,\n",
       "                               max_cat_to_onehot=None, max_delta_step=None,\n",
       "                               max_depth=None, max_leaves=None,\n",
       "                               min_child_weight=None, missing=nan,\n",
       "                               monotone_constraints=None, n_estimators=100,\n",
       "                               n_jobs=None, num_parallel_tree=None,\n",
       "                               objective='multi:softprob', predictor=None, ...))])"
      ]
     },
     "execution_count": 77,
     "metadata": {},
     "output_type": "execute_result"
    }
   ],
   "source": [
    "pipe.fit(X_train,y_train_encoded)"
   ]
  },
  {
   "cell_type": "code",
   "execution_count": 79,
   "id": "0f3c5f3a",
   "metadata": {},
   "outputs": [
    {
     "data": {
      "text/plain": [
       "array([3, 1, 3, ..., 1, 3, 1])"
      ]
     },
     "execution_count": 79,
     "metadata": {},
     "output_type": "execute_result"
    }
   ],
   "source": [
    "preds_encoded=pipe.predict(X_test)\n",
    "preds_encoded"
   ]
  },
  {
   "cell_type": "code",
   "execution_count": 80,
   "id": "ccf35f2d",
   "metadata": {},
   "outputs": [
    {
     "data": {
      "text/plain": [
       "array(['11', '01', '11', ..., '01', '11', '01'], dtype=object)"
      ]
     },
     "execution_count": 80,
     "metadata": {},
     "output_type": "execute_result"
    }
   ],
   "source": [
    "# y_pred = preds_encoded.apply(lambda x: label_encoder.inverse_transform(x))\n",
    "y_pred = label_encoder.inverse_transform(preds_encoded)\n",
    "y_pred"
   ]
  },
  {
   "cell_type": "code",
   "execution_count": 81,
   "id": "e7cfb7e0",
   "metadata": {},
   "outputs": [
    {
     "data": {
      "text/plain": [
       "(3020, 3020)"
      ]
     },
     "execution_count": 81,
     "metadata": {},
     "output_type": "execute_result"
    }
   ],
   "source": [
    "arr1 = np.array([x[0] for x in y_pred])\n",
    "arr2 = np.array([x[1] for x in y_pred])\n",
    "len(arr1),len(X_test)"
   ]
  },
  {
   "cell_type": "code",
   "execution_count": 83,
   "id": "d908e430",
   "metadata": {},
   "outputs": [
    {
     "data": {
      "text/plain": [
       "0.5655935511643628"
      ]
     },
     "execution_count": 83,
     "metadata": {},
     "output_type": "execute_result"
    }
   ],
   "source": [
    "evaluation(y_test,preds_encoded,label_encoder)"
   ]
  },
  {
   "cell_type": "code",
   "execution_count": null,
   "id": "a1ad1b12",
   "metadata": {},
   "outputs": [],
   "source": []
  },
  {
   "cell_type": "markdown",
   "id": "9873ee6e",
   "metadata": {},
   "source": [
    "### Predicting values for Test df"
   ]
  },
  {
   "cell_type": "code",
   "execution_count": 101,
   "id": "3303a707",
   "metadata": {},
   "outputs": [
    {
     "data": {
      "text/html": [
       "<div>\n",
       "<style scoped>\n",
       "    .dataframe tbody tr th:only-of-type {\n",
       "        vertical-align: middle;\n",
       "    }\n",
       "\n",
       "    .dataframe tbody tr th {\n",
       "        vertical-align: top;\n",
       "    }\n",
       "\n",
       "    .dataframe thead th {\n",
       "        text-align: right;\n",
       "    }\n",
       "</style>\n",
       "<table border=\"1\" class=\"dataframe\">\n",
       "  <thead>\n",
       "    <tr style=\"text-align: right;\">\n",
       "      <th></th>\n",
       "      <th>id</th>\n",
       "      <th>BertzCT</th>\n",
       "      <th>Chi1</th>\n",
       "      <th>Chi1n</th>\n",
       "      <th>Chi1v</th>\n",
       "      <th>Chi2n</th>\n",
       "      <th>Chi2v</th>\n",
       "      <th>Chi3v</th>\n",
       "      <th>Chi4n</th>\n",
       "      <th>EState_VSA1</th>\n",
       "      <th>...</th>\n",
       "      <th>PEOE_VSA14</th>\n",
       "      <th>PEOE_VSA6</th>\n",
       "      <th>PEOE_VSA7</th>\n",
       "      <th>PEOE_VSA8</th>\n",
       "      <th>SMR_VSA10</th>\n",
       "      <th>SMR_VSA5</th>\n",
       "      <th>SlogP_VSA3</th>\n",
       "      <th>VSA_EState9</th>\n",
       "      <th>fr_COO</th>\n",
       "      <th>fr_COO2</th>\n",
       "    </tr>\n",
       "  </thead>\n",
       "  <tbody>\n",
       "    <tr>\n",
       "      <th>0</th>\n",
       "      <td>14838</td>\n",
       "      <td>344.63</td>\n",
       "      <td>7.28</td>\n",
       "      <td>4.47</td>\n",
       "      <td>5.83</td>\n",
       "      <td>3.41</td>\n",
       "      <td>4.65</td>\n",
       "      <td>2.10</td>\n",
       "      <td>1.12</td>\n",
       "      <td>49.46</td>\n",
       "      <td>...</td>\n",
       "      <td>13.51</td>\n",
       "      <td>0.00</td>\n",
       "      <td>0.00</td>\n",
       "      <td>0.00</td>\n",
       "      <td>26.81</td>\n",
       "      <td>24.54</td>\n",
       "      <td>4.79</td>\n",
       "      <td>47.30</td>\n",
       "      <td>1</td>\n",
       "      <td>1</td>\n",
       "    </tr>\n",
       "    <tr>\n",
       "      <th>1</th>\n",
       "      <td>14839</td>\n",
       "      <td>1432.41</td>\n",
       "      <td>10.66</td>\n",
       "      <td>7.08</td>\n",
       "      <td>8.07</td>\n",
       "      <td>5.30</td>\n",
       "      <td>5.30</td>\n",
       "      <td>3.92</td>\n",
       "      <td>2.57</td>\n",
       "      <td>0.00</td>\n",
       "      <td>...</td>\n",
       "      <td>0.00</td>\n",
       "      <td>34.95</td>\n",
       "      <td>98.32</td>\n",
       "      <td>9.61</td>\n",
       "      <td>0.00</td>\n",
       "      <td>53.38</td>\n",
       "      <td>0.00</td>\n",
       "      <td>43.17</td>\n",
       "      <td>0</td>\n",
       "      <td>0</td>\n",
       "    </tr>\n",
       "  </tbody>\n",
       "</table>\n",
       "<p>2 rows × 32 columns</p>\n",
       "</div>"
      ],
      "text/plain": [
       "      id  BertzCT  Chi1  Chi1n  Chi1v  Chi2n  Chi2v  Chi3v  Chi4n  \\\n",
       "0  14838   344.63  7.28   4.47   5.83   3.41   4.65   2.10   1.12   \n",
       "1  14839  1432.41 10.66   7.08   8.07   5.30   5.30   3.92   2.57   \n",
       "\n",
       "   EState_VSA1  ...  PEOE_VSA14  PEOE_VSA6  PEOE_VSA7  PEOE_VSA8  SMR_VSA10  \\\n",
       "0        49.46  ...       13.51       0.00       0.00       0.00      26.81   \n",
       "1         0.00  ...        0.00      34.95      98.32       9.61       0.00   \n",
       "\n",
       "   SMR_VSA5  SlogP_VSA3  VSA_EState9  fr_COO  fr_COO2  \n",
       "0     24.54        4.79        47.30       1        1  \n",
       "1     53.38        0.00        43.17       0        0  \n",
       "\n",
       "[2 rows x 32 columns]"
      ]
     },
     "execution_count": 101,
     "metadata": {},
     "output_type": "execute_result"
    }
   ],
   "source": [
    "df_test.head(2)"
   ]
  },
  {
   "cell_type": "code",
   "execution_count": 102,
   "id": "6bbb802e",
   "metadata": {},
   "outputs": [
    {
     "data": {
      "text/html": [
       "<div>\n",
       "<style scoped>\n",
       "    .dataframe tbody tr th:only-of-type {\n",
       "        vertical-align: middle;\n",
       "    }\n",
       "\n",
       "    .dataframe tbody tr th {\n",
       "        vertical-align: top;\n",
       "    }\n",
       "\n",
       "    .dataframe thead th {\n",
       "        text-align: right;\n",
       "    }\n",
       "</style>\n",
       "<table border=\"1\" class=\"dataframe\">\n",
       "  <thead>\n",
       "    <tr style=\"text-align: right;\">\n",
       "      <th></th>\n",
       "      <th>BertzCT</th>\n",
       "      <th>Chi1</th>\n",
       "      <th>Chi1n</th>\n",
       "      <th>Chi1v</th>\n",
       "      <th>Chi2n</th>\n",
       "      <th>Chi2v</th>\n",
       "      <th>Chi3v</th>\n",
       "      <th>Chi4n</th>\n",
       "      <th>EState_VSA1</th>\n",
       "      <th>EState_VSA2</th>\n",
       "      <th>...</th>\n",
       "      <th>PEOE_VSA14</th>\n",
       "      <th>PEOE_VSA6</th>\n",
       "      <th>PEOE_VSA7</th>\n",
       "      <th>PEOE_VSA8</th>\n",
       "      <th>SMR_VSA10</th>\n",
       "      <th>SMR_VSA5</th>\n",
       "      <th>SlogP_VSA3</th>\n",
       "      <th>VSA_EState9</th>\n",
       "      <th>fr_COO</th>\n",
       "      <th>fr_COO2</th>\n",
       "    </tr>\n",
       "  </thead>\n",
       "  <tbody>\n",
       "    <tr>\n",
       "      <th>0</th>\n",
       "      <td>344.63</td>\n",
       "      <td>7.28</td>\n",
       "      <td>4.47</td>\n",
       "      <td>5.83</td>\n",
       "      <td>3.41</td>\n",
       "      <td>4.65</td>\n",
       "      <td>2.10</td>\n",
       "      <td>1.12</td>\n",
       "      <td>49.46</td>\n",
       "      <td>0.00</td>\n",
       "      <td>...</td>\n",
       "      <td>13.51</td>\n",
       "      <td>0.00</td>\n",
       "      <td>0.00</td>\n",
       "      <td>0.00</td>\n",
       "      <td>26.81</td>\n",
       "      <td>24.54</td>\n",
       "      <td>4.79</td>\n",
       "      <td>47.30</td>\n",
       "      <td>1</td>\n",
       "      <td>1</td>\n",
       "    </tr>\n",
       "    <tr>\n",
       "      <th>1</th>\n",
       "      <td>1432.41</td>\n",
       "      <td>10.66</td>\n",
       "      <td>7.08</td>\n",
       "      <td>8.07</td>\n",
       "      <td>5.30</td>\n",
       "      <td>5.30</td>\n",
       "      <td>3.92</td>\n",
       "      <td>2.57</td>\n",
       "      <td>0.00</td>\n",
       "      <td>29.78</td>\n",
       "      <td>...</td>\n",
       "      <td>0.00</td>\n",
       "      <td>34.95</td>\n",
       "      <td>98.32</td>\n",
       "      <td>9.61</td>\n",
       "      <td>0.00</td>\n",
       "      <td>53.38</td>\n",
       "      <td>0.00</td>\n",
       "      <td>43.17</td>\n",
       "      <td>0</td>\n",
       "      <td>0</td>\n",
       "    </tr>\n",
       "  </tbody>\n",
       "</table>\n",
       "<p>2 rows × 31 columns</p>\n",
       "</div>"
      ],
      "text/plain": [
       "   BertzCT  Chi1  Chi1n  Chi1v  Chi2n  Chi2v  Chi3v  Chi4n  EState_VSA1  \\\n",
       "0   344.63  7.28   4.47   5.83   3.41   4.65   2.10   1.12        49.46   \n",
       "1  1432.41 10.66   7.08   8.07   5.30   5.30   3.92   2.57         0.00   \n",
       "\n",
       "   EState_VSA2  ...  PEOE_VSA14  PEOE_VSA6  PEOE_VSA7  PEOE_VSA8  SMR_VSA10  \\\n",
       "0         0.00  ...       13.51       0.00       0.00       0.00      26.81   \n",
       "1        29.78  ...        0.00      34.95      98.32       9.61       0.00   \n",
       "\n",
       "   SMR_VSA5  SlogP_VSA3  VSA_EState9  fr_COO  fr_COO2  \n",
       "0     24.54        4.79        47.30       1        1  \n",
       "1     53.38        0.00        43.17       0        0  \n",
       "\n",
       "[2 rows x 31 columns]"
      ]
     },
     "execution_count": 102,
     "metadata": {},
     "output_type": "execute_result"
    }
   ],
   "source": [
    "X_test_final=df_test.drop('id',axis=1)\n",
    "X_test_final.head(2)"
   ]
  },
  {
   "cell_type": "code",
   "execution_count": 103,
   "id": "7743973c",
   "metadata": {},
   "outputs": [
    {
     "data": {
      "text/plain": [
       "array([1, 3, 3, ..., 1, 1, 1])"
      ]
     },
     "execution_count": 103,
     "metadata": {},
     "output_type": "execute_result"
    }
   ],
   "source": [
    "preds_test=pipe_gnb.predict(X_test_final)\n",
    "preds_test"
   ]
  },
  {
   "cell_type": "code",
   "execution_count": 104,
   "id": "ab96db8e",
   "metadata": {},
   "outputs": [
    {
     "data": {
      "text/plain": [
       "array(['01', '11', '11', ..., '01', '01', '01'], dtype=object)"
      ]
     },
     "execution_count": 104,
     "metadata": {},
     "output_type": "execute_result"
    }
   ],
   "source": [
    "y_pred_test = label_encoder.inverse_transform(preds_test)\n",
    "y_pred_test"
   ]
  },
  {
   "cell_type": "code",
   "execution_count": 105,
   "id": "36383c82",
   "metadata": {},
   "outputs": [
    {
     "data": {
      "text/plain": [
       "(9893, 9893)"
      ]
     },
     "execution_count": 105,
     "metadata": {},
     "output_type": "execute_result"
    }
   ],
   "source": [
    "preds_test_1 = np.array([x[0] for x in y_pred_test])\n",
    "preds_test_2 = np.array([x[1] for x in y_pred_test])\n",
    "len(preds_test_1),len(preds_test_2)"
   ]
  },
  {
   "cell_type": "code",
   "execution_count": null,
   "id": "076a4381",
   "metadata": {},
   "outputs": [],
   "source": []
  },
  {
   "cell_type": "code",
   "execution_count": null,
   "id": "22a65178",
   "metadata": {},
   "outputs": [],
   "source": []
  },
  {
   "cell_type": "code",
   "execution_count": 77,
   "id": "d260178c",
   "metadata": {},
   "outputs": [
    {
     "data": {
      "text/html": [
       "<style>#sk-container-id-5 {color: black;background-color: white;}#sk-container-id-5 pre{padding: 0;}#sk-container-id-5 div.sk-toggleable {background-color: white;}#sk-container-id-5 label.sk-toggleable__label {cursor: pointer;display: block;width: 100%;margin-bottom: 0;padding: 0.3em;box-sizing: border-box;text-align: center;}#sk-container-id-5 label.sk-toggleable__label-arrow:before {content: \"▸\";float: left;margin-right: 0.25em;color: #696969;}#sk-container-id-5 label.sk-toggleable__label-arrow:hover:before {color: black;}#sk-container-id-5 div.sk-estimator:hover label.sk-toggleable__label-arrow:before {color: black;}#sk-container-id-5 div.sk-toggleable__content {max-height: 0;max-width: 0;overflow: hidden;text-align: left;background-color: #f0f8ff;}#sk-container-id-5 div.sk-toggleable__content pre {margin: 0.2em;color: black;border-radius: 0.25em;background-color: #f0f8ff;}#sk-container-id-5 input.sk-toggleable__control:checked~div.sk-toggleable__content {max-height: 200px;max-width: 100%;overflow: auto;}#sk-container-id-5 input.sk-toggleable__control:checked~label.sk-toggleable__label-arrow:before {content: \"▾\";}#sk-container-id-5 div.sk-estimator input.sk-toggleable__control:checked~label.sk-toggleable__label {background-color: #d4ebff;}#sk-container-id-5 div.sk-label input.sk-toggleable__control:checked~label.sk-toggleable__label {background-color: #d4ebff;}#sk-container-id-5 input.sk-hidden--visually {border: 0;clip: rect(1px 1px 1px 1px);clip: rect(1px, 1px, 1px, 1px);height: 1px;margin: -1px;overflow: hidden;padding: 0;position: absolute;width: 1px;}#sk-container-id-5 div.sk-estimator {font-family: monospace;background-color: #f0f8ff;border: 1px dotted black;border-radius: 0.25em;box-sizing: border-box;margin-bottom: 0.5em;}#sk-container-id-5 div.sk-estimator:hover {background-color: #d4ebff;}#sk-container-id-5 div.sk-parallel-item::after {content: \"\";width: 100%;border-bottom: 1px solid gray;flex-grow: 1;}#sk-container-id-5 div.sk-label:hover label.sk-toggleable__label {background-color: #d4ebff;}#sk-container-id-5 div.sk-serial::before {content: \"\";position: absolute;border-left: 1px solid gray;box-sizing: border-box;top: 0;bottom: 0;left: 50%;z-index: 0;}#sk-container-id-5 div.sk-serial {display: flex;flex-direction: column;align-items: center;background-color: white;padding-right: 0.2em;padding-left: 0.2em;position: relative;}#sk-container-id-5 div.sk-item {position: relative;z-index: 1;}#sk-container-id-5 div.sk-parallel {display: flex;align-items: stretch;justify-content: center;background-color: white;position: relative;}#sk-container-id-5 div.sk-item::before, #sk-container-id-5 div.sk-parallel-item::before {content: \"\";position: absolute;border-left: 1px solid gray;box-sizing: border-box;top: 0;bottom: 0;left: 50%;z-index: -1;}#sk-container-id-5 div.sk-parallel-item {display: flex;flex-direction: column;z-index: 1;position: relative;background-color: white;}#sk-container-id-5 div.sk-parallel-item:first-child::after {align-self: flex-end;width: 50%;}#sk-container-id-5 div.sk-parallel-item:last-child::after {align-self: flex-start;width: 50%;}#sk-container-id-5 div.sk-parallel-item:only-child::after {width: 0;}#sk-container-id-5 div.sk-dashed-wrapped {border: 1px dashed gray;margin: 0 0.4em 0.5em 0.4em;box-sizing: border-box;padding-bottom: 0.4em;background-color: white;}#sk-container-id-5 div.sk-label label {font-family: monospace;font-weight: bold;display: inline-block;line-height: 1.2em;}#sk-container-id-5 div.sk-label-container {text-align: center;}#sk-container-id-5 div.sk-container {/* jupyter's `normalize.less` sets `[hidden] { display: none; }` but bootstrap.min.css set `[hidden] { display: none !important; }` so we also need the `!important` here to be able to override the default hidden behavior on the sphinx rendered scikit-learn.org. See: https://github.com/scikit-learn/scikit-learn/issues/21755 */display: inline-block !important;position: relative;}#sk-container-id-5 div.sk-text-repr-fallback {display: none;}</style><div id=\"sk-container-id-5\" class=\"sk-top-container\"><div class=\"sk-text-repr-fallback\"><pre>Pipeline(steps=[(&#x27;columntransformer&#x27;,\n",
       "                 ColumnTransformer(transformers=[(&#x27;categorical&#x27;,\n",
       "                                                  Pipeline(steps=[(&#x27;imputation_constant&#x27;,\n",
       "                                                                   SimpleImputer(fill_value=&#x27;missing&#x27;,\n",
       "                                                                                 strategy=&#x27;most_frequent&#x27;))]),\n",
       "                                                  []),\n",
       "                                                 (&#x27;numerical&#x27;,\n",
       "                                                  Pipeline(steps=[(&#x27;imputation_mean&#x27;,\n",
       "                                                                   SimpleImputer()),\n",
       "                                                                  (&#x27;scaler&#x27;,\n",
       "                                                                   StandardScaler())]),\n",
       "                                                  [&#x27;BertzCT&#x27;, &#x27;Chi1&#x27;, &#x27;Chi1n&#x27;,\n",
       "                                                   &#x27;Chi1v&#x27;, &#x27;Chi2n&#x27;, &#x27;Chi2v&#x27;,\n",
       "                                                   &#x27;Chi3v&#x27;, &#x27;Chi4n...\n",
       "                               feature_types=None, gamma=None, gpu_id=None,\n",
       "                               grow_policy=None, importance_type=None,\n",
       "                               interaction_constraints=None, learning_rate=None,\n",
       "                               max_bin=None, max_cat_threshold=None,\n",
       "                               max_cat_to_onehot=None, max_delta_step=None,\n",
       "                               max_depth=None, max_leaves=None,\n",
       "                               min_child_weight=None, missing=nan,\n",
       "                               monotone_constraints=None, n_estimators=100,\n",
       "                               n_jobs=None, num_parallel_tree=None,\n",
       "                               predictor=None, random_state=None, ...))])</pre><b>In a Jupyter environment, please rerun this cell to show the HTML representation or trust the notebook. <br />On GitHub, the HTML representation is unable to render, please try loading this page with nbviewer.org.</b></div><div class=\"sk-container\" hidden><div class=\"sk-item sk-dashed-wrapped\"><div class=\"sk-label-container\"><div class=\"sk-label sk-toggleable\"><input class=\"sk-toggleable__control sk-hidden--visually\" id=\"sk-estimator-id-33\" type=\"checkbox\" ><label for=\"sk-estimator-id-33\" class=\"sk-toggleable__label sk-toggleable__label-arrow\">Pipeline</label><div class=\"sk-toggleable__content\"><pre>Pipeline(steps=[(&#x27;columntransformer&#x27;,\n",
       "                 ColumnTransformer(transformers=[(&#x27;categorical&#x27;,\n",
       "                                                  Pipeline(steps=[(&#x27;imputation_constant&#x27;,\n",
       "                                                                   SimpleImputer(fill_value=&#x27;missing&#x27;,\n",
       "                                                                                 strategy=&#x27;most_frequent&#x27;))]),\n",
       "                                                  []),\n",
       "                                                 (&#x27;numerical&#x27;,\n",
       "                                                  Pipeline(steps=[(&#x27;imputation_mean&#x27;,\n",
       "                                                                   SimpleImputer()),\n",
       "                                                                  (&#x27;scaler&#x27;,\n",
       "                                                                   StandardScaler())]),\n",
       "                                                  [&#x27;BertzCT&#x27;, &#x27;Chi1&#x27;, &#x27;Chi1n&#x27;,\n",
       "                                                   &#x27;Chi1v&#x27;, &#x27;Chi2n&#x27;, &#x27;Chi2v&#x27;,\n",
       "                                                   &#x27;Chi3v&#x27;, &#x27;Chi4n...\n",
       "                               feature_types=None, gamma=None, gpu_id=None,\n",
       "                               grow_policy=None, importance_type=None,\n",
       "                               interaction_constraints=None, learning_rate=None,\n",
       "                               max_bin=None, max_cat_threshold=None,\n",
       "                               max_cat_to_onehot=None, max_delta_step=None,\n",
       "                               max_depth=None, max_leaves=None,\n",
       "                               min_child_weight=None, missing=nan,\n",
       "                               monotone_constraints=None, n_estimators=100,\n",
       "                               n_jobs=None, num_parallel_tree=None,\n",
       "                               predictor=None, random_state=None, ...))])</pre></div></div></div><div class=\"sk-serial\"><div class=\"sk-item sk-dashed-wrapped\"><div class=\"sk-label-container\"><div class=\"sk-label sk-toggleable\"><input class=\"sk-toggleable__control sk-hidden--visually\" id=\"sk-estimator-id-34\" type=\"checkbox\" ><label for=\"sk-estimator-id-34\" class=\"sk-toggleable__label sk-toggleable__label-arrow\">columntransformer: ColumnTransformer</label><div class=\"sk-toggleable__content\"><pre>ColumnTransformer(transformers=[(&#x27;categorical&#x27;,\n",
       "                                 Pipeline(steps=[(&#x27;imputation_constant&#x27;,\n",
       "                                                  SimpleImputer(fill_value=&#x27;missing&#x27;,\n",
       "                                                                strategy=&#x27;most_frequent&#x27;))]),\n",
       "                                 []),\n",
       "                                (&#x27;numerical&#x27;,\n",
       "                                 Pipeline(steps=[(&#x27;imputation_mean&#x27;,\n",
       "                                                  SimpleImputer()),\n",
       "                                                 (&#x27;scaler&#x27;, StandardScaler())]),\n",
       "                                 [&#x27;BertzCT&#x27;, &#x27;Chi1&#x27;, &#x27;Chi1n&#x27;, &#x27;Chi1v&#x27;, &#x27;Chi2n&#x27;,\n",
       "                                  &#x27;Chi2v&#x27;, &#x27;Chi3v&#x27;, &#x27;Chi4n&#x27;, &#x27;EState_VSA1&#x27;,\n",
       "                                  &#x27;EState_VSA2&#x27;, &#x27;ExactMolWt&#x27;,\n",
       "                                  &#x27;FpDensityMorgan1&#x27;, &#x27;FpDensityMorgan2&#x27;,\n",
       "                                  &#x27;FpDensityMorgan3&#x27;, &#x27;HallKierAlpha&#x27;,\n",
       "                                  &#x27;HeavyAtomMolWt&#x27;, &#x27;Kappa3&#x27;,\n",
       "                                  &#x27;MaxAbsEStateIndex&#x27;, &#x27;MinEStateIndex&#x27;,\n",
       "                                  &#x27;NumHeteroatoms&#x27;, &#x27;PEOE_VSA10&#x27;, &#x27;PEOE_VSA14&#x27;,\n",
       "                                  &#x27;PEOE_VSA6&#x27;, &#x27;PEOE_VSA7&#x27;, &#x27;PEOE_VSA8&#x27;,\n",
       "                                  &#x27;SMR_VSA10&#x27;, &#x27;SMR_VSA5&#x27;, &#x27;SlogP_VSA3&#x27;,\n",
       "                                  &#x27;VSA_EState9&#x27;, &#x27;fr_COO&#x27;, ...])])</pre></div></div></div><div class=\"sk-parallel\"><div class=\"sk-parallel-item\"><div class=\"sk-item\"><div class=\"sk-label-container\"><div class=\"sk-label sk-toggleable\"><input class=\"sk-toggleable__control sk-hidden--visually\" id=\"sk-estimator-id-35\" type=\"checkbox\" ><label for=\"sk-estimator-id-35\" class=\"sk-toggleable__label sk-toggleable__label-arrow\">categorical</label><div class=\"sk-toggleable__content\"><pre>[]</pre></div></div></div><div class=\"sk-serial\"><div class=\"sk-item\"><div class=\"sk-serial\"><div class=\"sk-item\"><div class=\"sk-estimator sk-toggleable\"><input class=\"sk-toggleable__control sk-hidden--visually\" id=\"sk-estimator-id-36\" type=\"checkbox\" ><label for=\"sk-estimator-id-36\" class=\"sk-toggleable__label sk-toggleable__label-arrow\">SimpleImputer</label><div class=\"sk-toggleable__content\"><pre>SimpleImputer(fill_value=&#x27;missing&#x27;, strategy=&#x27;most_frequent&#x27;)</pre></div></div></div></div></div></div></div></div><div class=\"sk-parallel-item\"><div class=\"sk-item\"><div class=\"sk-label-container\"><div class=\"sk-label sk-toggleable\"><input class=\"sk-toggleable__control sk-hidden--visually\" id=\"sk-estimator-id-37\" type=\"checkbox\" ><label for=\"sk-estimator-id-37\" class=\"sk-toggleable__label sk-toggleable__label-arrow\">numerical</label><div class=\"sk-toggleable__content\"><pre>[&#x27;BertzCT&#x27;, &#x27;Chi1&#x27;, &#x27;Chi1n&#x27;, &#x27;Chi1v&#x27;, &#x27;Chi2n&#x27;, &#x27;Chi2v&#x27;, &#x27;Chi3v&#x27;, &#x27;Chi4n&#x27;, &#x27;EState_VSA1&#x27;, &#x27;EState_VSA2&#x27;, &#x27;ExactMolWt&#x27;, &#x27;FpDensityMorgan1&#x27;, &#x27;FpDensityMorgan2&#x27;, &#x27;FpDensityMorgan3&#x27;, &#x27;HallKierAlpha&#x27;, &#x27;HeavyAtomMolWt&#x27;, &#x27;Kappa3&#x27;, &#x27;MaxAbsEStateIndex&#x27;, &#x27;MinEStateIndex&#x27;, &#x27;NumHeteroatoms&#x27;, &#x27;PEOE_VSA10&#x27;, &#x27;PEOE_VSA14&#x27;, &#x27;PEOE_VSA6&#x27;, &#x27;PEOE_VSA7&#x27;, &#x27;PEOE_VSA8&#x27;, &#x27;SMR_VSA10&#x27;, &#x27;SMR_VSA5&#x27;, &#x27;SlogP_VSA3&#x27;, &#x27;VSA_EState9&#x27;, &#x27;fr_COO&#x27;, &#x27;fr_COO2&#x27;]</pre></div></div></div><div class=\"sk-serial\"><div class=\"sk-item\"><div class=\"sk-serial\"><div class=\"sk-item\"><div class=\"sk-estimator sk-toggleable\"><input class=\"sk-toggleable__control sk-hidden--visually\" id=\"sk-estimator-id-38\" type=\"checkbox\" ><label for=\"sk-estimator-id-38\" class=\"sk-toggleable__label sk-toggleable__label-arrow\">SimpleImputer</label><div class=\"sk-toggleable__content\"><pre>SimpleImputer()</pre></div></div></div><div class=\"sk-item\"><div class=\"sk-estimator sk-toggleable\"><input class=\"sk-toggleable__control sk-hidden--visually\" id=\"sk-estimator-id-39\" type=\"checkbox\" ><label for=\"sk-estimator-id-39\" class=\"sk-toggleable__label sk-toggleable__label-arrow\">StandardScaler</label><div class=\"sk-toggleable__content\"><pre>StandardScaler()</pre></div></div></div></div></div></div></div></div></div></div><div class=\"sk-item\"><div class=\"sk-estimator sk-toggleable\"><input class=\"sk-toggleable__control sk-hidden--visually\" id=\"sk-estimator-id-40\" type=\"checkbox\" ><label for=\"sk-estimator-id-40\" class=\"sk-toggleable__label sk-toggleable__label-arrow\">XGBClassifier</label><div class=\"sk-toggleable__content\"><pre>XGBClassifier(base_score=None, booster=None, callbacks=None,\n",
       "              colsample_bylevel=None, colsample_bynode=None,\n",
       "              colsample_bytree=None, early_stopping_rounds=None,\n",
       "              enable_categorical=False, eval_metric=None, feature_types=None,\n",
       "              gamma=None, gpu_id=None, grow_policy=None, importance_type=None,\n",
       "              interaction_constraints=None, learning_rate=None, max_bin=None,\n",
       "              max_cat_threshold=None, max_cat_to_onehot=None,\n",
       "              max_delta_step=None, max_depth=None, max_leaves=None,\n",
       "              min_child_weight=None, missing=nan, monotone_constraints=None,\n",
       "              n_estimators=100, n_jobs=None, num_parallel_tree=None,\n",
       "              predictor=None, random_state=None, ...)</pre></div></div></div></div></div></div></div>"
      ],
      "text/plain": [
       "Pipeline(steps=[('columntransformer',\n",
       "                 ColumnTransformer(transformers=[('categorical',\n",
       "                                                  Pipeline(steps=[('imputation_constant',\n",
       "                                                                   SimpleImputer(fill_value='missing',\n",
       "                                                                                 strategy='most_frequent'))]),\n",
       "                                                  []),\n",
       "                                                 ('numerical',\n",
       "                                                  Pipeline(steps=[('imputation_mean',\n",
       "                                                                   SimpleImputer()),\n",
       "                                                                  ('scaler',\n",
       "                                                                   StandardScaler())]),\n",
       "                                                  ['BertzCT', 'Chi1', 'Chi1n',\n",
       "                                                   'Chi1v', 'Chi2n', 'Chi2v',\n",
       "                                                   'Chi3v', 'Chi4n...\n",
       "                               feature_types=None, gamma=None, gpu_id=None,\n",
       "                               grow_policy=None, importance_type=None,\n",
       "                               interaction_constraints=None, learning_rate=None,\n",
       "                               max_bin=None, max_cat_threshold=None,\n",
       "                               max_cat_to_onehot=None, max_delta_step=None,\n",
       "                               max_depth=None, max_leaves=None,\n",
       "                               min_child_weight=None, missing=nan,\n",
       "                               monotone_constraints=None, n_estimators=100,\n",
       "                               n_jobs=None, num_parallel_tree=None,\n",
       "                               predictor=None, random_state=None, ...))])"
      ]
     },
     "execution_count": 77,
     "metadata": {},
     "output_type": "execute_result"
    }
   ],
   "source": [
    "pipe.fit(X,Y2)"
   ]
  },
  {
   "cell_type": "code",
   "execution_count": 81,
   "id": "79768149",
   "metadata": {},
   "outputs": [
    {
     "data": {
      "text/plain": [
       "array([1, 1, 1, ..., 1, 1, 1])"
      ]
     },
     "execution_count": 81,
     "metadata": {},
     "output_type": "execute_result"
    }
   ],
   "source": [
    "preds2=pipe.predict(X_test)\n",
    "preds2"
   ]
  },
  {
   "cell_type": "code",
   "execution_count": 82,
   "id": "e7e20334",
   "metadata": {},
   "outputs": [
    {
     "data": {
      "text/plain": [
       "array([1, 1, 1, 1, 1, 1, 1, 1, 1, 1, 1, 1, 1, 1, 1, 1, 1, 1, 1, 1])"
      ]
     },
     "execution_count": 82,
     "metadata": {},
     "output_type": "execute_result"
    }
   ],
   "source": [
    "preds2[:20]"
   ]
  },
  {
   "cell_type": "code",
   "execution_count": null,
   "id": "bbb2a027",
   "metadata": {},
   "outputs": [],
   "source": []
  },
  {
   "cell_type": "markdown",
   "id": "de26aacf",
   "metadata": {},
   "source": [
    "### Random Forest Classifier"
   ]
  },
  {
   "cell_type": "code",
   "execution_count": 84,
   "id": "efb7d829",
   "metadata": {},
   "outputs": [
    {
     "data": {
      "text/plain": [
       "((12076, 31), (12076,))"
      ]
     },
     "execution_count": 84,
     "metadata": {},
     "output_type": "execute_result"
    }
   ],
   "source": [
    "X_train.shape,y_train_encoded.shape"
   ]
  },
  {
   "cell_type": "code",
   "execution_count": 85,
   "id": "7d04681d",
   "metadata": {},
   "outputs": [
    {
     "data": {
      "text/html": [
       "<div>\n",
       "<style scoped>\n",
       "    .dataframe tbody tr th:only-of-type {\n",
       "        vertical-align: middle;\n",
       "    }\n",
       "\n",
       "    .dataframe tbody tr th {\n",
       "        vertical-align: top;\n",
       "    }\n",
       "\n",
       "    .dataframe thead th {\n",
       "        text-align: right;\n",
       "    }\n",
       "</style>\n",
       "<table border=\"1\" class=\"dataframe\">\n",
       "  <thead>\n",
       "    <tr style=\"text-align: right;\">\n",
       "      <th></th>\n",
       "      <th>BertzCT</th>\n",
       "      <th>Chi1</th>\n",
       "      <th>Chi1n</th>\n",
       "      <th>Chi1v</th>\n",
       "      <th>Chi2n</th>\n",
       "      <th>Chi2v</th>\n",
       "      <th>Chi3v</th>\n",
       "      <th>Chi4n</th>\n",
       "      <th>EState_VSA1</th>\n",
       "      <th>EState_VSA2</th>\n",
       "      <th>...</th>\n",
       "      <th>PEOE_VSA14</th>\n",
       "      <th>PEOE_VSA6</th>\n",
       "      <th>PEOE_VSA7</th>\n",
       "      <th>PEOE_VSA8</th>\n",
       "      <th>SMR_VSA10</th>\n",
       "      <th>SMR_VSA5</th>\n",
       "      <th>SlogP_VSA3</th>\n",
       "      <th>VSA_EState9</th>\n",
       "      <th>fr_COO</th>\n",
       "      <th>fr_COO2</th>\n",
       "    </tr>\n",
       "  </thead>\n",
       "  <tbody>\n",
       "    <tr>\n",
       "      <th>0</th>\n",
       "      <td>323.39</td>\n",
       "      <td>9.88</td>\n",
       "      <td>5.88</td>\n",
       "      <td>5.88</td>\n",
       "      <td>4.30</td>\n",
       "      <td>4.30</td>\n",
       "      <td>2.75</td>\n",
       "      <td>1.75</td>\n",
       "      <td>0.00</td>\n",
       "      <td>11.94</td>\n",
       "      <td>...</td>\n",
       "      <td>91.54</td>\n",
       "      <td>0.00</td>\n",
       "      <td>0.00</td>\n",
       "      <td>0.00</td>\n",
       "      <td>17.74</td>\n",
       "      <td>0.00</td>\n",
       "      <td>4.79</td>\n",
       "      <td>35.53</td>\n",
       "      <td>0</td>\n",
       "      <td>0</td>\n",
       "    </tr>\n",
       "    <tr>\n",
       "      <th>1</th>\n",
       "      <td>273.72</td>\n",
       "      <td>7.26</td>\n",
       "      <td>4.44</td>\n",
       "      <td>5.83</td>\n",
       "      <td>3.29</td>\n",
       "      <td>4.49</td>\n",
       "      <td>2.20</td>\n",
       "      <td>1.29</td>\n",
       "      <td>45.14</td>\n",
       "      <td>0.00</td>\n",
       "      <td>...</td>\n",
       "      <td>7.82</td>\n",
       "      <td>0.00</td>\n",
       "      <td>0.00</td>\n",
       "      <td>0.00</td>\n",
       "      <td>7.82</td>\n",
       "      <td>30.71</td>\n",
       "      <td>13.83</td>\n",
       "      <td>44.71</td>\n",
       "      <td>0</td>\n",
       "      <td>0</td>\n",
       "    </tr>\n",
       "  </tbody>\n",
       "</table>\n",
       "<p>2 rows × 31 columns</p>\n",
       "</div>"
      ],
      "text/plain": [
       "   BertzCT  Chi1  Chi1n  Chi1v  Chi2n  Chi2v  Chi3v  Chi4n  EState_VSA1  \\\n",
       "0   323.39  9.88   5.88   5.88   4.30   4.30   2.75   1.75         0.00   \n",
       "1   273.72  7.26   4.44   5.83   3.29   4.49   2.20   1.29        45.14   \n",
       "\n",
       "   EState_VSA2  ...  PEOE_VSA14  PEOE_VSA6  PEOE_VSA7  PEOE_VSA8  SMR_VSA10  \\\n",
       "0        11.94  ...       91.54       0.00       0.00       0.00      17.74   \n",
       "1         0.00  ...        7.82       0.00       0.00       0.00       7.82   \n",
       "\n",
       "   SMR_VSA5  SlogP_VSA3  VSA_EState9  fr_COO  fr_COO2  \n",
       "0      0.00        4.79        35.53       0        0  \n",
       "1     30.71       13.83        44.71       0        0  \n",
       "\n",
       "[2 rows x 31 columns]"
      ]
     },
     "execution_count": 85,
     "metadata": {},
     "output_type": "execute_result"
    }
   ],
   "source": [
    "X.head(2)"
   ]
  },
  {
   "cell_type": "code",
   "execution_count": 86,
   "id": "7cdc1490",
   "metadata": {},
   "outputs": [
    {
     "data": {
      "text/html": [
       "<style>#sk-container-id-3 {color: black;background-color: white;}#sk-container-id-3 pre{padding: 0;}#sk-container-id-3 div.sk-toggleable {background-color: white;}#sk-container-id-3 label.sk-toggleable__label {cursor: pointer;display: block;width: 100%;margin-bottom: 0;padding: 0.3em;box-sizing: border-box;text-align: center;}#sk-container-id-3 label.sk-toggleable__label-arrow:before {content: \"▸\";float: left;margin-right: 0.25em;color: #696969;}#sk-container-id-3 label.sk-toggleable__label-arrow:hover:before {color: black;}#sk-container-id-3 div.sk-estimator:hover label.sk-toggleable__label-arrow:before {color: black;}#sk-container-id-3 div.sk-toggleable__content {max-height: 0;max-width: 0;overflow: hidden;text-align: left;background-color: #f0f8ff;}#sk-container-id-3 div.sk-toggleable__content pre {margin: 0.2em;color: black;border-radius: 0.25em;background-color: #f0f8ff;}#sk-container-id-3 input.sk-toggleable__control:checked~div.sk-toggleable__content {max-height: 200px;max-width: 100%;overflow: auto;}#sk-container-id-3 input.sk-toggleable__control:checked~label.sk-toggleable__label-arrow:before {content: \"▾\";}#sk-container-id-3 div.sk-estimator input.sk-toggleable__control:checked~label.sk-toggleable__label {background-color: #d4ebff;}#sk-container-id-3 div.sk-label input.sk-toggleable__control:checked~label.sk-toggleable__label {background-color: #d4ebff;}#sk-container-id-3 input.sk-hidden--visually {border: 0;clip: rect(1px 1px 1px 1px);clip: rect(1px, 1px, 1px, 1px);height: 1px;margin: -1px;overflow: hidden;padding: 0;position: absolute;width: 1px;}#sk-container-id-3 div.sk-estimator {font-family: monospace;background-color: #f0f8ff;border: 1px dotted black;border-radius: 0.25em;box-sizing: border-box;margin-bottom: 0.5em;}#sk-container-id-3 div.sk-estimator:hover {background-color: #d4ebff;}#sk-container-id-3 div.sk-parallel-item::after {content: \"\";width: 100%;border-bottom: 1px solid gray;flex-grow: 1;}#sk-container-id-3 div.sk-label:hover label.sk-toggleable__label {background-color: #d4ebff;}#sk-container-id-3 div.sk-serial::before {content: \"\";position: absolute;border-left: 1px solid gray;box-sizing: border-box;top: 0;bottom: 0;left: 50%;z-index: 0;}#sk-container-id-3 div.sk-serial {display: flex;flex-direction: column;align-items: center;background-color: white;padding-right: 0.2em;padding-left: 0.2em;position: relative;}#sk-container-id-3 div.sk-item {position: relative;z-index: 1;}#sk-container-id-3 div.sk-parallel {display: flex;align-items: stretch;justify-content: center;background-color: white;position: relative;}#sk-container-id-3 div.sk-item::before, #sk-container-id-3 div.sk-parallel-item::before {content: \"\";position: absolute;border-left: 1px solid gray;box-sizing: border-box;top: 0;bottom: 0;left: 50%;z-index: -1;}#sk-container-id-3 div.sk-parallel-item {display: flex;flex-direction: column;z-index: 1;position: relative;background-color: white;}#sk-container-id-3 div.sk-parallel-item:first-child::after {align-self: flex-end;width: 50%;}#sk-container-id-3 div.sk-parallel-item:last-child::after {align-self: flex-start;width: 50%;}#sk-container-id-3 div.sk-parallel-item:only-child::after {width: 0;}#sk-container-id-3 div.sk-dashed-wrapped {border: 1px dashed gray;margin: 0 0.4em 0.5em 0.4em;box-sizing: border-box;padding-bottom: 0.4em;background-color: white;}#sk-container-id-3 div.sk-label label {font-family: monospace;font-weight: bold;display: inline-block;line-height: 1.2em;}#sk-container-id-3 div.sk-label-container {text-align: center;}#sk-container-id-3 div.sk-container {/* jupyter's `normalize.less` sets `[hidden] { display: none; }` but bootstrap.min.css set `[hidden] { display: none !important; }` so we also need the `!important` here to be able to override the default hidden behavior on the sphinx rendered scikit-learn.org. See: https://github.com/scikit-learn/scikit-learn/issues/21755 */display: inline-block !important;position: relative;}#sk-container-id-3 div.sk-text-repr-fallback {display: none;}</style><div id=\"sk-container-id-3\" class=\"sk-top-container\"><div class=\"sk-text-repr-fallback\"><pre>Pipeline(steps=[(&#x27;smote&#x27;, SMOTE(random_state=42)),\n",
       "                (&#x27;columntransformer&#x27;,\n",
       "                 ColumnTransformer(transformers=[(&#x27;categorical&#x27;,\n",
       "                                                  Pipeline(steps=[(&#x27;imputation_constant&#x27;,\n",
       "                                                                   SimpleImputer(fill_value=&#x27;missing&#x27;,\n",
       "                                                                                 strategy=&#x27;most_frequent&#x27;)),\n",
       "                                                                  (&#x27;onehot&#x27;,\n",
       "                                                                   OneHotEncoder(handle_unknown=&#x27;ignore&#x27;))]),\n",
       "                                                  []),\n",
       "                                                 (&#x27;numerical&#x27;,\n",
       "                                                  Pipeline(steps=[(&#x27;imputation_mean&#x27;,\n",
       "                                                                   SimpleImputer()),\n",
       "                                                                  (&#x27;scaler&#x27;,\n",
       "                                                                   S...\n",
       "                                                   &#x27;EState_VSA1&#x27;, &#x27;EState_VSA2&#x27;,\n",
       "                                                   &#x27;ExactMolWt&#x27;,\n",
       "                                                   &#x27;FpDensityMorgan1&#x27;,\n",
       "                                                   &#x27;FpDensityMorgan2&#x27;,\n",
       "                                                   &#x27;FpDensityMorgan3&#x27;,\n",
       "                                                   &#x27;HallKierAlpha&#x27;,\n",
       "                                                   &#x27;HeavyAtomMolWt&#x27;, &#x27;Kappa3&#x27;,\n",
       "                                                   &#x27;MaxAbsEStateIndex&#x27;,\n",
       "                                                   &#x27;MinEStateIndex&#x27;,\n",
       "                                                   &#x27;NumHeteroatoms&#x27;,\n",
       "                                                   &#x27;PEOE_VSA10&#x27;, &#x27;PEOE_VSA14&#x27;,\n",
       "                                                   &#x27;PEOE_VSA6&#x27;, &#x27;PEOE_VSA7&#x27;,\n",
       "                                                   &#x27;PEOE_VSA8&#x27;, &#x27;SMR_VSA10&#x27;,\n",
       "                                                   &#x27;SMR_VSA5&#x27;, &#x27;SlogP_VSA3&#x27;,\n",
       "                                                   &#x27;VSA_EState9&#x27;, &#x27;fr_COO&#x27;, ...])])),\n",
       "                (&#x27;randomforestclassifier&#x27;, RandomForestClassifier())])</pre><b>In a Jupyter environment, please rerun this cell to show the HTML representation or trust the notebook. <br />On GitHub, the HTML representation is unable to render, please try loading this page with nbviewer.org.</b></div><div class=\"sk-container\" hidden><div class=\"sk-item sk-dashed-wrapped\"><div class=\"sk-label-container\"><div class=\"sk-label sk-toggleable\"><input class=\"sk-toggleable__control sk-hidden--visually\" id=\"sk-estimator-id-19\" type=\"checkbox\" ><label for=\"sk-estimator-id-19\" class=\"sk-toggleable__label sk-toggleable__label-arrow\">Pipeline</label><div class=\"sk-toggleable__content\"><pre>Pipeline(steps=[(&#x27;smote&#x27;, SMOTE(random_state=42)),\n",
       "                (&#x27;columntransformer&#x27;,\n",
       "                 ColumnTransformer(transformers=[(&#x27;categorical&#x27;,\n",
       "                                                  Pipeline(steps=[(&#x27;imputation_constant&#x27;,\n",
       "                                                                   SimpleImputer(fill_value=&#x27;missing&#x27;,\n",
       "                                                                                 strategy=&#x27;most_frequent&#x27;)),\n",
       "                                                                  (&#x27;onehot&#x27;,\n",
       "                                                                   OneHotEncoder(handle_unknown=&#x27;ignore&#x27;))]),\n",
       "                                                  []),\n",
       "                                                 (&#x27;numerical&#x27;,\n",
       "                                                  Pipeline(steps=[(&#x27;imputation_mean&#x27;,\n",
       "                                                                   SimpleImputer()),\n",
       "                                                                  (&#x27;scaler&#x27;,\n",
       "                                                                   S...\n",
       "                                                   &#x27;EState_VSA1&#x27;, &#x27;EState_VSA2&#x27;,\n",
       "                                                   &#x27;ExactMolWt&#x27;,\n",
       "                                                   &#x27;FpDensityMorgan1&#x27;,\n",
       "                                                   &#x27;FpDensityMorgan2&#x27;,\n",
       "                                                   &#x27;FpDensityMorgan3&#x27;,\n",
       "                                                   &#x27;HallKierAlpha&#x27;,\n",
       "                                                   &#x27;HeavyAtomMolWt&#x27;, &#x27;Kappa3&#x27;,\n",
       "                                                   &#x27;MaxAbsEStateIndex&#x27;,\n",
       "                                                   &#x27;MinEStateIndex&#x27;,\n",
       "                                                   &#x27;NumHeteroatoms&#x27;,\n",
       "                                                   &#x27;PEOE_VSA10&#x27;, &#x27;PEOE_VSA14&#x27;,\n",
       "                                                   &#x27;PEOE_VSA6&#x27;, &#x27;PEOE_VSA7&#x27;,\n",
       "                                                   &#x27;PEOE_VSA8&#x27;, &#x27;SMR_VSA10&#x27;,\n",
       "                                                   &#x27;SMR_VSA5&#x27;, &#x27;SlogP_VSA3&#x27;,\n",
       "                                                   &#x27;VSA_EState9&#x27;, &#x27;fr_COO&#x27;, ...])])),\n",
       "                (&#x27;randomforestclassifier&#x27;, RandomForestClassifier())])</pre></div></div></div><div class=\"sk-serial\"><div class=\"sk-item\"><div class=\"sk-estimator sk-toggleable\"><input class=\"sk-toggleable__control sk-hidden--visually\" id=\"sk-estimator-id-20\" type=\"checkbox\" ><label for=\"sk-estimator-id-20\" class=\"sk-toggleable__label sk-toggleable__label-arrow\">SMOTE</label><div class=\"sk-toggleable__content\"><pre>SMOTE(random_state=42)</pre></div></div></div><div class=\"sk-item sk-dashed-wrapped\"><div class=\"sk-label-container\"><div class=\"sk-label sk-toggleable\"><input class=\"sk-toggleable__control sk-hidden--visually\" id=\"sk-estimator-id-21\" type=\"checkbox\" ><label for=\"sk-estimator-id-21\" class=\"sk-toggleable__label sk-toggleable__label-arrow\">columntransformer: ColumnTransformer</label><div class=\"sk-toggleable__content\"><pre>ColumnTransformer(transformers=[(&#x27;categorical&#x27;,\n",
       "                                 Pipeline(steps=[(&#x27;imputation_constant&#x27;,\n",
       "                                                  SimpleImputer(fill_value=&#x27;missing&#x27;,\n",
       "                                                                strategy=&#x27;most_frequent&#x27;)),\n",
       "                                                 (&#x27;onehot&#x27;,\n",
       "                                                  OneHotEncoder(handle_unknown=&#x27;ignore&#x27;))]),\n",
       "                                 []),\n",
       "                                (&#x27;numerical&#x27;,\n",
       "                                 Pipeline(steps=[(&#x27;imputation_mean&#x27;,\n",
       "                                                  SimpleImputer()),\n",
       "                                                 (&#x27;scaler&#x27;, StandardScaler())]),\n",
       "                                 [&#x27;BertzCT&#x27;, &#x27;Chi1&#x27;, &#x27;Chi1n&#x27;, &#x27;Chi1v&#x27;, &#x27;Chi2n&#x27;,\n",
       "                                  &#x27;Chi2v&#x27;, &#x27;Chi3v&#x27;, &#x27;Chi4n&#x27;, &#x27;EState_VSA1&#x27;,\n",
       "                                  &#x27;EState_VSA2&#x27;, &#x27;ExactMolWt&#x27;,\n",
       "                                  &#x27;FpDensityMorgan1&#x27;, &#x27;FpDensityMorgan2&#x27;,\n",
       "                                  &#x27;FpDensityMorgan3&#x27;, &#x27;HallKierAlpha&#x27;,\n",
       "                                  &#x27;HeavyAtomMolWt&#x27;, &#x27;Kappa3&#x27;,\n",
       "                                  &#x27;MaxAbsEStateIndex&#x27;, &#x27;MinEStateIndex&#x27;,\n",
       "                                  &#x27;NumHeteroatoms&#x27;, &#x27;PEOE_VSA10&#x27;, &#x27;PEOE_VSA14&#x27;,\n",
       "                                  &#x27;PEOE_VSA6&#x27;, &#x27;PEOE_VSA7&#x27;, &#x27;PEOE_VSA8&#x27;,\n",
       "                                  &#x27;SMR_VSA10&#x27;, &#x27;SMR_VSA5&#x27;, &#x27;SlogP_VSA3&#x27;,\n",
       "                                  &#x27;VSA_EState9&#x27;, &#x27;fr_COO&#x27;, ...])])</pre></div></div></div><div class=\"sk-parallel\"><div class=\"sk-parallel-item\"><div class=\"sk-item\"><div class=\"sk-label-container\"><div class=\"sk-label sk-toggleable\"><input class=\"sk-toggleable__control sk-hidden--visually\" id=\"sk-estimator-id-22\" type=\"checkbox\" ><label for=\"sk-estimator-id-22\" class=\"sk-toggleable__label sk-toggleable__label-arrow\">categorical</label><div class=\"sk-toggleable__content\"><pre>[]</pre></div></div></div><div class=\"sk-serial\"><div class=\"sk-item\"><div class=\"sk-serial\"><div class=\"sk-item\"><div class=\"sk-estimator sk-toggleable\"><input class=\"sk-toggleable__control sk-hidden--visually\" id=\"sk-estimator-id-23\" type=\"checkbox\" ><label for=\"sk-estimator-id-23\" class=\"sk-toggleable__label sk-toggleable__label-arrow\">SimpleImputer</label><div class=\"sk-toggleable__content\"><pre>SimpleImputer(fill_value=&#x27;missing&#x27;, strategy=&#x27;most_frequent&#x27;)</pre></div></div></div><div class=\"sk-item\"><div class=\"sk-estimator sk-toggleable\"><input class=\"sk-toggleable__control sk-hidden--visually\" id=\"sk-estimator-id-24\" type=\"checkbox\" ><label for=\"sk-estimator-id-24\" class=\"sk-toggleable__label sk-toggleable__label-arrow\">OneHotEncoder</label><div class=\"sk-toggleable__content\"><pre>OneHotEncoder(handle_unknown=&#x27;ignore&#x27;)</pre></div></div></div></div></div></div></div></div><div class=\"sk-parallel-item\"><div class=\"sk-item\"><div class=\"sk-label-container\"><div class=\"sk-label sk-toggleable\"><input class=\"sk-toggleable__control sk-hidden--visually\" id=\"sk-estimator-id-25\" type=\"checkbox\" ><label for=\"sk-estimator-id-25\" class=\"sk-toggleable__label sk-toggleable__label-arrow\">numerical</label><div class=\"sk-toggleable__content\"><pre>[&#x27;BertzCT&#x27;, &#x27;Chi1&#x27;, &#x27;Chi1n&#x27;, &#x27;Chi1v&#x27;, &#x27;Chi2n&#x27;, &#x27;Chi2v&#x27;, &#x27;Chi3v&#x27;, &#x27;Chi4n&#x27;, &#x27;EState_VSA1&#x27;, &#x27;EState_VSA2&#x27;, &#x27;ExactMolWt&#x27;, &#x27;FpDensityMorgan1&#x27;, &#x27;FpDensityMorgan2&#x27;, &#x27;FpDensityMorgan3&#x27;, &#x27;HallKierAlpha&#x27;, &#x27;HeavyAtomMolWt&#x27;, &#x27;Kappa3&#x27;, &#x27;MaxAbsEStateIndex&#x27;, &#x27;MinEStateIndex&#x27;, &#x27;NumHeteroatoms&#x27;, &#x27;PEOE_VSA10&#x27;, &#x27;PEOE_VSA14&#x27;, &#x27;PEOE_VSA6&#x27;, &#x27;PEOE_VSA7&#x27;, &#x27;PEOE_VSA8&#x27;, &#x27;SMR_VSA10&#x27;, &#x27;SMR_VSA5&#x27;, &#x27;SlogP_VSA3&#x27;, &#x27;VSA_EState9&#x27;, &#x27;fr_COO&#x27;, &#x27;fr_COO2&#x27;]</pre></div></div></div><div class=\"sk-serial\"><div class=\"sk-item\"><div class=\"sk-serial\"><div class=\"sk-item\"><div class=\"sk-estimator sk-toggleable\"><input class=\"sk-toggleable__control sk-hidden--visually\" id=\"sk-estimator-id-26\" type=\"checkbox\" ><label for=\"sk-estimator-id-26\" class=\"sk-toggleable__label sk-toggleable__label-arrow\">SimpleImputer</label><div class=\"sk-toggleable__content\"><pre>SimpleImputer()</pre></div></div></div><div class=\"sk-item\"><div class=\"sk-estimator sk-toggleable\"><input class=\"sk-toggleable__control sk-hidden--visually\" id=\"sk-estimator-id-27\" type=\"checkbox\" ><label for=\"sk-estimator-id-27\" class=\"sk-toggleable__label sk-toggleable__label-arrow\">StandardScaler</label><div class=\"sk-toggleable__content\"><pre>StandardScaler()</pre></div></div></div></div></div></div></div></div></div></div><div class=\"sk-item\"><div class=\"sk-estimator sk-toggleable\"><input class=\"sk-toggleable__control sk-hidden--visually\" id=\"sk-estimator-id-28\" type=\"checkbox\" ><label for=\"sk-estimator-id-28\" class=\"sk-toggleable__label sk-toggleable__label-arrow\">RandomForestClassifier</label><div class=\"sk-toggleable__content\"><pre>RandomForestClassifier()</pre></div></div></div></div></div></div></div>"
      ],
      "text/plain": [
       "Pipeline(steps=[('smote', SMOTE(random_state=42)),\n",
       "                ('columntransformer',\n",
       "                 ColumnTransformer(transformers=[('categorical',\n",
       "                                                  Pipeline(steps=[('imputation_constant',\n",
       "                                                                   SimpleImputer(fill_value='missing',\n",
       "                                                                                 strategy='most_frequent')),\n",
       "                                                                  ('onehot',\n",
       "                                                                   OneHotEncoder(handle_unknown='ignore'))]),\n",
       "                                                  []),\n",
       "                                                 ('numerical',\n",
       "                                                  Pipeline(steps=[('imputation_mean',\n",
       "                                                                   SimpleImputer()),\n",
       "                                                                  ('scaler',\n",
       "                                                                   S...\n",
       "                                                   'EState_VSA1', 'EState_VSA2',\n",
       "                                                   'ExactMolWt',\n",
       "                                                   'FpDensityMorgan1',\n",
       "                                                   'FpDensityMorgan2',\n",
       "                                                   'FpDensityMorgan3',\n",
       "                                                   'HallKierAlpha',\n",
       "                                                   'HeavyAtomMolWt', 'Kappa3',\n",
       "                                                   'MaxAbsEStateIndex',\n",
       "                                                   'MinEStateIndex',\n",
       "                                                   'NumHeteroatoms',\n",
       "                                                   'PEOE_VSA10', 'PEOE_VSA14',\n",
       "                                                   'PEOE_VSA6', 'PEOE_VSA7',\n",
       "                                                   'PEOE_VSA8', 'SMR_VSA10',\n",
       "                                                   'SMR_VSA5', 'SlogP_VSA3',\n",
       "                                                   'VSA_EState9', 'fr_COO', ...])])),\n",
       "                ('randomforestclassifier', RandomForestClassifier())])"
      ]
     },
     "execution_count": 86,
     "metadata": {},
     "output_type": "execute_result"
    }
   ],
   "source": [
    "from imblearn.pipeline import make_pipeline as make_imb_pipeline\n",
    "pipe_rf=make_imb_pipeline(SMOTE(random_state=42),preprocessor,RandomForestClassifier())\n",
    "pipe_rf"
   ]
  },
  {
   "cell_type": "code",
   "execution_count": 87,
   "id": "6fc285e4",
   "metadata": {},
   "outputs": [
    {
     "data": {
      "text/html": [
       "<style>#sk-container-id-4 {color: black;background-color: white;}#sk-container-id-4 pre{padding: 0;}#sk-container-id-4 div.sk-toggleable {background-color: white;}#sk-container-id-4 label.sk-toggleable__label {cursor: pointer;display: block;width: 100%;margin-bottom: 0;padding: 0.3em;box-sizing: border-box;text-align: center;}#sk-container-id-4 label.sk-toggleable__label-arrow:before {content: \"▸\";float: left;margin-right: 0.25em;color: #696969;}#sk-container-id-4 label.sk-toggleable__label-arrow:hover:before {color: black;}#sk-container-id-4 div.sk-estimator:hover label.sk-toggleable__label-arrow:before {color: black;}#sk-container-id-4 div.sk-toggleable__content {max-height: 0;max-width: 0;overflow: hidden;text-align: left;background-color: #f0f8ff;}#sk-container-id-4 div.sk-toggleable__content pre {margin: 0.2em;color: black;border-radius: 0.25em;background-color: #f0f8ff;}#sk-container-id-4 input.sk-toggleable__control:checked~div.sk-toggleable__content {max-height: 200px;max-width: 100%;overflow: auto;}#sk-container-id-4 input.sk-toggleable__control:checked~label.sk-toggleable__label-arrow:before {content: \"▾\";}#sk-container-id-4 div.sk-estimator input.sk-toggleable__control:checked~label.sk-toggleable__label {background-color: #d4ebff;}#sk-container-id-4 div.sk-label input.sk-toggleable__control:checked~label.sk-toggleable__label {background-color: #d4ebff;}#sk-container-id-4 input.sk-hidden--visually {border: 0;clip: rect(1px 1px 1px 1px);clip: rect(1px, 1px, 1px, 1px);height: 1px;margin: -1px;overflow: hidden;padding: 0;position: absolute;width: 1px;}#sk-container-id-4 div.sk-estimator {font-family: monospace;background-color: #f0f8ff;border: 1px dotted black;border-radius: 0.25em;box-sizing: border-box;margin-bottom: 0.5em;}#sk-container-id-4 div.sk-estimator:hover {background-color: #d4ebff;}#sk-container-id-4 div.sk-parallel-item::after {content: \"\";width: 100%;border-bottom: 1px solid gray;flex-grow: 1;}#sk-container-id-4 div.sk-label:hover label.sk-toggleable__label {background-color: #d4ebff;}#sk-container-id-4 div.sk-serial::before {content: \"\";position: absolute;border-left: 1px solid gray;box-sizing: border-box;top: 0;bottom: 0;left: 50%;z-index: 0;}#sk-container-id-4 div.sk-serial {display: flex;flex-direction: column;align-items: center;background-color: white;padding-right: 0.2em;padding-left: 0.2em;position: relative;}#sk-container-id-4 div.sk-item {position: relative;z-index: 1;}#sk-container-id-4 div.sk-parallel {display: flex;align-items: stretch;justify-content: center;background-color: white;position: relative;}#sk-container-id-4 div.sk-item::before, #sk-container-id-4 div.sk-parallel-item::before {content: \"\";position: absolute;border-left: 1px solid gray;box-sizing: border-box;top: 0;bottom: 0;left: 50%;z-index: -1;}#sk-container-id-4 div.sk-parallel-item {display: flex;flex-direction: column;z-index: 1;position: relative;background-color: white;}#sk-container-id-4 div.sk-parallel-item:first-child::after {align-self: flex-end;width: 50%;}#sk-container-id-4 div.sk-parallel-item:last-child::after {align-self: flex-start;width: 50%;}#sk-container-id-4 div.sk-parallel-item:only-child::after {width: 0;}#sk-container-id-4 div.sk-dashed-wrapped {border: 1px dashed gray;margin: 0 0.4em 0.5em 0.4em;box-sizing: border-box;padding-bottom: 0.4em;background-color: white;}#sk-container-id-4 div.sk-label label {font-family: monospace;font-weight: bold;display: inline-block;line-height: 1.2em;}#sk-container-id-4 div.sk-label-container {text-align: center;}#sk-container-id-4 div.sk-container {/* jupyter's `normalize.less` sets `[hidden] { display: none; }` but bootstrap.min.css set `[hidden] { display: none !important; }` so we also need the `!important` here to be able to override the default hidden behavior on the sphinx rendered scikit-learn.org. See: https://github.com/scikit-learn/scikit-learn/issues/21755 */display: inline-block !important;position: relative;}#sk-container-id-4 div.sk-text-repr-fallback {display: none;}</style><div id=\"sk-container-id-4\" class=\"sk-top-container\"><div class=\"sk-text-repr-fallback\"><pre>Pipeline(steps=[(&#x27;smote&#x27;, SMOTE(random_state=42)),\n",
       "                (&#x27;columntransformer&#x27;,\n",
       "                 ColumnTransformer(transformers=[(&#x27;categorical&#x27;,\n",
       "                                                  Pipeline(steps=[(&#x27;imputation_constant&#x27;,\n",
       "                                                                   SimpleImputer(fill_value=&#x27;missing&#x27;,\n",
       "                                                                                 strategy=&#x27;most_frequent&#x27;)),\n",
       "                                                                  (&#x27;onehot&#x27;,\n",
       "                                                                   OneHotEncoder(handle_unknown=&#x27;ignore&#x27;))]),\n",
       "                                                  []),\n",
       "                                                 (&#x27;numerical&#x27;,\n",
       "                                                  Pipeline(steps=[(&#x27;imputation_mean&#x27;,\n",
       "                                                                   SimpleImputer()),\n",
       "                                                                  (&#x27;scaler&#x27;,\n",
       "                                                                   S...\n",
       "                                                   &#x27;EState_VSA1&#x27;, &#x27;EState_VSA2&#x27;,\n",
       "                                                   &#x27;ExactMolWt&#x27;,\n",
       "                                                   &#x27;FpDensityMorgan1&#x27;,\n",
       "                                                   &#x27;FpDensityMorgan2&#x27;,\n",
       "                                                   &#x27;FpDensityMorgan3&#x27;,\n",
       "                                                   &#x27;HallKierAlpha&#x27;,\n",
       "                                                   &#x27;HeavyAtomMolWt&#x27;, &#x27;Kappa3&#x27;,\n",
       "                                                   &#x27;MaxAbsEStateIndex&#x27;,\n",
       "                                                   &#x27;MinEStateIndex&#x27;,\n",
       "                                                   &#x27;NumHeteroatoms&#x27;,\n",
       "                                                   &#x27;PEOE_VSA10&#x27;, &#x27;PEOE_VSA14&#x27;,\n",
       "                                                   &#x27;PEOE_VSA6&#x27;, &#x27;PEOE_VSA7&#x27;,\n",
       "                                                   &#x27;PEOE_VSA8&#x27;, &#x27;SMR_VSA10&#x27;,\n",
       "                                                   &#x27;SMR_VSA5&#x27;, &#x27;SlogP_VSA3&#x27;,\n",
       "                                                   &#x27;VSA_EState9&#x27;, &#x27;fr_COO&#x27;, ...])])),\n",
       "                (&#x27;randomforestclassifier&#x27;, RandomForestClassifier())])</pre><b>In a Jupyter environment, please rerun this cell to show the HTML representation or trust the notebook. <br />On GitHub, the HTML representation is unable to render, please try loading this page with nbviewer.org.</b></div><div class=\"sk-container\" hidden><div class=\"sk-item sk-dashed-wrapped\"><div class=\"sk-label-container\"><div class=\"sk-label sk-toggleable\"><input class=\"sk-toggleable__control sk-hidden--visually\" id=\"sk-estimator-id-29\" type=\"checkbox\" ><label for=\"sk-estimator-id-29\" class=\"sk-toggleable__label sk-toggleable__label-arrow\">Pipeline</label><div class=\"sk-toggleable__content\"><pre>Pipeline(steps=[(&#x27;smote&#x27;, SMOTE(random_state=42)),\n",
       "                (&#x27;columntransformer&#x27;,\n",
       "                 ColumnTransformer(transformers=[(&#x27;categorical&#x27;,\n",
       "                                                  Pipeline(steps=[(&#x27;imputation_constant&#x27;,\n",
       "                                                                   SimpleImputer(fill_value=&#x27;missing&#x27;,\n",
       "                                                                                 strategy=&#x27;most_frequent&#x27;)),\n",
       "                                                                  (&#x27;onehot&#x27;,\n",
       "                                                                   OneHotEncoder(handle_unknown=&#x27;ignore&#x27;))]),\n",
       "                                                  []),\n",
       "                                                 (&#x27;numerical&#x27;,\n",
       "                                                  Pipeline(steps=[(&#x27;imputation_mean&#x27;,\n",
       "                                                                   SimpleImputer()),\n",
       "                                                                  (&#x27;scaler&#x27;,\n",
       "                                                                   S...\n",
       "                                                   &#x27;EState_VSA1&#x27;, &#x27;EState_VSA2&#x27;,\n",
       "                                                   &#x27;ExactMolWt&#x27;,\n",
       "                                                   &#x27;FpDensityMorgan1&#x27;,\n",
       "                                                   &#x27;FpDensityMorgan2&#x27;,\n",
       "                                                   &#x27;FpDensityMorgan3&#x27;,\n",
       "                                                   &#x27;HallKierAlpha&#x27;,\n",
       "                                                   &#x27;HeavyAtomMolWt&#x27;, &#x27;Kappa3&#x27;,\n",
       "                                                   &#x27;MaxAbsEStateIndex&#x27;,\n",
       "                                                   &#x27;MinEStateIndex&#x27;,\n",
       "                                                   &#x27;NumHeteroatoms&#x27;,\n",
       "                                                   &#x27;PEOE_VSA10&#x27;, &#x27;PEOE_VSA14&#x27;,\n",
       "                                                   &#x27;PEOE_VSA6&#x27;, &#x27;PEOE_VSA7&#x27;,\n",
       "                                                   &#x27;PEOE_VSA8&#x27;, &#x27;SMR_VSA10&#x27;,\n",
       "                                                   &#x27;SMR_VSA5&#x27;, &#x27;SlogP_VSA3&#x27;,\n",
       "                                                   &#x27;VSA_EState9&#x27;, &#x27;fr_COO&#x27;, ...])])),\n",
       "                (&#x27;randomforestclassifier&#x27;, RandomForestClassifier())])</pre></div></div></div><div class=\"sk-serial\"><div class=\"sk-item\"><div class=\"sk-estimator sk-toggleable\"><input class=\"sk-toggleable__control sk-hidden--visually\" id=\"sk-estimator-id-30\" type=\"checkbox\" ><label for=\"sk-estimator-id-30\" class=\"sk-toggleable__label sk-toggleable__label-arrow\">SMOTE</label><div class=\"sk-toggleable__content\"><pre>SMOTE(random_state=42)</pre></div></div></div><div class=\"sk-item sk-dashed-wrapped\"><div class=\"sk-label-container\"><div class=\"sk-label sk-toggleable\"><input class=\"sk-toggleable__control sk-hidden--visually\" id=\"sk-estimator-id-31\" type=\"checkbox\" ><label for=\"sk-estimator-id-31\" class=\"sk-toggleable__label sk-toggleable__label-arrow\">columntransformer: ColumnTransformer</label><div class=\"sk-toggleable__content\"><pre>ColumnTransformer(transformers=[(&#x27;categorical&#x27;,\n",
       "                                 Pipeline(steps=[(&#x27;imputation_constant&#x27;,\n",
       "                                                  SimpleImputer(fill_value=&#x27;missing&#x27;,\n",
       "                                                                strategy=&#x27;most_frequent&#x27;)),\n",
       "                                                 (&#x27;onehot&#x27;,\n",
       "                                                  OneHotEncoder(handle_unknown=&#x27;ignore&#x27;))]),\n",
       "                                 []),\n",
       "                                (&#x27;numerical&#x27;,\n",
       "                                 Pipeline(steps=[(&#x27;imputation_mean&#x27;,\n",
       "                                                  SimpleImputer()),\n",
       "                                                 (&#x27;scaler&#x27;, StandardScaler())]),\n",
       "                                 [&#x27;BertzCT&#x27;, &#x27;Chi1&#x27;, &#x27;Chi1n&#x27;, &#x27;Chi1v&#x27;, &#x27;Chi2n&#x27;,\n",
       "                                  &#x27;Chi2v&#x27;, &#x27;Chi3v&#x27;, &#x27;Chi4n&#x27;, &#x27;EState_VSA1&#x27;,\n",
       "                                  &#x27;EState_VSA2&#x27;, &#x27;ExactMolWt&#x27;,\n",
       "                                  &#x27;FpDensityMorgan1&#x27;, &#x27;FpDensityMorgan2&#x27;,\n",
       "                                  &#x27;FpDensityMorgan3&#x27;, &#x27;HallKierAlpha&#x27;,\n",
       "                                  &#x27;HeavyAtomMolWt&#x27;, &#x27;Kappa3&#x27;,\n",
       "                                  &#x27;MaxAbsEStateIndex&#x27;, &#x27;MinEStateIndex&#x27;,\n",
       "                                  &#x27;NumHeteroatoms&#x27;, &#x27;PEOE_VSA10&#x27;, &#x27;PEOE_VSA14&#x27;,\n",
       "                                  &#x27;PEOE_VSA6&#x27;, &#x27;PEOE_VSA7&#x27;, &#x27;PEOE_VSA8&#x27;,\n",
       "                                  &#x27;SMR_VSA10&#x27;, &#x27;SMR_VSA5&#x27;, &#x27;SlogP_VSA3&#x27;,\n",
       "                                  &#x27;VSA_EState9&#x27;, &#x27;fr_COO&#x27;, ...])])</pre></div></div></div><div class=\"sk-parallel\"><div class=\"sk-parallel-item\"><div class=\"sk-item\"><div class=\"sk-label-container\"><div class=\"sk-label sk-toggleable\"><input class=\"sk-toggleable__control sk-hidden--visually\" id=\"sk-estimator-id-32\" type=\"checkbox\" ><label for=\"sk-estimator-id-32\" class=\"sk-toggleable__label sk-toggleable__label-arrow\">categorical</label><div class=\"sk-toggleable__content\"><pre>[]</pre></div></div></div><div class=\"sk-serial\"><div class=\"sk-item\"><div class=\"sk-serial\"><div class=\"sk-item\"><div class=\"sk-estimator sk-toggleable\"><input class=\"sk-toggleable__control sk-hidden--visually\" id=\"sk-estimator-id-33\" type=\"checkbox\" ><label for=\"sk-estimator-id-33\" class=\"sk-toggleable__label sk-toggleable__label-arrow\">SimpleImputer</label><div class=\"sk-toggleable__content\"><pre>SimpleImputer(fill_value=&#x27;missing&#x27;, strategy=&#x27;most_frequent&#x27;)</pre></div></div></div><div class=\"sk-item\"><div class=\"sk-estimator sk-toggleable\"><input class=\"sk-toggleable__control sk-hidden--visually\" id=\"sk-estimator-id-34\" type=\"checkbox\" ><label for=\"sk-estimator-id-34\" class=\"sk-toggleable__label sk-toggleable__label-arrow\">OneHotEncoder</label><div class=\"sk-toggleable__content\"><pre>OneHotEncoder(handle_unknown=&#x27;ignore&#x27;)</pre></div></div></div></div></div></div></div></div><div class=\"sk-parallel-item\"><div class=\"sk-item\"><div class=\"sk-label-container\"><div class=\"sk-label sk-toggleable\"><input class=\"sk-toggleable__control sk-hidden--visually\" id=\"sk-estimator-id-35\" type=\"checkbox\" ><label for=\"sk-estimator-id-35\" class=\"sk-toggleable__label sk-toggleable__label-arrow\">numerical</label><div class=\"sk-toggleable__content\"><pre>[&#x27;BertzCT&#x27;, &#x27;Chi1&#x27;, &#x27;Chi1n&#x27;, &#x27;Chi1v&#x27;, &#x27;Chi2n&#x27;, &#x27;Chi2v&#x27;, &#x27;Chi3v&#x27;, &#x27;Chi4n&#x27;, &#x27;EState_VSA1&#x27;, &#x27;EState_VSA2&#x27;, &#x27;ExactMolWt&#x27;, &#x27;FpDensityMorgan1&#x27;, &#x27;FpDensityMorgan2&#x27;, &#x27;FpDensityMorgan3&#x27;, &#x27;HallKierAlpha&#x27;, &#x27;HeavyAtomMolWt&#x27;, &#x27;Kappa3&#x27;, &#x27;MaxAbsEStateIndex&#x27;, &#x27;MinEStateIndex&#x27;, &#x27;NumHeteroatoms&#x27;, &#x27;PEOE_VSA10&#x27;, &#x27;PEOE_VSA14&#x27;, &#x27;PEOE_VSA6&#x27;, &#x27;PEOE_VSA7&#x27;, &#x27;PEOE_VSA8&#x27;, &#x27;SMR_VSA10&#x27;, &#x27;SMR_VSA5&#x27;, &#x27;SlogP_VSA3&#x27;, &#x27;VSA_EState9&#x27;, &#x27;fr_COO&#x27;, &#x27;fr_COO2&#x27;]</pre></div></div></div><div class=\"sk-serial\"><div class=\"sk-item\"><div class=\"sk-serial\"><div class=\"sk-item\"><div class=\"sk-estimator sk-toggleable\"><input class=\"sk-toggleable__control sk-hidden--visually\" id=\"sk-estimator-id-36\" type=\"checkbox\" ><label for=\"sk-estimator-id-36\" class=\"sk-toggleable__label sk-toggleable__label-arrow\">SimpleImputer</label><div class=\"sk-toggleable__content\"><pre>SimpleImputer()</pre></div></div></div><div class=\"sk-item\"><div class=\"sk-estimator sk-toggleable\"><input class=\"sk-toggleable__control sk-hidden--visually\" id=\"sk-estimator-id-37\" type=\"checkbox\" ><label for=\"sk-estimator-id-37\" class=\"sk-toggleable__label sk-toggleable__label-arrow\">StandardScaler</label><div class=\"sk-toggleable__content\"><pre>StandardScaler()</pre></div></div></div></div></div></div></div></div></div></div><div class=\"sk-item\"><div class=\"sk-estimator sk-toggleable\"><input class=\"sk-toggleable__control sk-hidden--visually\" id=\"sk-estimator-id-38\" type=\"checkbox\" ><label for=\"sk-estimator-id-38\" class=\"sk-toggleable__label sk-toggleable__label-arrow\">RandomForestClassifier</label><div class=\"sk-toggleable__content\"><pre>RandomForestClassifier()</pre></div></div></div></div></div></div></div>"
      ],
      "text/plain": [
       "Pipeline(steps=[('smote', SMOTE(random_state=42)),\n",
       "                ('columntransformer',\n",
       "                 ColumnTransformer(transformers=[('categorical',\n",
       "                                                  Pipeline(steps=[('imputation_constant',\n",
       "                                                                   SimpleImputer(fill_value='missing',\n",
       "                                                                                 strategy='most_frequent')),\n",
       "                                                                  ('onehot',\n",
       "                                                                   OneHotEncoder(handle_unknown='ignore'))]),\n",
       "                                                  []),\n",
       "                                                 ('numerical',\n",
       "                                                  Pipeline(steps=[('imputation_mean',\n",
       "                                                                   SimpleImputer()),\n",
       "                                                                  ('scaler',\n",
       "                                                                   S...\n",
       "                                                   'EState_VSA1', 'EState_VSA2',\n",
       "                                                   'ExactMolWt',\n",
       "                                                   'FpDensityMorgan1',\n",
       "                                                   'FpDensityMorgan2',\n",
       "                                                   'FpDensityMorgan3',\n",
       "                                                   'HallKierAlpha',\n",
       "                                                   'HeavyAtomMolWt', 'Kappa3',\n",
       "                                                   'MaxAbsEStateIndex',\n",
       "                                                   'MinEStateIndex',\n",
       "                                                   'NumHeteroatoms',\n",
       "                                                   'PEOE_VSA10', 'PEOE_VSA14',\n",
       "                                                   'PEOE_VSA6', 'PEOE_VSA7',\n",
       "                                                   'PEOE_VSA8', 'SMR_VSA10',\n",
       "                                                   'SMR_VSA5', 'SlogP_VSA3',\n",
       "                                                   'VSA_EState9', 'fr_COO', ...])])),\n",
       "                ('randomforestclassifier', RandomForestClassifier())])"
      ]
     },
     "execution_count": 87,
     "metadata": {},
     "output_type": "execute_result"
    }
   ],
   "source": [
    "pipe_rf.fit(X_train,y_train_encoded)"
   ]
  },
  {
   "cell_type": "code",
   "execution_count": 92,
   "id": "fe0b86ac",
   "metadata": {},
   "outputs": [
    {
     "data": {
      "text/plain": [
       "array([1, 1, 3, ..., 1, 3, 1])"
      ]
     },
     "execution_count": 92,
     "metadata": {},
     "output_type": "execute_result"
    }
   ],
   "source": [
    "preds_val_rf=pipe_rf.predict(X_test)\n",
    "preds_val_rf"
   ]
  },
  {
   "cell_type": "code",
   "execution_count": 90,
   "id": "f9f6894c",
   "metadata": {},
   "outputs": [
    {
     "data": {
      "text/plain": [
       "(3020, 3020)"
      ]
     },
     "execution_count": 90,
     "metadata": {},
     "output_type": "execute_result"
    }
   ],
   "source": [
    "arr1_rf = np.array([x[0] for x in preds_val_rf])\n",
    "arr2_rf = np.array([x[1] for x in preds_val_rf])\n",
    "len(arr1_rf),len(arr2_rf)"
   ]
  },
  {
   "cell_type": "code",
   "execution_count": 93,
   "id": "c45daf1d",
   "metadata": {},
   "outputs": [
    {
     "data": {
      "text/plain": [
       "0.577308782266018"
      ]
     },
     "execution_count": 93,
     "metadata": {},
     "output_type": "execute_result"
    }
   ],
   "source": [
    "evaluation(y_test,preds_val_rf,label_encoder)"
   ]
  },
  {
   "cell_type": "code",
   "execution_count": null,
   "id": "9304b8c3",
   "metadata": {},
   "outputs": [],
   "source": []
  },
  {
   "cell_type": "code",
   "execution_count": null,
   "id": "cfa56c87",
   "metadata": {},
   "outputs": [],
   "source": []
  },
  {
   "cell_type": "markdown",
   "id": "f7678ef3",
   "metadata": {},
   "source": [
    "#### Logistic Regression"
   ]
  },
  {
   "cell_type": "code",
   "execution_count": 56,
   "id": "667133e5",
   "metadata": {},
   "outputs": [],
   "source": [
    "from sklearn.linear_model import LogisticRegression\n",
    "pipe_lr=make_pipeline(preprocessor,LogisticRegression())"
   ]
  },
  {
   "cell_type": "code",
   "execution_count": 139,
   "id": "7f7e5026",
   "metadata": {},
   "outputs": [
    {
     "data": {
      "text/plain": [
       "((14838, 32), (9893, 32))"
      ]
     },
     "execution_count": 139,
     "metadata": {},
     "output_type": "execute_result"
    }
   ],
   "source": [
    "X.shape,X_test.shape"
   ]
  },
  {
   "cell_type": "code",
   "execution_count": 57,
   "id": "baf65224",
   "metadata": {},
   "outputs": [
    {
     "name": "stderr",
     "output_type": "stream",
     "text": [
      "/Volumes/TAPPS/DS_APPS/anaconda3/envs/tensorflow/lib/python3.9/site-packages/sklearn/linear_model/_logistic.py:444: ConvergenceWarning: lbfgs failed to converge (status=1):\n",
      "STOP: TOTAL NO. of ITERATIONS REACHED LIMIT.\n",
      "\n",
      "Increase the number of iterations (max_iter) or scale the data as shown in:\n",
      "    https://scikit-learn.org/stable/modules/preprocessing.html\n",
      "Please also refer to the documentation for alternative solver options:\n",
      "    https://scikit-learn.org/stable/modules/linear_model.html#logistic-regression\n",
      "  n_iter_i = _check_optimize_result(\n"
     ]
    },
    {
     "data": {
      "text/html": [
       "<style>#sk-container-id-5 {color: black;background-color: white;}#sk-container-id-5 pre{padding: 0;}#sk-container-id-5 div.sk-toggleable {background-color: white;}#sk-container-id-5 label.sk-toggleable__label {cursor: pointer;display: block;width: 100%;margin-bottom: 0;padding: 0.3em;box-sizing: border-box;text-align: center;}#sk-container-id-5 label.sk-toggleable__label-arrow:before {content: \"▸\";float: left;margin-right: 0.25em;color: #696969;}#sk-container-id-5 label.sk-toggleable__label-arrow:hover:before {color: black;}#sk-container-id-5 div.sk-estimator:hover label.sk-toggleable__label-arrow:before {color: black;}#sk-container-id-5 div.sk-toggleable__content {max-height: 0;max-width: 0;overflow: hidden;text-align: left;background-color: #f0f8ff;}#sk-container-id-5 div.sk-toggleable__content pre {margin: 0.2em;color: black;border-radius: 0.25em;background-color: #f0f8ff;}#sk-container-id-5 input.sk-toggleable__control:checked~div.sk-toggleable__content {max-height: 200px;max-width: 100%;overflow: auto;}#sk-container-id-5 input.sk-toggleable__control:checked~label.sk-toggleable__label-arrow:before {content: \"▾\";}#sk-container-id-5 div.sk-estimator input.sk-toggleable__control:checked~label.sk-toggleable__label {background-color: #d4ebff;}#sk-container-id-5 div.sk-label input.sk-toggleable__control:checked~label.sk-toggleable__label {background-color: #d4ebff;}#sk-container-id-5 input.sk-hidden--visually {border: 0;clip: rect(1px 1px 1px 1px);clip: rect(1px, 1px, 1px, 1px);height: 1px;margin: -1px;overflow: hidden;padding: 0;position: absolute;width: 1px;}#sk-container-id-5 div.sk-estimator {font-family: monospace;background-color: #f0f8ff;border: 1px dotted black;border-radius: 0.25em;box-sizing: border-box;margin-bottom: 0.5em;}#sk-container-id-5 div.sk-estimator:hover {background-color: #d4ebff;}#sk-container-id-5 div.sk-parallel-item::after {content: \"\";width: 100%;border-bottom: 1px solid gray;flex-grow: 1;}#sk-container-id-5 div.sk-label:hover label.sk-toggleable__label {background-color: #d4ebff;}#sk-container-id-5 div.sk-serial::before {content: \"\";position: absolute;border-left: 1px solid gray;box-sizing: border-box;top: 0;bottom: 0;left: 50%;z-index: 0;}#sk-container-id-5 div.sk-serial {display: flex;flex-direction: column;align-items: center;background-color: white;padding-right: 0.2em;padding-left: 0.2em;position: relative;}#sk-container-id-5 div.sk-item {position: relative;z-index: 1;}#sk-container-id-5 div.sk-parallel {display: flex;align-items: stretch;justify-content: center;background-color: white;position: relative;}#sk-container-id-5 div.sk-item::before, #sk-container-id-5 div.sk-parallel-item::before {content: \"\";position: absolute;border-left: 1px solid gray;box-sizing: border-box;top: 0;bottom: 0;left: 50%;z-index: -1;}#sk-container-id-5 div.sk-parallel-item {display: flex;flex-direction: column;z-index: 1;position: relative;background-color: white;}#sk-container-id-5 div.sk-parallel-item:first-child::after {align-self: flex-end;width: 50%;}#sk-container-id-5 div.sk-parallel-item:last-child::after {align-self: flex-start;width: 50%;}#sk-container-id-5 div.sk-parallel-item:only-child::after {width: 0;}#sk-container-id-5 div.sk-dashed-wrapped {border: 1px dashed gray;margin: 0 0.4em 0.5em 0.4em;box-sizing: border-box;padding-bottom: 0.4em;background-color: white;}#sk-container-id-5 div.sk-label label {font-family: monospace;font-weight: bold;display: inline-block;line-height: 1.2em;}#sk-container-id-5 div.sk-label-container {text-align: center;}#sk-container-id-5 div.sk-container {/* jupyter's `normalize.less` sets `[hidden] { display: none; }` but bootstrap.min.css set `[hidden] { display: none !important; }` so we also need the `!important` here to be able to override the default hidden behavior on the sphinx rendered scikit-learn.org. See: https://github.com/scikit-learn/scikit-learn/issues/21755 */display: inline-block !important;position: relative;}#sk-container-id-5 div.sk-text-repr-fallback {display: none;}</style><div id=\"sk-container-id-5\" class=\"sk-top-container\"><div class=\"sk-text-repr-fallback\"><pre>Pipeline(steps=[(&#x27;columntransformer&#x27;,\n",
       "                 ColumnTransformer(transformers=[(&#x27;categorical&#x27;,\n",
       "                                                  Pipeline(steps=[(&#x27;imputation_constant&#x27;,\n",
       "                                                                   SimpleImputer(fill_value=&#x27;missing&#x27;,\n",
       "                                                                                 strategy=&#x27;most_frequent&#x27;)),\n",
       "                                                                  (&#x27;onehot&#x27;,\n",
       "                                                                   OneHotEncoder(handle_unknown=&#x27;ignore&#x27;))]),\n",
       "                                                  []),\n",
       "                                                 (&#x27;numerical&#x27;,\n",
       "                                                  Pipeline(steps=[(&#x27;imputation_mean&#x27;,\n",
       "                                                                   SimpleImputer()),\n",
       "                                                                  (&#x27;scaler&#x27;,\n",
       "                                                                   StandardScaler())]),\n",
       "                                                  [&#x27;BertzCT&#x27;, &#x27;Ch...\n",
       "                                                   &#x27;EState_VSA1&#x27;, &#x27;EState_VSA2&#x27;,\n",
       "                                                   &#x27;ExactMolWt&#x27;,\n",
       "                                                   &#x27;FpDensityMorgan1&#x27;,\n",
       "                                                   &#x27;FpDensityMorgan2&#x27;,\n",
       "                                                   &#x27;FpDensityMorgan3&#x27;,\n",
       "                                                   &#x27;HallKierAlpha&#x27;,\n",
       "                                                   &#x27;HeavyAtomMolWt&#x27;, &#x27;Kappa3&#x27;,\n",
       "                                                   &#x27;MaxAbsEStateIndex&#x27;,\n",
       "                                                   &#x27;MinEStateIndex&#x27;,\n",
       "                                                   &#x27;NumHeteroatoms&#x27;,\n",
       "                                                   &#x27;PEOE_VSA10&#x27;, &#x27;PEOE_VSA14&#x27;,\n",
       "                                                   &#x27;PEOE_VSA6&#x27;, &#x27;PEOE_VSA7&#x27;,\n",
       "                                                   &#x27;PEOE_VSA8&#x27;, &#x27;SMR_VSA10&#x27;,\n",
       "                                                   &#x27;SMR_VSA5&#x27;, &#x27;SlogP_VSA3&#x27;,\n",
       "                                                   &#x27;VSA_EState9&#x27;, &#x27;fr_COO&#x27;, ...])])),\n",
       "                (&#x27;logisticregression&#x27;, LogisticRegression())])</pre><b>In a Jupyter environment, please rerun this cell to show the HTML representation or trust the notebook. <br />On GitHub, the HTML representation is unable to render, please try loading this page with nbviewer.org.</b></div><div class=\"sk-container\" hidden><div class=\"sk-item sk-dashed-wrapped\"><div class=\"sk-label-container\"><div class=\"sk-label sk-toggleable\"><input class=\"sk-toggleable__control sk-hidden--visually\" id=\"sk-estimator-id-39\" type=\"checkbox\" ><label for=\"sk-estimator-id-39\" class=\"sk-toggleable__label sk-toggleable__label-arrow\">Pipeline</label><div class=\"sk-toggleable__content\"><pre>Pipeline(steps=[(&#x27;columntransformer&#x27;,\n",
       "                 ColumnTransformer(transformers=[(&#x27;categorical&#x27;,\n",
       "                                                  Pipeline(steps=[(&#x27;imputation_constant&#x27;,\n",
       "                                                                   SimpleImputer(fill_value=&#x27;missing&#x27;,\n",
       "                                                                                 strategy=&#x27;most_frequent&#x27;)),\n",
       "                                                                  (&#x27;onehot&#x27;,\n",
       "                                                                   OneHotEncoder(handle_unknown=&#x27;ignore&#x27;))]),\n",
       "                                                  []),\n",
       "                                                 (&#x27;numerical&#x27;,\n",
       "                                                  Pipeline(steps=[(&#x27;imputation_mean&#x27;,\n",
       "                                                                   SimpleImputer()),\n",
       "                                                                  (&#x27;scaler&#x27;,\n",
       "                                                                   StandardScaler())]),\n",
       "                                                  [&#x27;BertzCT&#x27;, &#x27;Ch...\n",
       "                                                   &#x27;EState_VSA1&#x27;, &#x27;EState_VSA2&#x27;,\n",
       "                                                   &#x27;ExactMolWt&#x27;,\n",
       "                                                   &#x27;FpDensityMorgan1&#x27;,\n",
       "                                                   &#x27;FpDensityMorgan2&#x27;,\n",
       "                                                   &#x27;FpDensityMorgan3&#x27;,\n",
       "                                                   &#x27;HallKierAlpha&#x27;,\n",
       "                                                   &#x27;HeavyAtomMolWt&#x27;, &#x27;Kappa3&#x27;,\n",
       "                                                   &#x27;MaxAbsEStateIndex&#x27;,\n",
       "                                                   &#x27;MinEStateIndex&#x27;,\n",
       "                                                   &#x27;NumHeteroatoms&#x27;,\n",
       "                                                   &#x27;PEOE_VSA10&#x27;, &#x27;PEOE_VSA14&#x27;,\n",
       "                                                   &#x27;PEOE_VSA6&#x27;, &#x27;PEOE_VSA7&#x27;,\n",
       "                                                   &#x27;PEOE_VSA8&#x27;, &#x27;SMR_VSA10&#x27;,\n",
       "                                                   &#x27;SMR_VSA5&#x27;, &#x27;SlogP_VSA3&#x27;,\n",
       "                                                   &#x27;VSA_EState9&#x27;, &#x27;fr_COO&#x27;, ...])])),\n",
       "                (&#x27;logisticregression&#x27;, LogisticRegression())])</pre></div></div></div><div class=\"sk-serial\"><div class=\"sk-item sk-dashed-wrapped\"><div class=\"sk-label-container\"><div class=\"sk-label sk-toggleable\"><input class=\"sk-toggleable__control sk-hidden--visually\" id=\"sk-estimator-id-40\" type=\"checkbox\" ><label for=\"sk-estimator-id-40\" class=\"sk-toggleable__label sk-toggleable__label-arrow\">columntransformer: ColumnTransformer</label><div class=\"sk-toggleable__content\"><pre>ColumnTransformer(transformers=[(&#x27;categorical&#x27;,\n",
       "                                 Pipeline(steps=[(&#x27;imputation_constant&#x27;,\n",
       "                                                  SimpleImputer(fill_value=&#x27;missing&#x27;,\n",
       "                                                                strategy=&#x27;most_frequent&#x27;)),\n",
       "                                                 (&#x27;onehot&#x27;,\n",
       "                                                  OneHotEncoder(handle_unknown=&#x27;ignore&#x27;))]),\n",
       "                                 []),\n",
       "                                (&#x27;numerical&#x27;,\n",
       "                                 Pipeline(steps=[(&#x27;imputation_mean&#x27;,\n",
       "                                                  SimpleImputer()),\n",
       "                                                 (&#x27;scaler&#x27;, StandardScaler())]),\n",
       "                                 [&#x27;BertzCT&#x27;, &#x27;Chi1&#x27;, &#x27;Chi1n&#x27;, &#x27;Chi1v&#x27;, &#x27;Chi2n&#x27;,\n",
       "                                  &#x27;Chi2v&#x27;, &#x27;Chi3v&#x27;, &#x27;Chi4n&#x27;, &#x27;EState_VSA1&#x27;,\n",
       "                                  &#x27;EState_VSA2&#x27;, &#x27;ExactMolWt&#x27;,\n",
       "                                  &#x27;FpDensityMorgan1&#x27;, &#x27;FpDensityMorgan2&#x27;,\n",
       "                                  &#x27;FpDensityMorgan3&#x27;, &#x27;HallKierAlpha&#x27;,\n",
       "                                  &#x27;HeavyAtomMolWt&#x27;, &#x27;Kappa3&#x27;,\n",
       "                                  &#x27;MaxAbsEStateIndex&#x27;, &#x27;MinEStateIndex&#x27;,\n",
       "                                  &#x27;NumHeteroatoms&#x27;, &#x27;PEOE_VSA10&#x27;, &#x27;PEOE_VSA14&#x27;,\n",
       "                                  &#x27;PEOE_VSA6&#x27;, &#x27;PEOE_VSA7&#x27;, &#x27;PEOE_VSA8&#x27;,\n",
       "                                  &#x27;SMR_VSA10&#x27;, &#x27;SMR_VSA5&#x27;, &#x27;SlogP_VSA3&#x27;,\n",
       "                                  &#x27;VSA_EState9&#x27;, &#x27;fr_COO&#x27;, ...])])</pre></div></div></div><div class=\"sk-parallel\"><div class=\"sk-parallel-item\"><div class=\"sk-item\"><div class=\"sk-label-container\"><div class=\"sk-label sk-toggleable\"><input class=\"sk-toggleable__control sk-hidden--visually\" id=\"sk-estimator-id-41\" type=\"checkbox\" ><label for=\"sk-estimator-id-41\" class=\"sk-toggleable__label sk-toggleable__label-arrow\">categorical</label><div class=\"sk-toggleable__content\"><pre>[]</pre></div></div></div><div class=\"sk-serial\"><div class=\"sk-item\"><div class=\"sk-serial\"><div class=\"sk-item\"><div class=\"sk-estimator sk-toggleable\"><input class=\"sk-toggleable__control sk-hidden--visually\" id=\"sk-estimator-id-42\" type=\"checkbox\" ><label for=\"sk-estimator-id-42\" class=\"sk-toggleable__label sk-toggleable__label-arrow\">SimpleImputer</label><div class=\"sk-toggleable__content\"><pre>SimpleImputer(fill_value=&#x27;missing&#x27;, strategy=&#x27;most_frequent&#x27;)</pre></div></div></div><div class=\"sk-item\"><div class=\"sk-estimator sk-toggleable\"><input class=\"sk-toggleable__control sk-hidden--visually\" id=\"sk-estimator-id-43\" type=\"checkbox\" ><label for=\"sk-estimator-id-43\" class=\"sk-toggleable__label sk-toggleable__label-arrow\">OneHotEncoder</label><div class=\"sk-toggleable__content\"><pre>OneHotEncoder(handle_unknown=&#x27;ignore&#x27;)</pre></div></div></div></div></div></div></div></div><div class=\"sk-parallel-item\"><div class=\"sk-item\"><div class=\"sk-label-container\"><div class=\"sk-label sk-toggleable\"><input class=\"sk-toggleable__control sk-hidden--visually\" id=\"sk-estimator-id-44\" type=\"checkbox\" ><label for=\"sk-estimator-id-44\" class=\"sk-toggleable__label sk-toggleable__label-arrow\">numerical</label><div class=\"sk-toggleable__content\"><pre>[&#x27;BertzCT&#x27;, &#x27;Chi1&#x27;, &#x27;Chi1n&#x27;, &#x27;Chi1v&#x27;, &#x27;Chi2n&#x27;, &#x27;Chi2v&#x27;, &#x27;Chi3v&#x27;, &#x27;Chi4n&#x27;, &#x27;EState_VSA1&#x27;, &#x27;EState_VSA2&#x27;, &#x27;ExactMolWt&#x27;, &#x27;FpDensityMorgan1&#x27;, &#x27;FpDensityMorgan2&#x27;, &#x27;FpDensityMorgan3&#x27;, &#x27;HallKierAlpha&#x27;, &#x27;HeavyAtomMolWt&#x27;, &#x27;Kappa3&#x27;, &#x27;MaxAbsEStateIndex&#x27;, &#x27;MinEStateIndex&#x27;, &#x27;NumHeteroatoms&#x27;, &#x27;PEOE_VSA10&#x27;, &#x27;PEOE_VSA14&#x27;, &#x27;PEOE_VSA6&#x27;, &#x27;PEOE_VSA7&#x27;, &#x27;PEOE_VSA8&#x27;, &#x27;SMR_VSA10&#x27;, &#x27;SMR_VSA5&#x27;, &#x27;SlogP_VSA3&#x27;, &#x27;VSA_EState9&#x27;, &#x27;fr_COO&#x27;, &#x27;fr_COO2&#x27;]</pre></div></div></div><div class=\"sk-serial\"><div class=\"sk-item\"><div class=\"sk-serial\"><div class=\"sk-item\"><div class=\"sk-estimator sk-toggleable\"><input class=\"sk-toggleable__control sk-hidden--visually\" id=\"sk-estimator-id-45\" type=\"checkbox\" ><label for=\"sk-estimator-id-45\" class=\"sk-toggleable__label sk-toggleable__label-arrow\">SimpleImputer</label><div class=\"sk-toggleable__content\"><pre>SimpleImputer()</pre></div></div></div><div class=\"sk-item\"><div class=\"sk-estimator sk-toggleable\"><input class=\"sk-toggleable__control sk-hidden--visually\" id=\"sk-estimator-id-46\" type=\"checkbox\" ><label for=\"sk-estimator-id-46\" class=\"sk-toggleable__label sk-toggleable__label-arrow\">StandardScaler</label><div class=\"sk-toggleable__content\"><pre>StandardScaler()</pre></div></div></div></div></div></div></div></div></div></div><div class=\"sk-item\"><div class=\"sk-estimator sk-toggleable\"><input class=\"sk-toggleable__control sk-hidden--visually\" id=\"sk-estimator-id-47\" type=\"checkbox\" ><label for=\"sk-estimator-id-47\" class=\"sk-toggleable__label sk-toggleable__label-arrow\">LogisticRegression</label><div class=\"sk-toggleable__content\"><pre>LogisticRegression()</pre></div></div></div></div></div></div></div>"
      ],
      "text/plain": [
       "Pipeline(steps=[('columntransformer',\n",
       "                 ColumnTransformer(transformers=[('categorical',\n",
       "                                                  Pipeline(steps=[('imputation_constant',\n",
       "                                                                   SimpleImputer(fill_value='missing',\n",
       "                                                                                 strategy='most_frequent')),\n",
       "                                                                  ('onehot',\n",
       "                                                                   OneHotEncoder(handle_unknown='ignore'))]),\n",
       "                                                  []),\n",
       "                                                 ('numerical',\n",
       "                                                  Pipeline(steps=[('imputation_mean',\n",
       "                                                                   SimpleImputer()),\n",
       "                                                                  ('scaler',\n",
       "                                                                   StandardScaler())]),\n",
       "                                                  ['BertzCT', 'Ch...\n",
       "                                                   'EState_VSA1', 'EState_VSA2',\n",
       "                                                   'ExactMolWt',\n",
       "                                                   'FpDensityMorgan1',\n",
       "                                                   'FpDensityMorgan2',\n",
       "                                                   'FpDensityMorgan3',\n",
       "                                                   'HallKierAlpha',\n",
       "                                                   'HeavyAtomMolWt', 'Kappa3',\n",
       "                                                   'MaxAbsEStateIndex',\n",
       "                                                   'MinEStateIndex',\n",
       "                                                   'NumHeteroatoms',\n",
       "                                                   'PEOE_VSA10', 'PEOE_VSA14',\n",
       "                                                   'PEOE_VSA6', 'PEOE_VSA7',\n",
       "                                                   'PEOE_VSA8', 'SMR_VSA10',\n",
       "                                                   'SMR_VSA5', 'SlogP_VSA3',\n",
       "                                                   'VSA_EState9', 'fr_COO', ...])])),\n",
       "                ('logisticregression', LogisticRegression())])"
      ]
     },
     "execution_count": 57,
     "metadata": {},
     "output_type": "execute_result"
    }
   ],
   "source": [
    "pipe_lr.fit(X_train,y_train_encoded)"
   ]
  },
  {
   "cell_type": "code",
   "execution_count": 58,
   "id": "56121666",
   "metadata": {},
   "outputs": [
    {
     "data": {
      "text/plain": [
       "array([3, 1, 3, ..., 3, 1, 3])"
      ]
     },
     "execution_count": 58,
     "metadata": {},
     "output_type": "execute_result"
    }
   ],
   "source": [
    "preds_lr_encoded=pipe_lr.predict(X_test)\n",
    "preds_lr_encoded"
   ]
  },
  {
   "cell_type": "code",
   "execution_count": 59,
   "id": "4f6450e0",
   "metadata": {},
   "outputs": [
    {
     "data": {
      "text/plain": [
       "0.5565617799065112"
      ]
     },
     "execution_count": 59,
     "metadata": {},
     "output_type": "execute_result"
    }
   ],
   "source": [
    "evaluation(y_test,preds_lr_encoded,label_encoder)"
   ]
  },
  {
   "cell_type": "code",
   "execution_count": null,
   "id": "e026fd89",
   "metadata": {},
   "outputs": [],
   "source": []
  },
  {
   "cell_type": "code",
   "execution_count": null,
   "id": "feba9b10",
   "metadata": {},
   "outputs": [],
   "source": []
  },
  {
   "cell_type": "markdown",
   "id": "e30e9dfd",
   "metadata": {},
   "source": [
    "#### Gaussian NB"
   ]
  },
  {
   "cell_type": "code",
   "execution_count": 94,
   "id": "6dae4454",
   "metadata": {},
   "outputs": [],
   "source": [
    "from sklearn.naive_bayes import GaussianNB\n",
    "pipe_gnb=make_pipeline(preprocessor,GaussianNB())"
   ]
  },
  {
   "cell_type": "code",
   "execution_count": 96,
   "id": "cfdc9f2c",
   "metadata": {},
   "outputs": [
    {
     "data": {
      "text/html": [
       "<style>#sk-container-id-5 {color: black;background-color: white;}#sk-container-id-5 pre{padding: 0;}#sk-container-id-5 div.sk-toggleable {background-color: white;}#sk-container-id-5 label.sk-toggleable__label {cursor: pointer;display: block;width: 100%;margin-bottom: 0;padding: 0.3em;box-sizing: border-box;text-align: center;}#sk-container-id-5 label.sk-toggleable__label-arrow:before {content: \"▸\";float: left;margin-right: 0.25em;color: #696969;}#sk-container-id-5 label.sk-toggleable__label-arrow:hover:before {color: black;}#sk-container-id-5 div.sk-estimator:hover label.sk-toggleable__label-arrow:before {color: black;}#sk-container-id-5 div.sk-toggleable__content {max-height: 0;max-width: 0;overflow: hidden;text-align: left;background-color: #f0f8ff;}#sk-container-id-5 div.sk-toggleable__content pre {margin: 0.2em;color: black;border-radius: 0.25em;background-color: #f0f8ff;}#sk-container-id-5 input.sk-toggleable__control:checked~div.sk-toggleable__content {max-height: 200px;max-width: 100%;overflow: auto;}#sk-container-id-5 input.sk-toggleable__control:checked~label.sk-toggleable__label-arrow:before {content: \"▾\";}#sk-container-id-5 div.sk-estimator input.sk-toggleable__control:checked~label.sk-toggleable__label {background-color: #d4ebff;}#sk-container-id-5 div.sk-label input.sk-toggleable__control:checked~label.sk-toggleable__label {background-color: #d4ebff;}#sk-container-id-5 input.sk-hidden--visually {border: 0;clip: rect(1px 1px 1px 1px);clip: rect(1px, 1px, 1px, 1px);height: 1px;margin: -1px;overflow: hidden;padding: 0;position: absolute;width: 1px;}#sk-container-id-5 div.sk-estimator {font-family: monospace;background-color: #f0f8ff;border: 1px dotted black;border-radius: 0.25em;box-sizing: border-box;margin-bottom: 0.5em;}#sk-container-id-5 div.sk-estimator:hover {background-color: #d4ebff;}#sk-container-id-5 div.sk-parallel-item::after {content: \"\";width: 100%;border-bottom: 1px solid gray;flex-grow: 1;}#sk-container-id-5 div.sk-label:hover label.sk-toggleable__label {background-color: #d4ebff;}#sk-container-id-5 div.sk-serial::before {content: \"\";position: absolute;border-left: 1px solid gray;box-sizing: border-box;top: 0;bottom: 0;left: 50%;z-index: 0;}#sk-container-id-5 div.sk-serial {display: flex;flex-direction: column;align-items: center;background-color: white;padding-right: 0.2em;padding-left: 0.2em;position: relative;}#sk-container-id-5 div.sk-item {position: relative;z-index: 1;}#sk-container-id-5 div.sk-parallel {display: flex;align-items: stretch;justify-content: center;background-color: white;position: relative;}#sk-container-id-5 div.sk-item::before, #sk-container-id-5 div.sk-parallel-item::before {content: \"\";position: absolute;border-left: 1px solid gray;box-sizing: border-box;top: 0;bottom: 0;left: 50%;z-index: -1;}#sk-container-id-5 div.sk-parallel-item {display: flex;flex-direction: column;z-index: 1;position: relative;background-color: white;}#sk-container-id-5 div.sk-parallel-item:first-child::after {align-self: flex-end;width: 50%;}#sk-container-id-5 div.sk-parallel-item:last-child::after {align-self: flex-start;width: 50%;}#sk-container-id-5 div.sk-parallel-item:only-child::after {width: 0;}#sk-container-id-5 div.sk-dashed-wrapped {border: 1px dashed gray;margin: 0 0.4em 0.5em 0.4em;box-sizing: border-box;padding-bottom: 0.4em;background-color: white;}#sk-container-id-5 div.sk-label label {font-family: monospace;font-weight: bold;display: inline-block;line-height: 1.2em;}#sk-container-id-5 div.sk-label-container {text-align: center;}#sk-container-id-5 div.sk-container {/* jupyter's `normalize.less` sets `[hidden] { display: none; }` but bootstrap.min.css set `[hidden] { display: none !important; }` so we also need the `!important` here to be able to override the default hidden behavior on the sphinx rendered scikit-learn.org. See: https://github.com/scikit-learn/scikit-learn/issues/21755 */display: inline-block !important;position: relative;}#sk-container-id-5 div.sk-text-repr-fallback {display: none;}</style><div id=\"sk-container-id-5\" class=\"sk-top-container\"><div class=\"sk-text-repr-fallback\"><pre>Pipeline(steps=[(&#x27;columntransformer&#x27;,\n",
       "                 ColumnTransformer(transformers=[(&#x27;categorical&#x27;,\n",
       "                                                  Pipeline(steps=[(&#x27;imputation_constant&#x27;,\n",
       "                                                                   SimpleImputer(fill_value=&#x27;missing&#x27;,\n",
       "                                                                                 strategy=&#x27;most_frequent&#x27;)),\n",
       "                                                                  (&#x27;onehot&#x27;,\n",
       "                                                                   OneHotEncoder(handle_unknown=&#x27;ignore&#x27;))]),\n",
       "                                                  []),\n",
       "                                                 (&#x27;numerical&#x27;,\n",
       "                                                  Pipeline(steps=[(&#x27;imputation_mean&#x27;,\n",
       "                                                                   SimpleImputer()),\n",
       "                                                                  (&#x27;scaler&#x27;,\n",
       "                                                                   StandardScaler())]),\n",
       "                                                  [&#x27;BertzCT&#x27;, &#x27;Ch...\n",
       "                                                   &#x27;EState_VSA1&#x27;, &#x27;EState_VSA2&#x27;,\n",
       "                                                   &#x27;ExactMolWt&#x27;,\n",
       "                                                   &#x27;FpDensityMorgan1&#x27;,\n",
       "                                                   &#x27;FpDensityMorgan2&#x27;,\n",
       "                                                   &#x27;FpDensityMorgan3&#x27;,\n",
       "                                                   &#x27;HallKierAlpha&#x27;,\n",
       "                                                   &#x27;HeavyAtomMolWt&#x27;, &#x27;Kappa3&#x27;,\n",
       "                                                   &#x27;MaxAbsEStateIndex&#x27;,\n",
       "                                                   &#x27;MinEStateIndex&#x27;,\n",
       "                                                   &#x27;NumHeteroatoms&#x27;,\n",
       "                                                   &#x27;PEOE_VSA10&#x27;, &#x27;PEOE_VSA14&#x27;,\n",
       "                                                   &#x27;PEOE_VSA6&#x27;, &#x27;PEOE_VSA7&#x27;,\n",
       "                                                   &#x27;PEOE_VSA8&#x27;, &#x27;SMR_VSA10&#x27;,\n",
       "                                                   &#x27;SMR_VSA5&#x27;, &#x27;SlogP_VSA3&#x27;,\n",
       "                                                   &#x27;VSA_EState9&#x27;, &#x27;fr_COO&#x27;, ...])])),\n",
       "                (&#x27;gaussiannb&#x27;, GaussianNB())])</pre><b>In a Jupyter environment, please rerun this cell to show the HTML representation or trust the notebook. <br />On GitHub, the HTML representation is unable to render, please try loading this page with nbviewer.org.</b></div><div class=\"sk-container\" hidden><div class=\"sk-item sk-dashed-wrapped\"><div class=\"sk-label-container\"><div class=\"sk-label sk-toggleable\"><input class=\"sk-toggleable__control sk-hidden--visually\" id=\"sk-estimator-id-39\" type=\"checkbox\" ><label for=\"sk-estimator-id-39\" class=\"sk-toggleable__label sk-toggleable__label-arrow\">Pipeline</label><div class=\"sk-toggleable__content\"><pre>Pipeline(steps=[(&#x27;columntransformer&#x27;,\n",
       "                 ColumnTransformer(transformers=[(&#x27;categorical&#x27;,\n",
       "                                                  Pipeline(steps=[(&#x27;imputation_constant&#x27;,\n",
       "                                                                   SimpleImputer(fill_value=&#x27;missing&#x27;,\n",
       "                                                                                 strategy=&#x27;most_frequent&#x27;)),\n",
       "                                                                  (&#x27;onehot&#x27;,\n",
       "                                                                   OneHotEncoder(handle_unknown=&#x27;ignore&#x27;))]),\n",
       "                                                  []),\n",
       "                                                 (&#x27;numerical&#x27;,\n",
       "                                                  Pipeline(steps=[(&#x27;imputation_mean&#x27;,\n",
       "                                                                   SimpleImputer()),\n",
       "                                                                  (&#x27;scaler&#x27;,\n",
       "                                                                   StandardScaler())]),\n",
       "                                                  [&#x27;BertzCT&#x27;, &#x27;Ch...\n",
       "                                                   &#x27;EState_VSA1&#x27;, &#x27;EState_VSA2&#x27;,\n",
       "                                                   &#x27;ExactMolWt&#x27;,\n",
       "                                                   &#x27;FpDensityMorgan1&#x27;,\n",
       "                                                   &#x27;FpDensityMorgan2&#x27;,\n",
       "                                                   &#x27;FpDensityMorgan3&#x27;,\n",
       "                                                   &#x27;HallKierAlpha&#x27;,\n",
       "                                                   &#x27;HeavyAtomMolWt&#x27;, &#x27;Kappa3&#x27;,\n",
       "                                                   &#x27;MaxAbsEStateIndex&#x27;,\n",
       "                                                   &#x27;MinEStateIndex&#x27;,\n",
       "                                                   &#x27;NumHeteroatoms&#x27;,\n",
       "                                                   &#x27;PEOE_VSA10&#x27;, &#x27;PEOE_VSA14&#x27;,\n",
       "                                                   &#x27;PEOE_VSA6&#x27;, &#x27;PEOE_VSA7&#x27;,\n",
       "                                                   &#x27;PEOE_VSA8&#x27;, &#x27;SMR_VSA10&#x27;,\n",
       "                                                   &#x27;SMR_VSA5&#x27;, &#x27;SlogP_VSA3&#x27;,\n",
       "                                                   &#x27;VSA_EState9&#x27;, &#x27;fr_COO&#x27;, ...])])),\n",
       "                (&#x27;gaussiannb&#x27;, GaussianNB())])</pre></div></div></div><div class=\"sk-serial\"><div class=\"sk-item sk-dashed-wrapped\"><div class=\"sk-label-container\"><div class=\"sk-label sk-toggleable\"><input class=\"sk-toggleable__control sk-hidden--visually\" id=\"sk-estimator-id-40\" type=\"checkbox\" ><label for=\"sk-estimator-id-40\" class=\"sk-toggleable__label sk-toggleable__label-arrow\">columntransformer: ColumnTransformer</label><div class=\"sk-toggleable__content\"><pre>ColumnTransformer(transformers=[(&#x27;categorical&#x27;,\n",
       "                                 Pipeline(steps=[(&#x27;imputation_constant&#x27;,\n",
       "                                                  SimpleImputer(fill_value=&#x27;missing&#x27;,\n",
       "                                                                strategy=&#x27;most_frequent&#x27;)),\n",
       "                                                 (&#x27;onehot&#x27;,\n",
       "                                                  OneHotEncoder(handle_unknown=&#x27;ignore&#x27;))]),\n",
       "                                 []),\n",
       "                                (&#x27;numerical&#x27;,\n",
       "                                 Pipeline(steps=[(&#x27;imputation_mean&#x27;,\n",
       "                                                  SimpleImputer()),\n",
       "                                                 (&#x27;scaler&#x27;, StandardScaler())]),\n",
       "                                 [&#x27;BertzCT&#x27;, &#x27;Chi1&#x27;, &#x27;Chi1n&#x27;, &#x27;Chi1v&#x27;, &#x27;Chi2n&#x27;,\n",
       "                                  &#x27;Chi2v&#x27;, &#x27;Chi3v&#x27;, &#x27;Chi4n&#x27;, &#x27;EState_VSA1&#x27;,\n",
       "                                  &#x27;EState_VSA2&#x27;, &#x27;ExactMolWt&#x27;,\n",
       "                                  &#x27;FpDensityMorgan1&#x27;, &#x27;FpDensityMorgan2&#x27;,\n",
       "                                  &#x27;FpDensityMorgan3&#x27;, &#x27;HallKierAlpha&#x27;,\n",
       "                                  &#x27;HeavyAtomMolWt&#x27;, &#x27;Kappa3&#x27;,\n",
       "                                  &#x27;MaxAbsEStateIndex&#x27;, &#x27;MinEStateIndex&#x27;,\n",
       "                                  &#x27;NumHeteroatoms&#x27;, &#x27;PEOE_VSA10&#x27;, &#x27;PEOE_VSA14&#x27;,\n",
       "                                  &#x27;PEOE_VSA6&#x27;, &#x27;PEOE_VSA7&#x27;, &#x27;PEOE_VSA8&#x27;,\n",
       "                                  &#x27;SMR_VSA10&#x27;, &#x27;SMR_VSA5&#x27;, &#x27;SlogP_VSA3&#x27;,\n",
       "                                  &#x27;VSA_EState9&#x27;, &#x27;fr_COO&#x27;, ...])])</pre></div></div></div><div class=\"sk-parallel\"><div class=\"sk-parallel-item\"><div class=\"sk-item\"><div class=\"sk-label-container\"><div class=\"sk-label sk-toggleable\"><input class=\"sk-toggleable__control sk-hidden--visually\" id=\"sk-estimator-id-41\" type=\"checkbox\" ><label for=\"sk-estimator-id-41\" class=\"sk-toggleable__label sk-toggleable__label-arrow\">categorical</label><div class=\"sk-toggleable__content\"><pre>[]</pre></div></div></div><div class=\"sk-serial\"><div class=\"sk-item\"><div class=\"sk-serial\"><div class=\"sk-item\"><div class=\"sk-estimator sk-toggleable\"><input class=\"sk-toggleable__control sk-hidden--visually\" id=\"sk-estimator-id-42\" type=\"checkbox\" ><label for=\"sk-estimator-id-42\" class=\"sk-toggleable__label sk-toggleable__label-arrow\">SimpleImputer</label><div class=\"sk-toggleable__content\"><pre>SimpleImputer(fill_value=&#x27;missing&#x27;, strategy=&#x27;most_frequent&#x27;)</pre></div></div></div><div class=\"sk-item\"><div class=\"sk-estimator sk-toggleable\"><input class=\"sk-toggleable__control sk-hidden--visually\" id=\"sk-estimator-id-43\" type=\"checkbox\" ><label for=\"sk-estimator-id-43\" class=\"sk-toggleable__label sk-toggleable__label-arrow\">OneHotEncoder</label><div class=\"sk-toggleable__content\"><pre>OneHotEncoder(handle_unknown=&#x27;ignore&#x27;)</pre></div></div></div></div></div></div></div></div><div class=\"sk-parallel-item\"><div class=\"sk-item\"><div class=\"sk-label-container\"><div class=\"sk-label sk-toggleable\"><input class=\"sk-toggleable__control sk-hidden--visually\" id=\"sk-estimator-id-44\" type=\"checkbox\" ><label for=\"sk-estimator-id-44\" class=\"sk-toggleable__label sk-toggleable__label-arrow\">numerical</label><div class=\"sk-toggleable__content\"><pre>[&#x27;BertzCT&#x27;, &#x27;Chi1&#x27;, &#x27;Chi1n&#x27;, &#x27;Chi1v&#x27;, &#x27;Chi2n&#x27;, &#x27;Chi2v&#x27;, &#x27;Chi3v&#x27;, &#x27;Chi4n&#x27;, &#x27;EState_VSA1&#x27;, &#x27;EState_VSA2&#x27;, &#x27;ExactMolWt&#x27;, &#x27;FpDensityMorgan1&#x27;, &#x27;FpDensityMorgan2&#x27;, &#x27;FpDensityMorgan3&#x27;, &#x27;HallKierAlpha&#x27;, &#x27;HeavyAtomMolWt&#x27;, &#x27;Kappa3&#x27;, &#x27;MaxAbsEStateIndex&#x27;, &#x27;MinEStateIndex&#x27;, &#x27;NumHeteroatoms&#x27;, &#x27;PEOE_VSA10&#x27;, &#x27;PEOE_VSA14&#x27;, &#x27;PEOE_VSA6&#x27;, &#x27;PEOE_VSA7&#x27;, &#x27;PEOE_VSA8&#x27;, &#x27;SMR_VSA10&#x27;, &#x27;SMR_VSA5&#x27;, &#x27;SlogP_VSA3&#x27;, &#x27;VSA_EState9&#x27;, &#x27;fr_COO&#x27;, &#x27;fr_COO2&#x27;]</pre></div></div></div><div class=\"sk-serial\"><div class=\"sk-item\"><div class=\"sk-serial\"><div class=\"sk-item\"><div class=\"sk-estimator sk-toggleable\"><input class=\"sk-toggleable__control sk-hidden--visually\" id=\"sk-estimator-id-45\" type=\"checkbox\" ><label for=\"sk-estimator-id-45\" class=\"sk-toggleable__label sk-toggleable__label-arrow\">SimpleImputer</label><div class=\"sk-toggleable__content\"><pre>SimpleImputer()</pre></div></div></div><div class=\"sk-item\"><div class=\"sk-estimator sk-toggleable\"><input class=\"sk-toggleable__control sk-hidden--visually\" id=\"sk-estimator-id-46\" type=\"checkbox\" ><label for=\"sk-estimator-id-46\" class=\"sk-toggleable__label sk-toggleable__label-arrow\">StandardScaler</label><div class=\"sk-toggleable__content\"><pre>StandardScaler()</pre></div></div></div></div></div></div></div></div></div></div><div class=\"sk-item\"><div class=\"sk-estimator sk-toggleable\"><input class=\"sk-toggleable__control sk-hidden--visually\" id=\"sk-estimator-id-47\" type=\"checkbox\" ><label for=\"sk-estimator-id-47\" class=\"sk-toggleable__label sk-toggleable__label-arrow\">GaussianNB</label><div class=\"sk-toggleable__content\"><pre>GaussianNB()</pre></div></div></div></div></div></div></div>"
      ],
      "text/plain": [
       "Pipeline(steps=[('columntransformer',\n",
       "                 ColumnTransformer(transformers=[('categorical',\n",
       "                                                  Pipeline(steps=[('imputation_constant',\n",
       "                                                                   SimpleImputer(fill_value='missing',\n",
       "                                                                                 strategy='most_frequent')),\n",
       "                                                                  ('onehot',\n",
       "                                                                   OneHotEncoder(handle_unknown='ignore'))]),\n",
       "                                                  []),\n",
       "                                                 ('numerical',\n",
       "                                                  Pipeline(steps=[('imputation_mean',\n",
       "                                                                   SimpleImputer()),\n",
       "                                                                  ('scaler',\n",
       "                                                                   StandardScaler())]),\n",
       "                                                  ['BertzCT', 'Ch...\n",
       "                                                   'EState_VSA1', 'EState_VSA2',\n",
       "                                                   'ExactMolWt',\n",
       "                                                   'FpDensityMorgan1',\n",
       "                                                   'FpDensityMorgan2',\n",
       "                                                   'FpDensityMorgan3',\n",
       "                                                   'HallKierAlpha',\n",
       "                                                   'HeavyAtomMolWt', 'Kappa3',\n",
       "                                                   'MaxAbsEStateIndex',\n",
       "                                                   'MinEStateIndex',\n",
       "                                                   'NumHeteroatoms',\n",
       "                                                   'PEOE_VSA10', 'PEOE_VSA14',\n",
       "                                                   'PEOE_VSA6', 'PEOE_VSA7',\n",
       "                                                   'PEOE_VSA8', 'SMR_VSA10',\n",
       "                                                   'SMR_VSA5', 'SlogP_VSA3',\n",
       "                                                   'VSA_EState9', 'fr_COO', ...])])),\n",
       "                ('gaussiannb', GaussianNB())])"
      ]
     },
     "execution_count": 96,
     "metadata": {},
     "output_type": "execute_result"
    }
   ],
   "source": [
    "pipe_gnb.fit(X_train,y_train_encoded)"
   ]
  },
  {
   "cell_type": "code",
   "execution_count": 97,
   "id": "51d63452",
   "metadata": {},
   "outputs": [
    {
     "data": {
      "text/plain": [
       "array([1, 1, 2, ..., 1, 3, 1])"
      ]
     },
     "execution_count": 97,
     "metadata": {},
     "output_type": "execute_result"
    }
   ],
   "source": [
    "preds_encoded=pipe_gnb.predict(X_test)\n",
    "preds_encoded"
   ]
  },
  {
   "cell_type": "code",
   "execution_count": 98,
   "id": "4913b4e7",
   "metadata": {},
   "outputs": [
    {
     "data": {
      "text/plain": [
       "0.5860689785031545"
      ]
     },
     "execution_count": 98,
     "metadata": {},
     "output_type": "execute_result"
    }
   ],
   "source": [
    "evaluation(y_test,preds_encoded,label_encoder)"
   ]
  },
  {
   "cell_type": "code",
   "execution_count": null,
   "id": "c9cabf86",
   "metadata": {},
   "outputs": [],
   "source": []
  },
  {
   "cell_type": "code",
   "execution_count": null,
   "id": "0c8826af",
   "metadata": {},
   "outputs": [],
   "source": []
  },
  {
   "cell_type": "code",
   "execution_count": null,
   "id": "478eae8b",
   "metadata": {},
   "outputs": [],
   "source": []
  },
  {
   "cell_type": "markdown",
   "id": "f94c6522",
   "metadata": {},
   "source": [
    "### Model Analysis"
   ]
  },
  {
   "cell_type": "code",
   "execution_count": 62,
   "id": "f3d06f24",
   "metadata": {},
   "outputs": [
    {
     "data": {
      "image/png": "[encoded data removed]",
      "text/plain": [
       "<Figure size 1000x600 with 1 Axes>"
      ]
     },
     "metadata": {},
     "output_type": "display_data"
    }
   ],
   "source": [
    "model_imp(pipe_rf)"
   ]
  },
  {
   "cell_type": "code",
   "execution_count": null,
   "id": "ac7c9f62",
   "metadata": {},
   "outputs": [],
   "source": []
  },
  {
   "cell_type": "code",
   "execution_count": 99,
   "id": "a02d2704",
   "metadata": {},
   "outputs": [],
   "source": [
    "def model_imp(pipe_obj):\n",
    "    model_name = pipe_obj.steps[-1][0]\n",
    "    model = pipe_obj.named_steps[model_name]\n",
    "    importances = model.feature_importances_\n",
    "    importances\n",
    "    feature_names = X.columns\n",
    "    feature_importances = sorted(zip(importances, feature_names), reverse=True)\n",
    "    k=20\n",
    "    top_features = feature_importances[:k]\n",
    "    features = [feature for importance, feature in top_features]\n",
    "    importance_values = [importance for importance, feature in top_features]\n",
    "    plt.figure(figsize=(10, 6))\n",
    "    plt.bar(features, importance_values)\n",
    "    plt.xlabel('Features')\n",
    "    plt.ylabel('Importance')\n",
    "    plt.title('Top Features')\n",
    "    plt.xticks(rotation=90)\n",
    "    plt.show()"
   ]
  },
  {
   "cell_type": "code",
   "execution_count": null,
   "id": "ca91b623",
   "metadata": {},
   "outputs": [],
   "source": []
  },
  {
   "cell_type": "code",
   "execution_count": null,
   "id": "c7d3805b",
   "metadata": {},
   "outputs": [],
   "source": []
  },
  {
   "cell_type": "markdown",
   "id": "4b62c047",
   "metadata": {},
   "source": [
    "#### Testing the values"
   ]
  },
  {
   "cell_type": "code",
   "execution_count": null,
   "id": "957929f1",
   "metadata": {},
   "outputs": [],
   "source": [
    "arr1 = np.array([x[0] for x in y_pred])\n",
    "arr2 = np.array([x[1] for x in y_pred])\n",
    "len(arr1),len(X_test)"
   ]
  },
  {
   "cell_type": "code",
   "execution_count": 74,
   "id": "044cf168",
   "metadata": {},
   "outputs": [
    {
     "data": {
      "text/html": [
       "<div>\n",
       "<style scoped>\n",
       "    .dataframe tbody tr th:only-of-type {\n",
       "        vertical-align: middle;\n",
       "    }\n",
       "\n",
       "    .dataframe tbody tr th {\n",
       "        vertical-align: top;\n",
       "    }\n",
       "\n",
       "    .dataframe thead th {\n",
       "        text-align: right;\n",
       "    }\n",
       "</style>\n",
       "<table border=\"1\" class=\"dataframe\">\n",
       "  <thead>\n",
       "    <tr style=\"text-align: right;\">\n",
       "      <th></th>\n",
       "      <th>EC1</th>\n",
       "      <th>EC2</th>\n",
       "    </tr>\n",
       "  </thead>\n",
       "  <tbody>\n",
       "    <tr>\n",
       "      <th>0</th>\n",
       "      <td>1</td>\n",
       "      <td>1</td>\n",
       "    </tr>\n",
       "    <tr>\n",
       "      <th>1</th>\n",
       "      <td>0</td>\n",
       "      <td>1</td>\n",
       "    </tr>\n",
       "    <tr>\n",
       "      <th>2</th>\n",
       "      <td>1</td>\n",
       "      <td>1</td>\n",
       "    </tr>\n",
       "    <tr>\n",
       "      <th>3</th>\n",
       "      <td>1</td>\n",
       "      <td>1</td>\n",
       "    </tr>\n",
       "    <tr>\n",
       "      <th>4</th>\n",
       "      <td>1</td>\n",
       "      <td>0</td>\n",
       "    </tr>\n",
       "    <tr>\n",
       "      <th>...</th>\n",
       "      <td>...</td>\n",
       "      <td>...</td>\n",
       "    </tr>\n",
       "    <tr>\n",
       "      <th>14833</th>\n",
       "      <td>1</td>\n",
       "      <td>1</td>\n",
       "    </tr>\n",
       "    <tr>\n",
       "      <th>14834</th>\n",
       "      <td>0</td>\n",
       "      <td>1</td>\n",
       "    </tr>\n",
       "    <tr>\n",
       "      <th>14835</th>\n",
       "      <td>1</td>\n",
       "      <td>1</td>\n",
       "    </tr>\n",
       "    <tr>\n",
       "      <th>14836</th>\n",
       "      <td>0</td>\n",
       "      <td>1</td>\n",
       "    </tr>\n",
       "    <tr>\n",
       "      <th>14837</th>\n",
       "      <td>0</td>\n",
       "      <td>1</td>\n",
       "    </tr>\n",
       "  </tbody>\n",
       "</table>\n",
       "<p>14838 rows × 2 columns</p>\n",
       "</div>"
      ],
      "text/plain": [
       "       EC1  EC2\n",
       "0        1    1\n",
       "1        0    1\n",
       "2        1    1\n",
       "3        1    1\n",
       "4        1    0\n",
       "...    ...  ...\n",
       "14833    1    1\n",
       "14834    0    1\n",
       "14835    1    1\n",
       "14836    0    1\n",
       "14837    0    1\n",
       "\n",
       "[14838 rows x 2 columns]"
      ]
     },
     "execution_count": 74,
     "metadata": {},
     "output_type": "execute_result"
    }
   ],
   "source": [
    "y_true=df[['EC1','EC2']]\n",
    "y_true"
   ]
  },
  {
   "cell_type": "code",
   "execution_count": 87,
   "id": "f679893e",
   "metadata": {},
   "outputs": [
    {
     "data": {
      "text/plain": [
       "14838"
      ]
     },
     "execution_count": 87,
     "metadata": {},
     "output_type": "execute_result"
    }
   ],
   "source": [
    "# y_test1=y_test.to_frame(name='EC')\n",
    "# y_test\n",
    "# y_true[['EC1', 'EC2']] = y_test['EC'].str.split('', expand=True)\n",
    "# y_true.columns\n",
    "len(y_true)"
   ]
  },
  {
   "cell_type": "code",
   "execution_count": 98,
   "id": "c069e72c",
   "metadata": {},
   "outputs": [
    {
     "data": {
      "text/html": [
       "<div>\n",
       "<style scoped>\n",
       "    .dataframe tbody tr th:only-of-type {\n",
       "        vertical-align: middle;\n",
       "    }\n",
       "\n",
       "    .dataframe tbody tr th {\n",
       "        vertical-align: top;\n",
       "    }\n",
       "\n",
       "    .dataframe thead th {\n",
       "        text-align: right;\n",
       "    }\n",
       "</style>\n",
       "<table border=\"1\" class=\"dataframe\">\n",
       "  <thead>\n",
       "    <tr style=\"text-align: right;\">\n",
       "      <th></th>\n",
       "      <th>EC1</th>\n",
       "      <th>EC2</th>\n",
       "    </tr>\n",
       "  </thead>\n",
       "  <tbody>\n",
       "    <tr>\n",
       "      <th>11988</th>\n",
       "      <td>1</td>\n",
       "      <td>1</td>\n",
       "    </tr>\n",
       "    <tr>\n",
       "      <th>13039</th>\n",
       "      <td>0</td>\n",
       "      <td>1</td>\n",
       "    </tr>\n",
       "    <tr>\n",
       "      <th>13637</th>\n",
       "      <td>1</td>\n",
       "      <td>1</td>\n",
       "    </tr>\n",
       "    <tr>\n",
       "      <th>5537</th>\n",
       "      <td>0</td>\n",
       "      <td>0</td>\n",
       "    </tr>\n",
       "    <tr>\n",
       "      <th>8425</th>\n",
       "      <td>1</td>\n",
       "      <td>1</td>\n",
       "    </tr>\n",
       "    <tr>\n",
       "      <th>...</th>\n",
       "      <td>...</td>\n",
       "      <td>...</td>\n",
       "    </tr>\n",
       "    <tr>\n",
       "      <th>1201</th>\n",
       "      <td>1</td>\n",
       "      <td>1</td>\n",
       "    </tr>\n",
       "    <tr>\n",
       "      <th>2727</th>\n",
       "      <td>1</td>\n",
       "      <td>1</td>\n",
       "    </tr>\n",
       "    <tr>\n",
       "      <th>5987</th>\n",
       "      <td>1</td>\n",
       "      <td>1</td>\n",
       "    </tr>\n",
       "    <tr>\n",
       "      <th>7656</th>\n",
       "      <td>0</td>\n",
       "      <td>1</td>\n",
       "    </tr>\n",
       "    <tr>\n",
       "      <th>9100</th>\n",
       "      <td>1</td>\n",
       "      <td>1</td>\n",
       "    </tr>\n",
       "  </tbody>\n",
       "</table>\n",
       "<p>2968 rows × 2 columns</p>\n",
       "</div>"
      ],
      "text/plain": [
       "      EC1 EC2\n",
       "11988   1   1\n",
       "13039   0   1\n",
       "13637   1   1\n",
       "5537    0   0\n",
       "8425    1   1\n",
       "...    ..  ..\n",
       "1201    1   1\n",
       "2727    1   1\n",
       "5987    1   1\n",
       "7656    0   1\n",
       "9100    1   1\n",
       "\n",
       "[2968 rows x 2 columns]"
      ]
     },
     "execution_count": 98,
     "metadata": {},
     "output_type": "execute_result"
    }
   ],
   "source": [
    "y_test[['EC1', 'EC2']] = y_test['EC'].str.split('', expand=True).iloc[:, 1:3]\n",
    "# y_test[['EC1', 'EC2']]\n",
    "y_test1=y_test.drop('EC',axis=1)\n",
    "y_test1"
   ]
  },
  {
   "cell_type": "code",
   "execution_count": 82,
   "id": "b52c6ffe",
   "metadata": {},
   "outputs": [],
   "source": [
    "def evaluation(y_true_series,y_preds_encoded,label_encoder=label_encoder):\n",
    "    y_pred = label_encoder.inverse_transform(y_preds_encoded)\n",
    "    arr1 = np.array([x[0] for x in y_pred])\n",
    "    arr2 = np.array([x[1] for x in y_pred])\n",
    "    y_pred = pd.DataFrame({'EC1': arr1,\n",
    "                           'EC2':arr2})\n",
    "    y_true_labeled=y_true_series.to_frame(name='EC')\n",
    "    y_true_labeled[['EC1', 'EC2']] = y_true_labeled['EC'].str.split('', expand=True).iloc[:, 1:3]\n",
    "    y_test1=y_true_labeled.drop('EC',axis=1)\n",
    "    auc_scores = []\n",
    "    for column in y_pred.columns:\n",
    "        auc = roc_auc_score(y_test1[column], y_pred[column])\n",
    "        auc_scores.append(auc)\n",
    "    average_auc = sum(auc_scores) / len(auc_scores)\n",
    "    return average_auc"
   ]
  },
  {
   "cell_type": "code",
   "execution_count": 101,
   "id": "782044f1",
   "metadata": {},
   "outputs": [
    {
     "data": {
      "text/plain": [
       "0.564031639430036"
      ]
     },
     "execution_count": 101,
     "metadata": {},
     "output_type": "execute_result"
    }
   ],
   "source": [
    "average_auc"
   ]
  },
  {
   "cell_type": "code",
   "execution_count": null,
   "id": "5cc16777",
   "metadata": {},
   "outputs": [],
   "source": []
  },
  {
   "cell_type": "markdown",
   "id": "2af0563d",
   "metadata": {},
   "source": [
    "### Submission"
   ]
  },
  {
   "cell_type": "code",
   "execution_count": 70,
   "id": "90ef8a41",
   "metadata": {},
   "outputs": [
    {
     "data": {
      "text/html": [
       "<div>\n",
       "<style scoped>\n",
       "    .dataframe tbody tr th:only-of-type {\n",
       "        vertical-align: middle;\n",
       "    }\n",
       "\n",
       "    .dataframe tbody tr th {\n",
       "        vertical-align: top;\n",
       "    }\n",
       "\n",
       "    .dataframe thead th {\n",
       "        text-align: right;\n",
       "    }\n",
       "</style>\n",
       "<table border=\"1\" class=\"dataframe\">\n",
       "  <thead>\n",
       "    <tr style=\"text-align: right;\">\n",
       "      <th></th>\n",
       "      <th>id</th>\n",
       "      <th>EC1</th>\n",
       "      <th>EC2</th>\n",
       "    </tr>\n",
       "  </thead>\n",
       "  <tbody>\n",
       "    <tr>\n",
       "      <th>0</th>\n",
       "      <td>14838</td>\n",
       "      <td>0.50</td>\n",
       "      <td>0.50</td>\n",
       "    </tr>\n",
       "    <tr>\n",
       "      <th>1</th>\n",
       "      <td>14839</td>\n",
       "      <td>0.50</td>\n",
       "      <td>0.50</td>\n",
       "    </tr>\n",
       "  </tbody>\n",
       "</table>\n",
       "</div>"
      ],
      "text/plain": [
       "      id  EC1  EC2\n",
       "0  14838 0.50 0.50\n",
       "1  14839 0.50 0.50"
      ]
     },
     "execution_count": 70,
     "metadata": {},
     "output_type": "execute_result"
    }
   ],
   "source": [
    "df_sub.head(2)"
   ]
  },
  {
   "cell_type": "code",
   "execution_count": 106,
   "id": "c4eb03d6",
   "metadata": {},
   "outputs": [],
   "source": [
    "import subprocess\n",
    "import os\n",
    "\n",
    "def make_sub(pred_y1, pred_y2, sub_data=df_test, name='default'):\n",
    "    df_submission = pd.DataFrame()\n",
    "    df_submission['id'] = df_test['id']\n",
    "    df_submission['EC1'] = pred_y1\n",
    "    df_submission['EC2'] = pred_y2\n",
    "    \n",
    "    folder_path = 'Submissions/'\n",
    "    os.makedirs(folder_path, exist_ok=True)  # Create the folder if it doesn't exist\n",
    "    \n",
    "    file_path = os.path.join(folder_path, f'sub-{name}.csv')\n",
    "    df_submission.to_csv(file_path, index=False)\n",
    "    \n",
    "    cmd = f'kaggle competitions submit -c {compe} -f {file_path} -m \"Message\"'\n",
    "    subprocess.run(cmd, shell=True)\n",
    "    \n",
    "    print(f'Successfully saved - {name} at {file_path}')\n"
   ]
  },
  {
   "cell_type": "code",
   "execution_count": 78,
   "id": "d529742a",
   "metadata": {},
   "outputs": [],
   "source": [
    "preds1=np.full(len(df_test),0.67)\n",
    "preds2=np.full(len(df_test),0.80)"
   ]
  },
  {
   "cell_type": "code",
   "execution_count": 97,
   "id": "4f885572",
   "metadata": {},
   "outputs": [
    {
     "name": "stderr",
     "output_type": "stream",
     "text": [
      "100%|██████████| 96.6k/96.6k [00:01<00:00, 97.1kB/s]\n"
     ]
    },
    {
     "name": "stdout",
     "output_type": "stream",
     "text": [
      "Successfully submitted to Explore Multi-Label Classification with an Enzyme Substrate Datasetsuccesully saved - rf_Pipe\n"
     ]
    }
   ],
   "source": [
    "make_sub(preds1,preds2,name='rf_Pipe')"
   ]
  },
  {
   "cell_type": "code",
   "execution_count": null,
   "id": "ec381094",
   "metadata": {},
   "outputs": [],
   "source": [
    "len(preds_test_1),len(preds_test_2)"
   ]
  },
  {
   "cell_type": "code",
   "execution_count": 107,
   "id": "6f8eb5ec",
   "metadata": {},
   "outputs": [
    {
     "name": "stderr",
     "output_type": "stream",
     "text": [
      "100%|██████████| 96.6k/96.6k [00:01<00:00, 96.9kB/s]\n"
     ]
    },
    {
     "name": "stdout",
     "output_type": "stream",
     "text": [
      "Successfully submitted to Explore Multi-Label Classification with an Enzyme Substrate DatasetSuccessfully saved - g_nb at Submissions/sub-g_nb.csv\n"
     ]
    }
   ],
   "source": [
    "make_sub(preds_test_1,preds_test_2,name='g_nb')"
   ]
  },
  {
   "cell_type": "code",
   "execution_count": null,
   "id": "8edfa919",
   "metadata": {},
   "outputs": [],
   "source": []
  }
 ],
 "metadata": {
  "kernelspec": {
   "display_name": "Python 3.9 (tensorflow)",
   "language": "python",
   "name": "tensorflow"
  },
  "language_info": {
   "codemirror_mode": {
    "name": "ipython",
    "version": 3
   },
   "file_extension": ".py",
   "mimetype": "text/x-python",
   "name": "python",
   "nbconvert_exporter": "python",
   "pygments_lexer": "ipython3",
   "version": "3.9.13"
  },
  "toc": {
   "base_numbering": 1,
   "nav_menu": {
    "height": "346px",
    "width": "456px"
   },
   "number_sections": true,
   "sideBar": true,
   "skip_h1_title": false,
   "title_cell": "Table of Contents",
   "title_sidebar": "Contents",
   "toc_cell": false,
   "toc_position": {},
   "toc_section_display": true,
   "toc_window_display": false
  },
  "varInspector": {
   "cols": {
    "lenName": 16,
    "lenType": 16,
    "lenVar": 40
   },
   "kernels_config": {
    "python": {
     "delete_cmd_postfix": "",
     "delete_cmd_prefix": "del ",
     "library": "var_list.py",
     "varRefreshCmd": "print(var_dic_list())"
    },
    "r": {
     "delete_cmd_postfix": ") ",
     "delete_cmd_prefix": "rm(",
     "library": "var_list.r",
     "varRefreshCmd": "cat(var_dic_list()) "
    }
   },
   "types_to_exclude": [
    "module",
    "function",
    "builtin_function_or_method",
    "instance",
    "_Feature"
   ],
   "window_display": false
  }
 },
 "nbformat": 4,
 "nbformat_minor": 5
}
