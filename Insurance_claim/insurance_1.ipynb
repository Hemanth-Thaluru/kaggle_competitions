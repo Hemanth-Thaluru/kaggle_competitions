{
 "cells": [
  {
   "cell_type": "code",
   "execution_count": 2,
   "id": "eb54d71e",
   "metadata": {},
   "outputs": [],
   "source": [
    "from fastai.tabular.all import *\n",
    "from sklearn.metrics import roc_auc_score\n",
    "\n",
    "pd.options.display.float_format = '{:.2f}'.format\n",
    "set_seed(42)"
   ]
  },
  {
   "cell_type": "code",
   "execution_count": 3,
   "id": "8e8d92f2",
   "metadata": {},
   "outputs": [],
   "source": [
    "path='/Volumes/TAPPS/Glo'\n",
    "compe='tabular-playground-series-sep-2021'"
   ]
  },
  {
   "cell_type": "code",
   "execution_count": 4,
   "id": "6e358b45",
   "metadata": {},
   "outputs": [
    {
     "name": "stdout",
     "output_type": "stream",
     "text": [
      "0    480404\n",
      "1    477515\n",
      "Name: claim, dtype: int64\n"
     ]
    }
   ],
   "source": [
    "df=pd.read_csv(f'{path}/{compe}/train.csv')\n",
    "c=df.claim.value_counts()\n",
    "print(c)"
   ]
  },
  {
   "cell_type": "code",
   "execution_count": 5,
   "id": "106564a0",
   "metadata": {},
   "outputs": [
    {
     "data": {
      "text/plain": [
       "(957919, 493474)"
      ]
     },
     "execution_count": 5,
     "metadata": {},
     "output_type": "execute_result"
    }
   ],
   "source": [
    "df_test=pd.read_csv(f'{path}/{compe}/test.csv')\n",
    "df_sub=pd.read_csv(f'{path}/{compe}/sample_solution.csv')\n",
    "len(df),len(df_test)"
   ]
  },
  {
   "cell_type": "code",
   "execution_count": 6,
   "id": "b2910d5f",
   "metadata": {},
   "outputs": [
    {
     "data": {
      "text/html": [
       "<div>\n",
       "<style scoped>\n",
       "    .dataframe tbody tr th:only-of-type {\n",
       "        vertical-align: middle;\n",
       "    }\n",
       "\n",
       "    .dataframe tbody tr th {\n",
       "        vertical-align: top;\n",
       "    }\n",
       "\n",
       "    .dataframe thead th {\n",
       "        text-align: right;\n",
       "    }\n",
       "</style>\n",
       "<table border=\"1\" class=\"dataframe\">\n",
       "  <thead>\n",
       "    <tr style=\"text-align: right;\">\n",
       "      <th></th>\n",
       "      <th>id</th>\n",
       "      <th>claim</th>\n",
       "    </tr>\n",
       "  </thead>\n",
       "  <tbody>\n",
       "    <tr>\n",
       "      <th>0</th>\n",
       "      <td>957919</td>\n",
       "      <td>0.50</td>\n",
       "    </tr>\n",
       "    <tr>\n",
       "      <th>1</th>\n",
       "      <td>957920</td>\n",
       "      <td>0.50</td>\n",
       "    </tr>\n",
       "  </tbody>\n",
       "</table>\n",
       "</div>"
      ],
      "text/plain": [
       "       id  claim\n",
       "0  957919   0.50\n",
       "1  957920   0.50"
      ]
     },
     "execution_count": 6,
     "metadata": {},
     "output_type": "execute_result"
    }
   ],
   "source": [
    "df_sub.head(2)"
   ]
  },
  {
   "cell_type": "code",
   "execution_count": 7,
   "id": "796af227",
   "metadata": {},
   "outputs": [
    {
     "data": {
      "text/html": [
       "<div>\n",
       "<style scoped>\n",
       "    .dataframe tbody tr th:only-of-type {\n",
       "        vertical-align: middle;\n",
       "    }\n",
       "\n",
       "    .dataframe tbody tr th {\n",
       "        vertical-align: top;\n",
       "    }\n",
       "\n",
       "    .dataframe thead th {\n",
       "        text-align: right;\n",
       "    }\n",
       "</style>\n",
       "<table border=\"1\" class=\"dataframe\">\n",
       "  <thead>\n",
       "    <tr style=\"text-align: right;\">\n",
       "      <th></th>\n",
       "      <th>id</th>\n",
       "      <th>f1</th>\n",
       "      <th>f2</th>\n",
       "      <th>f3</th>\n",
       "      <th>f4</th>\n",
       "      <th>f5</th>\n",
       "      <th>f6</th>\n",
       "      <th>f7</th>\n",
       "      <th>f8</th>\n",
       "      <th>f9</th>\n",
       "      <th>...</th>\n",
       "      <th>f110</th>\n",
       "      <th>f111</th>\n",
       "      <th>f112</th>\n",
       "      <th>f113</th>\n",
       "      <th>f114</th>\n",
       "      <th>f115</th>\n",
       "      <th>f116</th>\n",
       "      <th>f117</th>\n",
       "      <th>f118</th>\n",
       "      <th>claim</th>\n",
       "    </tr>\n",
       "  </thead>\n",
       "  <tbody>\n",
       "    <tr>\n",
       "      <th>0</th>\n",
       "      <td>0</td>\n",
       "      <td>0.11</td>\n",
       "      <td>0.00</td>\n",
       "      <td>-37.57</td>\n",
       "      <td>0.02</td>\n",
       "      <td>0.29</td>\n",
       "      <td>-10.25</td>\n",
       "      <td>135.12</td>\n",
       "      <td>168900.00</td>\n",
       "      <td>399240000000000.00</td>\n",
       "      <td>...</td>\n",
       "      <td>-12.23</td>\n",
       "      <td>1.75</td>\n",
       "      <td>1.91</td>\n",
       "      <td>-7.12</td>\n",
       "      <td>4378.80</td>\n",
       "      <td>1.21</td>\n",
       "      <td>861340000000000.00</td>\n",
       "      <td>140.10</td>\n",
       "      <td>1.02</td>\n",
       "      <td>1</td>\n",
       "    </tr>\n",
       "    <tr>\n",
       "      <th>1</th>\n",
       "      <td>1</td>\n",
       "      <td>0.10</td>\n",
       "      <td>0.30</td>\n",
       "      <td>11822.00</td>\n",
       "      <td>0.28</td>\n",
       "      <td>0.46</td>\n",
       "      <td>-0.84</td>\n",
       "      <td>1721.90</td>\n",
       "      <td>119810.00</td>\n",
       "      <td>3874100000000000.00</td>\n",
       "      <td>...</td>\n",
       "      <td>-56.76</td>\n",
       "      <td>4.17</td>\n",
       "      <td>0.35</td>\n",
       "      <td>4.14</td>\n",
       "      <td>913.23</td>\n",
       "      <td>1.25</td>\n",
       "      <td>7575100000000000.00</td>\n",
       "      <td>1861.00</td>\n",
       "      <td>0.28</td>\n",
       "      <td>0</td>\n",
       "    </tr>\n",
       "    <tr>\n",
       "      <th>2</th>\n",
       "      <td>2</td>\n",
       "      <td>0.18</td>\n",
       "      <td>-0.01</td>\n",
       "      <td>907.27</td>\n",
       "      <td>0.27</td>\n",
       "      <td>0.46</td>\n",
       "      <td>0.17</td>\n",
       "      <td>2298.00</td>\n",
       "      <td>360650.00</td>\n",
       "      <td>12245000000000.00</td>\n",
       "      <td>...</td>\n",
       "      <td>-5.77</td>\n",
       "      <td>1.20</td>\n",
       "      <td>0.26</td>\n",
       "      <td>8.13</td>\n",
       "      <td>45119.00</td>\n",
       "      <td>1.18</td>\n",
       "      <td>321810000000000.00</td>\n",
       "      <td>3838.20</td>\n",
       "      <td>0.41</td>\n",
       "      <td>1</td>\n",
       "    </tr>\n",
       "  </tbody>\n",
       "</table>\n",
       "<p>3 rows × 120 columns</p>\n",
       "</div>"
      ],
      "text/plain": [
       "   id   f1    f2       f3   f4   f5     f6      f7        f8  \\\n",
       "0   0 0.11  0.00   -37.57 0.02 0.29 -10.25  135.12 168900.00   \n",
       "1   1 0.10  0.30 11822.00 0.28 0.46  -0.84 1721.90 119810.00   \n",
       "2   2 0.18 -0.01   907.27 0.27 0.46   0.17 2298.00 360650.00   \n",
       "\n",
       "                   f9  ...   f110  f111  f112  f113     f114  f115  \\\n",
       "0  399240000000000.00  ... -12.23  1.75  1.91 -7.12  4378.80  1.21   \n",
       "1 3874100000000000.00  ... -56.76  4.17  0.35  4.14   913.23  1.25   \n",
       "2   12245000000000.00  ...  -5.77  1.20  0.26  8.13 45119.00  1.18   \n",
       "\n",
       "                 f116    f117  f118  claim  \n",
       "0  861340000000000.00  140.10  1.02      1  \n",
       "1 7575100000000000.00 1861.00  0.28      0  \n",
       "2  321810000000000.00 3838.20  0.41      1  \n",
       "\n",
       "[3 rows x 120 columns]"
      ]
     },
     "execution_count": 7,
     "metadata": {},
     "output_type": "execute_result"
    }
   ],
   "source": [
    "df.head(3)"
   ]
  },
  {
   "cell_type": "code",
   "execution_count": 8,
   "id": "47432863",
   "metadata": {},
   "outputs": [
    {
     "data": {
      "text/html": [
       "<div>\n",
       "<style scoped>\n",
       "    .dataframe tbody tr th:only-of-type {\n",
       "        vertical-align: middle;\n",
       "    }\n",
       "\n",
       "    .dataframe tbody tr th {\n",
       "        vertical-align: top;\n",
       "    }\n",
       "\n",
       "    .dataframe thead th {\n",
       "        text-align: right;\n",
       "    }\n",
       "</style>\n",
       "<table border=\"1\" class=\"dataframe\">\n",
       "  <thead>\n",
       "    <tr style=\"text-align: right;\">\n",
       "      <th></th>\n",
       "      <th>id</th>\n",
       "      <th>f1</th>\n",
       "      <th>f2</th>\n",
       "      <th>f3</th>\n",
       "      <th>f4</th>\n",
       "      <th>f5</th>\n",
       "      <th>f6</th>\n",
       "      <th>f7</th>\n",
       "      <th>f8</th>\n",
       "      <th>f9</th>\n",
       "      <th>...</th>\n",
       "      <th>f110</th>\n",
       "      <th>f111</th>\n",
       "      <th>f112</th>\n",
       "      <th>f113</th>\n",
       "      <th>f114</th>\n",
       "      <th>f115</th>\n",
       "      <th>f116</th>\n",
       "      <th>f117</th>\n",
       "      <th>f118</th>\n",
       "      <th>claim</th>\n",
       "    </tr>\n",
       "  </thead>\n",
       "  <tbody>\n",
       "    <tr>\n",
       "      <th>count</th>\n",
       "      <td>957919.00</td>\n",
       "      <td>942672.00</td>\n",
       "      <td>942729.00</td>\n",
       "      <td>942428.00</td>\n",
       "      <td>942359.00</td>\n",
       "      <td>942514.00</td>\n",
       "      <td>942398.00</td>\n",
       "      <td>942415.00</td>\n",
       "      <td>942546.00</td>\n",
       "      <td>942670.00</td>\n",
       "      <td>...</td>\n",
       "      <td>942554.00</td>\n",
       "      <td>942420.00</td>\n",
       "      <td>942509.00</td>\n",
       "      <td>942686.00</td>\n",
       "      <td>942481.00</td>\n",
       "      <td>942360.00</td>\n",
       "      <td>942330.00</td>\n",
       "      <td>942512.00</td>\n",
       "      <td>942707.00</td>\n",
       "      <td>957919.00</td>\n",
       "    </tr>\n",
       "    <tr>\n",
       "      <th>mean</th>\n",
       "      <td>478959.00</td>\n",
       "      <td>0.09</td>\n",
       "      <td>0.35</td>\n",
       "      <td>4068.74</td>\n",
       "      <td>0.20</td>\n",
       "      <td>0.30</td>\n",
       "      <td>-0.07</td>\n",
       "      <td>1620.84</td>\n",
       "      <td>377164.16</td>\n",
       "      <td>1806053749440367.25</td>\n",
       "      <td>...</td>\n",
       "      <td>-19.93</td>\n",
       "      <td>2.07</td>\n",
       "      <td>23.89</td>\n",
       "      <td>1.75</td>\n",
       "      <td>63152.97</td>\n",
       "      <td>1.21</td>\n",
       "      <td>42769052891231648.00</td>\n",
       "      <td>3959.20</td>\n",
       "      <td>0.56</td>\n",
       "      <td>0.50</td>\n",
       "    </tr>\n",
       "    <tr>\n",
       "      <th>std</th>\n",
       "      <td>276527.54</td>\n",
       "      <td>0.04</td>\n",
       "      <td>0.15</td>\n",
       "      <td>6415.83</td>\n",
       "      <td>0.21</td>\n",
       "      <td>0.15</td>\n",
       "      <td>2.12</td>\n",
       "      <td>1276.28</td>\n",
       "      <td>345432.47</td>\n",
       "      <td>2335204188640574.00</td>\n",
       "      <td>...</td>\n",
       "      <td>18.58</td>\n",
       "      <td>0.90</td>\n",
       "      <td>45.58</td>\n",
       "      <td>10.09</td>\n",
       "      <td>92435.02</td>\n",
       "      <td>0.11</td>\n",
       "      <td>67324411404428680.00</td>\n",
       "      <td>3155.99</td>\n",
       "      <td>0.41</td>\n",
       "      <td>0.50</td>\n",
       "    </tr>\n",
       "    <tr>\n",
       "      <th>min</th>\n",
       "      <td>0.00</td>\n",
       "      <td>-0.15</td>\n",
       "      <td>-0.02</td>\n",
       "      <td>-9421.70</td>\n",
       "      <td>-0.08</td>\n",
       "      <td>-0.01</td>\n",
       "      <td>-12.79</td>\n",
       "      <td>-224.80</td>\n",
       "      <td>-29843.00</td>\n",
       "      <td>-1153300000000000.00</td>\n",
       "      <td>...</td>\n",
       "      <td>-105.86</td>\n",
       "      <td>0.28</td>\n",
       "      <td>-27.69</td>\n",
       "      <td>-26.59</td>\n",
       "      <td>-81977.00</td>\n",
       "      <td>0.91</td>\n",
       "      <td>-8944400000000000.00</td>\n",
       "      <td>-415.24</td>\n",
       "      <td>-0.15</td>\n",
       "      <td>0.00</td>\n",
       "    </tr>\n",
       "    <tr>\n",
       "      <th>25%</th>\n",
       "      <td>239479.50</td>\n",
       "      <td>0.07</td>\n",
       "      <td>0.28</td>\n",
       "      <td>418.43</td>\n",
       "      <td>0.04</td>\n",
       "      <td>0.24</td>\n",
       "      <td>-1.12</td>\n",
       "      <td>481.55</td>\n",
       "      <td>91209.00</td>\n",
       "      <td>11531000000000.00</td>\n",
       "      <td>...</td>\n",
       "      <td>-28.81</td>\n",
       "      <td>1.49</td>\n",
       "      <td>-0.63</td>\n",
       "      <td>-4.47</td>\n",
       "      <td>2443.20</td>\n",
       "      <td>1.15</td>\n",
       "      <td>232110000000000.00</td>\n",
       "      <td>1306.20</td>\n",
       "      <td>0.28</td>\n",
       "      <td>0.00</td>\n",
       "    </tr>\n",
       "    <tr>\n",
       "      <th>50%</th>\n",
       "      <td>478959.00</td>\n",
       "      <td>0.09</td>\n",
       "      <td>0.39</td>\n",
       "      <td>1279.50</td>\n",
       "      <td>0.14</td>\n",
       "      <td>0.33</td>\n",
       "      <td>-0.38</td>\n",
       "      <td>1446.10</td>\n",
       "      <td>289670.00</td>\n",
       "      <td>504305000000000.00</td>\n",
       "      <td>...</td>\n",
       "      <td>-14.64</td>\n",
       "      <td>1.66</td>\n",
       "      <td>1.73</td>\n",
       "      <td>0.89</td>\n",
       "      <td>19479.00</td>\n",
       "      <td>1.18</td>\n",
       "      <td>13275000000000000.00</td>\n",
       "      <td>3228.00</td>\n",
       "      <td>0.47</td>\n",
       "      <td>0.00</td>\n",
       "    </tr>\n",
       "    <tr>\n",
       "      <th>75%</th>\n",
       "      <td>718438.50</td>\n",
       "      <td>0.12</td>\n",
       "      <td>0.46</td>\n",
       "      <td>4444.40</td>\n",
       "      <td>0.30</td>\n",
       "      <td>0.41</td>\n",
       "      <td>0.92</td>\n",
       "      <td>2495.90</td>\n",
       "      <td>560560.00</td>\n",
       "      <td>3103100000000000.00</td>\n",
       "      <td>...</td>\n",
       "      <td>-5.33</td>\n",
       "      <td>2.52</td>\n",
       "      <td>18.99</td>\n",
       "      <td>6.84</td>\n",
       "      <td>88488.00</td>\n",
       "      <td>1.24</td>\n",
       "      <td>52787000000000000.00</td>\n",
       "      <td>6137.90</td>\n",
       "      <td>0.75</td>\n",
       "      <td>1.00</td>\n",
       "    </tr>\n",
       "    <tr>\n",
       "      <th>max</th>\n",
       "      <td>957918.00</td>\n",
       "      <td>0.42</td>\n",
       "      <td>0.52</td>\n",
       "      <td>39544.00</td>\n",
       "      <td>1.32</td>\n",
       "      <td>0.55</td>\n",
       "      <td>11.20</td>\n",
       "      <td>5426.60</td>\n",
       "      <td>1913700.00</td>\n",
       "      <td>10424000000000000.00</td>\n",
       "      <td>...</td>\n",
       "      <td>1.61</td>\n",
       "      <td>4.57</td>\n",
       "      <td>217.84</td>\n",
       "      <td>47.76</td>\n",
       "      <td>526050.00</td>\n",
       "      <td>1.89</td>\n",
       "      <td>324990000000000000.00</td>\n",
       "      <td>13151.00</td>\n",
       "      <td>2.74</td>\n",
       "      <td>1.00</td>\n",
       "    </tr>\n",
       "  </tbody>\n",
       "</table>\n",
       "<p>8 rows × 120 columns</p>\n",
       "</div>"
      ],
      "text/plain": [
       "             id        f1        f2        f3        f4        f5        f6  \\\n",
       "count 957919.00 942672.00 942729.00 942428.00 942359.00 942514.00 942398.00   \n",
       "mean  478959.00      0.09      0.35   4068.74      0.20      0.30     -0.07   \n",
       "std   276527.54      0.04      0.15   6415.83      0.21      0.15      2.12   \n",
       "min        0.00     -0.15     -0.02  -9421.70     -0.08     -0.01    -12.79   \n",
       "25%   239479.50      0.07      0.28    418.43      0.04      0.24     -1.12   \n",
       "50%   478959.00      0.09      0.39   1279.50      0.14      0.33     -0.38   \n",
       "75%   718438.50      0.12      0.46   4444.40      0.30      0.41      0.92   \n",
       "max   957918.00      0.42      0.52  39544.00      1.32      0.55     11.20   \n",
       "\n",
       "             f7         f8                   f9  ...      f110      f111  \\\n",
       "count 942415.00  942546.00            942670.00  ... 942554.00 942420.00   \n",
       "mean    1620.84  377164.16  1806053749440367.25  ...    -19.93      2.07   \n",
       "std     1276.28  345432.47  2335204188640574.00  ...     18.58      0.90   \n",
       "min     -224.80  -29843.00 -1153300000000000.00  ...   -105.86      0.28   \n",
       "25%      481.55   91209.00    11531000000000.00  ...    -28.81      1.49   \n",
       "50%     1446.10  289670.00   504305000000000.00  ...    -14.64      1.66   \n",
       "75%     2495.90  560560.00  3103100000000000.00  ...     -5.33      2.52   \n",
       "max     5426.60 1913700.00 10424000000000000.00  ...      1.61      4.57   \n",
       "\n",
       "           f112      f113      f114      f115                  f116      f117  \\\n",
       "count 942509.00 942686.00 942481.00 942360.00             942330.00 942512.00   \n",
       "mean      23.89      1.75  63152.97      1.21  42769052891231648.00   3959.20   \n",
       "std       45.58     10.09  92435.02      0.11  67324411404428680.00   3155.99   \n",
       "min      -27.69    -26.59 -81977.00      0.91  -8944400000000000.00   -415.24   \n",
       "25%       -0.63     -4.47   2443.20      1.15    232110000000000.00   1306.20   \n",
       "50%        1.73      0.89  19479.00      1.18  13275000000000000.00   3228.00   \n",
       "75%       18.99      6.84  88488.00      1.24  52787000000000000.00   6137.90   \n",
       "max      217.84     47.76 526050.00      1.89 324990000000000000.00  13151.00   \n",
       "\n",
       "           f118     claim  \n",
       "count 942707.00 957919.00  \n",
       "mean       0.56      0.50  \n",
       "std        0.41      0.50  \n",
       "min       -0.15      0.00  \n",
       "25%        0.28      0.00  \n",
       "50%        0.47      0.00  \n",
       "75%        0.75      1.00  \n",
       "max        2.74      1.00  \n",
       "\n",
       "[8 rows x 120 columns]"
      ]
     },
     "execution_count": 8,
     "metadata": {},
     "output_type": "execute_result"
    }
   ],
   "source": [
    "df.describe()"
   ]
  },
  {
   "cell_type": "code",
   "execution_count": 13,
   "id": "98b51504",
   "metadata": {},
   "outputs": [
    {
     "data": {
      "text/plain": [
       "id           0\n",
       "f1       15247\n",
       "f2       15190\n",
       "f3       15491\n",
       "f4       15560\n",
       "         ...  \n",
       "f115     15559\n",
       "f116     15589\n",
       "f117     15407\n",
       "f118     15212\n",
       "claim        0\n",
       "Length: 120, dtype: int64"
      ]
     },
     "execution_count": 13,
     "metadata": {},
     "output_type": "execute_result"
    }
   ],
   "source": [
    "df.isna().sum()"
   ]
  },
  {
   "cell_type": "code",
   "execution_count": 15,
   "id": "0b829013",
   "metadata": {},
   "outputs": [],
   "source": [
    "def FE(m):\n",
    "    selected_cols = m.columns[(m.max() > 1000)& (m.min()>0)].to_list()\n",
    "    const=m[selected_cols].min()\n",
    "    m[selected_cols]=np.log1p(m[selected_cols]+const)\n",
    "    return m"
   ]
  },
  {
   "cell_type": "code",
   "execution_count": 106,
   "id": "681720f1",
   "metadata": {},
   "outputs": [
    {
     "data": {
      "text/html": [
       "<div>\n",
       "<style scoped>\n",
       "    .dataframe tbody tr th:only-of-type {\n",
       "        vertical-align: middle;\n",
       "    }\n",
       "\n",
       "    .dataframe tbody tr th {\n",
       "        vertical-align: top;\n",
       "    }\n",
       "\n",
       "    .dataframe thead th {\n",
       "        text-align: right;\n",
       "    }\n",
       "</style>\n",
       "<table border=\"1\" class=\"dataframe\">\n",
       "  <thead>\n",
       "    <tr style=\"text-align: right;\">\n",
       "      <th></th>\n",
       "      <th>f3</th>\n",
       "      <th>f7</th>\n",
       "      <th>f10</th>\n",
       "      <th>f12</th>\n",
       "      <th>f20</th>\n",
       "      <th>f21</th>\n",
       "      <th>f25</th>\n",
       "      <th>f26</th>\n",
       "      <th>f27</th>\n",
       "      <th>f28</th>\n",
       "      <th>...</th>\n",
       "      <th>f92</th>\n",
       "      <th>f96</th>\n",
       "      <th>f98</th>\n",
       "      <th>f102</th>\n",
       "      <th>f103</th>\n",
       "      <th>f104</th>\n",
       "      <th>f108</th>\n",
       "      <th>f114</th>\n",
       "      <th>f116</th>\n",
       "      <th>f117</th>\n",
       "    </tr>\n",
       "  </thead>\n",
       "  <tbody>\n",
       "    <tr>\n",
       "      <th>555071</th>\n",
       "      <td>2747.50</td>\n",
       "      <td>1389.20</td>\n",
       "      <td>361.89</td>\n",
       "      <td>2411500000.00</td>\n",
       "      <td>1.77</td>\n",
       "      <td>158820.00</td>\n",
       "      <td>680.70</td>\n",
       "      <td>1021300000000.00</td>\n",
       "      <td>4995800000000.00</td>\n",
       "      <td>83795.00</td>\n",
       "      <td>...</td>\n",
       "      <td>18570.00</td>\n",
       "      <td>429.34</td>\n",
       "      <td>-1678000000000.00</td>\n",
       "      <td>428240.00</td>\n",
       "      <td>29.36</td>\n",
       "      <td>934.14</td>\n",
       "      <td>1587800000.00</td>\n",
       "      <td>33203.00</td>\n",
       "      <td>15043000000000000.00</td>\n",
       "      <td>7064.80</td>\n",
       "    </tr>\n",
       "    <tr>\n",
       "      <th>73385</th>\n",
       "      <td>1604.70</td>\n",
       "      <td>83.50</td>\n",
       "      <td>48514.00</td>\n",
       "      <td>3287300000.00</td>\n",
       "      <td>45.09</td>\n",
       "      <td>6477.60</td>\n",
       "      <td>1049.40</td>\n",
       "      <td>1901300000000.00</td>\n",
       "      <td>1646900000000.00</td>\n",
       "      <td>363480.00</td>\n",
       "      <td>...</td>\n",
       "      <td>10764.00</td>\n",
       "      <td>NaN</td>\n",
       "      <td>-23202000000.00</td>\n",
       "      <td>662580.00</td>\n",
       "      <td>41.28</td>\n",
       "      <td>7690.60</td>\n",
       "      <td>277490000.00</td>\n",
       "      <td>378760.00</td>\n",
       "      <td>197000000000000000.00</td>\n",
       "      <td>4117.30</td>\n",
       "    </tr>\n",
       "    <tr>\n",
       "      <th>690500</th>\n",
       "      <td>4013.20</td>\n",
       "      <td>3060.30</td>\n",
       "      <td>4598.80</td>\n",
       "      <td>3976500000.00</td>\n",
       "      <td>6.25</td>\n",
       "      <td>288390.00</td>\n",
       "      <td>416.74</td>\n",
       "      <td>470490000000.00</td>\n",
       "      <td>18191000000.00</td>\n",
       "      <td>82759.00</td>\n",
       "      <td>...</td>\n",
       "      <td>9676.90</td>\n",
       "      <td>55.96</td>\n",
       "      <td>53697000000000.00</td>\n",
       "      <td>208290.00</td>\n",
       "      <td>342.30</td>\n",
       "      <td>4115.70</td>\n",
       "      <td>2220800000.00</td>\n",
       "      <td>417440.00</td>\n",
       "      <td>1156600000000000.00</td>\n",
       "      <td>2299.90</td>\n",
       "    </tr>\n",
       "    <tr>\n",
       "      <th>872954</th>\n",
       "      <td>27253.00</td>\n",
       "      <td>139.98</td>\n",
       "      <td>3575.40</td>\n",
       "      <td>5001500000.00</td>\n",
       "      <td>27.90</td>\n",
       "      <td>124910.00</td>\n",
       "      <td>58.18</td>\n",
       "      <td>-2386400000.00</td>\n",
       "      <td>2010800000000.00</td>\n",
       "      <td>-25882.00</td>\n",
       "      <td>...</td>\n",
       "      <td>-103.97</td>\n",
       "      <td>5637.20</td>\n",
       "      <td>47270000000000.00</td>\n",
       "      <td>398720.00</td>\n",
       "      <td>39.89</td>\n",
       "      <td>29770.00</td>\n",
       "      <td>968260000.00</td>\n",
       "      <td>66916.00</td>\n",
       "      <td>36806000000000000.00</td>\n",
       "      <td>4503.10</td>\n",
       "    </tr>\n",
       "    <tr>\n",
       "      <th>254986</th>\n",
       "      <td>132.63</td>\n",
       "      <td>161.12</td>\n",
       "      <td>1584.70</td>\n",
       "      <td>97536000.00</td>\n",
       "      <td>8.76</td>\n",
       "      <td>-607.02</td>\n",
       "      <td>422.63</td>\n",
       "      <td>3510200000000.00</td>\n",
       "      <td>19002000000.00</td>\n",
       "      <td>4679500.00</td>\n",
       "      <td>...</td>\n",
       "      <td>11203.00</td>\n",
       "      <td>10.18</td>\n",
       "      <td>24121000000.00</td>\n",
       "      <td>115050.00</td>\n",
       "      <td>-6.82</td>\n",
       "      <td>17051.00</td>\n",
       "      <td>1719200000.00</td>\n",
       "      <td>96961.00</td>\n",
       "      <td>38762000000000000.00</td>\n",
       "      <td>5015.90</td>\n",
       "    </tr>\n",
       "    <tr>\n",
       "      <th>...</th>\n",
       "      <td>...</td>\n",
       "      <td>...</td>\n",
       "      <td>...</td>\n",
       "      <td>...</td>\n",
       "      <td>...</td>\n",
       "      <td>...</td>\n",
       "      <td>...</td>\n",
       "      <td>...</td>\n",
       "      <td>...</td>\n",
       "      <td>...</td>\n",
       "      <td>...</td>\n",
       "      <td>...</td>\n",
       "      <td>...</td>\n",
       "      <td>...</td>\n",
       "      <td>...</td>\n",
       "      <td>...</td>\n",
       "      <td>...</td>\n",
       "      <td>...</td>\n",
       "      <td>...</td>\n",
       "      <td>...</td>\n",
       "      <td>...</td>\n",
       "    </tr>\n",
       "    <tr>\n",
       "      <th>401846</th>\n",
       "      <td>5379.10</td>\n",
       "      <td>1282.30</td>\n",
       "      <td>-20.56</td>\n",
       "      <td>716580000.00</td>\n",
       "      <td>419.53</td>\n",
       "      <td>9804.40</td>\n",
       "      <td>60.93</td>\n",
       "      <td>4163200000000.00</td>\n",
       "      <td>2999200000000.00</td>\n",
       "      <td>3063900.00</td>\n",
       "      <td>...</td>\n",
       "      <td>7357.50</td>\n",
       "      <td>12474.00</td>\n",
       "      <td>27757000000000.00</td>\n",
       "      <td>16815.00</td>\n",
       "      <td>848.63</td>\n",
       "      <td>-19.47</td>\n",
       "      <td>4554700000.00</td>\n",
       "      <td>-1030.60</td>\n",
       "      <td>4818200000000000.00</td>\n",
       "      <td>909.92</td>\n",
       "    </tr>\n",
       "    <tr>\n",
       "      <th>919117</th>\n",
       "      <td>383.51</td>\n",
       "      <td>1673.40</td>\n",
       "      <td>-20.64</td>\n",
       "      <td>-26251000.00</td>\n",
       "      <td>NaN</td>\n",
       "      <td>292020.00</td>\n",
       "      <td>580.58</td>\n",
       "      <td>NaN</td>\n",
       "      <td>1204500000000.00</td>\n",
       "      <td>3822300.00</td>\n",
       "      <td>...</td>\n",
       "      <td>2785.90</td>\n",
       "      <td>164.60</td>\n",
       "      <td>NaN</td>\n",
       "      <td>352750.00</td>\n",
       "      <td>38.68</td>\n",
       "      <td>20788.00</td>\n",
       "      <td>4458800000.00</td>\n",
       "      <td>218490.00</td>\n",
       "      <td>258660000000000000.00</td>\n",
       "      <td>2748.90</td>\n",
       "    </tr>\n",
       "    <tr>\n",
       "      <th>890619</th>\n",
       "      <td>6732.80</td>\n",
       "      <td>4583.90</td>\n",
       "      <td>-150.15</td>\n",
       "      <td>438010000.00</td>\n",
       "      <td>-1.54</td>\n",
       "      <td>5555.80</td>\n",
       "      <td>631.75</td>\n",
       "      <td>25241000000.00</td>\n",
       "      <td>3191900000000.00</td>\n",
       "      <td>67209.00</td>\n",
       "      <td>...</td>\n",
       "      <td>225.10</td>\n",
       "      <td>504.33</td>\n",
       "      <td>41121000000000.00</td>\n",
       "      <td>580720.00</td>\n",
       "      <td>6.99</td>\n",
       "      <td>549.86</td>\n",
       "      <td>3468300000.00</td>\n",
       "      <td>30380.00</td>\n",
       "      <td>24295000000000000.00</td>\n",
       "      <td>4496.00</td>\n",
       "    </tr>\n",
       "    <tr>\n",
       "      <th>729464</th>\n",
       "      <td>711.85</td>\n",
       "      <td>75.70</td>\n",
       "      <td>44.74</td>\n",
       "      <td>9260800.00</td>\n",
       "      <td>827.91</td>\n",
       "      <td>25664.00</td>\n",
       "      <td>648.41</td>\n",
       "      <td>1150400000000.00</td>\n",
       "      <td>4523800000000.00</td>\n",
       "      <td>7955800.00</td>\n",
       "      <td>...</td>\n",
       "      <td>0.80</td>\n",
       "      <td>-106.64</td>\n",
       "      <td>-429340000000.00</td>\n",
       "      <td>8074.60</td>\n",
       "      <td>2475.40</td>\n",
       "      <td>706.87</td>\n",
       "      <td>114290000.00</td>\n",
       "      <td>50525.00</td>\n",
       "      <td>-283910000000000.00</td>\n",
       "      <td>4554.10</td>\n",
       "    </tr>\n",
       "    <tr>\n",
       "      <th>488879</th>\n",
       "      <td>308.85</td>\n",
       "      <td>945.65</td>\n",
       "      <td>-150.37</td>\n",
       "      <td>63738000.00</td>\n",
       "      <td>74.59</td>\n",
       "      <td>2101.30</td>\n",
       "      <td>1063.80</td>\n",
       "      <td>26038000000.00</td>\n",
       "      <td>32824000000.00</td>\n",
       "      <td>304980.00</td>\n",
       "      <td>...</td>\n",
       "      <td>4174.60</td>\n",
       "      <td>307.37</td>\n",
       "      <td>275930000000.00</td>\n",
       "      <td>402150.00</td>\n",
       "      <td>86.68</td>\n",
       "      <td>855.36</td>\n",
       "      <td>41319000.00</td>\n",
       "      <td>5895.50</td>\n",
       "      <td>5872600000000000.00</td>\n",
       "      <td>916.78</td>\n",
       "    </tr>\n",
       "  </tbody>\n",
       "</table>\n",
       "<p>718439 rows × 41 columns</p>\n",
       "</div>"
      ],
      "text/plain": [
       "             f3      f7      f10           f12    f20       f21     f25  \\\n",
       "555071  2747.50 1389.20   361.89 2411500000.00   1.77 158820.00  680.70   \n",
       "73385   1604.70   83.50 48514.00 3287300000.00  45.09   6477.60 1049.40   \n",
       "690500  4013.20 3060.30  4598.80 3976500000.00   6.25 288390.00  416.74   \n",
       "872954 27253.00  139.98  3575.40 5001500000.00  27.90 124910.00   58.18   \n",
       "254986   132.63  161.12  1584.70   97536000.00   8.76   -607.02  422.63   \n",
       "...         ...     ...      ...           ...    ...       ...     ...   \n",
       "401846  5379.10 1282.30   -20.56  716580000.00 419.53   9804.40   60.93   \n",
       "919117   383.51 1673.40   -20.64  -26251000.00    NaN 292020.00  580.58   \n",
       "890619  6732.80 4583.90  -150.15  438010000.00  -1.54   5555.80  631.75   \n",
       "729464   711.85   75.70    44.74    9260800.00 827.91  25664.00  648.41   \n",
       "488879   308.85  945.65  -150.37   63738000.00  74.59   2101.30 1063.80   \n",
       "\n",
       "                    f26              f27        f28  ...      f92      f96  \\\n",
       "555071 1021300000000.00 4995800000000.00   83795.00  ... 18570.00   429.34   \n",
       "73385  1901300000000.00 1646900000000.00  363480.00  ... 10764.00      NaN   \n",
       "690500  470490000000.00   18191000000.00   82759.00  ...  9676.90    55.96   \n",
       "872954   -2386400000.00 2010800000000.00  -25882.00  ...  -103.97  5637.20   \n",
       "254986 3510200000000.00   19002000000.00 4679500.00  ... 11203.00    10.18   \n",
       "...                 ...              ...        ...  ...      ...      ...   \n",
       "401846 4163200000000.00 2999200000000.00 3063900.00  ...  7357.50 12474.00   \n",
       "919117              NaN 1204500000000.00 3822300.00  ...  2785.90   164.60   \n",
       "890619   25241000000.00 3191900000000.00   67209.00  ...   225.10   504.33   \n",
       "729464 1150400000000.00 4523800000000.00 7955800.00  ...     0.80  -106.64   \n",
       "488879   26038000000.00   32824000000.00  304980.00  ...  4174.60   307.37   \n",
       "\n",
       "                     f98      f102    f103     f104          f108      f114  \\\n",
       "555071 -1678000000000.00 428240.00   29.36   934.14 1587800000.00  33203.00   \n",
       "73385    -23202000000.00 662580.00   41.28  7690.60  277490000.00 378760.00   \n",
       "690500 53697000000000.00 208290.00  342.30  4115.70 2220800000.00 417440.00   \n",
       "872954 47270000000000.00 398720.00   39.89 29770.00  968260000.00  66916.00   \n",
       "254986    24121000000.00 115050.00   -6.82 17051.00 1719200000.00  96961.00   \n",
       "...                  ...       ...     ...      ...           ...       ...   \n",
       "401846 27757000000000.00  16815.00  848.63   -19.47 4554700000.00  -1030.60   \n",
       "919117               NaN 352750.00   38.68 20788.00 4458800000.00 218490.00   \n",
       "890619 41121000000000.00 580720.00    6.99   549.86 3468300000.00  30380.00   \n",
       "729464  -429340000000.00   8074.60 2475.40   706.87  114290000.00  50525.00   \n",
       "488879   275930000000.00 402150.00   86.68   855.36   41319000.00   5895.50   \n",
       "\n",
       "                        f116    f117  \n",
       "555071  15043000000000000.00 7064.80  \n",
       "73385  197000000000000000.00 4117.30  \n",
       "690500   1156600000000000.00 2299.90  \n",
       "872954  36806000000000000.00 4503.10  \n",
       "254986  38762000000000000.00 5015.90  \n",
       "...                      ...     ...  \n",
       "401846   4818200000000000.00  909.92  \n",
       "919117 258660000000000000.00 2748.90  \n",
       "890619  24295000000000000.00 4496.00  \n",
       "729464   -283910000000000.00 4554.10  \n",
       "488879   5872600000000000.00  916.78  \n",
       "\n",
       "[718439 rows x 41 columns]"
      ]
     },
     "execution_count": 106,
     "metadata": {},
     "output_type": "execute_result"
    }
   ],
   "source": [
    "xtrain[selected_cols]"
   ]
  },
  {
   "cell_type": "code",
   "execution_count": 90,
   "id": "e20e4b4a",
   "metadata": {},
   "outputs": [
    {
     "data": {
      "text/plain": [
       "['f3',\n",
       " 'f7',\n",
       " 'f10',\n",
       " 'f12',\n",
       " 'f20',\n",
       " 'f21',\n",
       " 'f25',\n",
       " 'f26',\n",
       " 'f27',\n",
       " 'f28',\n",
       " 'f32',\n",
       " 'f33',\n",
       " 'f35',\n",
       " 'f36',\n",
       " 'f37',\n",
       " 'f39',\n",
       " 'f41',\n",
       " 'f52',\n",
       " 'f62',\n",
       " 'f65',\n",
       " 'f67',\n",
       " 'f72',\n",
       " 'f73',\n",
       " 'f74',\n",
       " 'f77',\n",
       " 'f78',\n",
       " 'f82',\n",
       " 'f84',\n",
       " 'f85',\n",
       " 'f86',\n",
       " 'f89',\n",
       " 'f92',\n",
       " 'f96',\n",
       " 'f98',\n",
       " 'f102',\n",
       " 'f103',\n",
       " 'f104',\n",
       " 'f108',\n",
       " 'f114',\n",
       " 'f116',\n",
       " 'f117']"
      ]
     },
     "execution_count": 90,
     "metadata": {},
     "output_type": "execute_result"
    }
   ],
   "source": [
    "selected_cols"
   ]
  },
  {
   "cell_type": "markdown",
   "id": "9966ba74",
   "metadata": {},
   "source": [
    "### EDA"
   ]
  },
  {
   "cell_type": "code",
   "execution_count": null,
   "id": "0254921d",
   "metadata": {},
   "outputs": [],
   "source": []
  },
  {
   "cell_type": "code",
   "execution_count": 16,
   "id": "e8b3ea9c",
   "metadata": {},
   "outputs": [
    {
     "data": {
      "image/png": "[encoded data removed]",
      "text/plain": [
       "<Figure size 640x480 with 1 Axes>"
      ]
     },
     "metadata": {},
     "output_type": "display_data"
    },
    {
     "name": "stdout",
     "output_type": "stream",
     "text": [
      "Shape is  (957919, 120)\n"
     ]
    }
   ],
   "source": [
    "import matplotlib.pyplot as plt\n",
    "plt.pie(c, labels=c.index, autopct='%1.2f%%')\n",
    "plt.title('Disstribution of customer claims')\n",
    "plt.show()\n",
    "print('Shape is ',df.shape)"
   ]
  },
  {
   "cell_type": "code",
   "execution_count": 59,
   "id": "d73945bb",
   "metadata": {},
   "outputs": [],
   "source": [
    "X=df.drop(['id','claim'],axis=1)\n",
    "y=df['claim']"
   ]
  },
  {
   "cell_type": "code",
   "execution_count": null,
   "id": "1dc81879",
   "metadata": {},
   "outputs": [],
   "source": []
  },
  {
   "cell_type": "code",
   "execution_count": 60,
   "id": "a2466f43",
   "metadata": {},
   "outputs": [],
   "source": [
    "from sklearn.model_selection import train_test_split \n",
    "\n",
    "xtrain,xvalid,ytrain,yvalid=train_test_split(X,y,test_size=0.25)"
   ]
  },
  {
   "cell_type": "code",
   "execution_count": 61,
   "id": "8c76b0f3",
   "metadata": {},
   "outputs": [
    {
     "data": {
      "text/plain": [
       "0.3333337973022066"
      ]
     },
     "execution_count": 61,
     "metadata": {},
     "output_type": "execute_result"
    }
   ],
   "source": [
    "len(xvalid)/len(xtrain)"
   ]
  },
  {
   "cell_type": "code",
   "execution_count": 62,
   "id": "7b757905",
   "metadata": {},
   "outputs": [
    {
     "data": {
      "text/plain": [
       "[]"
      ]
     },
     "execution_count": 62,
     "metadata": {},
     "output_type": "execute_result"
    }
   ],
   "source": [
    "num_cols=X.columns.to_list()\n",
    "cat_cols=[x for x in X.columns.to_list() if x not in num_cols ]\n",
    "cat_cols"
   ]
  },
  {
   "cell_type": "code",
   "execution_count": 63,
   "id": "c641787e",
   "metadata": {},
   "outputs": [],
   "source": [
    "# xtrain=FE(xtrain.copy())\n",
    "# xvalid=FE(xvalid.copy())"
   ]
  },
  {
   "cell_type": "markdown",
   "id": "cc2c4e6b",
   "metadata": {},
   "source": [
    "### Model Building"
   ]
  },
  {
   "cell_type": "code",
   "execution_count": null,
   "id": "4d9a519f",
   "metadata": {},
   "outputs": [],
   "source": []
  },
  {
   "cell_type": "code",
   "execution_count": 64,
   "id": "9aeefd41",
   "metadata": {},
   "outputs": [],
   "source": [
    "import numpy as np\n",
    "from sklearn.pipeline import make_pipeline\n",
    "from sklearn.pipeline import Pipeline\n",
    "from sklearn.impute import SimpleImputer\n",
    "from sklearn.compose import ColumnTransformer\n",
    "from sklearn.preprocessing import OneHotEncoder, StandardScaler\n",
    "from sklearn.ensemble import RandomForestClassifier\n",
    "from xgboost import XGBClassifier\n",
    "from imblearn.over_sampling import SMOTE        \n",
    "\n",
    "\n",
    "\n",
    "numeric_preprocessor = Pipeline(\n",
    "    steps=[\n",
    "        (\"imputation_mean\", SimpleImputer(missing_values=np.nan, strategy=\"mean\")),\n",
    "        (\"scaler\", StandardScaler()),\n",
    "    ]\n",
    ")\n",
    "\n",
    "categorical_preprocessor = Pipeline(\n",
    "    steps=[\n",
    "        (\n",
    "            \"imputation_constant\",\n",
    "            SimpleImputer(fill_value=\"missing\", strategy=\"most_frequent\"),\n",
    "        ),\n",
    "        (\"onehot\", OneHotEncoder(handle_unknown=\"ignore\")),\n",
    "    ]\n",
    ")\n",
    "\n",
    "preprocessor = ColumnTransformer(\n",
    "    [\n",
    "        (\"categorical\", categorical_preprocessor, cat_cols),\n",
    "        (\"numerical\", numeric_preprocessor,num_cols),\n",
    "    ]\n",
    ")"
   ]
  },
  {
   "cell_type": "code",
   "execution_count": 65,
   "id": "09aec8dc",
   "metadata": {},
   "outputs": [
    {
     "data": {
      "text/html": [
       "<style>#sk-container-id-2 {color: black;background-color: white;}#sk-container-id-2 pre{padding: 0;}#sk-container-id-2 div.sk-toggleable {background-color: white;}#sk-container-id-2 label.sk-toggleable__label {cursor: pointer;display: block;width: 100%;margin-bottom: 0;padding: 0.3em;box-sizing: border-box;text-align: center;}#sk-container-id-2 label.sk-toggleable__label-arrow:before {content: \"▸\";float: left;margin-right: 0.25em;color: #696969;}#sk-container-id-2 label.sk-toggleable__label-arrow:hover:before {color: black;}#sk-container-id-2 div.sk-estimator:hover label.sk-toggleable__label-arrow:before {color: black;}#sk-container-id-2 div.sk-toggleable__content {max-height: 0;max-width: 0;overflow: hidden;text-align: left;background-color: #f0f8ff;}#sk-container-id-2 div.sk-toggleable__content pre {margin: 0.2em;color: black;border-radius: 0.25em;background-color: #f0f8ff;}#sk-container-id-2 input.sk-toggleable__control:checked~div.sk-toggleable__content {max-height: 200px;max-width: 100%;overflow: auto;}#sk-container-id-2 input.sk-toggleable__control:checked~label.sk-toggleable__label-arrow:before {content: \"▾\";}#sk-container-id-2 div.sk-estimator input.sk-toggleable__control:checked~label.sk-toggleable__label {background-color: #d4ebff;}#sk-container-id-2 div.sk-label input.sk-toggleable__control:checked~label.sk-toggleable__label {background-color: #d4ebff;}#sk-container-id-2 input.sk-hidden--visually {border: 0;clip: rect(1px 1px 1px 1px);clip: rect(1px, 1px, 1px, 1px);height: 1px;margin: -1px;overflow: hidden;padding: 0;position: absolute;width: 1px;}#sk-container-id-2 div.sk-estimator {font-family: monospace;background-color: #f0f8ff;border: 1px dotted black;border-radius: 0.25em;box-sizing: border-box;margin-bottom: 0.5em;}#sk-container-id-2 div.sk-estimator:hover {background-color: #d4ebff;}#sk-container-id-2 div.sk-parallel-item::after {content: \"\";width: 100%;border-bottom: 1px solid gray;flex-grow: 1;}#sk-container-id-2 div.sk-label:hover label.sk-toggleable__label {background-color: #d4ebff;}#sk-container-id-2 div.sk-serial::before {content: \"\";position: absolute;border-left: 1px solid gray;box-sizing: border-box;top: 0;bottom: 0;left: 50%;z-index: 0;}#sk-container-id-2 div.sk-serial {display: flex;flex-direction: column;align-items: center;background-color: white;padding-right: 0.2em;padding-left: 0.2em;position: relative;}#sk-container-id-2 div.sk-item {position: relative;z-index: 1;}#sk-container-id-2 div.sk-parallel {display: flex;align-items: stretch;justify-content: center;background-color: white;position: relative;}#sk-container-id-2 div.sk-item::before, #sk-container-id-2 div.sk-parallel-item::before {content: \"\";position: absolute;border-left: 1px solid gray;box-sizing: border-box;top: 0;bottom: 0;left: 50%;z-index: -1;}#sk-container-id-2 div.sk-parallel-item {display: flex;flex-direction: column;z-index: 1;position: relative;background-color: white;}#sk-container-id-2 div.sk-parallel-item:first-child::after {align-self: flex-end;width: 50%;}#sk-container-id-2 div.sk-parallel-item:last-child::after {align-self: flex-start;width: 50%;}#sk-container-id-2 div.sk-parallel-item:only-child::after {width: 0;}#sk-container-id-2 div.sk-dashed-wrapped {border: 1px dashed gray;margin: 0 0.4em 0.5em 0.4em;box-sizing: border-box;padding-bottom: 0.4em;background-color: white;}#sk-container-id-2 div.sk-label label {font-family: monospace;font-weight: bold;display: inline-block;line-height: 1.2em;}#sk-container-id-2 div.sk-label-container {text-align: center;}#sk-container-id-2 div.sk-container {/* jupyter's `normalize.less` sets `[hidden] { display: none; }` but bootstrap.min.css set `[hidden] { display: none !important; }` so we also need the `!important` here to be able to override the default hidden behavior on the sphinx rendered scikit-learn.org. See: https://github.com/scikit-learn/scikit-learn/issues/21755 */display: inline-block !important;position: relative;}#sk-container-id-2 div.sk-text-repr-fallback {display: none;}</style><div id=\"sk-container-id-2\" class=\"sk-top-container\"><div class=\"sk-text-repr-fallback\"><pre>Pipeline(steps=[(&#x27;columntransformer&#x27;,\n",
       "                 ColumnTransformer(transformers=[(&#x27;categorical&#x27;,\n",
       "                                                  Pipeline(steps=[(&#x27;imputation_constant&#x27;,\n",
       "                                                                   SimpleImputer(fill_value=&#x27;missing&#x27;,\n",
       "                                                                                 strategy=&#x27;most_frequent&#x27;)),\n",
       "                                                                  (&#x27;onehot&#x27;,\n",
       "                                                                   OneHotEncoder(handle_unknown=&#x27;ignore&#x27;))]),\n",
       "                                                  []),\n",
       "                                                 (&#x27;numerical&#x27;,\n",
       "                                                  Pipeline(steps=[(&#x27;imputation_mean&#x27;,\n",
       "                                                                   SimpleImputer()),\n",
       "                                                                  (&#x27;scaler&#x27;,\n",
       "                                                                   StandardScaler())]),\n",
       "                                                  [&#x27;f1&#x27;, &#x27;f2&#x27;, &#x27;f3...\n",
       "                               feature_types=None, gamma=None, gpu_id=None,\n",
       "                               grow_policy=None, importance_type=None,\n",
       "                               interaction_constraints=None, learning_rate=None,\n",
       "                               max_bin=None, max_cat_threshold=None,\n",
       "                               max_cat_to_onehot=None, max_delta_step=None,\n",
       "                               max_depth=None, max_leaves=None,\n",
       "                               min_child_weight=None, missing=nan,\n",
       "                               monotone_constraints=None, n_estimators=100,\n",
       "                               n_jobs=None, num_parallel_tree=None,\n",
       "                               predictor=None, random_state=None, ...))])</pre><b>In a Jupyter environment, please rerun this cell to show the HTML representation or trust the notebook. <br />On GitHub, the HTML representation is unable to render, please try loading this page with nbviewer.org.</b></div><div class=\"sk-container\" hidden><div class=\"sk-item sk-dashed-wrapped\"><div class=\"sk-label-container\"><div class=\"sk-label sk-toggleable\"><input class=\"sk-toggleable__control sk-hidden--visually\" id=\"sk-estimator-id-2\" type=\"checkbox\" ><label for=\"sk-estimator-id-2\" class=\"sk-toggleable__label sk-toggleable__label-arrow\">Pipeline</label><div class=\"sk-toggleable__content\"><pre>Pipeline(steps=[(&#x27;columntransformer&#x27;,\n",
       "                 ColumnTransformer(transformers=[(&#x27;categorical&#x27;,\n",
       "                                                  Pipeline(steps=[(&#x27;imputation_constant&#x27;,\n",
       "                                                                   SimpleImputer(fill_value=&#x27;missing&#x27;,\n",
       "                                                                                 strategy=&#x27;most_frequent&#x27;)),\n",
       "                                                                  (&#x27;onehot&#x27;,\n",
       "                                                                   OneHotEncoder(handle_unknown=&#x27;ignore&#x27;))]),\n",
       "                                                  []),\n",
       "                                                 (&#x27;numerical&#x27;,\n",
       "                                                  Pipeline(steps=[(&#x27;imputation_mean&#x27;,\n",
       "                                                                   SimpleImputer()),\n",
       "                                                                  (&#x27;scaler&#x27;,\n",
       "                                                                   StandardScaler())]),\n",
       "                                                  [&#x27;f1&#x27;, &#x27;f2&#x27;, &#x27;f3...\n",
       "                               feature_types=None, gamma=None, gpu_id=None,\n",
       "                               grow_policy=None, importance_type=None,\n",
       "                               interaction_constraints=None, learning_rate=None,\n",
       "                               max_bin=None, max_cat_threshold=None,\n",
       "                               max_cat_to_onehot=None, max_delta_step=None,\n",
       "                               max_depth=None, max_leaves=None,\n",
       "                               min_child_weight=None, missing=nan,\n",
       "                               monotone_constraints=None, n_estimators=100,\n",
       "                               n_jobs=None, num_parallel_tree=None,\n",
       "                               predictor=None, random_state=None, ...))])</pre></div></div></div><div class=\"sk-serial\"><div class=\"sk-item sk-dashed-wrapped\"><div class=\"sk-label-container\"><div class=\"sk-label sk-toggleable\"><input class=\"sk-toggleable__control sk-hidden--visually\" id=\"sk-estimator-id-3\" type=\"checkbox\" ><label for=\"sk-estimator-id-3\" class=\"sk-toggleable__label sk-toggleable__label-arrow\">columntransformer: ColumnTransformer</label><div class=\"sk-toggleable__content\"><pre>ColumnTransformer(transformers=[(&#x27;categorical&#x27;,\n",
       "                                 Pipeline(steps=[(&#x27;imputation_constant&#x27;,\n",
       "                                                  SimpleImputer(fill_value=&#x27;missing&#x27;,\n",
       "                                                                strategy=&#x27;most_frequent&#x27;)),\n",
       "                                                 (&#x27;onehot&#x27;,\n",
       "                                                  OneHotEncoder(handle_unknown=&#x27;ignore&#x27;))]),\n",
       "                                 []),\n",
       "                                (&#x27;numerical&#x27;,\n",
       "                                 Pipeline(steps=[(&#x27;imputation_mean&#x27;,\n",
       "                                                  SimpleImputer()),\n",
       "                                                 (&#x27;scaler&#x27;, StandardScaler())]),\n",
       "                                 [&#x27;f1&#x27;, &#x27;f2&#x27;, &#x27;f3&#x27;, &#x27;f4&#x27;, &#x27;f5&#x27;, &#x27;f6&#x27;, &#x27;f7&#x27;,\n",
       "                                  &#x27;f8&#x27;, &#x27;f9&#x27;, &#x27;f10&#x27;, &#x27;f11&#x27;, &#x27;f12&#x27;, &#x27;f13&#x27;, &#x27;f14&#x27;,\n",
       "                                  &#x27;f15&#x27;, &#x27;f16&#x27;, &#x27;f17&#x27;, &#x27;f18&#x27;, &#x27;f19&#x27;, &#x27;f20&#x27;,\n",
       "                                  &#x27;f21&#x27;, &#x27;f22&#x27;, &#x27;f23&#x27;, &#x27;f24&#x27;, &#x27;f25&#x27;, &#x27;f26&#x27;,\n",
       "                                  &#x27;f27&#x27;, &#x27;f28&#x27;, &#x27;f29&#x27;, &#x27;f30&#x27;, ...])])</pre></div></div></div><div class=\"sk-parallel\"><div class=\"sk-parallel-item\"><div class=\"sk-item\"><div class=\"sk-label-container\"><div class=\"sk-label sk-toggleable\"><input class=\"sk-toggleable__control sk-hidden--visually\" id=\"sk-estimator-id-4\" type=\"checkbox\" ><label for=\"sk-estimator-id-4\" class=\"sk-toggleable__label sk-toggleable__label-arrow\">categorical</label><div class=\"sk-toggleable__content\"><pre>[]</pre></div></div></div><div class=\"sk-serial\"><div class=\"sk-item\"><div class=\"sk-serial\"><div class=\"sk-item\"><div class=\"sk-estimator sk-toggleable\"><input class=\"sk-toggleable__control sk-hidden--visually\" id=\"sk-estimator-id-5\" type=\"checkbox\" ><label for=\"sk-estimator-id-5\" class=\"sk-toggleable__label sk-toggleable__label-arrow\">SimpleImputer</label><div class=\"sk-toggleable__content\"><pre>SimpleImputer(fill_value=&#x27;missing&#x27;, strategy=&#x27;most_frequent&#x27;)</pre></div></div></div><div class=\"sk-item\"><div class=\"sk-estimator sk-toggleable\"><input class=\"sk-toggleable__control sk-hidden--visually\" id=\"sk-estimator-id-6\" type=\"checkbox\" ><label for=\"sk-estimator-id-6\" class=\"sk-toggleable__label sk-toggleable__label-arrow\">OneHotEncoder</label><div class=\"sk-toggleable__content\"><pre>OneHotEncoder(handle_unknown=&#x27;ignore&#x27;)</pre></div></div></div></div></div></div></div></div><div class=\"sk-parallel-item\"><div class=\"sk-item\"><div class=\"sk-label-container\"><div class=\"sk-label sk-toggleable\"><input class=\"sk-toggleable__control sk-hidden--visually\" id=\"sk-estimator-id-7\" type=\"checkbox\" ><label for=\"sk-estimator-id-7\" class=\"sk-toggleable__label sk-toggleable__label-arrow\">numerical</label><div class=\"sk-toggleable__content\"><pre>[&#x27;f1&#x27;, &#x27;f2&#x27;, &#x27;f3&#x27;, &#x27;f4&#x27;, &#x27;f5&#x27;, &#x27;f6&#x27;, &#x27;f7&#x27;, &#x27;f8&#x27;, &#x27;f9&#x27;, &#x27;f10&#x27;, &#x27;f11&#x27;, &#x27;f12&#x27;, &#x27;f13&#x27;, &#x27;f14&#x27;, &#x27;f15&#x27;, &#x27;f16&#x27;, &#x27;f17&#x27;, &#x27;f18&#x27;, &#x27;f19&#x27;, &#x27;f20&#x27;, &#x27;f21&#x27;, &#x27;f22&#x27;, &#x27;f23&#x27;, &#x27;f24&#x27;, &#x27;f25&#x27;, &#x27;f26&#x27;, &#x27;f27&#x27;, &#x27;f28&#x27;, &#x27;f29&#x27;, &#x27;f30&#x27;, &#x27;f31&#x27;, &#x27;f32&#x27;, &#x27;f33&#x27;, &#x27;f34&#x27;, &#x27;f35&#x27;, &#x27;f36&#x27;, &#x27;f37&#x27;, &#x27;f38&#x27;, &#x27;f39&#x27;, &#x27;f40&#x27;, &#x27;f41&#x27;, &#x27;f42&#x27;, &#x27;f43&#x27;, &#x27;f44&#x27;, &#x27;f45&#x27;, &#x27;f46&#x27;, &#x27;f47&#x27;, &#x27;f48&#x27;, &#x27;f49&#x27;, &#x27;f50&#x27;, &#x27;f51&#x27;, &#x27;f52&#x27;, &#x27;f53&#x27;, &#x27;f54&#x27;, &#x27;f55&#x27;, &#x27;f56&#x27;, &#x27;f57&#x27;, &#x27;f58&#x27;, &#x27;f59&#x27;, &#x27;f60&#x27;, &#x27;f61&#x27;, &#x27;f62&#x27;, &#x27;f63&#x27;, &#x27;f64&#x27;, &#x27;f65&#x27;, &#x27;f66&#x27;, &#x27;f67&#x27;, &#x27;f68&#x27;, &#x27;f69&#x27;, &#x27;f70&#x27;, &#x27;f71&#x27;, &#x27;f72&#x27;, &#x27;f73&#x27;, &#x27;f74&#x27;, &#x27;f75&#x27;, &#x27;f76&#x27;, &#x27;f77&#x27;, &#x27;f78&#x27;, &#x27;f79&#x27;, &#x27;f80&#x27;, &#x27;f81&#x27;, &#x27;f82&#x27;, &#x27;f83&#x27;, &#x27;f84&#x27;, &#x27;f85&#x27;, &#x27;f86&#x27;, &#x27;f87&#x27;, &#x27;f88&#x27;, &#x27;f89&#x27;, &#x27;f90&#x27;, &#x27;f91&#x27;, &#x27;f92&#x27;, &#x27;f93&#x27;, &#x27;f94&#x27;, &#x27;f95&#x27;, &#x27;f96&#x27;, &#x27;f97&#x27;, &#x27;f98&#x27;, &#x27;f99&#x27;, &#x27;f100&#x27;, &#x27;f101&#x27;, &#x27;f102&#x27;, &#x27;f103&#x27;, &#x27;f104&#x27;, &#x27;f105&#x27;, &#x27;f106&#x27;, &#x27;f107&#x27;, &#x27;f108&#x27;, &#x27;f109&#x27;, &#x27;f110&#x27;, &#x27;f111&#x27;, &#x27;f112&#x27;, &#x27;f113&#x27;, &#x27;f114&#x27;, &#x27;f115&#x27;, &#x27;f116&#x27;, &#x27;f117&#x27;, &#x27;f118&#x27;]</pre></div></div></div><div class=\"sk-serial\"><div class=\"sk-item\"><div class=\"sk-serial\"><div class=\"sk-item\"><div class=\"sk-estimator sk-toggleable\"><input class=\"sk-toggleable__control sk-hidden--visually\" id=\"sk-estimator-id-8\" type=\"checkbox\" ><label for=\"sk-estimator-id-8\" class=\"sk-toggleable__label sk-toggleable__label-arrow\">SimpleImputer</label><div class=\"sk-toggleable__content\"><pre>SimpleImputer()</pre></div></div></div><div class=\"sk-item\"><div class=\"sk-estimator sk-toggleable\"><input class=\"sk-toggleable__control sk-hidden--visually\" id=\"sk-estimator-id-9\" type=\"checkbox\" ><label for=\"sk-estimator-id-9\" class=\"sk-toggleable__label sk-toggleable__label-arrow\">StandardScaler</label><div class=\"sk-toggleable__content\"><pre>StandardScaler()</pre></div></div></div></div></div></div></div></div></div></div><div class=\"sk-item\"><div class=\"sk-estimator sk-toggleable\"><input class=\"sk-toggleable__control sk-hidden--visually\" id=\"sk-estimator-id-10\" type=\"checkbox\" ><label for=\"sk-estimator-id-10\" class=\"sk-toggleable__label sk-toggleable__label-arrow\">XGBClassifier</label><div class=\"sk-toggleable__content\"><pre>XGBClassifier(base_score=None, booster=None, callbacks=None,\n",
       "              colsample_bylevel=None, colsample_bynode=None,\n",
       "              colsample_bytree=None, early_stopping_rounds=None,\n",
       "              enable_categorical=False, eval_metric=None, feature_types=None,\n",
       "              gamma=None, gpu_id=None, grow_policy=None, importance_type=None,\n",
       "              interaction_constraints=None, learning_rate=None, max_bin=None,\n",
       "              max_cat_threshold=None, max_cat_to_onehot=None,\n",
       "              max_delta_step=None, max_depth=None, max_leaves=None,\n",
       "              min_child_weight=None, missing=nan, monotone_constraints=None,\n",
       "              n_estimators=100, n_jobs=None, num_parallel_tree=None,\n",
       "              predictor=None, random_state=None, ...)</pre></div></div></div></div></div></div></div>"
      ],
      "text/plain": [
       "Pipeline(steps=[('columntransformer',\n",
       "                 ColumnTransformer(transformers=[('categorical',\n",
       "                                                  Pipeline(steps=[('imputation_constant',\n",
       "                                                                   SimpleImputer(fill_value='missing',\n",
       "                                                                                 strategy='most_frequent')),\n",
       "                                                                  ('onehot',\n",
       "                                                                   OneHotEncoder(handle_unknown='ignore'))]),\n",
       "                                                  []),\n",
       "                                                 ('numerical',\n",
       "                                                  Pipeline(steps=[('imputation_mean',\n",
       "                                                                   SimpleImputer()),\n",
       "                                                                  ('scaler',\n",
       "                                                                   StandardScaler())]),\n",
       "                                                  ['f1', 'f2', 'f3...\n",
       "                               feature_types=None, gamma=None, gpu_id=None,\n",
       "                               grow_policy=None, importance_type=None,\n",
       "                               interaction_constraints=None, learning_rate=None,\n",
       "                               max_bin=None, max_cat_threshold=None,\n",
       "                               max_cat_to_onehot=None, max_delta_step=None,\n",
       "                               max_depth=None, max_leaves=None,\n",
       "                               min_child_weight=None, missing=nan,\n",
       "                               monotone_constraints=None, n_estimators=100,\n",
       "                               n_jobs=None, num_parallel_tree=None,\n",
       "                               predictor=None, random_state=None, ...))])"
      ]
     },
     "execution_count": 65,
     "metadata": {},
     "output_type": "execute_result"
    }
   ],
   "source": [
    "pipe = make_pipeline(preprocessor, XGBClassifier())\n",
    "pipe  # click on the diagram below to see the details of each step"
   ]
  },
  {
   "cell_type": "code",
   "execution_count": 66,
   "id": "6844a990",
   "metadata": {},
   "outputs": [
    {
     "data": {
      "text/html": [
       "<style>#sk-container-id-3 {color: black;background-color: white;}#sk-container-id-3 pre{padding: 0;}#sk-container-id-3 div.sk-toggleable {background-color: white;}#sk-container-id-3 label.sk-toggleable__label {cursor: pointer;display: block;width: 100%;margin-bottom: 0;padding: 0.3em;box-sizing: border-box;text-align: center;}#sk-container-id-3 label.sk-toggleable__label-arrow:before {content: \"▸\";float: left;margin-right: 0.25em;color: #696969;}#sk-container-id-3 label.sk-toggleable__label-arrow:hover:before {color: black;}#sk-container-id-3 div.sk-estimator:hover label.sk-toggleable__label-arrow:before {color: black;}#sk-container-id-3 div.sk-toggleable__content {max-height: 0;max-width: 0;overflow: hidden;text-align: left;background-color: #f0f8ff;}#sk-container-id-3 div.sk-toggleable__content pre {margin: 0.2em;color: black;border-radius: 0.25em;background-color: #f0f8ff;}#sk-container-id-3 input.sk-toggleable__control:checked~div.sk-toggleable__content {max-height: 200px;max-width: 100%;overflow: auto;}#sk-container-id-3 input.sk-toggleable__control:checked~label.sk-toggleable__label-arrow:before {content: \"▾\";}#sk-container-id-3 div.sk-estimator input.sk-toggleable__control:checked~label.sk-toggleable__label {background-color: #d4ebff;}#sk-container-id-3 div.sk-label input.sk-toggleable__control:checked~label.sk-toggleable__label {background-color: #d4ebff;}#sk-container-id-3 input.sk-hidden--visually {border: 0;clip: rect(1px 1px 1px 1px);clip: rect(1px, 1px, 1px, 1px);height: 1px;margin: -1px;overflow: hidden;padding: 0;position: absolute;width: 1px;}#sk-container-id-3 div.sk-estimator {font-family: monospace;background-color: #f0f8ff;border: 1px dotted black;border-radius: 0.25em;box-sizing: border-box;margin-bottom: 0.5em;}#sk-container-id-3 div.sk-estimator:hover {background-color: #d4ebff;}#sk-container-id-3 div.sk-parallel-item::after {content: \"\";width: 100%;border-bottom: 1px solid gray;flex-grow: 1;}#sk-container-id-3 div.sk-label:hover label.sk-toggleable__label {background-color: #d4ebff;}#sk-container-id-3 div.sk-serial::before {content: \"\";position: absolute;border-left: 1px solid gray;box-sizing: border-box;top: 0;bottom: 0;left: 50%;z-index: 0;}#sk-container-id-3 div.sk-serial {display: flex;flex-direction: column;align-items: center;background-color: white;padding-right: 0.2em;padding-left: 0.2em;position: relative;}#sk-container-id-3 div.sk-item {position: relative;z-index: 1;}#sk-container-id-3 div.sk-parallel {display: flex;align-items: stretch;justify-content: center;background-color: white;position: relative;}#sk-container-id-3 div.sk-item::before, #sk-container-id-3 div.sk-parallel-item::before {content: \"\";position: absolute;border-left: 1px solid gray;box-sizing: border-box;top: 0;bottom: 0;left: 50%;z-index: -1;}#sk-container-id-3 div.sk-parallel-item {display: flex;flex-direction: column;z-index: 1;position: relative;background-color: white;}#sk-container-id-3 div.sk-parallel-item:first-child::after {align-self: flex-end;width: 50%;}#sk-container-id-3 div.sk-parallel-item:last-child::after {align-self: flex-start;width: 50%;}#sk-container-id-3 div.sk-parallel-item:only-child::after {width: 0;}#sk-container-id-3 div.sk-dashed-wrapped {border: 1px dashed gray;margin: 0 0.4em 0.5em 0.4em;box-sizing: border-box;padding-bottom: 0.4em;background-color: white;}#sk-container-id-3 div.sk-label label {font-family: monospace;font-weight: bold;display: inline-block;line-height: 1.2em;}#sk-container-id-3 div.sk-label-container {text-align: center;}#sk-container-id-3 div.sk-container {/* jupyter's `normalize.less` sets `[hidden] { display: none; }` but bootstrap.min.css set `[hidden] { display: none !important; }` so we also need the `!important` here to be able to override the default hidden behavior on the sphinx rendered scikit-learn.org. See: https://github.com/scikit-learn/scikit-learn/issues/21755 */display: inline-block !important;position: relative;}#sk-container-id-3 div.sk-text-repr-fallback {display: none;}</style><div id=\"sk-container-id-3\" class=\"sk-top-container\"><div class=\"sk-text-repr-fallback\"><pre>Pipeline(steps=[(&#x27;columntransformer&#x27;,\n",
       "                 ColumnTransformer(transformers=[(&#x27;categorical&#x27;,\n",
       "                                                  Pipeline(steps=[(&#x27;imputation_constant&#x27;,\n",
       "                                                                   SimpleImputer(fill_value=&#x27;missing&#x27;,\n",
       "                                                                                 strategy=&#x27;most_frequent&#x27;)),\n",
       "                                                                  (&#x27;onehot&#x27;,\n",
       "                                                                   OneHotEncoder(handle_unknown=&#x27;ignore&#x27;))]),\n",
       "                                                  []),\n",
       "                                                 (&#x27;numerical&#x27;,\n",
       "                                                  Pipeline(steps=[(&#x27;imputation_mean&#x27;,\n",
       "                                                                   SimpleImputer()),\n",
       "                                                                  (&#x27;scaler&#x27;,\n",
       "                                                                   StandardScaler())]),\n",
       "                                                  [&#x27;f1&#x27;, &#x27;f2&#x27;, &#x27;f3...\n",
       "                               feature_types=None, gamma=None, gpu_id=None,\n",
       "                               grow_policy=None, importance_type=None,\n",
       "                               interaction_constraints=None, learning_rate=None,\n",
       "                               max_bin=None, max_cat_threshold=None,\n",
       "                               max_cat_to_onehot=None, max_delta_step=None,\n",
       "                               max_depth=None, max_leaves=None,\n",
       "                               min_child_weight=None, missing=nan,\n",
       "                               monotone_constraints=None, n_estimators=100,\n",
       "                               n_jobs=None, num_parallel_tree=None,\n",
       "                               predictor=None, random_state=None, ...))])</pre><b>In a Jupyter environment, please rerun this cell to show the HTML representation or trust the notebook. <br />On GitHub, the HTML representation is unable to render, please try loading this page with nbviewer.org.</b></div><div class=\"sk-container\" hidden><div class=\"sk-item sk-dashed-wrapped\"><div class=\"sk-label-container\"><div class=\"sk-label sk-toggleable\"><input class=\"sk-toggleable__control sk-hidden--visually\" id=\"sk-estimator-id-11\" type=\"checkbox\" ><label for=\"sk-estimator-id-11\" class=\"sk-toggleable__label sk-toggleable__label-arrow\">Pipeline</label><div class=\"sk-toggleable__content\"><pre>Pipeline(steps=[(&#x27;columntransformer&#x27;,\n",
       "                 ColumnTransformer(transformers=[(&#x27;categorical&#x27;,\n",
       "                                                  Pipeline(steps=[(&#x27;imputation_constant&#x27;,\n",
       "                                                                   SimpleImputer(fill_value=&#x27;missing&#x27;,\n",
       "                                                                                 strategy=&#x27;most_frequent&#x27;)),\n",
       "                                                                  (&#x27;onehot&#x27;,\n",
       "                                                                   OneHotEncoder(handle_unknown=&#x27;ignore&#x27;))]),\n",
       "                                                  []),\n",
       "                                                 (&#x27;numerical&#x27;,\n",
       "                                                  Pipeline(steps=[(&#x27;imputation_mean&#x27;,\n",
       "                                                                   SimpleImputer()),\n",
       "                                                                  (&#x27;scaler&#x27;,\n",
       "                                                                   StandardScaler())]),\n",
       "                                                  [&#x27;f1&#x27;, &#x27;f2&#x27;, &#x27;f3...\n",
       "                               feature_types=None, gamma=None, gpu_id=None,\n",
       "                               grow_policy=None, importance_type=None,\n",
       "                               interaction_constraints=None, learning_rate=None,\n",
       "                               max_bin=None, max_cat_threshold=None,\n",
       "                               max_cat_to_onehot=None, max_delta_step=None,\n",
       "                               max_depth=None, max_leaves=None,\n",
       "                               min_child_weight=None, missing=nan,\n",
       "                               monotone_constraints=None, n_estimators=100,\n",
       "                               n_jobs=None, num_parallel_tree=None,\n",
       "                               predictor=None, random_state=None, ...))])</pre></div></div></div><div class=\"sk-serial\"><div class=\"sk-item sk-dashed-wrapped\"><div class=\"sk-label-container\"><div class=\"sk-label sk-toggleable\"><input class=\"sk-toggleable__control sk-hidden--visually\" id=\"sk-estimator-id-12\" type=\"checkbox\" ><label for=\"sk-estimator-id-12\" class=\"sk-toggleable__label sk-toggleable__label-arrow\">columntransformer: ColumnTransformer</label><div class=\"sk-toggleable__content\"><pre>ColumnTransformer(transformers=[(&#x27;categorical&#x27;,\n",
       "                                 Pipeline(steps=[(&#x27;imputation_constant&#x27;,\n",
       "                                                  SimpleImputer(fill_value=&#x27;missing&#x27;,\n",
       "                                                                strategy=&#x27;most_frequent&#x27;)),\n",
       "                                                 (&#x27;onehot&#x27;,\n",
       "                                                  OneHotEncoder(handle_unknown=&#x27;ignore&#x27;))]),\n",
       "                                 []),\n",
       "                                (&#x27;numerical&#x27;,\n",
       "                                 Pipeline(steps=[(&#x27;imputation_mean&#x27;,\n",
       "                                                  SimpleImputer()),\n",
       "                                                 (&#x27;scaler&#x27;, StandardScaler())]),\n",
       "                                 [&#x27;f1&#x27;, &#x27;f2&#x27;, &#x27;f3&#x27;, &#x27;f4&#x27;, &#x27;f5&#x27;, &#x27;f6&#x27;, &#x27;f7&#x27;,\n",
       "                                  &#x27;f8&#x27;, &#x27;f9&#x27;, &#x27;f10&#x27;, &#x27;f11&#x27;, &#x27;f12&#x27;, &#x27;f13&#x27;, &#x27;f14&#x27;,\n",
       "                                  &#x27;f15&#x27;, &#x27;f16&#x27;, &#x27;f17&#x27;, &#x27;f18&#x27;, &#x27;f19&#x27;, &#x27;f20&#x27;,\n",
       "                                  &#x27;f21&#x27;, &#x27;f22&#x27;, &#x27;f23&#x27;, &#x27;f24&#x27;, &#x27;f25&#x27;, &#x27;f26&#x27;,\n",
       "                                  &#x27;f27&#x27;, &#x27;f28&#x27;, &#x27;f29&#x27;, &#x27;f30&#x27;, ...])])</pre></div></div></div><div class=\"sk-parallel\"><div class=\"sk-parallel-item\"><div class=\"sk-item\"><div class=\"sk-label-container\"><div class=\"sk-label sk-toggleable\"><input class=\"sk-toggleable__control sk-hidden--visually\" id=\"sk-estimator-id-13\" type=\"checkbox\" ><label for=\"sk-estimator-id-13\" class=\"sk-toggleable__label sk-toggleable__label-arrow\">categorical</label><div class=\"sk-toggleable__content\"><pre>[]</pre></div></div></div><div class=\"sk-serial\"><div class=\"sk-item\"><div class=\"sk-serial\"><div class=\"sk-item\"><div class=\"sk-estimator sk-toggleable\"><input class=\"sk-toggleable__control sk-hidden--visually\" id=\"sk-estimator-id-14\" type=\"checkbox\" ><label for=\"sk-estimator-id-14\" class=\"sk-toggleable__label sk-toggleable__label-arrow\">SimpleImputer</label><div class=\"sk-toggleable__content\"><pre>SimpleImputer(fill_value=&#x27;missing&#x27;, strategy=&#x27;most_frequent&#x27;)</pre></div></div></div><div class=\"sk-item\"><div class=\"sk-estimator sk-toggleable\"><input class=\"sk-toggleable__control sk-hidden--visually\" id=\"sk-estimator-id-15\" type=\"checkbox\" ><label for=\"sk-estimator-id-15\" class=\"sk-toggleable__label sk-toggleable__label-arrow\">OneHotEncoder</label><div class=\"sk-toggleable__content\"><pre>OneHotEncoder(handle_unknown=&#x27;ignore&#x27;)</pre></div></div></div></div></div></div></div></div><div class=\"sk-parallel-item\"><div class=\"sk-item\"><div class=\"sk-label-container\"><div class=\"sk-label sk-toggleable\"><input class=\"sk-toggleable__control sk-hidden--visually\" id=\"sk-estimator-id-16\" type=\"checkbox\" ><label for=\"sk-estimator-id-16\" class=\"sk-toggleable__label sk-toggleable__label-arrow\">numerical</label><div class=\"sk-toggleable__content\"><pre>[&#x27;f1&#x27;, &#x27;f2&#x27;, &#x27;f3&#x27;, &#x27;f4&#x27;, &#x27;f5&#x27;, &#x27;f6&#x27;, &#x27;f7&#x27;, &#x27;f8&#x27;, &#x27;f9&#x27;, &#x27;f10&#x27;, &#x27;f11&#x27;, &#x27;f12&#x27;, &#x27;f13&#x27;, &#x27;f14&#x27;, &#x27;f15&#x27;, &#x27;f16&#x27;, &#x27;f17&#x27;, &#x27;f18&#x27;, &#x27;f19&#x27;, &#x27;f20&#x27;, &#x27;f21&#x27;, &#x27;f22&#x27;, &#x27;f23&#x27;, &#x27;f24&#x27;, &#x27;f25&#x27;, &#x27;f26&#x27;, &#x27;f27&#x27;, &#x27;f28&#x27;, &#x27;f29&#x27;, &#x27;f30&#x27;, &#x27;f31&#x27;, &#x27;f32&#x27;, &#x27;f33&#x27;, &#x27;f34&#x27;, &#x27;f35&#x27;, &#x27;f36&#x27;, &#x27;f37&#x27;, &#x27;f38&#x27;, &#x27;f39&#x27;, &#x27;f40&#x27;, &#x27;f41&#x27;, &#x27;f42&#x27;, &#x27;f43&#x27;, &#x27;f44&#x27;, &#x27;f45&#x27;, &#x27;f46&#x27;, &#x27;f47&#x27;, &#x27;f48&#x27;, &#x27;f49&#x27;, &#x27;f50&#x27;, &#x27;f51&#x27;, &#x27;f52&#x27;, &#x27;f53&#x27;, &#x27;f54&#x27;, &#x27;f55&#x27;, &#x27;f56&#x27;, &#x27;f57&#x27;, &#x27;f58&#x27;, &#x27;f59&#x27;, &#x27;f60&#x27;, &#x27;f61&#x27;, &#x27;f62&#x27;, &#x27;f63&#x27;, &#x27;f64&#x27;, &#x27;f65&#x27;, &#x27;f66&#x27;, &#x27;f67&#x27;, &#x27;f68&#x27;, &#x27;f69&#x27;, &#x27;f70&#x27;, &#x27;f71&#x27;, &#x27;f72&#x27;, &#x27;f73&#x27;, &#x27;f74&#x27;, &#x27;f75&#x27;, &#x27;f76&#x27;, &#x27;f77&#x27;, &#x27;f78&#x27;, &#x27;f79&#x27;, &#x27;f80&#x27;, &#x27;f81&#x27;, &#x27;f82&#x27;, &#x27;f83&#x27;, &#x27;f84&#x27;, &#x27;f85&#x27;, &#x27;f86&#x27;, &#x27;f87&#x27;, &#x27;f88&#x27;, &#x27;f89&#x27;, &#x27;f90&#x27;, &#x27;f91&#x27;, &#x27;f92&#x27;, &#x27;f93&#x27;, &#x27;f94&#x27;, &#x27;f95&#x27;, &#x27;f96&#x27;, &#x27;f97&#x27;, &#x27;f98&#x27;, &#x27;f99&#x27;, &#x27;f100&#x27;, &#x27;f101&#x27;, &#x27;f102&#x27;, &#x27;f103&#x27;, &#x27;f104&#x27;, &#x27;f105&#x27;, &#x27;f106&#x27;, &#x27;f107&#x27;, &#x27;f108&#x27;, &#x27;f109&#x27;, &#x27;f110&#x27;, &#x27;f111&#x27;, &#x27;f112&#x27;, &#x27;f113&#x27;, &#x27;f114&#x27;, &#x27;f115&#x27;, &#x27;f116&#x27;, &#x27;f117&#x27;, &#x27;f118&#x27;]</pre></div></div></div><div class=\"sk-serial\"><div class=\"sk-item\"><div class=\"sk-serial\"><div class=\"sk-item\"><div class=\"sk-estimator sk-toggleable\"><input class=\"sk-toggleable__control sk-hidden--visually\" id=\"sk-estimator-id-17\" type=\"checkbox\" ><label for=\"sk-estimator-id-17\" class=\"sk-toggleable__label sk-toggleable__label-arrow\">SimpleImputer</label><div class=\"sk-toggleable__content\"><pre>SimpleImputer()</pre></div></div></div><div class=\"sk-item\"><div class=\"sk-estimator sk-toggleable\"><input class=\"sk-toggleable__control sk-hidden--visually\" id=\"sk-estimator-id-18\" type=\"checkbox\" ><label for=\"sk-estimator-id-18\" class=\"sk-toggleable__label sk-toggleable__label-arrow\">StandardScaler</label><div class=\"sk-toggleable__content\"><pre>StandardScaler()</pre></div></div></div></div></div></div></div></div></div></div><div class=\"sk-item\"><div class=\"sk-estimator sk-toggleable\"><input class=\"sk-toggleable__control sk-hidden--visually\" id=\"sk-estimator-id-19\" type=\"checkbox\" ><label for=\"sk-estimator-id-19\" class=\"sk-toggleable__label sk-toggleable__label-arrow\">XGBClassifier</label><div class=\"sk-toggleable__content\"><pre>XGBClassifier(base_score=None, booster=None, callbacks=None,\n",
       "              colsample_bylevel=None, colsample_bynode=None,\n",
       "              colsample_bytree=None, early_stopping_rounds=None,\n",
       "              enable_categorical=False, eval_metric=None, feature_types=None,\n",
       "              gamma=None, gpu_id=None, grow_policy=None, importance_type=None,\n",
       "              interaction_constraints=None, learning_rate=None, max_bin=None,\n",
       "              max_cat_threshold=None, max_cat_to_onehot=None,\n",
       "              max_delta_step=None, max_depth=None, max_leaves=None,\n",
       "              min_child_weight=None, missing=nan, monotone_constraints=None,\n",
       "              n_estimators=100, n_jobs=None, num_parallel_tree=None,\n",
       "              predictor=None, random_state=None, ...)</pre></div></div></div></div></div></div></div>"
      ],
      "text/plain": [
       "Pipeline(steps=[('columntransformer',\n",
       "                 ColumnTransformer(transformers=[('categorical',\n",
       "                                                  Pipeline(steps=[('imputation_constant',\n",
       "                                                                   SimpleImputer(fill_value='missing',\n",
       "                                                                                 strategy='most_frequent')),\n",
       "                                                                  ('onehot',\n",
       "                                                                   OneHotEncoder(handle_unknown='ignore'))]),\n",
       "                                                  []),\n",
       "                                                 ('numerical',\n",
       "                                                  Pipeline(steps=[('imputation_mean',\n",
       "                                                                   SimpleImputer()),\n",
       "                                                                  ('scaler',\n",
       "                                                                   StandardScaler())]),\n",
       "                                                  ['f1', 'f2', 'f3...\n",
       "                               feature_types=None, gamma=None, gpu_id=None,\n",
       "                               grow_policy=None, importance_type=None,\n",
       "                               interaction_constraints=None, learning_rate=None,\n",
       "                               max_bin=None, max_cat_threshold=None,\n",
       "                               max_cat_to_onehot=None, max_delta_step=None,\n",
       "                               max_depth=None, max_leaves=None,\n",
       "                               min_child_weight=None, missing=nan,\n",
       "                               monotone_constraints=None, n_estimators=100,\n",
       "                               n_jobs=None, num_parallel_tree=None,\n",
       "                               predictor=None, random_state=None, ...))])"
      ]
     },
     "execution_count": 66,
     "metadata": {},
     "output_type": "execute_result"
    }
   ],
   "source": [
    "pipe.fit(xtrain,ytrain)"
   ]
  },
  {
   "cell_type": "code",
   "execution_count": 63,
   "id": "eae10a6a",
   "metadata": {},
   "outputs": [],
   "source": [
    "preds=pipe.predict_proba(xvalid)[:,1].round(2)"
   ]
  },
  {
   "cell_type": "code",
   "execution_count": 67,
   "id": "fcafe780",
   "metadata": {},
   "outputs": [
    {
     "data": {
      "text/plain": [
       "array([0.42, 0.23, 0.43, ..., 0.89, 0.26, 0.87], dtype=float32)"
      ]
     },
     "execution_count": 67,
     "metadata": {},
     "output_type": "execute_result"
    }
   ],
   "source": [
    "preds"
   ]
  },
  {
   "cell_type": "code",
   "execution_count": null,
   "id": "9782669d",
   "metadata": {},
   "outputs": [],
   "source": []
  },
  {
   "cell_type": "code",
   "execution_count": null,
   "id": "c39d80bb",
   "metadata": {},
   "outputs": [],
   "source": []
  },
  {
   "cell_type": "markdown",
   "id": "8e9d23ec",
   "metadata": {},
   "source": [
    "### CV Model Building"
   ]
  },
  {
   "cell_type": "code",
   "execution_count": 69,
   "id": "525b8aac",
   "metadata": {},
   "outputs": [],
   "source": [
    "from sklearn.model_selection import StratifiedKFold\n",
    "from sklearn.metrics import roc_auc_score\n",
    "from xgboost import XGBClassifier\n",
    "features=df.drop(['id'],axis=1).columns.to_list()\n",
    "# features"
   ]
  },
  {
   "cell_type": "code",
   "execution_count": 29,
   "id": "fe334deb",
   "metadata": {},
   "outputs": [
    {
     "name": "stdout",
     "output_type": "stream",
     "text": [
      "Fold 0 AUC:  0.799105363975735\n"
     ]
    },
    {
     "ename": "NameError",
     "evalue": "name 'train_df' is not defined",
     "output_type": "error",
     "traceback": [
      "\u001b[0;31m---------------------------------------------------------------------------\u001b[0m",
      "\u001b[0;31mNameError\u001b[0m                                 Traceback (most recent call last)",
      "Input \u001b[0;32mIn [29]\u001b[0m, in \u001b[0;36m<cell line: 19>\u001b[0;34m()\u001b[0m\n\u001b[1;32m     16\u001b[0m     \u001b[38;5;28mprint\u001b[39m(\u001b[38;5;124mf\u001b[39m\u001b[38;5;124m'\u001b[39m\u001b[38;5;124mFold \u001b[39m\u001b[38;5;132;01m{\u001b[39;00mfold\u001b[38;5;132;01m}\u001b[39;00m\u001b[38;5;124m AUC: \u001b[39m\u001b[38;5;124m'\u001b[39m, roc_auc_score(y_valid, temp_oof))\n\u001b[1;32m     17\u001b[0m     \u001b[38;5;28;01mbreak\u001b[39;00m\n\u001b[0;32m---> 19\u001b[0m \u001b[38;5;28mprint\u001b[39m(\u001b[38;5;124mf\u001b[39m\u001b[38;5;124m'\u001b[39m\u001b[38;5;124mOOF AUC: \u001b[39m\u001b[38;5;124m'\u001b[39m, roc_auc_score(\u001b[43mtrain_df\u001b[49m[\u001b[38;5;124m'\u001b[39m\u001b[38;5;124mclaim\u001b[39m\u001b[38;5;124m'\u001b[39m], train_oof))\n",
      "\u001b[0;31mNameError\u001b[0m: name 'train_df' is not defined"
     ]
    }
   ],
   "source": [
    "train_oof = np.zeros((957919,))\n",
    "folds=5\n",
    "skf = StratifiedKFold(n_splits=folds, shuffle=True, random_state=42)\n",
    "for fold, (train_idx, valid_idx) in enumerate(skf.split(df[features], df['claim'])):\n",
    "    X_train, X_valid = df.iloc[train_idx], df.iloc[valid_idx]\n",
    "    y_train = X_train['claim']\n",
    "    y_valid = X_valid['claim']\n",
    "    X_train = X_train.drop('claim', axis=1)\n",
    "    X_valid = X_valid.drop('claim', axis=1)\n",
    "\n",
    "    model = XGBClassifier(random_state=42, verbosity=0)\n",
    "\n",
    "    model =  model.fit(X_train, y_train, verbose=0)\n",
    "    temp_oof = model.predict_proba(X_valid)[:, 1]\n",
    "    train_oof[valid_idx] = temp_oof\n",
    "    print(f'Fold {fold} AUC: ', roc_auc_score(y_valid, temp_oof))\n",
    "    break\n",
    "    \n",
    "print(f'OOF AUC: ', roc_auc_score(df['claim'], train_oof))"
   ]
  },
  {
   "cell_type": "code",
   "execution_count": 36,
   "id": "cd6b4bee",
   "metadata": {},
   "outputs": [
    {
     "data": {
      "text/plain": [
       "array([[0.027991  , 0.972009  ],\n",
       "       [0.62173545, 0.37826455],\n",
       "       [0.53350025, 0.46649975],\n",
       "       ...,\n",
       "       [0.7731257 , 0.22687429],\n",
       "       [0.6956078 , 0.30439225],\n",
       "       [0.8063806 , 0.19361939]], dtype=float32)"
      ]
     },
     "execution_count": 36,
     "metadata": {},
     "output_type": "execute_result"
    }
   ],
   "source": [
    "model.predict_proba(X_valid)[:]"
   ]
  },
  {
   "cell_type": "code",
   "execution_count": 54,
   "id": "17b05d5b",
   "metadata": {},
   "outputs": [
    {
     "data": {
      "text/plain": [
       "array([0.42, 0.23, 0.43, ..., 0.89, 0.26, 0.87], dtype=float32)"
      ]
     },
     "execution_count": 54,
     "metadata": {},
     "output_type": "execute_result"
    }
   ],
   "source": [
    "preds=model.predict_proba(df_test)[:,1].round(2)\n",
    "preds"
   ]
  },
  {
   "cell_type": "code",
   "execution_count": 39,
   "id": "e64f6271",
   "metadata": {},
   "outputs": [
    {
     "data": {
      "text/plain": [
       "array([1, 0, 0, ..., 0, 0, 0])"
      ]
     },
     "execution_count": 39,
     "metadata": {},
     "output_type": "execute_result"
    }
   ],
   "source": [
    "model.predict(df_test)"
   ]
  },
  {
   "cell_type": "code",
   "execution_count": 33,
   "id": "a98bb9e3",
   "metadata": {},
   "outputs": [
    {
     "data": {
      "text/plain": [
       "array([0., 0., 0., ..., 0., 0., 0.])"
      ]
     },
     "execution_count": 33,
     "metadata": {},
     "output_type": "execute_result"
    }
   ],
   "source": [
    "np.zeros((957919,))"
   ]
  },
  {
   "cell_type": "code",
   "execution_count": 47,
   "id": "d0764833",
   "metadata": {},
   "outputs": [
    {
     "data": {
      "text/plain": [
       "((191584, 119), (957919, 120))"
      ]
     },
     "execution_count": 47,
     "metadata": {},
     "output_type": "execute_result"
    }
   ],
   "source": [
    "X_valid.shape,df.shape"
   ]
  },
  {
   "cell_type": "code",
   "execution_count": 44,
   "id": "504668bd",
   "metadata": {},
   "outputs": [
    {
     "data": {
      "text/plain": [
       "(493474, 118)"
      ]
     },
     "execution_count": 44,
     "metadata": {},
     "output_type": "execute_result"
    }
   ],
   "source": [
    "xtest.shape"
   ]
  },
  {
   "cell_type": "code",
   "execution_count": 49,
   "id": "499f7b0e",
   "metadata": {},
   "outputs": [
    {
     "data": {
      "text/plain": [
       "Index(['id', 'f1', 'f2', 'f3', 'f4', 'f5', 'f6', 'f7', 'f8', 'f9',\n",
       "       ...\n",
       "       'f109', 'f110', 'f111', 'f112', 'f113', 'f114', 'f115', 'f116', 'f117',\n",
       "       'f118'],\n",
       "      dtype='object', length=119)"
      ]
     },
     "execution_count": 49,
     "metadata": {},
     "output_type": "execute_result"
    }
   ],
   "source": [
    "X_valid.columns"
   ]
  },
  {
   "cell_type": "code",
   "execution_count": null,
   "id": "78ee2757",
   "metadata": {},
   "outputs": [],
   "source": []
  },
  {
   "cell_type": "markdown",
   "id": "7e767439",
   "metadata": {},
   "source": [
    "### Testing the preds"
   ]
  },
  {
   "cell_type": "code",
   "execution_count": 47,
   "id": "86f25513",
   "metadata": {},
   "outputs": [],
   "source": [
    "from sklearn.metrics import log_loss"
   ]
  },
  {
   "cell_type": "code",
   "execution_count": 68,
   "id": "55fa6f9f",
   "metadata": {},
   "outputs": [],
   "source": [
    "loss_xgb=log_loss(yvalid,preds)"
   ]
  },
  {
   "cell_type": "code",
   "execution_count": 69,
   "id": "8b9a49f8",
   "metadata": {},
   "outputs": [
    {
     "data": {
      "text/plain": [
       "9.682280242396446"
      ]
     },
     "execution_count": 69,
     "metadata": {},
     "output_type": "execute_result"
    }
   ],
   "source": [
    "loss_xgb"
   ]
  },
  {
   "cell_type": "code",
   "execution_count": null,
   "id": "e4c5e50a",
   "metadata": {},
   "outputs": [],
   "source": []
  },
  {
   "cell_type": "code",
   "execution_count": 40,
   "id": "965911bc",
   "metadata": {},
   "outputs": [],
   "source": [
    "xtest=df_test.drop('id',axis=1)"
   ]
  },
  {
   "cell_type": "code",
   "execution_count": 82,
   "id": "876caf20",
   "metadata": {},
   "outputs": [
    {
     "name": "stderr",
     "output_type": "stream",
     "text": [
      "/Volumes/TAPPS/DS_APPS/anaconda3/envs/tensorflow/lib/python3.9/site-packages/pandas/core/internals/blocks.py:402: RuntimeWarning: divide by zero encountered in log1p\n",
      "  result = func(self.values, **kwargs)\n",
      "/Volumes/TAPPS/DS_APPS/anaconda3/envs/tensorflow/lib/python3.9/site-packages/pandas/core/internals/blocks.py:402: RuntimeWarning: invalid value encountered in log1p\n",
      "  result = func(self.values, **kwargs)\n"
     ]
    },
    {
     "data": {
      "text/html": [
       "<div>\n",
       "<style scoped>\n",
       "    .dataframe tbody tr th:only-of-type {\n",
       "        vertical-align: middle;\n",
       "    }\n",
       "\n",
       "    .dataframe tbody tr th {\n",
       "        vertical-align: top;\n",
       "    }\n",
       "\n",
       "    .dataframe thead th {\n",
       "        text-align: right;\n",
       "    }\n",
       "</style>\n",
       "<table border=\"1\" class=\"dataframe\">\n",
       "  <thead>\n",
       "    <tr style=\"text-align: right;\">\n",
       "      <th></th>\n",
       "      <th>f1</th>\n",
       "      <th>f2</th>\n",
       "      <th>f3</th>\n",
       "      <th>f4</th>\n",
       "      <th>f5</th>\n",
       "      <th>f6</th>\n",
       "      <th>f7</th>\n",
       "      <th>f8</th>\n",
       "      <th>f9</th>\n",
       "      <th>f10</th>\n",
       "      <th>...</th>\n",
       "      <th>f109</th>\n",
       "      <th>f110</th>\n",
       "      <th>f111</th>\n",
       "      <th>f112</th>\n",
       "      <th>f113</th>\n",
       "      <th>f114</th>\n",
       "      <th>f115</th>\n",
       "      <th>f116</th>\n",
       "      <th>f117</th>\n",
       "      <th>f118</th>\n",
       "    </tr>\n",
       "  </thead>\n",
       "  <tbody>\n",
       "    <tr>\n",
       "      <th>0</th>\n",
       "      <td>0.17</td>\n",
       "      <td>0.49</td>\n",
       "      <td>7.17</td>\n",
       "      <td>0.02</td>\n",
       "      <td>0.32</td>\n",
       "      <td>0.90</td>\n",
       "      <td>6.35</td>\n",
       "      <td>8.23</td>\n",
       "      <td>28.63</td>\n",
       "      <td>8.74</td>\n",
       "      <td>...</td>\n",
       "      <td>0.16</td>\n",
       "      <td>-22.19</td>\n",
       "      <td>2.07</td>\n",
       "      <td>0.43</td>\n",
       "      <td>-10.74</td>\n",
       "      <td>11.31</td>\n",
       "      <td>1.19</td>\n",
       "      <td>32.92</td>\n",
       "      <td>7.61</td>\n",
       "      <td>0.46</td>\n",
       "    </tr>\n",
       "    <tr>\n",
       "      <th>1</th>\n",
       "      <td>0.13</td>\n",
       "      <td>0.37</td>\n",
       "      <td>7.48</td>\n",
       "      <td>0.73</td>\n",
       "      <td>0.33</td>\n",
       "      <td>-1.26</td>\n",
       "      <td>6.78</td>\n",
       "      <td>13.23</td>\n",
       "      <td>34.02</td>\n",
       "      <td>6.84</td>\n",
       "      <td>...</td>\n",
       "      <td>0.82</td>\n",
       "      <td>-1.63</td>\n",
       "      <td>1.57</td>\n",
       "      <td>-1.07</td>\n",
       "      <td>11.83</td>\n",
       "      <td>11.41</td>\n",
       "      <td>1.15</td>\n",
       "      <td>38.32</td>\n",
       "      <td>8.80</td>\n",
       "      <td>0.28</td>\n",
       "    </tr>\n",
       "  </tbody>\n",
       "</table>\n",
       "<p>2 rows × 118 columns</p>\n",
       "</div>"
      ],
      "text/plain": [
       "    f1   f2   f3   f4   f5    f6   f7    f8    f9  f10  ...  f109   f110  \\\n",
       "0 0.17 0.49 7.17 0.02 0.32  0.90 6.35  8.23 28.63 8.74  ...  0.16 -22.19   \n",
       "1 0.13 0.37 7.48 0.73 0.33 -1.26 6.78 13.23 34.02 6.84  ...  0.82  -1.63   \n",
       "\n",
       "   f111  f112   f113  f114  f115  f116  f117  f118  \n",
       "0  2.07  0.43 -10.74 11.31  1.19 32.92  7.61  0.46  \n",
       "1  1.57 -1.07  11.83 11.41  1.15 38.32  8.80  0.28  \n",
       "\n",
       "[2 rows x 118 columns]"
      ]
     },
     "execution_count": 82,
     "metadata": {},
     "output_type": "execute_result"
    }
   ],
   "source": [
    "xtest1=FE(xtest.copy())\n",
    "xtest1.head(2)"
   ]
  },
  {
   "cell_type": "code",
   "execution_count": 75,
   "id": "463418c5",
   "metadata": {},
   "outputs": [
    {
     "data": {
      "text/html": [
       "<div>\n",
       "<style scoped>\n",
       "    .dataframe tbody tr th:only-of-type {\n",
       "        vertical-align: middle;\n",
       "    }\n",
       "\n",
       "    .dataframe tbody tr th {\n",
       "        vertical-align: top;\n",
       "    }\n",
       "\n",
       "    .dataframe thead th {\n",
       "        text-align: right;\n",
       "    }\n",
       "</style>\n",
       "<table border=\"1\" class=\"dataframe\">\n",
       "  <thead>\n",
       "    <tr style=\"text-align: right;\">\n",
       "      <th></th>\n",
       "      <th>f1</th>\n",
       "      <th>f2</th>\n",
       "      <th>f3</th>\n",
       "      <th>f4</th>\n",
       "      <th>f5</th>\n",
       "      <th>f6</th>\n",
       "      <th>f7</th>\n",
       "      <th>f8</th>\n",
       "      <th>f9</th>\n",
       "      <th>f10</th>\n",
       "      <th>...</th>\n",
       "      <th>f109</th>\n",
       "      <th>f110</th>\n",
       "      <th>f111</th>\n",
       "      <th>f112</th>\n",
       "      <th>f113</th>\n",
       "      <th>f114</th>\n",
       "      <th>f115</th>\n",
       "      <th>f116</th>\n",
       "      <th>f117</th>\n",
       "      <th>f118</th>\n",
       "    </tr>\n",
       "  </thead>\n",
       "  <tbody>\n",
       "    <tr>\n",
       "      <th>0</th>\n",
       "      <td>0.17</td>\n",
       "      <td>0.49</td>\n",
       "      <td>1295.00</td>\n",
       "      <td>0.02</td>\n",
       "      <td>0.32</td>\n",
       "      <td>0.90</td>\n",
       "      <td>573.29</td>\n",
       "      <td>8.23</td>\n",
       "      <td>28.63</td>\n",
       "      <td>6221.00</td>\n",
       "      <td>...</td>\n",
       "      <td>0.16</td>\n",
       "      <td>-22.19</td>\n",
       "      <td>2.07</td>\n",
       "      <td>0.43</td>\n",
       "      <td>-10.74</td>\n",
       "      <td>81606.00</td>\n",
       "      <td>1.19</td>\n",
       "      <td>198040000000000.00</td>\n",
       "      <td>2017.10</td>\n",
       "      <td>0.46</td>\n",
       "    </tr>\n",
       "    <tr>\n",
       "      <th>1</th>\n",
       "      <td>0.13</td>\n",
       "      <td>0.37</td>\n",
       "      <td>1763.00</td>\n",
       "      <td>0.73</td>\n",
       "      <td>0.33</td>\n",
       "      <td>-1.26</td>\n",
       "      <td>875.55</td>\n",
       "      <td>13.23</td>\n",
       "      <td>34.02</td>\n",
       "      <td>934.43</td>\n",
       "      <td>...</td>\n",
       "      <td>0.82</td>\n",
       "      <td>-1.63</td>\n",
       "      <td>1.57</td>\n",
       "      <td>-1.07</td>\n",
       "      <td>11.83</td>\n",
       "      <td>90114.00</td>\n",
       "      <td>1.15</td>\n",
       "      <td>43880000000000000.00</td>\n",
       "      <td>6638.90</td>\n",
       "      <td>0.28</td>\n",
       "    </tr>\n",
       "  </tbody>\n",
       "</table>\n",
       "<p>2 rows × 118 columns</p>\n",
       "</div>"
      ],
      "text/plain": [
       "    f1   f2      f3   f4   f5    f6     f7    f8    f9     f10  ...  f109  \\\n",
       "0 0.17 0.49 1295.00 0.02 0.32  0.90 573.29  8.23 28.63 6221.00  ...  0.16   \n",
       "1 0.13 0.37 1763.00 0.73 0.33 -1.26 875.55 13.23 34.02  934.43  ...  0.82   \n",
       "\n",
       "    f110  f111  f112   f113     f114  f115                 f116    f117  f118  \n",
       "0 -22.19  2.07  0.43 -10.74 81606.00  1.19   198040000000000.00 2017.10  0.46  \n",
       "1  -1.63  1.57 -1.07  11.83 90114.00  1.15 43880000000000000.00 6638.90  0.28  \n",
       "\n",
       "[2 rows x 118 columns]"
      ]
     },
     "execution_count": 75,
     "metadata": {},
     "output_type": "execute_result"
    }
   ],
   "source": [
    "xtest.head(2)"
   ]
  },
  {
   "cell_type": "code",
   "execution_count": 71,
   "id": "0e0dc6f6",
   "metadata": {},
   "outputs": [
    {
     "ename": "ValueError",
     "evalue": "Input X contains infinity or a value too large for dtype('float64').",
     "output_type": "error",
     "traceback": [
      "\u001b[0;31m---------------------------------------------------------------------------\u001b[0m",
      "\u001b[0;31mValueError\u001b[0m                                Traceback (most recent call last)",
      "Input \u001b[0;32mIn [71]\u001b[0m, in \u001b[0;36m<cell line: 1>\u001b[0;34m()\u001b[0m\n\u001b[0;32m----> 1\u001b[0m preds\u001b[38;5;241m=\u001b[39m\u001b[43mpipe\u001b[49m\u001b[38;5;241;43m.\u001b[39;49m\u001b[43mpredict\u001b[49m\u001b[43m(\u001b[49m\u001b[43mxtest\u001b[49m\u001b[43m)\u001b[49m\n",
      "File \u001b[0;32m/Volumes/TAPPS/DS_APPS/anaconda3/envs/tensorflow/lib/python3.9/site-packages/sklearn/pipeline.py:457\u001b[0m, in \u001b[0;36mPipeline.predict\u001b[0;34m(self, X, **predict_params)\u001b[0m\n\u001b[1;32m    455\u001b[0m Xt \u001b[38;5;241m=\u001b[39m X\n\u001b[1;32m    456\u001b[0m \u001b[38;5;28;01mfor\u001b[39;00m _, name, transform \u001b[38;5;129;01min\u001b[39;00m \u001b[38;5;28mself\u001b[39m\u001b[38;5;241m.\u001b[39m_iter(with_final\u001b[38;5;241m=\u001b[39m\u001b[38;5;28;01mFalse\u001b[39;00m):\n\u001b[0;32m--> 457\u001b[0m     Xt \u001b[38;5;241m=\u001b[39m \u001b[43mtransform\u001b[49m\u001b[38;5;241;43m.\u001b[39;49m\u001b[43mtransform\u001b[49m\u001b[43m(\u001b[49m\u001b[43mXt\u001b[49m\u001b[43m)\u001b[49m\n\u001b[1;32m    458\u001b[0m \u001b[38;5;28;01mreturn\u001b[39;00m \u001b[38;5;28mself\u001b[39m\u001b[38;5;241m.\u001b[39msteps[\u001b[38;5;241m-\u001b[39m\u001b[38;5;241m1\u001b[39m][\u001b[38;5;241m1\u001b[39m]\u001b[38;5;241m.\u001b[39mpredict(Xt, \u001b[38;5;241m*\u001b[39m\u001b[38;5;241m*\u001b[39mpredict_params)\n",
      "File \u001b[0;32m/Volumes/TAPPS/DS_APPS/anaconda3/envs/tensorflow/lib/python3.9/site-packages/sklearn/compose/_column_transformer.py:763\u001b[0m, in \u001b[0;36mColumnTransformer.transform\u001b[0;34m(self, X)\u001b[0m\n\u001b[1;32m    758\u001b[0m \u001b[38;5;28;01melse\u001b[39;00m:\n\u001b[1;32m    759\u001b[0m     \u001b[38;5;66;03m# ndarray was used for fitting or transforming, thus we only\u001b[39;00m\n\u001b[1;32m    760\u001b[0m     \u001b[38;5;66;03m# check that n_features_in_ is consistent\u001b[39;00m\n\u001b[1;32m    761\u001b[0m     \u001b[38;5;28mself\u001b[39m\u001b[38;5;241m.\u001b[39m_check_n_features(X, reset\u001b[38;5;241m=\u001b[39m\u001b[38;5;28;01mFalse\u001b[39;00m)\n\u001b[0;32m--> 763\u001b[0m Xs \u001b[38;5;241m=\u001b[39m \u001b[38;5;28;43mself\u001b[39;49m\u001b[38;5;241;43m.\u001b[39;49m\u001b[43m_fit_transform\u001b[49m\u001b[43m(\u001b[49m\n\u001b[1;32m    764\u001b[0m \u001b[43m    \u001b[49m\u001b[43mX\u001b[49m\u001b[43m,\u001b[49m\n\u001b[1;32m    765\u001b[0m \u001b[43m    \u001b[49m\u001b[38;5;28;43;01mNone\u001b[39;49;00m\u001b[43m,\u001b[49m\n\u001b[1;32m    766\u001b[0m \u001b[43m    \u001b[49m\u001b[43m_transform_one\u001b[49m\u001b[43m,\u001b[49m\n\u001b[1;32m    767\u001b[0m \u001b[43m    \u001b[49m\u001b[43mfitted\u001b[49m\u001b[38;5;241;43m=\u001b[39;49m\u001b[38;5;28;43;01mTrue\u001b[39;49;00m\u001b[43m,\u001b[49m\n\u001b[1;32m    768\u001b[0m \u001b[43m    \u001b[49m\u001b[43mcolumn_as_strings\u001b[49m\u001b[38;5;241;43m=\u001b[39;49m\u001b[43mfit_dataframe_and_transform_dataframe\u001b[49m\u001b[43m,\u001b[49m\n\u001b[1;32m    769\u001b[0m \u001b[43m\u001b[49m\u001b[43m)\u001b[49m\n\u001b[1;32m    770\u001b[0m \u001b[38;5;28mself\u001b[39m\u001b[38;5;241m.\u001b[39m_validate_output(Xs)\n\u001b[1;32m    772\u001b[0m \u001b[38;5;28;01mif\u001b[39;00m \u001b[38;5;129;01mnot\u001b[39;00m Xs:\n\u001b[1;32m    773\u001b[0m     \u001b[38;5;66;03m# All transformers are None\u001b[39;00m\n",
      "File \u001b[0;32m/Volumes/TAPPS/DS_APPS/anaconda3/envs/tensorflow/lib/python3.9/site-packages/sklearn/compose/_column_transformer.py:621\u001b[0m, in \u001b[0;36mColumnTransformer._fit_transform\u001b[0;34m(self, X, y, func, fitted, column_as_strings)\u001b[0m\n\u001b[1;32m    615\u001b[0m transformers \u001b[38;5;241m=\u001b[39m \u001b[38;5;28mlist\u001b[39m(\n\u001b[1;32m    616\u001b[0m     \u001b[38;5;28mself\u001b[39m\u001b[38;5;241m.\u001b[39m_iter(\n\u001b[1;32m    617\u001b[0m         fitted\u001b[38;5;241m=\u001b[39mfitted, replace_strings\u001b[38;5;241m=\u001b[39m\u001b[38;5;28;01mTrue\u001b[39;00m, column_as_strings\u001b[38;5;241m=\u001b[39mcolumn_as_strings\n\u001b[1;32m    618\u001b[0m     )\n\u001b[1;32m    619\u001b[0m )\n\u001b[1;32m    620\u001b[0m \u001b[38;5;28;01mtry\u001b[39;00m:\n\u001b[0;32m--> 621\u001b[0m     \u001b[38;5;28;01mreturn\u001b[39;00m \u001b[43mParallel\u001b[49m\u001b[43m(\u001b[49m\u001b[43mn_jobs\u001b[49m\u001b[38;5;241;43m=\u001b[39;49m\u001b[38;5;28;43mself\u001b[39;49m\u001b[38;5;241;43m.\u001b[39;49m\u001b[43mn_jobs\u001b[49m\u001b[43m)\u001b[49m\u001b[43m(\u001b[49m\n\u001b[1;32m    622\u001b[0m \u001b[43m        \u001b[49m\u001b[43mdelayed\u001b[49m\u001b[43m(\u001b[49m\u001b[43mfunc\u001b[49m\u001b[43m)\u001b[49m\u001b[43m(\u001b[49m\n\u001b[1;32m    623\u001b[0m \u001b[43m            \u001b[49m\u001b[43mtransformer\u001b[49m\u001b[38;5;241;43m=\u001b[39;49m\u001b[43mclone\u001b[49m\u001b[43m(\u001b[49m\u001b[43mtrans\u001b[49m\u001b[43m)\u001b[49m\u001b[43m \u001b[49m\u001b[38;5;28;43;01mif\u001b[39;49;00m\u001b[43m \u001b[49m\u001b[38;5;129;43;01mnot\u001b[39;49;00m\u001b[43m \u001b[49m\u001b[43mfitted\u001b[49m\u001b[43m \u001b[49m\u001b[38;5;28;43;01melse\u001b[39;49;00m\u001b[43m \u001b[49m\u001b[43mtrans\u001b[49m\u001b[43m,\u001b[49m\n\u001b[1;32m    624\u001b[0m \u001b[43m            \u001b[49m\u001b[43mX\u001b[49m\u001b[38;5;241;43m=\u001b[39;49m\u001b[43m_safe_indexing\u001b[49m\u001b[43m(\u001b[49m\u001b[43mX\u001b[49m\u001b[43m,\u001b[49m\u001b[43m \u001b[49m\u001b[43mcolumn\u001b[49m\u001b[43m,\u001b[49m\u001b[43m \u001b[49m\u001b[43maxis\u001b[49m\u001b[38;5;241;43m=\u001b[39;49m\u001b[38;5;241;43m1\u001b[39;49m\u001b[43m)\u001b[49m\u001b[43m,\u001b[49m\n\u001b[1;32m    625\u001b[0m \u001b[43m            \u001b[49m\u001b[43my\u001b[49m\u001b[38;5;241;43m=\u001b[39;49m\u001b[43my\u001b[49m\u001b[43m,\u001b[49m\n\u001b[1;32m    626\u001b[0m \u001b[43m            \u001b[49m\u001b[43mweight\u001b[49m\u001b[38;5;241;43m=\u001b[39;49m\u001b[43mweight\u001b[49m\u001b[43m,\u001b[49m\n\u001b[1;32m    627\u001b[0m \u001b[43m            \u001b[49m\u001b[43mmessage_clsname\u001b[49m\u001b[38;5;241;43m=\u001b[39;49m\u001b[38;5;124;43m\"\u001b[39;49m\u001b[38;5;124;43mColumnTransformer\u001b[39;49m\u001b[38;5;124;43m\"\u001b[39;49m\u001b[43m,\u001b[49m\n\u001b[1;32m    628\u001b[0m \u001b[43m            \u001b[49m\u001b[43mmessage\u001b[49m\u001b[38;5;241;43m=\u001b[39;49m\u001b[38;5;28;43mself\u001b[39;49m\u001b[38;5;241;43m.\u001b[39;49m\u001b[43m_log_message\u001b[49m\u001b[43m(\u001b[49m\u001b[43mname\u001b[49m\u001b[43m,\u001b[49m\u001b[43m \u001b[49m\u001b[43midx\u001b[49m\u001b[43m,\u001b[49m\u001b[43m \u001b[49m\u001b[38;5;28;43mlen\u001b[39;49m\u001b[43m(\u001b[49m\u001b[43mtransformers\u001b[49m\u001b[43m)\u001b[49m\u001b[43m)\u001b[49m\u001b[43m,\u001b[49m\n\u001b[1;32m    629\u001b[0m \u001b[43m        \u001b[49m\u001b[43m)\u001b[49m\n\u001b[1;32m    630\u001b[0m \u001b[43m        \u001b[49m\u001b[38;5;28;43;01mfor\u001b[39;49;00m\u001b[43m \u001b[49m\u001b[43midx\u001b[49m\u001b[43m,\u001b[49m\u001b[43m \u001b[49m\u001b[43m(\u001b[49m\u001b[43mname\u001b[49m\u001b[43m,\u001b[49m\u001b[43m \u001b[49m\u001b[43mtrans\u001b[49m\u001b[43m,\u001b[49m\u001b[43m \u001b[49m\u001b[43mcolumn\u001b[49m\u001b[43m,\u001b[49m\u001b[43m \u001b[49m\u001b[43mweight\u001b[49m\u001b[43m)\u001b[49m\u001b[43m \u001b[49m\u001b[38;5;129;43;01min\u001b[39;49;00m\u001b[43m \u001b[49m\u001b[38;5;28;43menumerate\u001b[39;49m\u001b[43m(\u001b[49m\u001b[43mtransformers\u001b[49m\u001b[43m,\u001b[49m\u001b[43m \u001b[49m\u001b[38;5;241;43m1\u001b[39;49m\u001b[43m)\u001b[49m\n\u001b[1;32m    631\u001b[0m \u001b[43m    \u001b[49m\u001b[43m)\u001b[49m\n\u001b[1;32m    632\u001b[0m \u001b[38;5;28;01mexcept\u001b[39;00m \u001b[38;5;167;01mValueError\u001b[39;00m \u001b[38;5;28;01mas\u001b[39;00m e:\n\u001b[1;32m    633\u001b[0m     \u001b[38;5;28;01mif\u001b[39;00m \u001b[38;5;124m\"\u001b[39m\u001b[38;5;124mExpected 2D array, got 1D array instead\u001b[39m\u001b[38;5;124m\"\u001b[39m \u001b[38;5;129;01min\u001b[39;00m \u001b[38;5;28mstr\u001b[39m(e):\n",
      "File \u001b[0;32m/Volumes/TAPPS/DS_APPS/anaconda3/envs/tensorflow/lib/python3.9/site-packages/joblib/parallel.py:1855\u001b[0m, in \u001b[0;36mParallel.__call__\u001b[0;34m(self, iterable)\u001b[0m\n\u001b[1;32m   1853\u001b[0m     output \u001b[38;5;241m=\u001b[39m \u001b[38;5;28mself\u001b[39m\u001b[38;5;241m.\u001b[39m_get_sequential_output(iterable)\n\u001b[1;32m   1854\u001b[0m     \u001b[38;5;28mnext\u001b[39m(output)\n\u001b[0;32m-> 1855\u001b[0m     \u001b[38;5;28;01mreturn\u001b[39;00m output \u001b[38;5;28;01mif\u001b[39;00m \u001b[38;5;28mself\u001b[39m\u001b[38;5;241m.\u001b[39mreturn_generator \u001b[38;5;28;01melse\u001b[39;00m \u001b[38;5;28;43mlist\u001b[39;49m\u001b[43m(\u001b[49m\u001b[43moutput\u001b[49m\u001b[43m)\u001b[49m\n\u001b[1;32m   1857\u001b[0m \u001b[38;5;66;03m# Let's create an ID that uniquely identifies the current call. If the\u001b[39;00m\n\u001b[1;32m   1858\u001b[0m \u001b[38;5;66;03m# call is interrupted early and that the same instance is immediately\u001b[39;00m\n\u001b[1;32m   1859\u001b[0m \u001b[38;5;66;03m# re-used, this id will be used to prevent workers that were\u001b[39;00m\n\u001b[1;32m   1860\u001b[0m \u001b[38;5;66;03m# concurrently finalizing a task from the previous call to run the\u001b[39;00m\n\u001b[1;32m   1861\u001b[0m \u001b[38;5;66;03m# callback.\u001b[39;00m\n\u001b[1;32m   1862\u001b[0m \u001b[38;5;28;01mwith\u001b[39;00m \u001b[38;5;28mself\u001b[39m\u001b[38;5;241m.\u001b[39m_lock:\n",
      "File \u001b[0;32m/Volumes/TAPPS/DS_APPS/anaconda3/envs/tensorflow/lib/python3.9/site-packages/joblib/parallel.py:1784\u001b[0m, in \u001b[0;36mParallel._get_sequential_output\u001b[0;34m(self, iterable)\u001b[0m\n\u001b[1;32m   1782\u001b[0m \u001b[38;5;28mself\u001b[39m\u001b[38;5;241m.\u001b[39mn_dispatched_batches \u001b[38;5;241m+\u001b[39m\u001b[38;5;241m=\u001b[39m \u001b[38;5;241m1\u001b[39m\n\u001b[1;32m   1783\u001b[0m \u001b[38;5;28mself\u001b[39m\u001b[38;5;241m.\u001b[39mn_dispatched_tasks \u001b[38;5;241m+\u001b[39m\u001b[38;5;241m=\u001b[39m \u001b[38;5;241m1\u001b[39m\n\u001b[0;32m-> 1784\u001b[0m res \u001b[38;5;241m=\u001b[39m \u001b[43mfunc\u001b[49m\u001b[43m(\u001b[49m\u001b[38;5;241;43m*\u001b[39;49m\u001b[43margs\u001b[49m\u001b[43m,\u001b[49m\u001b[43m \u001b[49m\u001b[38;5;241;43m*\u001b[39;49m\u001b[38;5;241;43m*\u001b[39;49m\u001b[43mkwargs\u001b[49m\u001b[43m)\u001b[49m\n\u001b[1;32m   1785\u001b[0m \u001b[38;5;28mself\u001b[39m\u001b[38;5;241m.\u001b[39mn_completed_tasks \u001b[38;5;241m+\u001b[39m\u001b[38;5;241m=\u001b[39m \u001b[38;5;241m1\u001b[39m\n\u001b[1;32m   1786\u001b[0m \u001b[38;5;28mself\u001b[39m\u001b[38;5;241m.\u001b[39mprint_progress()\n",
      "File \u001b[0;32m/Volumes/TAPPS/DS_APPS/anaconda3/envs/tensorflow/lib/python3.9/site-packages/sklearn/utils/fixes.py:117\u001b[0m, in \u001b[0;36m_FuncWrapper.__call__\u001b[0;34m(self, *args, **kwargs)\u001b[0m\n\u001b[1;32m    115\u001b[0m \u001b[38;5;28;01mdef\u001b[39;00m \u001b[38;5;21m__call__\u001b[39m(\u001b[38;5;28mself\u001b[39m, \u001b[38;5;241m*\u001b[39margs, \u001b[38;5;241m*\u001b[39m\u001b[38;5;241m*\u001b[39mkwargs):\n\u001b[1;32m    116\u001b[0m     \u001b[38;5;28;01mwith\u001b[39;00m config_context(\u001b[38;5;241m*\u001b[39m\u001b[38;5;241m*\u001b[39m\u001b[38;5;28mself\u001b[39m\u001b[38;5;241m.\u001b[39mconfig):\n\u001b[0;32m--> 117\u001b[0m         \u001b[38;5;28;01mreturn\u001b[39;00m \u001b[38;5;28;43mself\u001b[39;49m\u001b[38;5;241;43m.\u001b[39;49m\u001b[43mfunction\u001b[49m\u001b[43m(\u001b[49m\u001b[38;5;241;43m*\u001b[39;49m\u001b[43margs\u001b[49m\u001b[43m,\u001b[49m\u001b[43m \u001b[49m\u001b[38;5;241;43m*\u001b[39;49m\u001b[38;5;241;43m*\u001b[39;49m\u001b[43mkwargs\u001b[49m\u001b[43m)\u001b[49m\n",
      "File \u001b[0;32m/Volumes/TAPPS/DS_APPS/anaconda3/envs/tensorflow/lib/python3.9/site-packages/sklearn/pipeline.py:853\u001b[0m, in \u001b[0;36m_transform_one\u001b[0;34m(transformer, X, y, weight, **fit_params)\u001b[0m\n\u001b[1;32m    852\u001b[0m \u001b[38;5;28;01mdef\u001b[39;00m \u001b[38;5;21m_transform_one\u001b[39m(transformer, X, y, weight, \u001b[38;5;241m*\u001b[39m\u001b[38;5;241m*\u001b[39mfit_params):\n\u001b[0;32m--> 853\u001b[0m     res \u001b[38;5;241m=\u001b[39m \u001b[43mtransformer\u001b[49m\u001b[38;5;241;43m.\u001b[39;49m\u001b[43mtransform\u001b[49m\u001b[43m(\u001b[49m\u001b[43mX\u001b[49m\u001b[43m)\u001b[49m\n\u001b[1;32m    854\u001b[0m     \u001b[38;5;66;03m# if we have a weight for this transformer, multiply output\u001b[39;00m\n\u001b[1;32m    855\u001b[0m     \u001b[38;5;28;01mif\u001b[39;00m weight \u001b[38;5;129;01mis\u001b[39;00m \u001b[38;5;28;01mNone\u001b[39;00m:\n",
      "File \u001b[0;32m/Volumes/TAPPS/DS_APPS/anaconda3/envs/tensorflow/lib/python3.9/site-packages/sklearn/pipeline.py:635\u001b[0m, in \u001b[0;36mPipeline.transform\u001b[0;34m(self, X)\u001b[0m\n\u001b[1;32m    633\u001b[0m Xt \u001b[38;5;241m=\u001b[39m X\n\u001b[1;32m    634\u001b[0m \u001b[38;5;28;01mfor\u001b[39;00m _, _, transform \u001b[38;5;129;01min\u001b[39;00m \u001b[38;5;28mself\u001b[39m\u001b[38;5;241m.\u001b[39m_iter():\n\u001b[0;32m--> 635\u001b[0m     Xt \u001b[38;5;241m=\u001b[39m \u001b[43mtransform\u001b[49m\u001b[38;5;241;43m.\u001b[39;49m\u001b[43mtransform\u001b[49m\u001b[43m(\u001b[49m\u001b[43mXt\u001b[49m\u001b[43m)\u001b[49m\n\u001b[1;32m    636\u001b[0m \u001b[38;5;28;01mreturn\u001b[39;00m Xt\n",
      "File \u001b[0;32m/Volumes/TAPPS/DS_APPS/anaconda3/envs/tensorflow/lib/python3.9/site-packages/sklearn/impute/_base.py:515\u001b[0m, in \u001b[0;36mSimpleImputer.transform\u001b[0;34m(self, X)\u001b[0m\n\u001b[1;32m    500\u001b[0m \u001b[38;5;124;03m\"\"\"Impute all missing values in `X`.\u001b[39;00m\n\u001b[1;32m    501\u001b[0m \n\u001b[1;32m    502\u001b[0m \u001b[38;5;124;03mParameters\u001b[39;00m\n\u001b[0;32m   (...)\u001b[0m\n\u001b[1;32m    511\u001b[0m \u001b[38;5;124;03m    `X` with imputed values.\u001b[39;00m\n\u001b[1;32m    512\u001b[0m \u001b[38;5;124;03m\"\"\"\u001b[39;00m\n\u001b[1;32m    513\u001b[0m check_is_fitted(\u001b[38;5;28mself\u001b[39m)\n\u001b[0;32m--> 515\u001b[0m X \u001b[38;5;241m=\u001b[39m \u001b[38;5;28;43mself\u001b[39;49m\u001b[38;5;241;43m.\u001b[39;49m\u001b[43m_validate_input\u001b[49m\u001b[43m(\u001b[49m\u001b[43mX\u001b[49m\u001b[43m,\u001b[49m\u001b[43m \u001b[49m\u001b[43min_fit\u001b[49m\u001b[38;5;241;43m=\u001b[39;49m\u001b[38;5;28;43;01mFalse\u001b[39;49;00m\u001b[43m)\u001b[49m\n\u001b[1;32m    516\u001b[0m statistics \u001b[38;5;241m=\u001b[39m \u001b[38;5;28mself\u001b[39m\u001b[38;5;241m.\u001b[39mstatistics_\n\u001b[1;32m    518\u001b[0m \u001b[38;5;28;01mif\u001b[39;00m X\u001b[38;5;241m.\u001b[39mshape[\u001b[38;5;241m1\u001b[39m] \u001b[38;5;241m!=\u001b[39m statistics\u001b[38;5;241m.\u001b[39mshape[\u001b[38;5;241m0\u001b[39m]:\n",
      "File \u001b[0;32m/Volumes/TAPPS/DS_APPS/anaconda3/envs/tensorflow/lib/python3.9/site-packages/sklearn/impute/_base.py:319\u001b[0m, in \u001b[0;36mSimpleImputer._validate_input\u001b[0;34m(self, X, in_fit)\u001b[0m\n\u001b[1;32m    317\u001b[0m         \u001b[38;5;28;01mraise\u001b[39;00m new_ve \u001b[38;5;28;01mfrom\u001b[39;00m \u001b[38;5;28mNone\u001b[39m\n\u001b[1;32m    318\u001b[0m     \u001b[38;5;28;01melse\u001b[39;00m:\n\u001b[0;32m--> 319\u001b[0m         \u001b[38;5;28;01mraise\u001b[39;00m ve\n\u001b[1;32m    321\u001b[0m \u001b[38;5;28;01mif\u001b[39;00m in_fit:\n\u001b[1;32m    322\u001b[0m     \u001b[38;5;66;03m# Use the dtype seen in `fit` for non-`fit` conversion\u001b[39;00m\n\u001b[1;32m    323\u001b[0m     \u001b[38;5;28mself\u001b[39m\u001b[38;5;241m.\u001b[39m_fit_dtype \u001b[38;5;241m=\u001b[39m X\u001b[38;5;241m.\u001b[39mdtype\n",
      "File \u001b[0;32m/Volumes/TAPPS/DS_APPS/anaconda3/envs/tensorflow/lib/python3.9/site-packages/sklearn/impute/_base.py:302\u001b[0m, in \u001b[0;36mSimpleImputer._validate_input\u001b[0;34m(self, X, in_fit)\u001b[0m\n\u001b[1;32m    299\u001b[0m     force_all_finite \u001b[38;5;241m=\u001b[39m \u001b[38;5;28;01mTrue\u001b[39;00m\n\u001b[1;32m    301\u001b[0m \u001b[38;5;28;01mtry\u001b[39;00m:\n\u001b[0;32m--> 302\u001b[0m     X \u001b[38;5;241m=\u001b[39m \u001b[38;5;28;43mself\u001b[39;49m\u001b[38;5;241;43m.\u001b[39;49m\u001b[43m_validate_data\u001b[49m\u001b[43m(\u001b[49m\n\u001b[1;32m    303\u001b[0m \u001b[43m        \u001b[49m\u001b[43mX\u001b[49m\u001b[43m,\u001b[49m\n\u001b[1;32m    304\u001b[0m \u001b[43m        \u001b[49m\u001b[43mreset\u001b[49m\u001b[38;5;241;43m=\u001b[39;49m\u001b[43min_fit\u001b[49m\u001b[43m,\u001b[49m\n\u001b[1;32m    305\u001b[0m \u001b[43m        \u001b[49m\u001b[43maccept_sparse\u001b[49m\u001b[38;5;241;43m=\u001b[39;49m\u001b[38;5;124;43m\"\u001b[39;49m\u001b[38;5;124;43mcsc\u001b[39;49m\u001b[38;5;124;43m\"\u001b[39;49m\u001b[43m,\u001b[49m\n\u001b[1;32m    306\u001b[0m \u001b[43m        \u001b[49m\u001b[43mdtype\u001b[49m\u001b[38;5;241;43m=\u001b[39;49m\u001b[43mdtype\u001b[49m\u001b[43m,\u001b[49m\n\u001b[1;32m    307\u001b[0m \u001b[43m        \u001b[49m\u001b[43mforce_all_finite\u001b[49m\u001b[38;5;241;43m=\u001b[39;49m\u001b[43mforce_all_finite\u001b[49m\u001b[43m,\u001b[49m\n\u001b[1;32m    308\u001b[0m \u001b[43m        \u001b[49m\u001b[43mcopy\u001b[49m\u001b[38;5;241;43m=\u001b[39;49m\u001b[38;5;28;43mself\u001b[39;49m\u001b[38;5;241;43m.\u001b[39;49m\u001b[43mcopy\u001b[49m\u001b[43m,\u001b[49m\n\u001b[1;32m    309\u001b[0m \u001b[43m    \u001b[49m\u001b[43m)\u001b[49m\n\u001b[1;32m    310\u001b[0m \u001b[38;5;28;01mexcept\u001b[39;00m \u001b[38;5;167;01mValueError\u001b[39;00m \u001b[38;5;28;01mas\u001b[39;00m ve:\n\u001b[1;32m    311\u001b[0m     \u001b[38;5;28;01mif\u001b[39;00m \u001b[38;5;124m\"\u001b[39m\u001b[38;5;124mcould not convert\u001b[39m\u001b[38;5;124m\"\u001b[39m \u001b[38;5;129;01min\u001b[39;00m \u001b[38;5;28mstr\u001b[39m(ve):\n",
      "File \u001b[0;32m/Volumes/TAPPS/DS_APPS/anaconda3/envs/tensorflow/lib/python3.9/site-packages/sklearn/base.py:577\u001b[0m, in \u001b[0;36mBaseEstimator._validate_data\u001b[0;34m(self, X, y, reset, validate_separately, **check_params)\u001b[0m\n\u001b[1;32m    575\u001b[0m     \u001b[38;5;28;01mraise\u001b[39;00m \u001b[38;5;167;01mValueError\u001b[39;00m(\u001b[38;5;124m\"\u001b[39m\u001b[38;5;124mValidation should be done on X, y or both.\u001b[39m\u001b[38;5;124m\"\u001b[39m)\n\u001b[1;32m    576\u001b[0m \u001b[38;5;28;01melif\u001b[39;00m \u001b[38;5;129;01mnot\u001b[39;00m no_val_X \u001b[38;5;129;01mand\u001b[39;00m no_val_y:\n\u001b[0;32m--> 577\u001b[0m     X \u001b[38;5;241m=\u001b[39m \u001b[43mcheck_array\u001b[49m\u001b[43m(\u001b[49m\u001b[43mX\u001b[49m\u001b[43m,\u001b[49m\u001b[43m \u001b[49m\u001b[43minput_name\u001b[49m\u001b[38;5;241;43m=\u001b[39;49m\u001b[38;5;124;43m\"\u001b[39;49m\u001b[38;5;124;43mX\u001b[39;49m\u001b[38;5;124;43m\"\u001b[39;49m\u001b[43m,\u001b[49m\u001b[43m \u001b[49m\u001b[38;5;241;43m*\u001b[39;49m\u001b[38;5;241;43m*\u001b[39;49m\u001b[43mcheck_params\u001b[49m\u001b[43m)\u001b[49m\n\u001b[1;32m    578\u001b[0m     out \u001b[38;5;241m=\u001b[39m X\n\u001b[1;32m    579\u001b[0m \u001b[38;5;28;01melif\u001b[39;00m no_val_X \u001b[38;5;129;01mand\u001b[39;00m \u001b[38;5;129;01mnot\u001b[39;00m no_val_y:\n",
      "File \u001b[0;32m/Volumes/TAPPS/DS_APPS/anaconda3/envs/tensorflow/lib/python3.9/site-packages/sklearn/utils/validation.py:899\u001b[0m, in \u001b[0;36mcheck_array\u001b[0;34m(array, accept_sparse, accept_large_sparse, dtype, order, copy, force_all_finite, ensure_2d, allow_nd, ensure_min_samples, ensure_min_features, estimator, input_name)\u001b[0m\n\u001b[1;32m    893\u001b[0m         \u001b[38;5;28;01mraise\u001b[39;00m \u001b[38;5;167;01mValueError\u001b[39;00m(\n\u001b[1;32m    894\u001b[0m             \u001b[38;5;124m\"\u001b[39m\u001b[38;5;124mFound array with dim \u001b[39m\u001b[38;5;132;01m%d\u001b[39;00m\u001b[38;5;124m. \u001b[39m\u001b[38;5;132;01m%s\u001b[39;00m\u001b[38;5;124m expected <= 2.\u001b[39m\u001b[38;5;124m\"\u001b[39m\n\u001b[1;32m    895\u001b[0m             \u001b[38;5;241m%\u001b[39m (array\u001b[38;5;241m.\u001b[39mndim, estimator_name)\n\u001b[1;32m    896\u001b[0m         )\n\u001b[1;32m    898\u001b[0m     \u001b[38;5;28;01mif\u001b[39;00m force_all_finite:\n\u001b[0;32m--> 899\u001b[0m         \u001b[43m_assert_all_finite\u001b[49m\u001b[43m(\u001b[49m\n\u001b[1;32m    900\u001b[0m \u001b[43m            \u001b[49m\u001b[43marray\u001b[49m\u001b[43m,\u001b[49m\n\u001b[1;32m    901\u001b[0m \u001b[43m            \u001b[49m\u001b[43minput_name\u001b[49m\u001b[38;5;241;43m=\u001b[39;49m\u001b[43minput_name\u001b[49m\u001b[43m,\u001b[49m\n\u001b[1;32m    902\u001b[0m \u001b[43m            \u001b[49m\u001b[43mestimator_name\u001b[49m\u001b[38;5;241;43m=\u001b[39;49m\u001b[43mestimator_name\u001b[49m\u001b[43m,\u001b[49m\n\u001b[1;32m    903\u001b[0m \u001b[43m            \u001b[49m\u001b[43mallow_nan\u001b[49m\u001b[38;5;241;43m=\u001b[39;49m\u001b[43mforce_all_finite\u001b[49m\u001b[43m \u001b[49m\u001b[38;5;241;43m==\u001b[39;49m\u001b[43m \u001b[49m\u001b[38;5;124;43m\"\u001b[39;49m\u001b[38;5;124;43mallow-nan\u001b[39;49m\u001b[38;5;124;43m\"\u001b[39;49m\u001b[43m,\u001b[49m\n\u001b[1;32m    904\u001b[0m \u001b[43m        \u001b[49m\u001b[43m)\u001b[49m\n\u001b[1;32m    906\u001b[0m \u001b[38;5;28;01mif\u001b[39;00m ensure_min_samples \u001b[38;5;241m>\u001b[39m \u001b[38;5;241m0\u001b[39m:\n\u001b[1;32m    907\u001b[0m     n_samples \u001b[38;5;241m=\u001b[39m _num_samples(array)\n",
      "File \u001b[0;32m/Volumes/TAPPS/DS_APPS/anaconda3/envs/tensorflow/lib/python3.9/site-packages/sklearn/utils/validation.py:146\u001b[0m, in \u001b[0;36m_assert_all_finite\u001b[0;34m(X, allow_nan, msg_dtype, estimator_name, input_name)\u001b[0m\n\u001b[1;32m    124\u001b[0m         \u001b[38;5;28;01mif\u001b[39;00m (\n\u001b[1;32m    125\u001b[0m             \u001b[38;5;129;01mnot\u001b[39;00m allow_nan\n\u001b[1;32m    126\u001b[0m             \u001b[38;5;129;01mand\u001b[39;00m estimator_name\n\u001b[0;32m   (...)\u001b[0m\n\u001b[1;32m    130\u001b[0m             \u001b[38;5;66;03m# Improve the error message on how to handle missing values in\u001b[39;00m\n\u001b[1;32m    131\u001b[0m             \u001b[38;5;66;03m# scikit-learn.\u001b[39;00m\n\u001b[1;32m    132\u001b[0m             msg_err \u001b[38;5;241m+\u001b[39m\u001b[38;5;241m=\u001b[39m (\n\u001b[1;32m    133\u001b[0m                 \u001b[38;5;124mf\u001b[39m\u001b[38;5;124m\"\u001b[39m\u001b[38;5;130;01m\\n\u001b[39;00m\u001b[38;5;132;01m{\u001b[39;00mestimator_name\u001b[38;5;132;01m}\u001b[39;00m\u001b[38;5;124m does not accept missing values\u001b[39m\u001b[38;5;124m\"\u001b[39m\n\u001b[1;32m    134\u001b[0m                 \u001b[38;5;124m\"\u001b[39m\u001b[38;5;124m encoded as NaN natively. For supervised learning, you might want\u001b[39m\u001b[38;5;124m\"\u001b[39m\n\u001b[0;32m   (...)\u001b[0m\n\u001b[1;32m    144\u001b[0m                 \u001b[38;5;124m\"\u001b[39m\u001b[38;5;124m#estimators-that-handle-nan-values\u001b[39m\u001b[38;5;124m\"\u001b[39m\n\u001b[1;32m    145\u001b[0m             )\n\u001b[0;32m--> 146\u001b[0m         \u001b[38;5;28;01mraise\u001b[39;00m \u001b[38;5;167;01mValueError\u001b[39;00m(msg_err)\n\u001b[1;32m    148\u001b[0m \u001b[38;5;66;03m# for object dtype data, we only check for NaNs (GH-13254)\u001b[39;00m\n\u001b[1;32m    149\u001b[0m \u001b[38;5;28;01melif\u001b[39;00m X\u001b[38;5;241m.\u001b[39mdtype \u001b[38;5;241m==\u001b[39m np\u001b[38;5;241m.\u001b[39mdtype(\u001b[38;5;124m\"\u001b[39m\u001b[38;5;124mobject\u001b[39m\u001b[38;5;124m\"\u001b[39m) \u001b[38;5;129;01mand\u001b[39;00m \u001b[38;5;129;01mnot\u001b[39;00m allow_nan:\n",
      "\u001b[0;31mValueError\u001b[0m: Input X contains infinity or a value too large for dtype('float64')."
     ]
    }
   ],
   "source": [
    "preds=pipe.predict(xtest)"
   ]
  },
  {
   "cell_type": "code",
   "execution_count": null,
   "id": "8d812a2d",
   "metadata": {},
   "outputs": [],
   "source": []
  },
  {
   "cell_type": "markdown",
   "id": "8883841d",
   "metadata": {},
   "source": [
    "### Submission"
   ]
  },
  {
   "cell_type": "code",
   "execution_count": null,
   "id": "bf342d46",
   "metadata": {},
   "outputs": [],
   "source": []
  },
  {
   "cell_type": "code",
   "execution_count": 57,
   "id": "dc5a6068",
   "metadata": {},
   "outputs": [],
   "source": [
    "# Dumb model: 0.5\n",
    "# XGB model: 0.71"
   ]
  },
  {
   "cell_type": "code",
   "execution_count": 55,
   "id": "c428bee8",
   "metadata": {},
   "outputs": [],
   "source": [
    "import subprocess\n",
    "import os\n",
    "\n",
    "def make_sub(pred_y, sub_data=df_test, name='default'):\n",
    "    df_submission = pd.DataFrame()\n",
    "    df_submission['id'] = df_test['id']\n",
    "    df_submission['claim'] = pred_y\n",
    "    \n",
    "    folder_path = 'Submissions/'\n",
    "    os.makedirs(folder_path, exist_ok=True)  # Create the folder if it doesn't exist\n",
    "    \n",
    "    file_path = os.path.join(folder_path, f'sub-{name}.csv')\n",
    "    df_submission.to_csv(file_path, index=False)\n",
    "    \n",
    "    cmd = f'kaggle competitions submit -c {compe} -f {file_path} -m \"Message\"'\n",
    "    subprocess.run(cmd, shell=True)\n",
    "    \n",
    "    print(f'Successfully saved - {name} at {file_path}')\n"
   ]
  },
  {
   "cell_type": "code",
   "execution_count": 13,
   "id": "d319b2f6",
   "metadata": {},
   "outputs": [
    {
     "name": "stderr",
     "output_type": "stream",
     "text": [
      "100%|██████████| 5.61M/5.61M [00:03<00:00, 1.64MB/s]\n"
     ]
    },
    {
     "name": "stdout",
     "output_type": "stream",
     "text": [
      "Successfully submitted to Tabular Playground Series - Sep 2021Successfully saved - dumb at Submissions/sub-dumb.csv\n"
     ]
    }
   ],
   "source": [
    "preds=[0.5]*len(df_test)\n",
    "make_sub(preds,name='dumb')"
   ]
  },
  {
   "cell_type": "code",
   "execution_count": 56,
   "id": "ab3e8a19",
   "metadata": {},
   "outputs": [
    {
     "name": "stderr",
     "output_type": "stream",
     "text": [
      "100%|██████████| 4.67M/4.67M [00:02<00:00, 2.36MB/s]\n"
     ]
    },
    {
     "name": "stdout",
     "output_type": "stream",
     "text": [
      "Successfully submitted to Tabular Playground Series - Sep 2021Successfully saved - xgb_clf at Submissions/sub-xgb_clf.csv\n"
     ]
    }
   ],
   "source": [
    "make_sub(preds,name='xgb_clf')"
   ]
  },
  {
   "cell_type": "code",
   "execution_count": 57,
   "id": "d4d48b1d",
   "metadata": {},
   "outputs": [
    {
     "name": "stderr",
     "output_type": "stream",
     "text": [
      "100%|██████████| 6.03M/6.03M [00:02<00:00, 2.32MB/s]\n"
     ]
    },
    {
     "name": "stdout",
     "output_type": "stream",
     "text": [
      "Successfully submitted to Tabular Playground Series - Sep 2021Successfully saved - cv_XGB_no_mean_rep at Submissions/sub-cv_XGB_no_mean_rep.csv\n"
     ]
    }
   ],
   "source": [
    "make_sub(preds,name='cv_XGB_no_mean_rep')"
   ]
  },
  {
   "cell_type": "code",
   "execution_count": 68,
   "id": "c9de34b4",
   "metadata": {},
   "outputs": [
    {
     "name": "stderr",
     "output_type": "stream",
     "text": [
      "100%|██████████| 6.03M/6.03M [00:02<00:00, 2.33MB/s]\n"
     ]
    },
    {
     "name": "stdout",
     "output_type": "stream",
     "text": [
      "Successfully submitted to Tabular Playground Series - Sep 2021Successfully saved - XGB_mean_rep at Submissions/sub-XGB_mean_rep.csv\n"
     ]
    }
   ],
   "source": [
    "make_sub(preds,name='XGB_mean_rep')"
   ]
  },
  {
   "cell_type": "code",
   "execution_count": null,
   "id": "1bd09e90",
   "metadata": {},
   "outputs": [],
   "source": []
  }
 ],
 "metadata": {
  "kernelspec": {
   "display_name": "Python 3.9 (tensorflow)",
   "language": "python",
   "name": "tensorflow"
  },
  "language_info": {
   "codemirror_mode": {
    "name": "ipython",
    "version": 3
   },
   "file_extension": ".py",
   "mimetype": "text/x-python",
   "name": "python",
   "nbconvert_exporter": "python",
   "pygments_lexer": "ipython3",
   "version": "3.9.13"
  },
  "toc": {
   "base_numbering": 1,
   "nav_menu": {},
   "number_sections": true,
   "sideBar": true,
   "skip_h1_title": false,
   "title_cell": "Table of Contents",
   "title_sidebar": "Contents",
   "toc_cell": false,
   "toc_position": {},
   "toc_section_display": true,
   "toc_window_display": false
  },
  "varInspector": {
   "cols": {
    "lenName": 16,
    "lenType": 16,
    "lenVar": 40
   },
   "kernels_config": {
    "python": {
     "delete_cmd_postfix": "",
     "delete_cmd_prefix": "del ",
     "library": "var_list.py",
     "varRefreshCmd": "print(var_dic_list())"
    },
    "r": {
     "delete_cmd_postfix": ") ",
     "delete_cmd_prefix": "rm(",
     "library": "var_list.r",
     "varRefreshCmd": "cat(var_dic_list()) "
    }
   },
   "types_to_exclude": [
    "module",
    "function",
    "builtin_function_or_method",
    "instance",
    "_Feature"
   ],
   "window_display": false
  }
 },
 "nbformat": 4,
 "nbformat_minor": 5
}
