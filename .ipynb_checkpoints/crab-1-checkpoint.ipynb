{
 "cells": [
  {
   "cell_type": "code",
   "execution_count": null,
   "metadata": {
    "_cell_guid": "b1076dfc-b9ad-4769-8c92-a6c4dae69d19",
    "_uuid": "8f2839f25d086af736a60e9eeb907d3b93b6e0e5",
    "execution": {
     "iopub.execute_input": "2023-06-09T16:37:12.664857Z",
     "iopub.status.busy": "2023-06-09T16:37:12.66418Z",
     "iopub.status.idle": "2023-06-09T16:37:12.700727Z",
     "shell.execute_reply": "2023-06-09T16:37:12.699251Z",
     "shell.execute_reply.started": "2023-06-09T16:37:12.664811Z"
    }
   },
   "outputs": [],
   "source": [
    "import numpy as np # linear algebra\n",
    "import pandas as pd # data processing, CSV file I/O (e.g. pd.read_csv)\n",
    "import os\n",
    "for dirname, _, filenames in os.walk('/kaggle/input'):\n",
    "    for filename in filenames:\n",
    "        print(os.path.join(dirname, filename))\n"
   ]
  },
  {
   "cell_type": "code",
   "execution_count": null,
   "metadata": {
    "execution": {
     "iopub.execute_input": "2023-06-09T16:37:19.76972Z",
     "iopub.status.busy": "2023-06-09T16:37:19.76928Z",
     "iopub.status.idle": "2023-06-09T16:37:33.341609Z",
     "shell.execute_reply": "2023-06-09T16:37:33.340113Z",
     "shell.execute_reply.started": "2023-06-09T16:37:19.769686Z"
    }
   },
   "outputs": [],
   "source": [
    "try: import fastkaggle\n",
    "except ModuleNotFoundError:\n",
    "    !pip install -Uq fastkaggle\n",
    "\n",
    "from fastkaggle import *"
   ]
  },
  {
   "cell_type": "code",
   "execution_count": null,
   "metadata": {
    "execution": {
     "iopub.execute_input": "2023-06-09T16:37:39.985095Z",
     "iopub.status.busy": "2023-06-09T16:37:39.983987Z",
     "iopub.status.idle": "2023-06-09T16:37:40.126435Z",
     "shell.execute_reply": "2023-06-09T16:37:40.125252Z",
     "shell.execute_reply.started": "2023-06-09T16:37:39.985059Z"
    }
   },
   "outputs": [],
   "source": [
    "from fastai.imports import *"
   ]
  },
  {
   "cell_type": "code",
   "execution_count": null,
   "metadata": {
    "execution": {
     "iopub.execute_input": "2023-06-09T17:16:47.604017Z",
     "iopub.status.busy": "2023-06-09T17:16:47.603625Z",
     "iopub.status.idle": "2023-06-09T17:16:47.787878Z",
     "shell.execute_reply": "2023-06-09T17:16:47.786762Z",
     "shell.execute_reply.started": "2023-06-09T17:16:47.603986Z"
    }
   },
   "outputs": [],
   "source": [
    "train_data = pd.read_csv(\"/kaggle/input/playground-series-s3e16/train.csv\")\n",
    "test_data = pd.read_csv(\"/kaggle/input/playground-series-s3e16/test.csv\")\n",
    "sub_data = pd.read_csv(\"/kaggle/input/playground-series-s3e16/sample_submission.csv\")\n",
    "train_data.head()\n",
    "# test_data.head()\n",
    "# sub_data.head()"
   ]
  },
  {
   "cell_type": "code",
   "execution_count": null,
   "metadata": {
    "execution": {
     "iopub.execute_input": "2023-06-09T16:40:48.705266Z",
     "iopub.status.busy": "2023-06-09T16:40:48.704821Z",
     "iopub.status.idle": "2023-06-09T16:40:48.712058Z",
     "shell.execute_reply": "2023-06-09T16:40:48.710487Z",
     "shell.execute_reply.started": "2023-06-09T16:40:48.705232Z"
    }
   },
   "outputs": [],
   "source": [
    "print('shape of train',train_data.shape)\n",
    "print('shape of test',test_data.shape)"
   ]
  },
  {
   "cell_type": "code",
   "execution_count": null,
   "metadata": {
    "execution": {
     "iopub.execute_input": "2023-06-09T16:54:03.604642Z",
     "iopub.status.busy": "2023-06-09T16:54:03.604213Z",
     "iopub.status.idle": "2023-06-09T16:54:03.686654Z",
     "shell.execute_reply": "2023-06-09T16:54:03.685093Z",
     "shell.execute_reply.started": "2023-06-09T16:54:03.604612Z"
    }
   },
   "outputs": [],
   "source": [
    "print(train_data.info())\n",
    "print(train_data.describe())"
   ]
  },
  {
   "cell_type": "code",
   "execution_count": null,
   "metadata": {
    "execution": {
     "iopub.execute_input": "2023-06-09T16:49:12.770243Z",
     "iopub.status.busy": "2023-06-09T16:49:12.769831Z",
     "iopub.status.idle": "2023-06-09T16:49:13.255986Z",
     "shell.execute_reply": "2023-06-09T16:49:13.254742Z",
     "shell.execute_reply.started": "2023-06-09T16:49:12.770209Z"
    }
   },
   "outputs": [],
   "source": [
    "# print()\n",
    "train_data.Sex.value_counts\n",
    "import seaborn as sns\n",
    "fig,axs=plt.subplots(1,2,figsize=(11,5))\n",
    "sns.boxenplot(data=train_data,y=train_data['Age'],x=train_data['Sex'],ax=axs[0])\n",
    "sns.countplot(data=train_data, x=\"Sex\", ax=axs[1]).set(title=\"Histogram\")"
   ]
  },
  {
   "cell_type": "code",
   "execution_count": null,
   "metadata": {
    "execution": {
     "iopub.execute_input": "2023-06-09T17:00:11.139035Z",
     "iopub.status.busy": "2023-06-09T17:00:11.138579Z",
     "iopub.status.idle": "2023-06-09T17:00:12.345121Z",
     "shell.execute_reply": "2023-06-09T17:00:12.343695Z",
     "shell.execute_reply.started": "2023-06-09T17:00:11.139004Z"
    }
   },
   "outputs": [],
   "source": [
    "import seaborn as sns\n",
    "fig,axs=plt.subplots(1,2,figsize=(11,5))\n",
    "sns.scatterplot(data=train_data, x='Diameter', y='Age',ax=axs[0])\n",
    "sns.kdeplot(data=train_data, x=\"Diameter\", ax=axs[1]).set(title=\"Histogram\")"
   ]
  },
  {
   "cell_type": "code",
   "execution_count": null,
   "metadata": {
    "execution": {
     "iopub.execute_input": "2023-06-09T17:17:04.29738Z",
     "iopub.status.busy": "2023-06-09T17:17:04.29693Z",
     "iopub.status.idle": "2023-06-09T17:17:04.321179Z",
     "shell.execute_reply": "2023-06-09T17:17:04.319465Z",
     "shell.execute_reply.started": "2023-06-09T17:17:04.297338Z"
    }
   },
   "outputs": [],
   "source": [
    "from sklearn.ensemble import RandomForestClassifier\n",
    "from sklearn.preprocessing import LabelEncoder\n",
    "from sklearn.preprocessing import OneHotEncoder\n",
    "\n",
    "label_encoder = LabelEncoder()\n",
    "train_data['Sex'] = label_encoder.fit_transform(train_data['Sex'])"
   ]
  },
  {
   "cell_type": "code",
   "execution_count": null,
   "metadata": {
    "execution": {
     "iopub.execute_input": "2023-06-09T17:45:52.285347Z",
     "iopub.status.busy": "2023-06-09T17:45:52.284888Z",
     "iopub.status.idle": "2023-06-09T17:45:52.305853Z",
     "shell.execute_reply": "2023-06-09T17:45:52.304652Z",
     "shell.execute_reply.started": "2023-06-09T17:45:52.285317Z"
    }
   },
   "outputs": [],
   "source": [
    "test_data['Sex'] = label_encoder.fit_transform(test_data['Sex'])"
   ]
  },
  {
   "cell_type": "code",
   "execution_count": null,
   "metadata": {
    "execution": {
     "iopub.execute_input": "2023-06-09T17:46:00.483939Z",
     "iopub.status.busy": "2023-06-09T17:46:00.482838Z",
     "iopub.status.idle": "2023-06-09T17:46:00.506969Z",
     "shell.execute_reply": "2023-06-09T17:46:00.505741Z",
     "shell.execute_reply.started": "2023-06-09T17:46:00.483872Z"
    }
   },
   "outputs": [],
   "source": [
    "test_data.head(8)"
   ]
  },
  {
   "cell_type": "code",
   "execution_count": null,
   "metadata": {
    "execution": {
     "iopub.execute_input": "2023-06-09T17:19:43.149742Z",
     "iopub.status.busy": "2023-06-09T17:19:43.149292Z",
     "iopub.status.idle": "2023-06-09T17:19:43.168667Z",
     "shell.execute_reply": "2023-06-09T17:19:43.167276Z",
     "shell.execute_reply.started": "2023-06-09T17:19:43.14971Z"
    }
   },
   "outputs": [],
   "source": [
    "from numpy import random\n",
    "from sklearn.model_selection import train_test_split\n",
    "\n",
    "random.seed(42)\n",
    "trn_df,val_df = train_test_split(train_data, test_size=0.20)"
   ]
  },
  {
   "cell_type": "code",
   "execution_count": null,
   "metadata": {
    "execution": {
     "iopub.execute_input": "2023-06-09T17:22:47.476272Z",
     "iopub.status.busy": "2023-06-09T17:22:47.475881Z",
     "iopub.status.idle": "2023-06-09T17:22:47.597985Z",
     "shell.execute_reply": "2023-06-09T17:22:47.596249Z",
     "shell.execute_reply.started": "2023-06-09T17:22:47.476241Z"
    }
   },
   "outputs": [],
   "source": [
    "print('Size of train and val',trn_df.shape,val_df.shape)\n",
    "trn_y=trn_df['Age']\n",
    "trn_df = trn_df.drop('Age', axis=1)"
   ]
  },
  {
   "cell_type": "code",
   "execution_count": null,
   "metadata": {
    "execution": {
     "iopub.execute_input": "2023-06-09T17:24:38.48963Z",
     "iopub.status.busy": "2023-06-09T17:24:38.489205Z",
     "iopub.status.idle": "2023-06-09T17:24:38.497842Z",
     "shell.execute_reply": "2023-06-09T17:24:38.496372Z",
     "shell.execute_reply.started": "2023-06-09T17:24:38.489599Z"
    }
   },
   "outputs": [],
   "source": [
    "val_y=val_df['Age']\n",
    "valu_df = val_df.drop('Age', axis=1)"
   ]
  },
  {
   "cell_type": "code",
   "execution_count": null,
   "metadata": {
    "execution": {
     "iopub.execute_input": "2023-06-09T17:24:40.209129Z",
     "iopub.status.busy": "2023-06-09T17:24:40.208713Z",
     "iopub.status.idle": "2023-06-09T17:24:40.216477Z",
     "shell.execute_reply": "2023-06-09T17:24:40.214976Z",
     "shell.execute_reply.started": "2023-06-09T17:24:40.209101Z"
    }
   },
   "outputs": [],
   "source": [
    "val_y.shape"
   ]
  },
  {
   "cell_type": "code",
   "execution_count": null,
   "metadata": {
    "execution": {
     "iopub.execute_input": "2023-06-09T17:36:31.521153Z",
     "iopub.status.busy": "2023-06-09T17:36:31.520703Z",
     "iopub.status.idle": "2023-06-09T17:36:31.528385Z",
     "shell.execute_reply": "2023-06-09T17:36:31.527129Z",
     "shell.execute_reply.started": "2023-06-09T17:36:31.521119Z"
    }
   },
   "outputs": [],
   "source": [
    "from sklearn.metrics import mean_absolute_error\n",
    "def error_check(py,ay):\n",
    "    return mean_absolute_error(py,ay)\n",
    "\n",
    "def make_submission(i,Message):\n",
    "    command_my=f\"kaggle competitions submit -c titanic -f submission-{i}.csv -m '{Message}'\"\n",
    "    print(command_my)\n",
    "    os.system(command_my)\n",
    "    \n",
    "def save_file(i,predictions,test_data=test_data):\n",
    "    output = pd.DataFrame({'id': test_data.id, 'Age': predictions})\n",
    "    output.to_csv(f'submission-{i}.csv', index=False)\n",
    "    print(f\"Your submission-{i}.csv was successfully saved!\")"
   ]
  },
  {
   "cell_type": "code",
   "execution_count": null,
   "metadata": {
    "execution": {
     "iopub.execute_input": "2023-06-09T17:50:59.296825Z",
     "iopub.status.busy": "2023-06-09T17:50:59.296424Z",
     "iopub.status.idle": "2023-06-09T17:51:39.837872Z",
     "shell.execute_reply": "2023-06-09T17:51:39.836754Z",
     "shell.execute_reply.started": "2023-06-09T17:50:59.296799Z"
    }
   },
   "outputs": [],
   "source": [
    "from sklearn.ensemble import RandomForestRegressor\n",
    "rf_reg = RandomForestRegressor()\n",
    "rf_reg.fit(trn_df, trn_y)\n",
    "\n",
    "predictions = rf_reg.predict(valu_df)\n",
    "predictions = np.round(predictions, decimals=0).astype(int)\n",
    "predictions[1:10]"
   ]
  },
  {
   "cell_type": "code",
   "execution_count": null,
   "metadata": {
    "execution": {
     "iopub.execute_input": "2023-06-09T17:51:56.467727Z",
     "iopub.status.busy": "2023-06-09T17:51:56.467174Z",
     "iopub.status.idle": "2023-06-09T17:51:56.476783Z",
     "shell.execute_reply": "2023-06-09T17:51:56.475578Z",
     "shell.execute_reply.started": "2023-06-09T17:51:56.467687Z"
    }
   },
   "outputs": [],
   "source": [
    "c=error_check(predictions,val_y)\n",
    "print(c)"
   ]
  },
  {
   "cell_type": "code",
   "execution_count": null,
   "metadata": {
    "execution": {
     "iopub.execute_input": "2023-06-09T17:38:31.393896Z",
     "iopub.status.busy": "2023-06-09T17:38:31.393453Z",
     "iopub.status.idle": "2023-06-09T17:38:31.401738Z",
     "shell.execute_reply": "2023-06-09T17:38:31.400584Z",
     "shell.execute_reply.started": "2023-06-09T17:38:31.393865Z"
    }
   },
   "outputs": [],
   "source": [
    "print((train_data['Age'].mean()))\n",
    "mean_predict = np.full(len(val_y), 10)\n",
    "# print(len(mean_predict))\n",
    "c=error_check(mean_predict,val_y)\n",
    "print(c)"
   ]
  },
  {
   "cell_type": "code",
   "execution_count": null,
   "metadata": {
    "execution": {
     "iopub.execute_input": "2023-06-09T17:47:16.014848Z",
     "iopub.status.busy": "2023-06-09T17:47:16.014482Z",
     "iopub.status.idle": "2023-06-09T17:47:17.516639Z",
     "shell.execute_reply": "2023-06-09T17:47:17.515246Z",
     "shell.execute_reply.started": "2023-06-09T17:47:16.014823Z"
    }
   },
   "outputs": [],
   "source": [
    "predictions = rf_reg.predict(test_data)\n",
    "save_file('r',predictions,test_data=test_data)"
   ]
  },
  {
   "cell_type": "code",
   "execution_count": null,
   "metadata": {
    "execution": {
     "iopub.execute_input": "2023-06-09T17:52:02.075452Z",
     "iopub.status.busy": "2023-06-09T17:52:02.074777Z",
     "iopub.status.idle": "2023-06-09T17:52:06.625089Z",
     "shell.execute_reply": "2023-06-09T17:52:06.623985Z",
     "shell.execute_reply.started": "2023-06-09T17:52:02.075418Z"
    }
   },
   "outputs": [],
   "source": [
    "from xgboost import XGBRegressor\n",
    "xgb_reg = XGBRegressor()\n",
    "xgb_reg.fit(trn_df, trn_y)\n",
    "\n",
    "# Make predictions on the test set\n",
    "predictions = xgb_reg.predict(valu_df)\n",
    "predictions = np.round(predictions, decimals=0).astype(int)\n",
    "predictions[1:10]\n",
    "c=error_check(predictions,val_y)\n",
    "print(c)"
   ]
  },
  {
   "cell_type": "code",
   "execution_count": null,
   "metadata": {
    "execution": {
     "iopub.execute_input": "2023-06-09T17:52:09.123147Z",
     "iopub.status.busy": "2023-06-09T17:52:09.122752Z",
     "iopub.status.idle": "2023-06-09T17:52:09.278344Z",
     "shell.execute_reply": "2023-06-09T17:52:09.276889Z",
     "shell.execute_reply.started": "2023-06-09T17:52:09.123114Z"
    }
   },
   "outputs": [],
   "source": [
    "predictions = xgb_reg.predict(test_data)\n",
    "save_file('xgb',predictions,test_data=test_data)"
   ]
  }
 ],
 "metadata": {
  "kernelspec": {
   "display_name": "Python 3 (ipykernel)",
   "language": "python",
   "name": "python3"
  },
  "language_info": {
   "codemirror_mode": {
    "name": "ipython",
    "version": 3
   },
   "file_extension": ".py",
   "mimetype": "text/x-python",
   "name": "python",
   "nbconvert_exporter": "python",
   "pygments_lexer": "ipython3",
   "version": "3.10.11"
  },
  "toc": {
   "base_numbering": 1,
   "nav_menu": {},
   "number_sections": true,
   "sideBar": true,
   "skip_h1_title": false,
   "title_cell": "Table of Contents",
   "title_sidebar": "Contents",
   "toc_cell": false,
   "toc_position": {},
   "toc_section_display": true,
   "toc_window_display": false
  },
  "varInspector": {
   "cols": {
    "lenName": 16,
    "lenType": 16,
    "lenVar": 40
   },
   "kernels_config": {
    "python": {
     "delete_cmd_postfix": "",
     "delete_cmd_prefix": "del ",
     "library": "var_list.py",
     "varRefreshCmd": "print(var_dic_list())"
    },
    "r": {
     "delete_cmd_postfix": ") ",
     "delete_cmd_prefix": "rm(",
     "library": "var_list.r",
     "varRefreshCmd": "cat(var_dic_list()) "
    }
   },
   "types_to_exclude": [
    "module",
    "function",
    "builtin_function_or_method",
    "instance",
    "_Feature"
   ],
   "window_display": false
  }
 },
 "nbformat": 4,
 "nbformat_minor": 4
}
